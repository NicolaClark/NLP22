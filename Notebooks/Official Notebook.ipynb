{
 "cells": [
  {
   "cell_type": "markdown",
   "source": "### Import",
   "metadata": {
    "tags": [],
    "is_collapsed": false,
    "cell_id": "3cad926d-0cb3-40d2-976e-40a32131736c",
    "deepnote_cell_type": "text-cell-h3"
   }
  },
  {
   "cell_type": "code",
   "metadata": {
    "tags": [],
    "deepnote_to_be_reexecuted": false,
    "source_hash": "c77fb362",
    "execution_start": 1653299111644,
    "execution_millis": 3106,
    "cell_id": "00001-ec4adc10-7c2f-42a4-8174-e1cc48be7af1",
    "deepnote_cell_type": "code",
    "deepnote_cell_height": 621
   },
   "source": "import gzip\nimport json\nimport random\nimport time\nfrom nltk import word_tokenize\nfrom tqdm import tqdm\nimport contractions\nimport pandas as pd\n\n# Imports for the synonym dictionary \nimport requests\nfrom bs4 import BeautifulSoup\nfrom nltk.wsd import lesk\n\n#wordnet imports\n#importing NLTK corpus synonym dictionary, pos-tagging and checking the outputs\nimport nltk\nfrom nltk.corpus import wordnet\nfrom nltk import pos_tag\nimport random\nfrom sklearn.pipeline import Pipeline\n\nfrom sklearn.utils import shuffle\nfrom sklearn.feature_extraction.text import CountVectorizer, TfidfTransformer, TfidfVectorizer\nfrom sklearn.naive_bayes import MultinomialNB\nfrom sklearn.metrics import f1_score\n\n#Word2Vec imports\nimport gensim.models\n\n",
   "execution_count": null,
   "outputs": []
  },
  {
   "cell_type": "code",
   "metadata": {
    "tags": [],
    "deepnote_to_be_reexecuted": false,
    "source_hash": "698c3b88",
    "execution_start": 1653299114757,
    "execution_millis": 369,
    "cell_id": "00002-04c1e54b-e0f1-4d09-8f8a-f1f78d262fa1",
    "deepnote_cell_type": "code",
    "deepnote_cell_height": 416.1875,
    "deepnote_output_heights": [
     null,
     21.1875
    ]
   },
   "source": "#wordnet downloads\nnltk.download('wordnet')\nnltk.download('omw-1.4')\nnltk.download('averaged_perceptron_tagger')\nnltk.download('punkt')",
   "execution_count": null,
   "outputs": [
    {
     "name": "stderr",
     "text": "[nltk_data] Downloading package wordnet to /root/nltk_data...\n[nltk_data]   Package wordnet is already up-to-date!\n[nltk_data] Downloading package omw-1.4 to /root/nltk_data...\n[nltk_data]   Package omw-1.4 is already up-to-date!\n[nltk_data] Downloading package averaged_perceptron_tagger to\n[nltk_data]     /root/nltk_data...\n[nltk_data]   Package averaged_perceptron_tagger is already up-to-\n[nltk_data]       date!\n[nltk_data] Downloading package punkt to /root/nltk_data...\n[nltk_data]   Package punkt is already up-to-date!\n",
     "output_type": "stream"
    },
    {
     "output_type": "execute_result",
     "execution_count": 2,
     "data": {
      "text/plain": "True"
     },
     "metadata": {}
    }
   ]
  },
  {
   "cell_type": "code",
   "metadata": {
    "tags": [],
    "deepnote_to_be_reexecuted": false,
    "source_hash": "f4fb80ea",
    "execution_start": 1653299115119,
    "execution_millis": 0,
    "cell_id": "00003-13c6f163-63ae-466a-81c8-90cf3cd192a4",
    "deepnote_cell_type": "code",
    "deepnote_cell_height": 81
   },
   "source": "random.seed(42)",
   "execution_count": null,
   "outputs": []
  },
  {
   "cell_type": "markdown",
   "source": "### Read in the data",
   "metadata": {
    "tags": [],
    "is_collapsed": false,
    "cell_id": "00004-cd8d6e78-3ddf-485c-b03b-ae85fc8cb300",
    "deepnote_cell_type": "text-cell-h3"
   }
  },
  {
   "cell_type": "code",
   "metadata": {
    "tags": [],
    "deepnote_to_be_reexecuted": false,
    "source_hash": "8c0ba9db",
    "execution_start": 1653299115119,
    "execution_millis": 1,
    "cell_id": "00005-5009363c-759f-4b3d-968f-47a2ae377aba",
    "deepnote_cell_type": "code",
    "deepnote_cell_height": 243
   },
   "source": "#here\ndef reading_in(path):\n    thing=[]\n    for line in gzip.open(path):\n        review_data = json.loads(line)\n        subthing = dict()\n        for key in review_data:\n            subthing[key]= review_data[key]\n        thing.append(subthing)\n    return thing",
   "execution_count": null,
   "outputs": []
  },
  {
   "cell_type": "code",
   "metadata": {
    "tags": [],
    "deepnote_to_be_reexecuted": false,
    "source_hash": "4f0347a6",
    "execution_start": 1653299127305,
    "execution_millis": 1979,
    "cell_id": "00006-5fc1f84a-7a8b-43ac-bf52-3fb81b1b8429",
    "deepnote_cell_type": "code",
    "deepnote_cell_height": 135
   },
   "source": "train = reading_in('../data/classification/music_reviews_train.json.gz')\ndev = reading_in('../data/classification/music_reviews_dev.json.gz') # do not use!\n#test = reading_in('../data/classification/music_reviews_test_masked.json.gz') #do not use!\ntrain = shuffle(train, random_state=42)",
   "execution_count": null,
   "outputs": []
  },
  {
   "cell_type": "code",
   "metadata": {
    "tags": [],
    "deepnote_to_be_reexecuted": false,
    "source_hash": "8331f838",
    "execution_start": 1653299129372,
    "execution_millis": 126,
    "cell_id": "00007-5fd65099-f84f-4be8-b8cb-a2df5c8bb334",
    "deepnote_cell_type": "code",
    "deepnote_cell_height": 153
   },
   "source": "train_x = [i['reviewText'] for i in train if \"reviewText\" in i.keys() and \"sentiment\" in i.keys()]\ntrain_y =  [i['sentiment'] for i in train if \"reviewText\" in i.keys() and \"sentiment\" in i.keys()]\n\ndev_x = [i['reviewText'] if \"reviewText\" in i.keys() else \"\" for i in dev]\ndev_y = [i['sentiment'] for i in dev]",
   "execution_count": null,
   "outputs": []
  },
  {
   "cell_type": "code",
   "metadata": {
    "tags": [],
    "deepnote_to_be_reexecuted": false,
    "source_hash": "ba64fbb3",
    "execution_start": 1653298676071,
    "execution_millis": 3,
    "cell_id": "00008-f9447969-61b3-456d-a93a-a33643de981c",
    "deepnote_cell_type": "code",
    "deepnote_cell_height": 81
   },
   "source": "pos_neg = [sum([i ==\"positive\" for i in train_y]),sum([i != \"positive\" for i in train_y])]",
   "execution_count": null,
   "outputs": []
  },
  {
   "cell_type": "code",
   "metadata": {
    "tags": [],
    "deepnote_to_be_reexecuted": false,
    "source_hash": "8766005f",
    "execution_start": 1653298676077,
    "execution_millis": 1264,
    "cell_id": "00009-bd9bb6de-6d70-4a37-b854-75f0111591b8",
    "deepnote_cell_type": "code",
    "deepnote_cell_height": 417.1875,
    "deepnote_output_heights": [
     21.1875,
     250
    ]
   },
   "source": "import matplotlib.pyplot as plt\nplt.bar(x=[\"pos\",\"neg\"], height = pos_neg) ",
   "execution_count": null,
   "outputs": [
    {
     "output_type": "execute_result",
     "execution_count": 8,
     "data": {
      "text/plain": "<BarContainer object of 2 artists>"
     },
     "metadata": {}
    },
    {
     "data": {
      "text/plain": "<Figure size 432x288 with 1 Axes>",
      "image/png": "[encoded data removed]"
     },
     "metadata": {
      "needs_background": "light",
      "image/png": {
       "width": 387,
       "height": 248
      }
     },
     "output_type": "display_data"
    }
   ]
  },
  {
   "cell_type": "code",
   "metadata": {
    "tags": [],
    "deepnote_to_be_reexecuted": false,
    "source_hash": "3bbd2066",
    "execution_start": 1653299135546,
    "execution_millis": 204,
    "cell_id": "00010-0c23547b-d2ce-4847-a72e-f504e85e0e0d",
    "deepnote_cell_type": "code",
    "deepnote_cell_height": 405
   },
   "source": "###split into pos and neg\ntrain_x_pos = []\ntrain_x_neg = []\ntrain_y_pos = []\ntrain_y_neg = []\nfor i in range(len(train_x)):\n    if train_y[i] == \"positive\":\n        train_x_pos.append(train_x[i])\n        train_y_pos.append(train_y[i])\n    else:\n        train_x_neg.append(train_x[i])\n        train_y_neg.append(train_y[i])\ntrain_x_neg.extend(train_x_pos[0:len(train_x_neg)])\ntrain_y_neg.extend(train_y_pos[0:len(train_y_neg)])\nbalanced_x_train_s = train_x_neg\nbalanced_y_train_s = train_y_neg\n\nbalanced_x_train, balanced_y_train = shuffle(balanced_x_train_s, balanced_y_train_s, random_state= 42)\n",
   "execution_count": null,
   "outputs": []
  },
  {
   "cell_type": "code",
   "metadata": {
    "tags": [],
    "deepnote_to_be_reexecuted": false,
    "source_hash": "5b415925",
    "execution_start": 1653298677475,
    "execution_millis": 8,
    "cell_id": "00012-dc88eb27-5401-4d4c-920a-091e81552286",
    "deepnote_cell_type": "code",
    "deepnote_cell_height": 136.1875,
    "deepnote_output_heights": [
     21.1875
    ]
   },
   "source": "\nlen(train_x_neg)",
   "execution_count": null,
   "outputs": [
    {
     "output_type": "execute_result",
     "execution_count": 10,
     "data": {
      "text/plain": "78424"
     },
     "metadata": {}
    }
   ]
  },
  {
   "cell_type": "code",
   "metadata": {
    "cell_id": "afd34c2c0d1c45b8b86f4ba60421b43c",
    "tags": [],
    "deepnote_to_be_reexecuted": false,
    "source_hash": "563d7228",
    "execution_start": 1653298807652,
    "execution_millis": 2,
    "deepnote_cell_type": "code",
    "deepnote_cell_height": 955.1875
   },
   "source": "#Tokenizer\ndef tokenize_corpus(corpus):\n    return [contractions.fix(s) for s in corpus]\n\n\ntrain_x = [i['reviewText'] for i in train if \"reviewText\" in i.keys() and \"sentiment\" in i.keys()]\ntrain_y =  [i['sentiment'] for i in train if \"reviewText\" in i.keys() and \"sentiment\" in i.keys()]\n\ndev_x = [i['reviewText'] if \"reviewText\" in i.keys() else \"\" for i in dev]\ndev_y = [i['sentiment'] for i in dev]\n\n###split into pos and neg\ntrain_x_pos = []\ntrain_x_neg = []\ntrain_y_pos = []\ntrain_y_neg = []\nfor i in range(len(train_x)):\n    if train_y[i] == \"positive\":\n        train_x_pos.append(train_x[i])\n        train_y_pos.append(train_y[i])\n    else:\n        train_x_neg.append(train_x[i])\n        train_y_neg.append(train_y[i])\ntrain_x_neg.extend(train_x_pos[0:len(train_x_neg)])\ntrain_y_neg.extend(train_y_pos[0:len(train_y_neg)])\nbalanced_x_train_s = train_x_neg\nbalanced_y_train_s = train_y_neg\n\nbalanced_x_train, balanced_y_train = shuffle(balanced_x_train_s, balanced_y_train_s, random_state= 42)\n\ntrain_x_split = tokenize_corpus(balanced_x_train)\n\nvectorizer = TfidfVectorizer()\ntfid = vectorizer.fit(train_x_split)\ntrain_x = tfid.transform(train_x_split)\nprint(train_x.shape)\ntrain_x = train_x.toarray()\ntrain_x = np.reshape(train_x, (len(train_x), train_x.shape[1], 1))\ntrain_x = tf.convert_to_tensor(train_x)",
   "execution_count": null,
   "outputs": [
    {
     "name": "stdout",
     "text": "(78424, 63058)\n",
     "output_type": "stream"
    },
    {
     "output_type": "error",
     "ename": "KernelInterrupted",
     "evalue": "Execution interrupted by the Jupyter kernel.",
     "traceback": [
      "\u001b[0;31m---------------------------------------------------------------------------\u001b[0m",
      "\u001b[0;31mKernelInterrupted\u001b[0m: Execution interrupted by the Jupyter kernel."
     ]
    }
   ]
  },
  {
   "cell_type": "markdown",
   "source": "### Preparing the data",
   "metadata": {
    "tags": [],
    "is_collapsed": false,
    "cell_id": "00013-e68c8b2d-8a05-44c0-840b-25e4e7113a24",
    "deepnote_cell_type": "text-cell-h3"
   }
  },
  {
   "cell_type": "code",
   "metadata": {
    "tags": [],
    "deepnote_to_be_reexecuted": true,
    "source_hash": "69913f58",
    "execution_start": 1651742043459,
    "execution_millis": 96980,
    "cell_id": "00014-c5763d17-fe95-4246-999b-dc88318bbc00",
    "deepnote_cell_type": "code",
    "deepnote_cell_height": 99
   },
   "source": "#old tokenizer\n#train_x_back = [' '.join(sen) for sen in train_x_split] may not need convertes tokenised back to single string",
   "execution_count": null,
   "outputs": []
  },
  {
   "cell_type": "code",
   "metadata": {
    "tags": [],
    "deepnote_to_be_reexecuted": false,
    "source_hash": "aa47e93f",
    "execution_start": 1653299283021,
    "execution_millis": 0,
    "cell_id": "00015-7feaf2b0-cf31-4e03-8ef1-f36e3f953c92",
    "deepnote_cell_type": "code",
    "deepnote_cell_height": 117
   },
   "source": "#Tokenizer\ndef tokenize_corpus(corpus):\n    return [word_tokenize(contractions.fix(s)) for s in corpus]",
   "execution_count": null,
   "outputs": []
  },
  {
   "cell_type": "code",
   "metadata": {
    "tags": [],
    "deepnote_to_be_reexecuted": false,
    "source_hash": "cc15a788",
    "execution_start": 1653299283022,
    "execution_millis": 75085,
    "cell_id": "00016-774d9a42-4394-4dff-bf66-6fd50255f648",
    "deepnote_cell_type": "code",
    "deepnote_cell_height": 81
   },
   "source": "train_x_split = tokenize_corpus(balanced_x_train)",
   "execution_count": null,
   "outputs": []
  },
  {
   "cell_type": "markdown",
   "source": "# Webscrape synonyms",
   "metadata": {
    "tags": [],
    "is_collapsed": false,
    "cell_id": "00017-65518017-f1b7-4d19-bf2c-b54318c87bb5",
    "deepnote_cell_type": "text-cell-h1"
   }
  },
  {
   "cell_type": "code",
   "metadata": {
    "tags": [],
    "deepnote_to_be_reexecuted": true,
    "source_hash": "82406177",
    "execution_start": 1651742102985,
    "execution_millis": 81,
    "cell_id": "00018-24e6f800-ca34-405e-bf5d-57cd2d4d8269",
    "deepnote_cell_type": "code",
    "deepnote_cell_height": 310
   },
   "source": "##Alternative to PyDictionary\n##THIS IS COPIED FROM SLACK\n# https://stackoverflow.com/questions/52910297/pydictionary-word-has-no-synonyms-in-the-api\n\ndef synonyms(term):\n    response = requests.get('https://www.thesaurus.com/browse/{}'.format(term))\n    soup = BeautifulSoup(response.text, 'lxml')\n    soup.find('section', {'class': 'css-17ofzyv e1ccqdb60'})\n    return [span.text for span in soup.findAll('a', {'class': 'css-1kg1yv8 eh475bn0'})] # 'css-1gyuw4i eh475bn0' for less relevant synonyms\n\nword = \"us\"\nprint(synonyms(word))",
   "execution_count": null,
   "outputs": [
    {
     "name": "stdout",
     "text": "['them ', 'you ']\n",
     "output_type": "stream"
    }
   ]
  },
  {
   "cell_type": "code",
   "metadata": {
    "tags": [],
    "deepnote_to_be_reexecuted": true,
    "source_hash": "20c13daa",
    "execution_start": 1651742103078,
    "execution_millis": 9,
    "cell_id": "00019-636a53be-eafd-4983-9433-b1f5a096b3f1",
    "deepnote_cell_type": "code",
    "deepnote_cell_height": 387
   },
   "source": "dont_replace = ['am','are','be','been','being','did','do','does','had','has','have','having','is','was','were','will','I ', 'it ', 'she ', 'sie ', 'they ', 've ', 'xe ', 'you ', 'ze ', 'zie ','he',\"you\",\"we\",\"mine\",\"hers\",\"his\",\"yours\",\"its\",\"ours\",\"theirs\",\"your\",\"our\",\"oneself\",\"oneselves\",\"yourself\",\"yourselves\",\"himself\",\"herself\",\"himself\",\"myself\",\"themselves\",\"itself\",\"ourselves\",\"ourself\",\"us\",\"them\"] #Used to avoid changing function and pronouns words\ndef gen_synth_web(sentence,prob = 0.5):\n    new_sen = []\n    for word in sentence:\n        if word in dont_replace:\n            new_sen.append(word)\n        else:\n            threshold = random.random()\n            if prob > threshold:\n                #print(threshold) can remove later kept for debugging\n                syn = synonyms(word)\n                if len(syn) != 0:\n                    #print(\"selected\", word) can remove later kept for debugging\n                    new_sen.append(random.choice(syn))\n                else:new_sen.append(word)\n            else:\n                new_sen.append(word)\n    return new_sen",
   "execution_count": null,
   "outputs": []
  },
  {
   "cell_type": "code",
   "metadata": {
    "tags": [],
    "deepnote_to_be_reexecuted": true,
    "source_hash": "f21f7341",
    "execution_start": 1651742181030,
    "execution_millis": 3,
    "cell_id": "00020-bbe86597-1c8b-4d5f-bf86-759d5b485297",
    "deepnote_cell_type": "code",
    "deepnote_cell_height": 112
   },
   "source": "print(train_x_split[16])",
   "execution_count": null,
   "outputs": [
    {
     "name": "stdout",
     "text": "['I', 'was', 'disappointed', 'in', 'this', 'CD']\n",
     "output_type": "stream"
    }
   ]
  },
  {
   "cell_type": "code",
   "metadata": {
    "tags": [],
    "deepnote_to_be_reexecuted": true,
    "source_hash": "2b025101",
    "execution_start": 1651742272024,
    "execution_millis": 821,
    "cell_id": "00021-a1072f05-e117-4d07-90f9-5319ba9a0899",
    "deepnote_cell_type": "code",
    "deepnote_cell_height": 112
   },
   "source": "print(gen_synth_web(train_x_split[16]))",
   "execution_count": null,
   "outputs": [
    {
     "name": "stdout",
     "text": "['I', 'was', 'disappointed', 'in', 'that ', 'CD']\n",
     "output_type": "stream"
    }
   ]
  },
  {
   "cell_type": "code",
   "metadata": {
    "tags": [],
    "deepnote_to_be_reexecuted": true,
    "source_hash": "7ec80b5",
    "execution_start": 1651742103410,
    "execution_millis": 1,
    "cell_id": "00022-7ea6c407-ae2e-4eee-b27e-32ba6beb9690",
    "deepnote_cell_type": "code",
    "deepnote_cell_height": 135
   },
   "source": "#for i in tqdm(train_x_split[:1000]):#running with 0:1000 dont uncomment as will mess up file \n   # with open (\"../data/synthetic1.txt\",\"a\") as f:\n       # f.write(' '.join(gen_synth_web(i))+\"\\n\")\n       # time.sleep(3)",
   "execution_count": null,
   "outputs": []
  },
  {
   "cell_type": "markdown",
   "source": "#### Example of webscrape synthetic sentence ",
   "metadata": {
    "tags": [],
    "cell_id": "00023-b0126cab-ef9a-41a1-8003-86d74e4cbe80",
    "deepnote_cell_type": "markdown",
    "deepnote_cell_height": 54
   }
  },
  {
   "cell_type": "code",
   "metadata": {
    "tags": [],
    "deepnote_to_be_reexecuted": true,
    "source_hash": "180cb14c",
    "execution_start": 1651742103412,
    "execution_millis": 96083,
    "cell_id": "00024-f3e9fbf2-366f-44a6-8f2e-6ce68e63e6ec",
    "deepnote_cell_type": "code",
    "deepnote_cell_height": 116.796875
   },
   "source": "print(train_x_split[6])",
   "execution_count": null,
   "outputs": [
    {
     "name": "stdout",
     "text": "['Just', 'to', 'let', 'anyone', 'know', 'before', 'purchasing', 'this', 'cd', 'like', 'myself', ',', 'You', 'should', 'know', 'its', 'a', 'blue', 'bottom', 'CDR', 'copy', 'of', 'songs', 'off', 'there', 'three', 'other', 'cd', \"'s\", '...', 'I', 'do', 'not', 'know', 'how', 'or', 'why', 'Amazon', 'let', 'us', 'these', 'seller', 'sell', 'these', 'because', 'it', 'is', 'not', 'legal', '.', 'It', 'comes', 'in', 'a', 'real', 'thin', 'case', 'with', 'only', 'the', 'front', 'picture', '&', 'a', 'Sharpie', 'writing', 'on', 'the', 'cd', '.', 'What', 'a', 'Joke', '&', 'waste', 'of', 'money', '!', 'I', 'got', 'the', 'other', 'cd', \"'s\", '&', 'i', 'can', 'make', 'mixed', 'cdr', 'copy', \"'s\", 'better', 'than', 'these', 'but', 'do', 'you', 'think', 'i', 'could', 'sell', 'them', '?', '?', '?', '?']\n",
     "output_type": "stream"
    }
   ]
  },
  {
   "cell_type": "code",
   "metadata": {
    "tags": [],
    "deepnote_to_be_reexecuted": true,
    "source_hash": "2b025101",
    "execution_start": 1651742287797,
    "execution_millis": 1154,
    "cell_id": "00025-769dc1f5-157a-4989-ae81-60cf11288e5d",
    "deepnote_cell_type": "code",
    "deepnote_cell_height": 112
   },
   "source": "print(gen_synth_web(train_x_split[16]))",
   "execution_count": null,
   "outputs": [
    {
     "name": "stdout",
     "text": "['he ', 'was', 'disappointed', 'in', 'this', 'cash ']\n",
     "output_type": "stream"
    }
   ]
  },
  {
   "cell_type": "markdown",
   "source": "# Wordnet",
   "metadata": {
    "tags": [],
    "is_collapsed": false,
    "cell_id": "00026-9fcc3dc2-5b55-4096-9304-fbc6e70043b0",
    "deepnote_cell_type": "text-cell-h1"
   }
  },
  {
   "cell_type": "code",
   "metadata": {
    "tags": [],
    "deepnote_to_be_reexecuted": true,
    "source_hash": "5704e446",
    "execution_start": 1651742110486,
    "execution_millis": 11,
    "cell_id": "00027-7f797b32-3eb8-4562-927f-49173ad8812b",
    "deepnote_cell_type": "code",
    "deepnote_cell_height": 621
   },
   "source": "relevant = [\"NN\",\"NNS\",\"RB\",\"RBR\",\"RBS\",\"VB\",\"VBG\",\"VBD\",\"VBN\",\"VBP\",\"VBZ\",\"JJ\",\"JJR\",\"JJS\"]#The wordclasses that can be exchanged with synonyms (not functional words) #maybe not RB\nwordnet_tag_map = {'NN': ['n'],'NNS': ['n'],'JJ': ['a'],'JJR': ['a'],'JJS': ['a'],'RB': ['r'],'RBR': ['r'],'RBS': ['r'], 'VB': ['v'], 'VBG': ['v'], 'VBD': ['v'], 'VBN': ['v'], 'VBP': ['v'], 'VBZ': ['v']} #Making pos-tags coincide\naux_verbs = ['am','are','be','been','being','did','do','does','had','has','have','having','is','was','were','will'] #Used to avoid changing function words\ndef change_wordnet(sentence):\n    sentence = nltk.pos_tag(sentence)    #pos-tagging sentence here\n    new_sentence = [] #to append to and then return as final sentence\n    for word in sentence:\n        if random.random()>0.5:\n            if word[1] in relevant and word[0] not in aux_verbs: #Not changing functional words\n                tag = wordnet_tag_map[word[1]]\n                chosen = lesk(sentence, word[0], tag[0]) #from all synsets choose the most likely in a smart way, thanks to library!\n                if chosen is None:\n                    new_sentence.append(word[0]) #sometimes no synset is chosen so we just give the new sentence the original word\n                else:\n                    options = chosen.lemma_names()\n                    if word[0] in options:\n                        options.remove(word[0])\n                    if len(options)>0:\n                        chosen_w = random.choice(options)\n                        if \"_\" in chosen_w:\n                            for w in chosen_w.split(\"_\"):\n                                new_sentence.append(w)\n                        else:\n                            new_sentence.append(chosen_w)\n                    else:\n                        new_sentence.append(word[0])\n            else:\n                new_sentence.append(word[0])\n        else:\n            new_sentence.append(word[0])\n    return new_sentence",
   "execution_count": null,
   "outputs": []
  },
  {
   "cell_type": "markdown",
   "source": "#### Example of wordnet synthetic sentence ",
   "metadata": {
    "tags": [],
    "cell_id": "00028-87b7cf77-75cd-42b2-bb3e-d9b96ddb067e",
    "deepnote_cell_type": "markdown",
    "deepnote_cell_height": 54
   }
  },
  {
   "cell_type": "code",
   "metadata": {
    "tags": [],
    "deepnote_to_be_reexecuted": true,
    "source_hash": "f21f7341",
    "execution_start": 1651742435085,
    "execution_millis": 0,
    "cell_id": "00029-4f453f85-3aff-4dab-9afd-aa99d0afde21",
    "deepnote_cell_type": "code",
    "deepnote_cell_height": 112
   },
   "source": "print(train_x_split[16])",
   "execution_count": null,
   "outputs": [
    {
     "name": "stdout",
     "text": "['I', 'was', 'disappointed', 'in', 'this', 'CD']\n",
     "output_type": "stream"
    }
   ]
  },
  {
   "cell_type": "code",
   "metadata": {
    "tags": [],
    "deepnote_to_be_reexecuted": true,
    "source_hash": "987e4044",
    "execution_start": 1651742423309,
    "execution_millis": 2,
    "cell_id": "00030-eb199587-d520-486c-b7fb-3e4e16323b8e",
    "deepnote_cell_type": "code",
    "deepnote_cell_height": 112
   },
   "source": "print(change_wordnet(train_x_split[16]))",
   "execution_count": null,
   "outputs": [
    {
     "name": "stdout",
     "text": "['I', 'was', 'let', 'down', 'in', 'this', 'CD']\n",
     "output_type": "stream"
    }
   ]
  },
  {
   "cell_type": "markdown",
   "source": "#### write to file",
   "metadata": {
    "tags": [],
    "cell_id": "00031-3ac06473-d78c-4261-84d7-bf8a310ff667",
    "deepnote_cell_type": "markdown",
    "deepnote_cell_height": 54
   }
  },
  {
   "cell_type": "code",
   "metadata": {
    "tags": [],
    "deepnote_to_be_reexecuted": true,
    "source_hash": "1fb3ee3a",
    "execution_start": 1651742539314,
    "execution_millis": 6644,
    "cell_id": "00032-ae29fcf5-2ad8-48ba-b1ec-8307d71c4166",
    "deepnote_cell_type": "code",
    "deepnote_cell_height": 144.1875
   },
   "source": "wn_x_train = [change_wordnet(i) for i in train_x_split]",
   "execution_count": null,
   "outputs": [
    {
     "output_type": "error",
     "ename": "KeyboardInterrupt",
     "evalue": "",
     "traceback": [
      "\u001b[0;31m---------------------------------------------------------------------------\u001b[0m",
      "\u001b[0;31mKeyboardInterrupt\u001b[0m                         Traceback (most recent call last)",
      "\u001b[0;32m<ipython-input-34-e3233554b613>\u001b[0m in \u001b[0;36m<module>\u001b[0;34m\u001b[0m\n\u001b[0;32m----> 1\u001b[0;31m \u001b[0mwn_x_train\u001b[0m \u001b[0;34m=\u001b[0m \u001b[0;34m[\u001b[0m\u001b[0mchange_wordnet\u001b[0m\u001b[0;34m(\u001b[0m\u001b[0mi\u001b[0m\u001b[0;34m)\u001b[0m \u001b[0;32mfor\u001b[0m \u001b[0mi\u001b[0m \u001b[0;32min\u001b[0m \u001b[0mtrain_x_split\u001b[0m\u001b[0;34m]\u001b[0m\u001b[0;34m\u001b[0m\u001b[0;34m\u001b[0m\u001b[0m\n\u001b[0m",
      "\u001b[0;32m<ipython-input-34-e3233554b613>\u001b[0m in \u001b[0;36m<listcomp>\u001b[0;34m(.0)\u001b[0m\n\u001b[0;32m----> 1\u001b[0;31m \u001b[0mwn_x_train\u001b[0m \u001b[0;34m=\u001b[0m \u001b[0;34m[\u001b[0m\u001b[0mchange_wordnet\u001b[0m\u001b[0;34m(\u001b[0m\u001b[0mi\u001b[0m\u001b[0;34m)\u001b[0m \u001b[0;32mfor\u001b[0m \u001b[0mi\u001b[0m \u001b[0;32min\u001b[0m \u001b[0mtrain_x_split\u001b[0m\u001b[0;34m]\u001b[0m\u001b[0;34m\u001b[0m\u001b[0;34m\u001b[0m\u001b[0m\n\u001b[0m",
      "\u001b[0;32m<ipython-input-21-af748bb83be8>\u001b[0m in \u001b[0;36mchange_wordnet\u001b[0;34m(sentence)\u001b[0m\n\u001b[1;32m      9\u001b[0m             \u001b[0;32mif\u001b[0m \u001b[0mword\u001b[0m\u001b[0;34m[\u001b[0m\u001b[0;36m1\u001b[0m\u001b[0;34m]\u001b[0m \u001b[0;32min\u001b[0m \u001b[0mrelevant\u001b[0m \u001b[0;32mand\u001b[0m \u001b[0mword\u001b[0m\u001b[0;34m[\u001b[0m\u001b[0;36m0\u001b[0m\u001b[0;34m]\u001b[0m \u001b[0;32mnot\u001b[0m \u001b[0;32min\u001b[0m \u001b[0maux_verbs\u001b[0m\u001b[0;34m:\u001b[0m \u001b[0;31m#Not changing functional words\u001b[0m\u001b[0;34m\u001b[0m\u001b[0;34m\u001b[0m\u001b[0m\n\u001b[1;32m     10\u001b[0m                 \u001b[0mtag\u001b[0m \u001b[0;34m=\u001b[0m \u001b[0mwordnet_tag_map\u001b[0m\u001b[0;34m[\u001b[0m\u001b[0mword\u001b[0m\u001b[0;34m[\u001b[0m\u001b[0;36m1\u001b[0m\u001b[0;34m]\u001b[0m\u001b[0;34m]\u001b[0m\u001b[0;34m\u001b[0m\u001b[0;34m\u001b[0m\u001b[0m\n\u001b[0;32m---> 11\u001b[0;31m                 \u001b[0mchosen\u001b[0m \u001b[0;34m=\u001b[0m \u001b[0mlesk\u001b[0m\u001b[0;34m(\u001b[0m\u001b[0msentence\u001b[0m\u001b[0;34m,\u001b[0m \u001b[0mword\u001b[0m\u001b[0;34m[\u001b[0m\u001b[0;36m0\u001b[0m\u001b[0;34m]\u001b[0m\u001b[0;34m,\u001b[0m \u001b[0mtag\u001b[0m\u001b[0;34m[\u001b[0m\u001b[0;36m0\u001b[0m\u001b[0;34m]\u001b[0m\u001b[0;34m)\u001b[0m \u001b[0;31m#from all synsets choose the most likely in a smart way, thanks to library!\u001b[0m\u001b[0;34m\u001b[0m\u001b[0;34m\u001b[0m\u001b[0m\n\u001b[0m\u001b[1;32m     12\u001b[0m                 \u001b[0;32mif\u001b[0m \u001b[0mchosen\u001b[0m \u001b[0;32mis\u001b[0m \u001b[0;32mNone\u001b[0m\u001b[0;34m:\u001b[0m\u001b[0;34m\u001b[0m\u001b[0;34m\u001b[0m\u001b[0m\n\u001b[1;32m     13\u001b[0m                     \u001b[0mnew_sentence\u001b[0m\u001b[0;34m.\u001b[0m\u001b[0mappend\u001b[0m\u001b[0;34m(\u001b[0m\u001b[0mword\u001b[0m\u001b[0;34m[\u001b[0m\u001b[0;36m0\u001b[0m\u001b[0;34m]\u001b[0m\u001b[0;34m)\u001b[0m \u001b[0;31m#sometimes no synset is chosen so we just give the new sentence the original word\u001b[0m\u001b[0;34m\u001b[0m\u001b[0;34m\u001b[0m\u001b[0m\n",
      "\u001b[0;32m/shared-libs/python3.7/py/lib/python3.7/site-packages/nltk/wsd.py\u001b[0m in \u001b[0;36mlesk\u001b[0;34m(context_sentence, ambiguous_word, pos, synsets)\u001b[0m\n\u001b[1;32m     46\u001b[0m \u001b[0;34m\u001b[0m\u001b[0m\n\u001b[1;32m     47\u001b[0m     _, sense = max(\n\u001b[0;32m---> 48\u001b[0;31m         \u001b[0;34m(\u001b[0m\u001b[0mlen\u001b[0m\u001b[0;34m(\u001b[0m\u001b[0mcontext\u001b[0m\u001b[0;34m.\u001b[0m\u001b[0mintersection\u001b[0m\u001b[0;34m(\u001b[0m\u001b[0mss\u001b[0m\u001b[0;34m.\u001b[0m\u001b[0mdefinition\u001b[0m\u001b[0;34m(\u001b[0m\u001b[0;34m)\u001b[0m\u001b[0;34m.\u001b[0m\u001b[0msplit\u001b[0m\u001b[0;34m(\u001b[0m\u001b[0;34m)\u001b[0m\u001b[0;34m)\u001b[0m\u001b[0;34m)\u001b[0m\u001b[0;34m,\u001b[0m \u001b[0mss\u001b[0m\u001b[0;34m)\u001b[0m \u001b[0;32mfor\u001b[0m \u001b[0mss\u001b[0m \u001b[0;32min\u001b[0m \u001b[0msynsets\u001b[0m\u001b[0;34m\u001b[0m\u001b[0;34m\u001b[0m\u001b[0m\n\u001b[0m\u001b[1;32m     49\u001b[0m     )\n\u001b[1;32m     50\u001b[0m \u001b[0;34m\u001b[0m\u001b[0m\n",
      "\u001b[0;32m/shared-libs/python3.7/py/lib/python3.7/site-packages/nltk/wsd.py\u001b[0m in \u001b[0;36m<genexpr>\u001b[0;34m(.0)\u001b[0m\n\u001b[1;32m     46\u001b[0m \u001b[0;34m\u001b[0m\u001b[0m\n\u001b[1;32m     47\u001b[0m     _, sense = max(\n\u001b[0;32m---> 48\u001b[0;31m         \u001b[0;34m(\u001b[0m\u001b[0mlen\u001b[0m\u001b[0;34m(\u001b[0m\u001b[0mcontext\u001b[0m\u001b[0;34m.\u001b[0m\u001b[0mintersection\u001b[0m\u001b[0;34m(\u001b[0m\u001b[0mss\u001b[0m\u001b[0;34m.\u001b[0m\u001b[0mdefinition\u001b[0m\u001b[0;34m(\u001b[0m\u001b[0;34m)\u001b[0m\u001b[0;34m.\u001b[0m\u001b[0msplit\u001b[0m\u001b[0;34m(\u001b[0m\u001b[0;34m)\u001b[0m\u001b[0;34m)\u001b[0m\u001b[0;34m)\u001b[0m\u001b[0;34m,\u001b[0m \u001b[0mss\u001b[0m\u001b[0;34m)\u001b[0m \u001b[0;32mfor\u001b[0m \u001b[0mss\u001b[0m \u001b[0;32min\u001b[0m \u001b[0msynsets\u001b[0m\u001b[0;34m\u001b[0m\u001b[0;34m\u001b[0m\u001b[0m\n\u001b[0m\u001b[1;32m     49\u001b[0m     )\n\u001b[1;32m     50\u001b[0m \u001b[0;34m\u001b[0m\u001b[0m\n",
      "\u001b[0;31mKeyboardInterrupt\u001b[0m: "
     ]
    }
   ]
  },
  {
   "cell_type": "code",
   "metadata": {
    "cell_id": "68de6c4363e844fea32e605191baec96",
    "tags": [],
    "deepnote_to_be_reexecuted": true,
    "source_hash": "1de32742",
    "execution_start": 1651662260420,
    "execution_millis": 2,
    "deepnote_cell_type": "code",
    "deepnote_cell_height": 118.1875,
    "deepnote_output_heights": [
     21.1875
    ]
   },
   "source": "len(wn_x_train)",
   "execution_count": null,
   "outputs": [
    {
     "output_type": "execute_result",
     "execution_count": 70,
     "data": {
      "text/plain": "78424"
     },
     "metadata": {}
    }
   ]
  },
  {
   "cell_type": "code",
   "metadata": {
    "tags": [],
    "deepnote_to_be_reexecuted": true,
    "source_hash": "d4e804f1",
    "execution_start": 1651662262448,
    "execution_millis": 310,
    "cell_id": "00033-d772c2da-e3e1-4e75-ab60-a082e2b2d96d",
    "owner_user_id": "03d0206a-8ef5-4ef4-a095-5515fca900a0",
    "deepnote_cell_type": "code",
    "deepnote_cell_height": 99
   },
   "source": "with open(\"../data/synthetic/wordnet.csv\",'w') as f:\n    f.writelines('\\t'.join(s) + '\\n' for s in wn_x_train)",
   "execution_count": null,
   "outputs": []
  },
  {
   "cell_type": "markdown",
   "source": "# Word2vec",
   "metadata": {
    "tags": [],
    "cell_id": "00034-ed563987-3646-486a-acbd-f31da0cae57f",
    "deepnote_cell_type": "markdown",
    "deepnote_cell_height": 82
   }
  },
  {
   "cell_type": "code",
   "metadata": {
    "tags": [],
    "deepnote_to_be_reexecuted": true,
    "source_hash": "16bbcaa7",
    "execution_start": 1651742596894,
    "execution_millis": 980,
    "cell_id": "00036-edc98367-06e7-4de6-a504-b5871fe76081",
    "deepnote_cell_type": "code",
    "deepnote_cell_height": 291,
    "deepnote_output_heights": [
     194
    ]
   },
   "source": "gooEmbs.most_similar('walk')",
   "execution_count": null,
   "outputs": [
    {
     "output_type": "execute_result",
     "execution_count": 37,
     "data": {
      "text/plain": "[('walking', 0.7361534237861633),\n ('walks', 0.7007260918617249),\n ('walked', 0.6831838488578796),\n ('stroll', 0.6208134889602661),\n ('Walking', 0.5674901604652405),\n ('Walk', 0.558607280254364),\n ('wander', 0.5585978627204895),\n ('jog', 0.5467169284820557),\n ('saunter', 0.5451485514640808),\n ('amble', 0.5250112414360046)]"
     },
     "metadata": {}
    }
   ]
  },
  {
   "cell_type": "code",
   "metadata": {
    "cell_id": "24e3a4be16774bb9b233c980c6fdec05",
    "tags": [],
    "deepnote_to_be_reexecuted": false,
    "source_hash": "cad11e15",
    "execution_start": 1653299201111,
    "execution_millis": 8961,
    "deepnote_cell_type": "code",
    "deepnote_cell_height": 724
   },
   "source": "# With a threshold and without the check of same word\n\ngooEmbs = gensim.models.KeyedVectors.load_word2vec_format('../data/GoogleNews-50k.bin', binary=True)\nprint('loading finished')\nrelevant = [\"NN\",\"NNS\",\"RB\",\"RBR\",\"RBS\",\"VB\",\"VBG\",\"VBD\",\"VBN\",\"VBP\",\"VBZ\",\"JJ\",\"JJR\",\"JJS\"]#The wordclasses that can be exchanged with synonyms (not functional words) #maybe not RB\naux_verbs = ['am','are','be','been','being','did','do','does','had','has','have','having','is','was','were','will'] #Used to avoid changing function words\ndef change_word2vec(original_sentence, prob = 0.5, threshold = .6):\n    sentence = nltk.pos_tag(original_sentence)    #pos-tagging sentence here\n    new_sentence = [] #to append to and then return as final sentence\n    for word in sentence:\n        if word[1] in relevant and word[0] not in aux_verbs:\n            if random.random() > prob:\n                try:\n                    syno = gooEmbs.most_similar(word[0]) #taking the most similar word from word2vec\n                    syno_pos = []\n                    # method 1: \n                    for s in syno:\n                        if s[1] > threshold:\n                            syno_pos.append(s)\n                        else: \n                            break # because all the words are sorted we know that if one word is under 60% all the others after are also\n                    if syno_pos!=[]:\n                        new_word = random.choice(syno_pos)[0]\n                    else:  new_word = syno[0][0]\n                    if \"_\" in new_word:\n                        for w in chosen_w.split(\"_\"):\n                            new_sentence.append(w)\n                    else: new_sentence.append(new_word)                    \n                except:\n                    new_sentence.append(word[0])\n            else: \n                new_sentence.append(word[0])\n        else:\n            new_sentence.append(word[0])\n    return new_sentence",
   "execution_count": null,
   "outputs": [
    {
     "name": "stdout",
     "text": "loading finished\n",
     "output_type": "stream"
    }
   ]
  },
  {
   "cell_type": "code",
   "metadata": {
    "tags": [],
    "deepnote_to_be_reexecuted": false,
    "source_hash": "36bce8b5",
    "execution_start": 1653299854190,
    "execution_millis": 4928,
    "cell_id": "00038-74434ca7-8d5d-4e98-9f36-2b5ffa008177",
    "deepnote_cell_type": "code",
    "deepnote_cell_height": 692.796875
   },
   "source": "ori = train_x_split[20]\nt8 = change_word2vec(ori, threshold=0.8)\nt7= change_word2vec(ori, threshold=0.7)\nt6 =change_word2vec(ori, threshold=0.6)\nt5 = change_word2vec(ori, threshold=0.5)\nt4 = change_word2vec(ori, threshold=0.4)\nt3 = change_word2vec(ori, threshold=0.3)\nt2 = change_word2vec(ori, threshold=0.2)\nt1 = change_word2vec(ori, threshold= 0.1)\n\n#for i in range(len(ori)):\n #   print(f'o: {ori[i]}, .7: {t7[i]}, .6: {t6[i]}, .5: {t5[i]}, .4 {t4[i]}, .3: {t3[i]}')\n\nprint(ori)\nprint(t8)\nprint(t7)\nprint(t6)\nprint(t5)\nprint(t4)\nprint(t3)\nprint(t2)\nprint(t1)\n",
   "execution_count": null,
   "outputs": [
    {
     "name": "stdout",
     "text": "['Come', 'on', ',', 'after', 'the', 'intro', 'it', 'goes', 'into', 'story', 'telling', 'mode', '.', 'This', 'is', 'not', 'the', 'song', 'I', 'wanted', '.']\n['Come', 'on', ',', 'after', 'the', 'outro', 'it', 'goes', 'into', 'story', 'tell', 'mode', '.', 'This', 'is', 'do', 'the', 'songs', 'I', 'want', '.']\n['Come', 'on', ',', 'after', 'the', 'outro', 'it', 'comes', 'into', 'stories', 'tell', 'mode', '.', 'This', 'is', 'do', 'the', 'anthem', 'I', 'wanted', '.']\n['Come', 'on', ',', 'after', 'the', 'outro', 'it', 'goes', 'into', 'stories', 'tells', 'modes', '.', 'This', 'is', 'never', 'the', 'ditty', 'I', 'wanted', '.']\n['Come', 'on', ',', 'after', 'the', 'intro', 'it', 'gone', 'into', 'story', 'tell', 'mode', '.', 'This', 'is', 'necessarily', 'the', 'songs', 'I', 'wanted', '.']\n['Come', 'on', ',', 'after', 'the', 'bassline', 'it', 'gets', 'into', 'backstory', 'telling', 'mode', '.', 'This', 'is', 'does', 'the', 'song', 'I', 'decided', '.']\n['Come', 'on', ',', 'after', 'the', 'montage', 'it', 'goes', 'into', 'story', 'telling', 'Mode', '.', 'This', 'is', 'not', 'the', 'melody', 'I', 'wanted', '.']\n['Come', 'on', ',', 'after', 'the', 'outro', 'it', 'happens', 'into', 'story', 'informing', 'mode', '.', 'This', 'is', 'not', 'the', 'song', 'I', 'wanted', '.']\n['Come', 'on', ',', 'after', 'the', 'riff', 'it', 'goes', 'into', 'article', 'tell', 'mode', '.', 'This', 'is', 'not', 'the', 'ditty', 'I', 'want', '.']\nComeon,aftertheintroitgoesintostorytellingmode.ThisisnotthesongIwanted.\n",
     "output_type": "stream"
    }
   ]
  },
  {
   "cell_type": "code",
   "metadata": {
    "cell_id": "332796cf5caa45efab2600ddc06dfc90",
    "tags": [],
    "deepnote_to_be_reexecuted": false,
    "source_hash": "e435ed19",
    "execution_start": 1653300098202,
    "execution_millis": 4,
    "deepnote_cell_type": "code",
    "deepnote_cell_height": 220
   },
   "source": "\ntext = str()\n\nfor i in t1:\n    text += ' '+i\n\nprint(text)",
   "execution_count": null,
   "outputs": [
    {
     "name": "stdout",
     "text": " Come on , after the riff it goes into article tell mode . This is not the ditty I want .\n",
     "output_type": "stream"
    }
   ]
  },
  {
   "cell_type": "code",
   "metadata": {
    "cell_id": "31b54339d8584a579e906e886e7ffceb",
    "tags": [],
    "deepnote_to_be_reexecuted": true,
    "source_hash": "3d0f31c2",
    "execution_start": 1651742607843,
    "execution_millis": 29,
    "deepnote_cell_type": "code",
    "deepnote_cell_height": 302
   },
   "source": "print(ori)\nprint(t7)\nprint(t6)\nprint(t5)\nprint(t4)\nprint(t3)",
   "execution_count": null,
   "outputs": [
    {
     "name": "stdout",
     "text": "['I', 'love', 'the', 'sound', 'of', 'anything', 'George', 'Ezra', 'sings', 'in', ';', 'remarkable', 'young', 'man', '.']\n['I', 'love', 'the', 'sounds', 'of', 'anybody', 'George', 'Ezra', 'sang', 'in', ';', 'remarkable', 'young', 'man', '.']\n['I', 'passion', 'the', 'sound', 'of', 'anything', 'George', 'Ezra', 'ballad', 'in', ';', 'impressive', 'young', 'man', '.']\n['I', 'loving', 'the', 'sound', 'of', 'never', 'George', 'Ezra', 'croon', 'in', ';', 'remarkable', 'young', 'man', '.']\n['I', 'love', 'the', 'sound', 'of', 'anything', 'George', 'Ezra', 'sings', 'in', ';', 'startling', 'young', 'guy', '.']\n['I', 'love', 'the', 'sound', 'of', 'anything', 'George', 'Ezra', 'sings', 'in', ';', 'remarkable', 'young', 'men', '.']\n",
     "output_type": "stream"
    }
   ]
  },
  {
   "cell_type": "code",
   "metadata": {
    "tags": [],
    "deepnote_to_be_reexecuted": true,
    "source_hash": "e72c710c",
    "execution_start": 1651129622292,
    "execution_millis": 0,
    "cell_id": "00039-8256c258-17d3-4462-b169-0c26675871be",
    "deepnote_cell_type": "code",
    "deepnote_cell_height": 117
   },
   "source": "#new_x = []\n#for  i in train_x[:1000]:\n    #new_x.append(change_word2vec(i))",
   "execution_count": null,
   "outputs": []
  },
  {
   "cell_type": "code",
   "metadata": {
    "tags": [],
    "deepnote_to_be_reexecuted": true,
    "source_hash": "39cb4f78",
    "execution_start": 1652085881212,
    "execution_millis": 3905,
    "cell_id": "00040-60002cac-1c3e-48e5-940e-c395b9bdf5ee",
    "owner_user_id": "25f14c51-1e8d-4a70-b4e1-014493979a0f",
    "deepnote_cell_type": "code",
    "deepnote_cell_height": 198.1875
   },
   "source": "print(train_x_split[16])\nprint(gen_synth_web(train_x_split[16]))\nprint(change_wordnet(train_x_split[16]))\nprint(change_word2vec(train_x_split[16]))",
   "execution_count": null,
   "outputs": [
    {
     "output_type": "error",
     "ename": "NameError",
     "evalue": "name 'train_x_split' is not defined",
     "traceback": [
      "\u001b[0;31m---------------------------------------------------------------------------\u001b[0m",
      "\u001b[0;31mNameError\u001b[0m                                 Traceback (most recent call last)",
      "\u001b[0;32m<ipython-input-1-99ff87d68ba7>\u001b[0m in \u001b[0;36m<module>\u001b[0;34m\u001b[0m\n\u001b[0;32m----> 1\u001b[0;31m \u001b[0mprint\u001b[0m\u001b[0;34m(\u001b[0m\u001b[0mtrain_x_split\u001b[0m\u001b[0;34m[\u001b[0m\u001b[0;36m17\u001b[0m\u001b[0;34m]\u001b[0m\u001b[0;34m)\u001b[0m\u001b[0;34m\u001b[0m\u001b[0;34m\u001b[0m\u001b[0m\n\u001b[0m\u001b[1;32m      2\u001b[0m \u001b[0mprint\u001b[0m\u001b[0;34m(\u001b[0m\u001b[0mgen_synth_web\u001b[0m\u001b[0;34m(\u001b[0m\u001b[0mtrain_x_split\u001b[0m\u001b[0;34m[\u001b[0m\u001b[0;36m17\u001b[0m\u001b[0;34m]\u001b[0m\u001b[0;34m)\u001b[0m\u001b[0;34m)\u001b[0m\u001b[0;34m\u001b[0m\u001b[0;34m\u001b[0m\u001b[0m\n\u001b[1;32m      3\u001b[0m \u001b[0mprint\u001b[0m\u001b[0;34m(\u001b[0m\u001b[0mchange_wordnet\u001b[0m\u001b[0;34m(\u001b[0m\u001b[0mtrain_x_split\u001b[0m\u001b[0;34m[\u001b[0m\u001b[0;36m17\u001b[0m\u001b[0;34m]\u001b[0m\u001b[0;34m)\u001b[0m\u001b[0;34m)\u001b[0m\u001b[0;34m\u001b[0m\u001b[0;34m\u001b[0m\u001b[0m\n\u001b[1;32m      4\u001b[0m \u001b[0mprint\u001b[0m\u001b[0;34m(\u001b[0m\u001b[0mchange_word2vec\u001b[0m\u001b[0;34m(\u001b[0m\u001b[0mtrain_x_split\u001b[0m\u001b[0;34m[\u001b[0m\u001b[0;36m17\u001b[0m\u001b[0;34m]\u001b[0m\u001b[0;34m)\u001b[0m\u001b[0;34m)\u001b[0m\u001b[0;34m\u001b[0m\u001b[0;34m\u001b[0m\u001b[0m\n",
      "\u001b[0;31mNameError\u001b[0m: name 'train_x_split' is not defined"
     ]
    }
   ]
  },
  {
   "cell_type": "code",
   "metadata": {
    "cell_id": "c3799b19b0cc47c7939e9797acb2e003",
    "tags": [],
    "deepnote_to_be_reexecuted": true,
    "source_hash": "bf8db33f",
    "execution_start": 1651137424726,
    "execution_millis": 97,
    "deepnote_cell_type": "code",
    "deepnote_cell_height": 291
   },
   "source": " gooEmbs.most_similar('woman')",
   "execution_count": null,
   "outputs": [
    {
     "output_type": "execute_result",
     "execution_count": 20,
     "data": {
      "text/plain": "[('man', 0.7664012908935547),\n ('girl', 0.7494640946388245),\n ('teenage_girl', 0.7336829304695129),\n ('teenager', 0.6317085027694702),\n ('lady', 0.6288785934448242),\n ('teenaged_girl', 0.6141784191131592),\n ('mother', 0.6076306104660034),\n ('policewoman', 0.6069462299346924),\n ('boy', 0.5975907444953918),\n ('Woman', 0.5770983099937439)]"
     },
     "metadata": {}
    }
   ]
  },
  {
   "cell_type": "markdown",
   "source": "# Baseline",
   "metadata": {
    "tags": [],
    "cell_id": "00041-1ff244d6-7478-4b64-af71-050f766be07c",
    "deepnote_cell_type": "markdown",
    "deepnote_cell_height": 82
   }
  },
  {
   "cell_type": "code",
   "metadata": {
    "tags": [],
    "cell_id": "00042-64c2ae34-6b4a-4122-a44a-78175d2acb3c",
    "deepnote_to_be_reexecuted": true,
    "source_hash": "47f92766",
    "execution_start": 1651135623746,
    "execution_millis": 1,
    "deepnote_cell_type": "code",
    "deepnote_cell_height": 153
   },
   "source": "pipeline = Pipeline([\n    ('CountVectorizer',CountVectorizer(ngram_range=(1, 2))),\n    ('Tfidf',TfidfTransformer()),\n    ('clf', MultinomialNB(alpha=1, fit_prior=False))\n])",
   "execution_count": null,
   "outputs": []
  },
  {
   "cell_type": "code",
   "metadata": {
    "tags": [],
    "cell_id": "00043-5c9e58d5-6d98-4d6b-8ab9-101a4adb0d92",
    "deepnote_to_be_reexecuted": true,
    "source_hash": "6ef8dee9",
    "execution_start": 1651135623762,
    "execution_millis": 128,
    "deepnote_cell_type": "code",
    "deepnote_cell_height": 405.1875
   },
   "source": "size = [500, 1000, 2500, 5000, 10000, 20000, 30000, 50000, 60000, 70000, 80000, 90000, 100000]\ntrain_acc = []\ndev_acc = []\nfor i in size:\n    pipeline.fit(balanced_x_train[:i],balanced_y_train[:i] )\n    pred_train = pipeline.predict(balanced_x_train)\n    train_acc.append(f1_score(balanced_x_train, pred_train, average='macro'))\n    pred = pipeline.predict(dev_x)\n    dev_acc.append(f1_score(dev_y, pred, average='macro'))\n    print(f'done with size {i}')\n",
   "execution_count": null,
   "outputs": [
    {
     "output_type": "error",
     "ename": "KernelInterrupted",
     "evalue": "Execution interrupted by the Jupyter kernel.",
     "traceback": [
      "\u001b[0;31m---------------------------------------------------------------------------\u001b[0m",
      "\u001b[0;31mKernelInterrupted\u001b[0m: Execution interrupted by the Jupyter kernel."
     ]
    }
   ]
  },
  {
   "cell_type": "code",
   "metadata": {
    "cell_id": "f64251112a074b6db4dc0f6d844e5750",
    "tags": [],
    "deepnote_to_be_reexecuted": true,
    "source_hash": "15257823",
    "deepnote_cell_type": "code",
    "deepnote_cell_height": 81
   },
   "source": "plt.plot(size, dev_acc)",
   "execution_count": null,
   "outputs": []
  },
  {
   "cell_type": "code",
   "metadata": {
    "cell_id": "d3ec2055579e429398d86e4aa47293b8",
    "tags": [],
    "deepnote_to_be_reexecuted": true,
    "source_hash": "37945e7a",
    "deepnote_cell_type": "code",
    "deepnote_cell_height": 81
   },
   "source": "plt.plot(size, train_acc)",
   "execution_count": null,
   "outputs": []
  },
  {
   "cell_type": "markdown",
   "source": "<a style='text-decoration:none;line-height:16px;display:flex;color:#5B5B62;padding:10px;justify-content:end;' href='https://deepnote.com?utm_source=created-in-deepnote-cell&projectId=b88dfe01-c7e1-473c-bcfd-798313fc6522' target=\"_blank\">\n<img alt='Created in deepnote.com' style='display:inline;max-height:16px;margin:0px;margin-right:7.5px;' src='data:image/svg+xml;base64,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' > </img>\nCreated in <span style='font-weight:600;margin-left:4px;'>Deepnote</span></a>",
   "metadata": {
    "tags": [],
    "created_in_deepnote_cell": true,
    "deepnote_cell_type": "markdown"
   }
  }
 ],
 "nbformat": 4,
 "nbformat_minor": 2,
 "metadata": {
  "orig_nbformat": 2,
  "deepnote": {},
  "deepnote_notebook_id": "35ff6e96-fdd4-40d9-99a5-41c991ba8211",
  "deepnote_execution_queue": []
 }
}
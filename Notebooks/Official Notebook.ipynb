{
 "cells": [
  {
   "cell_type": "markdown",
   "source": "### Import",
   "metadata": {
    "tags": [],
    "is_collapsed": false,
    "cell_id": "3cad926d-0cb3-40d2-976e-40a32131736c",
    "deepnote_cell_type": "text-cell-h3"
   }
  },
  {
   "cell_type": "code",
   "metadata": {
    "tags": [],
    "deepnote_to_be_reexecuted": false,
    "source_hash": "3a29e1db",
    "execution_start": 1651136711112,
    "execution_millis": 3239,
    "cell_id": "00001-ec4adc10-7c2f-42a4-8174-e1cc48be7af1",
    "deepnote_cell_type": "code",
    "deepnote_cell_height": 567
   },
   "source": "import gzip\nimport json\nimport random\nimport time\nfrom nltk import word_tokenize\nfrom tqdm import tqdm\nimport contractions\n\n# Imports for the synonym dictionary \nimport requests\nfrom bs4 import BeautifulSoup\nfrom nltk.wsd import lesk\n\n#wordnet imports\n#importing NLTK corpus synonym dictionary, pos-tagging and checking the outputs\nimport nltk\nfrom nltk.corpus import wordnet\nfrom nltk import pos_tag\nimport random\nfrom sklearn.pipeline import Pipeline\n\nfrom sklearn.utils import shuffle\nfrom sklearn.feature_extraction.text import CountVectorizer, TfidfTransformer\nfrom sklearn.naive_bayes import MultinomialNB\nfrom sklearn.metrics import f1_score\n\n#Word2Vec imports\nimport gensim.models",
   "outputs": [],
   "execution_count": null
  },
  {
   "cell_type": "code",
   "metadata": {
    "tags": [],
    "deepnote_to_be_reexecuted": false,
    "source_hash": "698c3b88",
    "execution_start": 1651136714356,
    "execution_millis": 349,
    "cell_id": "00002-04c1e54b-e0f1-4d09-8f8a-f1f78d262fa1",
    "deepnote_cell_type": "code",
    "deepnote_cell_height": 408.125,
    "deepnote_output_heights": [
     null,
     21.1875
    ]
   },
   "source": "#wordnet downloads\nnltk.download('wordnet')\nnltk.download('omw-1.4')\nnltk.download('averaged_perceptron_tagger')\nnltk.download('punkt')",
   "outputs": [
    {
     "name": "stderr",
     "text": "[nltk_data] Downloading package wordnet to /root/nltk_data...\n[nltk_data]   Package wordnet is already up-to-date!\n[nltk_data] Downloading package omw-1.4 to /root/nltk_data...\n[nltk_data]   Package omw-1.4 is already up-to-date!\n[nltk_data] Downloading package averaged_perceptron_tagger to\n[nltk_data]     /root/nltk_data...\n[nltk_data]   Package averaged_perceptron_tagger is already up-to-\n[nltk_data]       date!\n[nltk_data] Downloading package punkt to /root/nltk_data...\n[nltk_data]   Package punkt is already up-to-date!\n",
     "output_type": "stream"
    },
    {
     "output_type": "execute_result",
     "execution_count": 3,
     "data": {
      "text/plain": "True"
     },
     "metadata": {}
    }
   ],
   "execution_count": null
  },
  {
   "cell_type": "code",
   "metadata": {
    "tags": [],
    "deepnote_to_be_reexecuted": false,
    "source_hash": "f4fb80ea",
    "execution_start": 1651136730757,
    "execution_millis": 0,
    "cell_id": "00003-13c6f163-63ae-466a-81c8-90cf3cd192a4",
    "deepnote_cell_type": "code",
    "deepnote_cell_height": 81
   },
   "source": "random.seed(42)",
   "outputs": [],
   "execution_count": null
  },
  {
   "cell_type": "markdown",
   "source": "### Read in the data",
   "metadata": {
    "tags": [],
    "is_collapsed": false,
    "cell_id": "00004-cd8d6e78-3ddf-485c-b03b-ae85fc8cb300",
    "deepnote_cell_type": "text-cell-h3"
   }
  },
  {
   "cell_type": "code",
   "metadata": {
    "tags": [],
    "deepnote_to_be_reexecuted": false,
    "source_hash": "8c0ba9db",
    "execution_start": 1651136734524,
    "execution_millis": 0,
    "cell_id": "00005-5009363c-759f-4b3d-968f-47a2ae377aba",
    "deepnote_cell_type": "code",
    "deepnote_cell_height": 243
   },
   "source": "#here\ndef reading_in(path):\n    thing=[]\n    for line in gzip.open(path):\n        review_data = json.loads(line)\n        subthing = dict()\n        for key in review_data:\n            subthing[key]= review_data[key]\n        thing.append(subthing)\n    return thing",
   "outputs": [],
   "execution_count": null
  },
  {
   "cell_type": "code",
   "metadata": {
    "tags": [],
    "deepnote_to_be_reexecuted": false,
    "source_hash": "4f0347a6",
    "execution_start": 1651136738171,
    "execution_millis": 2325,
    "cell_id": "00006-5fc1f84a-7a8b-43ac-bf52-3fb81b1b8429",
    "deepnote_cell_type": "code",
    "deepnote_cell_height": 135
   },
   "source": "train = reading_in('../data/classification/music_reviews_train.json.gz')\ndev = reading_in('../data/classification/music_reviews_dev.json.gz') # do not use!\n#test = reading_in('../data/classification/music_reviews_test_masked.json.gz') #do not use!\ntrain = shuffle(train, random_state=42)",
   "outputs": [],
   "execution_count": null
  },
  {
   "cell_type": "code",
   "metadata": {
    "tags": [],
    "deepnote_to_be_reexecuted": false,
    "source_hash": "8331f838",
    "execution_start": 1651136740530,
    "execution_millis": 228,
    "cell_id": "00007-5fd65099-f84f-4be8-b8cb-a2df5c8bb334",
    "deepnote_cell_type": "code",
    "deepnote_cell_height": 153
   },
   "source": "train_x = [i['reviewText'] for i in train if \"reviewText\" in i.keys() and \"sentiment\" in i.keys()]\ntrain_y =  [i['sentiment'] for i in train if \"reviewText\" in i.keys() and \"sentiment\" in i.keys()]\n\ndev_x = [i['reviewText'] if \"reviewText\" in i.keys() else \"\" for i in dev]\ndev_y = [i['sentiment'] for i in dev]",
   "outputs": [],
   "execution_count": null
  },
  {
   "cell_type": "code",
   "metadata": {
    "tags": [],
    "deepnote_to_be_reexecuted": false,
    "source_hash": "ba64fbb3",
    "execution_start": 1651136742786,
    "execution_millis": 40,
    "cell_id": "00008-f9447969-61b3-456d-a93a-a33643de981c",
    "deepnote_cell_type": "code",
    "deepnote_cell_height": 81
   },
   "source": "pos_neg = [sum([i ==\"positive\" for i in train_y]),sum([i != \"positive\" for i in train_y])]",
   "outputs": [],
   "execution_count": null
  },
  {
   "cell_type": "code",
   "metadata": {
    "tags": [],
    "deepnote_to_be_reexecuted": false,
    "source_hash": "8766005f",
    "execution_start": 1651136742842,
    "execution_millis": 240,
    "cell_id": "00009-bd9bb6de-6d70-4a37-b854-75f0111591b8",
    "deepnote_cell_type": "code",
    "deepnote_cell_height": 417.171875,
    "deepnote_output_heights": [
     21.1875,
     250
    ]
   },
   "source": "import matplotlib.pyplot as plt\nplt.bar(x=[\"pos\",\"neg\"], height = pos_neg) ",
   "outputs": [
    {
     "output_type": "execute_result",
     "execution_count": 11,
     "data": {
      "text/plain": "<BarContainer object of 2 artists>"
     },
     "metadata": {}
    },
    {
     "data": {
      "text/plain": "<Figure size 432x288 with 1 Axes>",
      "image/png": "[encoded data removed]"
     },
     "metadata": {
      "needs_background": "light",
      "image/png": {
       "width": 387,
       "height": 248
      }
     },
     "output_type": "display_data"
    }
   ],
   "execution_count": null
  },
  {
   "cell_type": "code",
   "metadata": {
    "tags": [],
    "deepnote_to_be_reexecuted": false,
    "source_hash": "869c35c7",
    "execution_start": 1651136744392,
    "execution_millis": 49,
    "cell_id": "00010-0c23547b-d2ce-4847-a72e-f504e85e0e0d",
    "deepnote_cell_type": "code",
    "deepnote_cell_height": 351
   },
   "source": "###split into pos and neg\ntrain_x_pos = []\ntrain_x_neg = []\ntrain_y_pos = []\ntrain_y_neg = []\nfor i in range(len(train_x)):\n    if train_y[i] == \"positive\":\n        train_x_pos.append(train_x[i])\n        train_y_pos.append(train_y[i])\n    else:\n        train_x_neg.append(train_x[i])\n        train_y_neg.append(train_y[i])\ntrain_x_neg.extend(train_x_pos[0:len(train_x_neg)])\ntrain_y_neg.extend(train_y_pos[0:len(train_y_neg)])\nbalanced_x_train = train_x_neg\nbalanced_y_train = train_y_neg",
   "outputs": [],
   "execution_count": null
  },
  {
   "cell_type": "code",
   "metadata": {
    "tags": [],
    "deepnote_to_be_reexecuted": false,
    "source_hash": "d33964d",
    "execution_start": 1651136745871,
    "execution_millis": 6,
    "cell_id": "00011-d02ecdeb-b76b-433f-945e-9809d27eab76",
    "deepnote_cell_type": "code",
    "deepnote_cell_height": 118.171875,
    "deepnote_output_heights": [
     21.1875
    ]
   },
   "source": "len(balanced_x_train)",
   "outputs": [
    {
     "output_type": "execute_result",
     "execution_count": 13,
     "data": {
      "text/plain": "78424"
     },
     "metadata": {}
    }
   ],
   "execution_count": null
  },
  {
   "cell_type": "code",
   "metadata": {
    "tags": [],
    "deepnote_to_be_reexecuted": true,
    "source_hash": "7864a816",
    "execution_start": 1651132130645,
    "execution_millis": 4,
    "cell_id": "00012-dc88eb27-5401-4d4c-920a-091e81552286",
    "deepnote_cell_type": "code",
    "deepnote_cell_height": 118.171875,
    "deepnote_output_heights": [
     21.1875
    ]
   },
   "source": "len(train_x_neg)",
   "outputs": [
    {
     "output_type": "execute_result",
     "execution_count": 115,
     "data": {
      "text/plain": "260626"
     },
     "metadata": {}
    }
   ],
   "execution_count": null
  },
  {
   "cell_type": "markdown",
   "source": "### Preparing the data",
   "metadata": {
    "tags": [],
    "is_collapsed": false,
    "cell_id": "00013-e68c8b2d-8a05-44c0-840b-25e4e7113a24",
    "deepnote_cell_type": "text-cell-h3"
   }
  },
  {
   "cell_type": "code",
   "metadata": {
    "tags": [],
    "deepnote_to_be_reexecuted": false,
    "source_hash": "69913f58",
    "execution_start": 1651136748363,
    "execution_millis": 3,
    "cell_id": "00014-c5763d17-fe95-4246-999b-dc88318bbc00",
    "deepnote_cell_type": "code",
    "deepnote_cell_height": 99
   },
   "source": "#old tokenizer\n#train_x_back = [' '.join(sen) for sen in train_x_split] may not need convertes tokenised back to single string",
   "outputs": [],
   "execution_count": null
  },
  {
   "cell_type": "code",
   "metadata": {
    "tags": [],
    "deepnote_to_be_reexecuted": false,
    "source_hash": "aa47e93f",
    "execution_start": 1651136749522,
    "execution_millis": 0,
    "cell_id": "00015-7feaf2b0-cf31-4e03-8ef1-f36e3f953c92",
    "deepnote_cell_type": "code",
    "deepnote_cell_height": 117
   },
   "source": "#Tokenizer\ndef tokenize_corpus(corpus):\n    return [word_tokenize(contractions.fix(s)) for s in corpus]",
   "outputs": [],
   "execution_count": null
  },
  {
   "cell_type": "code",
   "metadata": {
    "tags": [],
    "deepnote_to_be_reexecuted": false,
    "source_hash": "cc15a788",
    "execution_start": 1651136750628,
    "execution_millis": 71120,
    "cell_id": "00016-774d9a42-4394-4dff-bf66-6fd50255f648",
    "deepnote_cell_type": "code",
    "deepnote_cell_height": 81
   },
   "source": "train_x_split = tokenize_corpus(balanced_x_train)",
   "outputs": [],
   "execution_count": null
  },
  {
   "cell_type": "markdown",
   "source": "# Webscrape synonyms",
   "metadata": {
    "tags": [],
    "is_collapsed": false,
    "cell_id": "00017-65518017-f1b7-4d19-bf2c-b54318c87bb5",
    "deepnote_cell_type": "text-cell-h1"
   }
  },
  {
   "cell_type": "code",
   "metadata": {
    "tags": [],
    "deepnote_to_be_reexecuted": false,
    "source_hash": "82406177",
    "execution_start": 1651132984636,
    "execution_millis": 55,
    "cell_id": "00018-24e6f800-ca34-405e-bf5d-57cd2d4d8269",
    "deepnote_cell_type": "code",
    "deepnote_cell_height": 309.1875
   },
   "source": "##Alternative to PyDictionary\n##THIS IS COPIED FROM SLACK\n# https://stackoverflow.com/questions/52910297/pydictionary-word-has-no-synonyms-in-the-api\n\ndef synonyms(term):\n    response = requests.get('https://www.thesaurus.com/browse/{}'.format(term))\n    soup = BeautifulSoup(response.text, 'lxml')\n    soup.find('section', {'class': 'css-17ofzyv e1ccqdb60'})\n    return [span.text for span in soup.findAll('a', {'class': 'css-1kg1yv8 eh475bn0'})] # 'css-1gyuw4i eh475bn0' for less relevant synonyms\n\nword = \"us\"\nprint(synonyms(word))",
   "outputs": [
    {
     "name": "stdout",
     "text": "['them ', 'you ']\n",
     "output_type": "stream"
    }
   ],
   "execution_count": null
  },
  {
   "cell_type": "code",
   "metadata": {
    "tags": [],
    "deepnote_to_be_reexecuted": false,
    "source_hash": "93d7aa3a",
    "execution_start": 1651129914834,
    "execution_millis": 3,
    "cell_id": "00019-636a53be-eafd-4983-9433-b1f5a096b3f1",
    "deepnote_cell_type": "code",
    "deepnote_cell_height": 405
   },
   "source": "dont_replace = ['am','are','be','been','being','did','do','does','had','has','have','having','is','was','were','will','I ', 'it ', 'she ', 'sie ', 'they ', 've ', 'xe ', 'you ', 'ze ', 'zie ','he',\"you\",\"we\",\"mine\",\"hers\",\"his\",\"yours\",\"its\",\"ours\",\"theirs\",\"your\",\"our\",\"oneself\",\"oneselves\",\"yourself\",\"yourselves\",\"himself\",\"herself\",\"himself\",\"myself\",\"themselves\",\"itself\",\"ourselves\",\"ourself\",\"us\",\"them\"] #Used to avoid changing function and pronouns words\nrandom.seed(43)\ndef gen_synth_web(sentence,prob = 0.5):\n    new_sen = []\n    for word in sentence:\n        if word in dont_replace:\n            new_sen.append(word)\n        else:\n            threshold = random.random()\n            if prob > threshold:\n                #print(threshold) can remove later kept for debugging\n                syn = synonyms(word)\n                if len(syn) != 0:\n                    #print(\"selected\", word) can remove later kept for debugging\n                    new_sen.append(random.choice(syn))\n                else:new_sen.append(word)\n            else:\n                new_sen.append(word)\n    return new_sen",
   "outputs": [],
   "execution_count": null
  },
  {
   "cell_type": "code",
   "metadata": {
    "tags": [],
    "deepnote_to_be_reexecuted": false,
    "source_hash": "8089786c",
    "execution_start": 1651133011230,
    "execution_millis": 4,
    "cell_id": "00020-bbe86597-1c8b-4d5f-bf86-759d5b485297",
    "deepnote_cell_type": "code",
    "deepnote_cell_height": 115.625
   },
   "source": "print(train_x_split[12])",
   "outputs": [
    {
     "name": "stdout",
     "text": "['This', 'is', 'the', 'second', 'Back', 'to', 'Black', 'CD', 'I', 'have', 'received', 'from', 'you', 'this', 'month', '.', 'It', 'is', 'not', 'playable', 'as', 'was', 'the', 'first', '.', 'Obviously', ',', 'the', 'quality', 'of', 'this', 'run', 'of', 'CD', 'is', 'no', 'good', 'and', 'needs', 'to', 'be', 'removed', 'from', 'your', 'inventory', '.', 'When', 'you', 'have', 'another', 'press', 'available', ',', 'please', 'contact', 'me', 'and', 'I', 'will', 'reorder', '.']\n",
     "output_type": "stream"
    }
   ],
   "execution_count": null
  },
  {
   "cell_type": "code",
   "metadata": {
    "tags": [],
    "deepnote_to_be_reexecuted": false,
    "source_hash": "8fb8ce94",
    "execution_start": 1651133013916,
    "execution_millis": 3114,
    "cell_id": "00021-a1072f05-e117-4d07-90f9-5319ba9a0899",
    "deepnote_cell_type": "code",
    "deepnote_cell_height": 115.625
   },
   "source": "print(gen_synth_web(train_x_split[12]))",
   "outputs": [
    {
     "name": "stdout",
     "text": "['This', 'is', 'every ', 'moment ', 'sponsor ', 'to', 'furious ', 'financing ', 'I', 'have', 'received', 'from', 'you', 'this', 'month', '.', 'sex appeal ', 'is', 'not', 'playable', 'to the same degree ', 'was', 'every ', 'first', '.', 'Obviously', ',', 'every ', 'quality', 'of', 'that ', 'run', 'of', 'CD', 'is', 'negative ', 'good', 'and', 'needs', 'to', 'be', 'removed', 'from', 'your', 'index ', '.', 'When', 'you', 'have', 'another', 'press', 'available', ',', 'entertain ', 'contact', 'me', 'and', 'zie ', 'will', 'reorder', '.']\n",
     "output_type": "stream"
    }
   ],
   "execution_count": null
  },
  {
   "cell_type": "code",
   "metadata": {
    "tags": [],
    "deepnote_to_be_reexecuted": false,
    "source_hash": "bccd651d",
    "execution_start": 1651129973772,
    "execution_millis": 78801,
    "cell_id": "00022-7ea6c407-ae2e-4eee-b27e-32ba6beb9690",
    "deepnote_cell_type": "code",
    "deepnote_cell_height": 243.375
   },
   "source": "#for i in tqdm(train_x_split[:1000]):#running with 0:1000 dont uncomment as will mess up file \n   # with open (\"../data/synthetic1.txt\",\"a\") as f:\n       # f.write(' '.join(gen_synth_web(i))+\"\\n\")\n       # time.sleep(3)",
   "outputs": [
    {
     "name": "stderr",
     "text": "  1%|▏         | 13/1000 [01:18<1:39:39,  6.06s/it]\n",
     "output_type": "stream"
    },
    {
     "output_type": "error",
     "ename": "KeyboardInterrupt",
     "evalue": "",
     "traceback": [
      "\u001b[0;31m---------------------------------------------------------------------------\u001b[0m",
      "\u001b[0;31mKeyboardInterrupt\u001b[0m                         Traceback (most recent call last)",
      "\u001b[0;32m<ipython-input-52-c19bc195b703>\u001b[0m in \u001b[0;36m<module>\u001b[0;34m\u001b[0m\n\u001b[1;32m      2\u001b[0m     \u001b[0;32mwith\u001b[0m \u001b[0mopen\u001b[0m \u001b[0;34m(\u001b[0m\u001b[0;34m\"../data/synthetic1.txt\"\u001b[0m\u001b[0;34m,\u001b[0m\u001b[0;34m\"a\"\u001b[0m\u001b[0;34m)\u001b[0m \u001b[0;32mas\u001b[0m \u001b[0mf\u001b[0m\u001b[0;34m:\u001b[0m\u001b[0;34m\u001b[0m\u001b[0;34m\u001b[0m\u001b[0m\n\u001b[1;32m      3\u001b[0m         \u001b[0mf\u001b[0m\u001b[0;34m.\u001b[0m\u001b[0mwrite\u001b[0m\u001b[0;34m(\u001b[0m\u001b[0;34m' '\u001b[0m\u001b[0;34m.\u001b[0m\u001b[0mjoin\u001b[0m\u001b[0;34m(\u001b[0m\u001b[0mgen_synth_web\u001b[0m\u001b[0;34m(\u001b[0m\u001b[0mi\u001b[0m\u001b[0;34m)\u001b[0m\u001b[0;34m)\u001b[0m\u001b[0;34m+\u001b[0m\u001b[0;34m\"\\n\"\u001b[0m\u001b[0;34m)\u001b[0m\u001b[0;34m\u001b[0m\u001b[0;34m\u001b[0m\u001b[0m\n\u001b[0;32m----> 4\u001b[0;31m         \u001b[0mtime\u001b[0m\u001b[0;34m.\u001b[0m\u001b[0msleep\u001b[0m\u001b[0;34m(\u001b[0m\u001b[0;36m3\u001b[0m\u001b[0;34m)\u001b[0m\u001b[0;34m\u001b[0m\u001b[0;34m\u001b[0m\u001b[0m\n\u001b[0m",
      "\u001b[0;31mKeyboardInterrupt\u001b[0m: "
     ]
    }
   ],
   "execution_count": null
  },
  {
   "cell_type": "markdown",
   "source": "#### Example of webscrape synthetic sentence ",
   "metadata": {
    "tags": [],
    "cell_id": "00023-b0126cab-ef9a-41a1-8003-86d74e4cbe80",
    "deepnote_cell_type": "markdown",
    "deepnote_cell_height": 54
   }
  },
  {
   "cell_type": "code",
   "metadata": {
    "tags": [],
    "deepnote_to_be_reexecuted": false,
    "source_hash": "180cb14c",
    "execution_start": 1650875688289,
    "execution_millis": 1,
    "cell_id": "00024-f3e9fbf2-366f-44a6-8f2e-6ce68e63e6ec",
    "deepnote_cell_type": "code",
    "deepnote_cell_height": 111.1875
   },
   "source": "print(train_x_split[6])",
   "execution_count": null,
   "outputs": [
    {
     "name": "stdout",
     "text": "['I', 'love', 'all', 'of', 'his', 'music', '!', '!']\n",
     "output_type": "stream"
    }
   ]
  },
  {
   "cell_type": "code",
   "metadata": {
    "tags": [],
    "deepnote_to_be_reexecuted": false,
    "source_hash": "d57f9178",
    "execution_start": 1650875688296,
    "execution_millis": 784,
    "cell_id": "00025-769dc1f5-157a-4989-ae81-60cf11288e5d",
    "deepnote_cell_type": "code",
    "deepnote_cell_height": 111.1875
   },
   "source": "print(gen_synth_web(train_x_split[6]))",
   "execution_count": null,
   "outputs": [
    {
     "name": "stdout",
     "text": "['I', 'passion ', 'fully ', 'of', 'his', 'music', '!', '!']\n",
     "output_type": "stream"
    }
   ]
  },
  {
   "cell_type": "markdown",
   "source": "# Wordnet",
   "metadata": {
    "tags": [],
    "is_collapsed": false,
    "cell_id": "00026-9fcc3dc2-5b55-4096-9304-fbc6e70043b0",
    "deepnote_cell_type": "text-cell-h1"
   }
  },
  {
   "cell_type": "code",
   "metadata": {
    "tags": [],
    "deepnote_to_be_reexecuted": false,
    "source_hash": "89119f2a",
    "execution_start": 1651140122674,
    "execution_millis": 2,
    "cell_id": "00027-7f797b32-3eb8-4562-927f-49173ad8812b",
    "deepnote_cell_type": "code",
    "deepnote_cell_height": 567
   },
   "source": "relevant = [\"NN\",\"NNS\",\"RB\",\"RBR\",\"RBS\",\"VB\",\"VBG\",\"VBD\",\"VBN\",\"VBP\",\"VBZ\",\"JJ\",\"JJR\",\"JJS\"]#The wordclasses that can be exchanged with synonyms (not functional words) #maybe not RB\nwordnet_tag_map = {'NN': ['n'],'NNS': ['n'],'JJ': ['a'],'JJR': ['a'],'JJS': ['a'],'RB': ['r'],'RBR': ['r'],'RBS': ['r'], 'VB': ['v'], 'VBG': ['v'], 'VBD': ['v'], 'VBN': ['v'], 'VBP': ['v'], 'VBZ': ['v']} #Making pos-tags coincide\naux_verbs = ['am','are','be','been','being','did','do','does','had','has','have','having','is','was','were','will'] #Used to avoid changing function words\ndef change_wordnet(sentence):\n    sentence = nltk.pos_tag(sentence)    #pos-tagging sentence here\n    new_sentence = [] #to append to and then return as final sentence\n    for word in sentence:\n        if word[1] in relevant and word[0] not in aux_verbs: #Not changing functional words\n            tag = wordnet_tag_map[word[1]]\n            chosen = lesk(sentence, word[0], tag[0]) #from all synsets choose the most likely in a smart way, thanks to library!\n            if chosen is None:\n                new_sentence.append(word[0]) #sometimes no synset is chosen so we just give the new sentence the original word\n            else:\n                options = chosen.lemma_names()\n                if word[0] in options:\n                    options.remove(word[0])\n                if len(options)>0:\n                    chosen_w = random.choice(options)\n                    if \"_\" in chosen_w:\n                        for w in chosen_w.split(\"_\"):\n                            new_sentence.append(w)\n                    else:\n                        new_sentence.append(word[0])\n                else:\n                    new_sentence.append(word[0])\n        else:\n            new_sentence.append(word[0])\n    return new_sentence",
   "outputs": [],
   "execution_count": null
  },
  {
   "cell_type": "markdown",
   "source": "#### Example of wordnet synthetic sentence ",
   "metadata": {
    "tags": [],
    "cell_id": "00028-87b7cf77-75cd-42b2-bb3e-d9b96ddb067e",
    "deepnote_cell_type": "markdown",
    "deepnote_cell_height": 54
   }
  },
  {
   "cell_type": "code",
   "metadata": {
    "tags": [],
    "deepnote_to_be_reexecuted": false,
    "source_hash": "d1ec070d",
    "execution_start": 1651140124738,
    "execution_millis": 2,
    "cell_id": "00029-4f453f85-3aff-4dab-9afd-aa99d0afde21",
    "deepnote_cell_type": "code",
    "deepnote_cell_height": 115.625
   },
   "source": "print(train_x_split[10])",
   "outputs": [
    {
     "name": "stdout",
     "text": "['The', 'book', 'Think', '&', 'Grow', 'Rich', 'is', 'a', 'must', 'own', '.', 'It', 'is', 'book', 'to', 'be', 'read', 'multiple', 'times', '.', 'That', 'being', 'said', 'the', 'particular', 'reader', 'of', 'this', 'audio', 'book', 'is', 'very', 'monotone', '.', 'He', 'does', 'not', 'pause', 'at', 'the', 'end', 'of', 'sentence', 'or', 'even', 'a', 'paragraph', '.', 'You', 'can', 'hear', 'the', '``', 'paah', \"''\", 'noises', 'into', 'the', 'microphone', 'every', 'few', 'seconds', '.', 'The', 'narrator', 'has', 'a', 'strong', 'voice', 'it', 'is', 'just', 'emotionless', '.', 'It', 'reminded', 'me', 'of', 'when', 'a', 'teacher', 'would', 'call', 'on', 'a', 'student', 'to', 'read', 'aloud', '...', 'but', 'the', 'student', 'is', 'disinterested', 'a', 'tries', 'to', 'blow', 'through', 'it', 'as', 'quickly', 'and', 'unenthusiastically', 'as', 'possible', 'so', 'he', 'can', 'go', 'back', 'to', 'day', 'dreaming', '.', 'Bottomline', ':', 'Buy', 'the', 'book', ',', 'buy', 'the', 'audio', 'book', 'just', 'skip', 'this', 'one', '.']\n",
     "output_type": "stream"
    }
   ],
   "execution_count": null
  },
  {
   "cell_type": "code",
   "metadata": {
    "tags": [],
    "deepnote_to_be_reexecuted": false,
    "source_hash": "ab15cd",
    "execution_start": 1651140126407,
    "execution_millis": 8,
    "cell_id": "00030-eb199587-d520-486c-b7fb-3e4e16323b8e",
    "deepnote_cell_type": "code",
    "deepnote_cell_height": 115.625
   },
   "source": "print(change_wordnet(train_x_split[10]))",
   "outputs": [
    {
     "name": "stdout",
     "text": "['The', 'book', 'Think', '&', 'Grow', 'Rich', 'is', 'a', 'must', 'own', '.', 'It', 'is', 'book', 'to', 'be', 'read', 'multiple', 'times', '.', 'That', 'being', 'said', 'the', 'particular', 'reader', 'of', 'this', 'audio', 'book', 'is', 'very', 'monotone', '.', 'He', 'does', 'not', 'pause', 'at', 'the', 'end', 'of', 'sentence', 'or', 'even', 'a', 'paragraph', '.', 'You', 'can', 'take', 'heed', 'the', '``', 'paah', \"''\", 'noises', 'into', 'the', 'microphone', 'every', 'few', 'second', 'gear', '.', 'The', 'narrator', 'has', 'a', 'strong', 'voice', 'it', 'is', 'just', 'emotionless', '.', 'It', 'reminded', 'me', 'of', 'when', 'a', 'teacher', 'would', 'call', 'in', 'on', 'a', 'student', 'to', 'read', 'aloud', '...', 'but', 'the', 'student', 'is', 'disinterested', 'a', 'tries', 'to', 'blow', 'through', 'it', 'as', 'quickly', 'and', 'unenthusiastically', 'as', 'possible', 'so', 'he', 'can', 'go', 'back', 'to', 'sidereal', 'day', 'dreaming', '.', 'Bottomline', ':', 'Buy', 'the', 'book', ',', 'buy', 'the', 'audio', 'book', 'just', 'bound', 'off', 'this', 'one', '.']\n",
     "output_type": "stream"
    }
   ],
   "execution_count": null
  },
  {
   "cell_type": "markdown",
   "source": "#### write to file",
   "metadata": {
    "tags": [],
    "cell_id": "00031-3ac06473-d78c-4261-84d7-bf8a310ff667",
    "deepnote_cell_type": "markdown",
    "deepnote_cell_height": 54
   }
  },
  {
   "cell_type": "code",
   "metadata": {
    "tags": [],
    "deepnote_to_be_reexecuted": false,
    "source_hash": "1fb3ee3a",
    "execution_start": 1651140138504,
    "execution_millis": 319443,
    "cell_id": "00032-ae29fcf5-2ad8-48ba-b1ec-8307d71c4166",
    "deepnote_cell_type": "code",
    "deepnote_cell_height": 81
   },
   "source": "wn_x_train = [change_wordnet(i) for i in train_x_split]",
   "outputs": [],
   "execution_count": null
  },
  {
   "cell_type": "code",
   "source": "len(wn_x_train)",
   "metadata": {
    "cell_id": "68de6c4363e844fea32e605191baec96",
    "tags": [],
    "deepnote_to_be_reexecuted": false,
    "source_hash": "1de32742",
    "execution_start": 1651140609558,
    "execution_millis": 596,
    "owner_user_id": "e3bb0160-fb91-44de-b701-79c62e58c7f8",
    "deepnote_cell_type": "code",
    "deepnote_cell_height": 118.171875,
    "deepnote_output_heights": [
     21.1875
    ]
   },
   "outputs": [
    {
     "output_type": "execute_result",
     "execution_count": 44,
     "data": {
      "text/plain": "78424"
     },
     "metadata": {}
    }
   ],
   "execution_count": null
  },
  {
   "cell_type": "code",
   "metadata": {
    "tags": [],
    "deepnote_to_be_reexecuted": false,
    "source_hash": "d4e804f1",
    "execution_start": 1651140557856,
    "execution_millis": 156,
    "cell_id": "00033-d772c2da-e3e1-4e75-ab60-a082e2b2d96d",
    "deepnote_cell_type": "code",
    "deepnote_cell_height": 99
   },
   "source": "with open(\"../data/synthetic/wordnet.csv\",'w') as f:\n    f.writelines('\\t'.join(s) + '\\n' for s in wn_x_train)",
   "outputs": [],
   "execution_count": null
  },
  {
   "cell_type": "markdown",
   "source": "# Word2vec",
   "metadata": {
    "tags": [],
    "cell_id": "00034-ed563987-3646-486a-acbd-f31da0cae57f",
    "deepnote_cell_type": "markdown",
    "deepnote_cell_height": 82
   }
  },
  {
   "cell_type": "code",
   "metadata": {
    "tags": [],
    "deepnote_to_be_reexecuted": false,
    "source_hash": "7462dd4a",
    "execution_start": 1651136632189,
    "execution_millis": 6819,
    "cell_id": "00035-48c0c30e-89a0-491f-9f2f-2206fc0efb5c",
    "deepnote_cell_type": "code",
    "deepnote_cell_height": 111.1875
   },
   "source": "",
   "outputs": [
    {
     "name": "stdout",
     "text": "loading finished\n",
     "output_type": "stream"
    }
   ],
   "execution_count": null
  },
  {
   "cell_type": "code",
   "metadata": {
    "tags": [],
    "deepnote_to_be_reexecuted": true,
    "source_hash": "43fccd1f",
    "execution_start": 1650872521172,
    "execution_millis": 739,
    "cell_id": "00036-edc98367-06e7-4de6-a504-b5871fe76081",
    "deepnote_cell_type": "code",
    "deepnote_cell_height": 290.921875,
    "deepnote_output_heights": [
     193.9375
    ]
   },
   "source": "gooEmbs.most_similar('run')",
   "execution_count": null,
   "outputs": [
    {
     "output_type": "execute_result",
     "execution_count": 30,
     "data": {
      "text/plain": "[('runs', 0.6569936275482178),\n ('running', 0.6062965989112854),\n ('drive', 0.4834049642086029),\n ('ran', 0.4764978289604187),\n ('scamper', 0.46932122111320496),\n ('go', 0.4631645083427429),\n ('walk', 0.45697975158691406),\n ('homerun', 0.45180249214172363),\n ('roundtripper', 0.43272683024406433),\n ('sacrifice_fly', 0.42050617933273315)]"
     },
     "metadata": {}
    }
   ]
  },
  {
   "cell_type": "code",
   "metadata": {
    "tags": [],
    "deepnote_to_be_reexecuted": false,
    "source_hash": "996c6371",
    "execution_start": 1651137238560,
    "execution_millis": 6456,
    "cell_id": "00037-9f2bc624-811f-45ee-8f31-05099ce518fb",
    "owner_user_id": "03d0206a-8ef5-4ef4-a095-5515fca900a0",
    "deepnote_cell_type": "code",
    "deepnote_cell_height": 489.1875
   },
   "source": "gooEmbs = gensim.models.KeyedVectors.load_word2vec_format('../data/GoogleNews-50k.bin', binary=True)\nprint('loading finished')\nrelevant = [\"NN\",\"NNS\",\"RB\",\"RBR\",\"RBS\",\"VB\",\"VBG\",\"VBD\",\"VBN\",\"VBP\",\"VBZ\",\"JJ\",\"JJR\",\"JJS\"]#The wordclasses that can be exchanged with synonyms (not functional words) #maybe not RB\naux_verbs = ['am','are','be','been','being','did','do','does','had','has','have','having','is','was','were','will'] #Used to avoid changing function words\ndef change_word2vec(original_sentence, prob = 0):\n    sentence = nltk.pos_tag(original_sentence)    #pos-tagging sentence here\n    new_sentence = [] #to append to and then return as final sentence\n    for word in sentence:\n        if word[1] in relevant and word[0] not in aux_verbs:\n            if random.random() > prob:\n                try:\n                    syno = gooEmbs.most_similar(word[0]) #taking the most similar word from word2vec\n                    new_sentence.append(syno[0])\n                    print(word[0],syno)\n                except:\n                    new_sentence.append(word[0])    \n                    print(word[0])\n            else: \n                new_sentence.append(word[0])\n        else:\n            new_sentence.append(word[0])\n    return new_sentence",
   "outputs": [
    {
     "name": "stdout",
     "text": "loading finished\n",
     "output_type": "stream"
    }
   ],
   "execution_count": null
  },
  {
   "cell_type": "code",
   "metadata": {
    "tags": [],
    "deepnote_to_be_reexecuted": false,
    "source_hash": "83ca03b5",
    "execution_start": 1651137247670,
    "execution_millis": 9070,
    "cell_id": "00038-74434ca7-8d5d-4e98-9f36-2b5ffa008177",
    "deepnote_cell_type": "code",
    "deepnote_cell_height": 1343,
    "deepnote_output_heights": [
     611,
     611
    ]
   },
   "source": "change_word2vec(train_x_split[3])",
   "outputs": [
    {
     "name": "stdout",
     "text": "Clear ('Clean', 0.4929791986942291)\nbest ('finest', 0.6383626461029053)\nfriend ('pal', 0.7476359009742737)\nmusic ('classical_music', 0.7197794318199158)\nordinary ('Ordinary', 0.6796734929084778)\ndull ('boring', 0.7369749546051025)\nabsolutely ('Absolutely', 0.6274674534797668)\ndefining ('define', 0.7142779231071472)\nmainstream ('Mainstream', 0.66694575548172)\nsongs ('tunes', 0.8505027294158936)\nhere ('we', 0.5639766454696655)\nsame ('Same', 0.5796926021575928)\npoor ('poorer', 0.6462291479110718)\nlyrics ('lyric', 0.813675582408905)\nstandard ('standards', 0.7356971502304077)\nordinary ('Ordinary', 0.6796734929084778)\nsinging ('sing', 0.8258258104324341)\nstyle ('styles', 0.6399437785148621)\nusing ('use', 0.7267316579818726)\nordinary ('Ordinary', 0.6796734929084778)\nso ('too', 0.7130550146102905)\nmany ('several', 0.6742649674415588)\ntimes ('twice', 0.5531712770462036)\njust ('really', 0.6747439503669739)\ndefines ('defined', 0.6928829550743103)\nband ('bands', 0.7978951930999756)\nso ('too', 0.7130550146102905)\nwell ('as', 0.6141199469566345)\nfind ('discover', 0.6813523769378662)\nhilarious ('funny', 0.7953875064849854)\nkid ('guy', 0.7245742678642273)\nreview ('reviewed', 0.6630409359931946)\nchosen ('selected', 0.8554611206054688)\nspotlight ('limelight', 0.8118037581443787)\nreview ('reviewed', 0.6630409359931946)\nhe/she\ndefines ('defined', 0.6928829550743103)\naverage ('averages', 0.6468037366867065)\nradio-listening\nfan ('fans', 0.7041825652122498)\nhate ('despise', 0.6712517142295837)\nbands ('band', 0.7978951930999756)\ntake ('taking', 0.7301175594329834)\naway ('out', 0.575627863407135)\nradio ('radio_stations', 0.7330179810523987)\ntime ('day', 0.512919008731842)\nexpose ('exposing', 0.7323273420333862)\nbands ('band', 0.7978951930999756)\ndeserve ('deserves', 0.736871063709259)\nattention ('Attention', 0.6284698247909546)\nAnybody ('Anyone', 0.8190929889678955)\nbrains ('brain', 0.7413849830627441)\nturn ('turning', 0.7097350358963013)\noff ('down', 0.6289231777191162)\nlisten ('listening', 0.7394957542419434)\nreal ('genuine', 0.5876179933547974)\ntalent ('talents', 0.7568612694740295)\nlisten ('listening', 0.7394957542419434)\nradio-dominated\nband ('bands', 0.7978951930999756)\nleast ('one', 0.45131486654281616)\nlisten ('listening', 0.7394957542419434)\ninch ('inches', 0.7427827715873718)\nnails ('fingernails', 0.6050601601600647)\npre-St.\nanything ('nothing', 0.8027681708335876)\nelsewith\nsubstance ('substances', 0.6322904229164124)\nway ('ways', 0.5782198309898376)\ntry ('trying', 0.70569908618927)\nlooping ('looped', 0.7929597496986389)\nRemind ('remind', 0.5738146305084229)\nsee ('seeing', 0.6089838147163391)\nproduced ('produce', 0.6843094825744629)\nalmost ('nearly', 0.7683289647102356)\nidentical ('virtually_identical', 0.7448713779449463)\nsongs ('tunes', 0.8505027294158936)\ncaused ('causing', 0.7804437875747681)\nradio-friendly\nformulaic ('clichéd', 0.7259743809700012)\nsong ('songs', 0.8356552720069885)\nwriting ('write', 0.6930697560310364)\nskills ('skill', 0.7695557475090027)\n",
     "output_type": "stream"
    },
    {
     "output_type": "execute_result",
     "execution_count": 18,
     "data": {
      "text/plain": "['Nickleback',\n 'is',\n 'Clean',\n 'Channel',\n \"'s\",\n 'finest',\n 'pal',\n ':',\n 'their',\n 'classical_music',\n 'is',\n 'Ordinary',\n ',',\n 'boring',\n ',',\n 'and',\n 'Absolutely',\n 'define',\n 'Mainstream',\n '.',\n 'The',\n 'tunes',\n 'we',\n 'are',\n 'all',\n 'the',\n 'Same',\n ',',\n 'with',\n 'poorer',\n 'lyric',\n ',',\n 'and',\n 'Chad',\n \"'s\",\n 'standards',\n ',',\n 'Ordinary',\n 'sing',\n 'styles',\n '.',\n 'Sorry',\n 'about',\n 'use',\n 'Ordinary',\n 'too',\n 'several',\n 'twice',\n ',',\n 'it',\n 'really',\n 'defined',\n 'this',\n 'bands',\n 'too',\n 'as',\n '.',\n 'I',\n 'discover',\n 'it',\n 'funny',\n 'that',\n '``',\n 'A',\n 'guy',\n \"'s\",\n 'reviewed',\n \"''\",\n 'was',\n 'selected',\n 'as',\n 'a',\n 'limelight',\n 'reviewed',\n ',',\n 'because',\n 'he/she',\n 'defined',\n 'the',\n 'averages',\n 'radio-listening',\n ',',\n 'Nickleback',\n 'fans',\n '.',\n 'What',\n 'I',\n 'despise',\n 'about',\n 'band',\n 'like',\n 'this',\n 'is',\n 'that',\n 'they',\n 'taking',\n 'out',\n 'radio_stations',\n 'day',\n 'to',\n 'exposing',\n 'band',\n 'that',\n 'deserves',\n 'our',\n 'Attention',\n '.',\n 'Anyone',\n 'with',\n 'brain',\n 'should',\n 'turning',\n 'this',\n 'down',\n 'and',\n 'listening',\n 'to',\n 'genuine',\n 'talents',\n 'like',\n 'In',\n 'Flames',\n '.',\n 'If',\n 'you',\n 'must',\n 'listening',\n 'to',\n 'a',\n 'radio-dominated',\n 'bands',\n ',',\n 'at',\n 'one',\n 'listening',\n 'to',\n 'A',\n 'Perfect',\n 'Circle',\n ',',\n 'Tool',\n ',',\n 'Nine',\n 'inches',\n 'fingernails',\n ',',\n 'Muse',\n ',',\n 'Metallica',\n '(',\n 'pre-St.',\n 'Anger',\n ')',\n ',',\n 'or',\n 'nothing',\n 'elsewith',\n 'substances',\n '.',\n 'By',\n 'the',\n 'ways',\n ',',\n 'trying',\n 'looped',\n '``',\n 'Someday',\n \"''\",\n 'alongside',\n '``',\n 'How',\n 'You',\n 'remind',\n 'Me',\n ',',\n \"''\",\n 'you',\n 'will',\n 'seeing',\n 'how',\n 'Nickleback',\n 'has',\n 'produce',\n 'two',\n 'nearly',\n 'virtually_identical',\n 'tunes',\n ',',\n 'causing',\n 'by',\n 'their',\n 'radio-friendly',\n 'clichéd',\n 'songs',\n 'write',\n 'skill',\n '.']"
     },
     "metadata": {}
    }
   ],
   "execution_count": null
  },
  {
   "cell_type": "code",
   "metadata": {
    "tags": [],
    "deepnote_to_be_reexecuted": false,
    "source_hash": "e72c710c",
    "execution_start": 1651129622292,
    "execution_millis": 0,
    "cell_id": "00039-8256c258-17d3-4462-b169-0c26675871be",
    "deepnote_cell_type": "code",
    "deepnote_cell_height": 117
   },
   "source": "#new_x = []\n#for  i in train_x[:1000]:\n    #new_x.append(change_word2vec(i))",
   "outputs": [],
   "execution_count": null
  },
  {
   "cell_type": "code",
   "metadata": {
    "tags": [],
    "deepnote_to_be_reexecuted": false,
    "source_hash": "41bfadc1",
    "execution_start": 1651130124346,
    "execution_millis": 280,
    "cell_id": "00040-60002cac-1c3e-48e5-940e-c395b9bdf5ee",
    "deepnote_cell_type": "code",
    "deepnote_cell_height": 281.765625
   },
   "source": "print(train_x_split[6])\nprint(gen_synth_web(train_x_split[6]))\nprint(change_wordnet(train_x_split[6]))\nprint(change_word2vec(train_x_split[6]))",
   "outputs": [
    {
     "name": "stdout",
     "text": "['I', 'love', 'all', 'of', 'his', 'music', '!', '!']\n['ve ', 'love', 'group ', 'of', 'his', 'music', '!', '!']\n['I', 'have_intercourse', 'all', 'of', 'his', 'music', '!', '!']\n",
     "output_type": "stream"
    },
    {
     "output_type": "error",
     "ename": "UnboundLocalError",
     "evalue": "local variable 'sentence' referenced before assignment",
     "traceback": [
      "\u001b[0;31m---------------------------------------------------------------------------\u001b[0m",
      "\u001b[0;31mUnboundLocalError\u001b[0m                         Traceback (most recent call last)",
      "\u001b[0;32m<ipython-input-54-fe5d0c7d39cc>\u001b[0m in \u001b[0;36m<module>\u001b[0;34m\u001b[0m\n\u001b[1;32m      2\u001b[0m \u001b[0mprint\u001b[0m\u001b[0;34m(\u001b[0m\u001b[0mgen_synth_web\u001b[0m\u001b[0;34m(\u001b[0m\u001b[0mtrain_x_split\u001b[0m\u001b[0;34m[\u001b[0m\u001b[0;36m6\u001b[0m\u001b[0;34m]\u001b[0m\u001b[0;34m)\u001b[0m\u001b[0;34m)\u001b[0m\u001b[0;34m\u001b[0m\u001b[0;34m\u001b[0m\u001b[0m\n\u001b[1;32m      3\u001b[0m \u001b[0mprint\u001b[0m\u001b[0;34m(\u001b[0m\u001b[0mchange_wordnet\u001b[0m\u001b[0;34m(\u001b[0m\u001b[0mtrain_x_split\u001b[0m\u001b[0;34m[\u001b[0m\u001b[0;36m6\u001b[0m\u001b[0;34m]\u001b[0m\u001b[0;34m)\u001b[0m\u001b[0;34m)\u001b[0m\u001b[0;34m\u001b[0m\u001b[0;34m\u001b[0m\u001b[0m\n\u001b[0;32m----> 4\u001b[0;31m \u001b[0mprint\u001b[0m\u001b[0;34m(\u001b[0m\u001b[0mchange_word2vec\u001b[0m\u001b[0;34m(\u001b[0m\u001b[0mtrain_x_split\u001b[0m\u001b[0;34m[\u001b[0m\u001b[0;36m6\u001b[0m\u001b[0;34m]\u001b[0m\u001b[0;34m)\u001b[0m\u001b[0;34m)\u001b[0m\u001b[0;34m\u001b[0m\u001b[0;34m\u001b[0m\u001b[0m\n\u001b[0m",
      "\u001b[0;32m<ipython-input-50-fab0f16df054>\u001b[0m in \u001b[0;36mchange_word2vec\u001b[0;34m(original_sentence, prob)\u001b[0m\n\u001b[1;32m      3\u001b[0m \u001b[0maux_verbs\u001b[0m \u001b[0;34m=\u001b[0m \u001b[0;34m[\u001b[0m\u001b[0;34m'am'\u001b[0m\u001b[0;34m,\u001b[0m\u001b[0;34m'are'\u001b[0m\u001b[0;34m,\u001b[0m\u001b[0;34m'be'\u001b[0m\u001b[0;34m,\u001b[0m\u001b[0;34m'been'\u001b[0m\u001b[0;34m,\u001b[0m\u001b[0;34m'being'\u001b[0m\u001b[0;34m,\u001b[0m\u001b[0;34m'did'\u001b[0m\u001b[0;34m,\u001b[0m\u001b[0;34m'do'\u001b[0m\u001b[0;34m,\u001b[0m\u001b[0;34m'does'\u001b[0m\u001b[0;34m,\u001b[0m\u001b[0;34m'had'\u001b[0m\u001b[0;34m,\u001b[0m\u001b[0;34m'has'\u001b[0m\u001b[0;34m,\u001b[0m\u001b[0;34m'have'\u001b[0m\u001b[0;34m,\u001b[0m\u001b[0;34m'having'\u001b[0m\u001b[0;34m,\u001b[0m\u001b[0;34m'is'\u001b[0m\u001b[0;34m,\u001b[0m\u001b[0;34m'was'\u001b[0m\u001b[0;34m,\u001b[0m\u001b[0;34m'were'\u001b[0m\u001b[0;34m,\u001b[0m\u001b[0;34m'will'\u001b[0m\u001b[0;34m]\u001b[0m \u001b[0;31m#Used to avoid changing function words\u001b[0m\u001b[0;34m\u001b[0m\u001b[0;34m\u001b[0m\u001b[0m\n\u001b[1;32m      4\u001b[0m \u001b[0;32mdef\u001b[0m \u001b[0mchange_word2vec\u001b[0m\u001b[0;34m(\u001b[0m\u001b[0moriginal_sentence\u001b[0m\u001b[0;34m,\u001b[0m \u001b[0mprob\u001b[0m \u001b[0;34m=\u001b[0m \u001b[0;36m0.5\u001b[0m\u001b[0;34m)\u001b[0m\u001b[0;34m:\u001b[0m\u001b[0;34m\u001b[0m\u001b[0;34m\u001b[0m\u001b[0m\n\u001b[0;32m----> 5\u001b[0;31m     \u001b[0msentence\u001b[0m \u001b[0;34m=\u001b[0m \u001b[0mnltk\u001b[0m\u001b[0;34m.\u001b[0m\u001b[0mpos_tag\u001b[0m\u001b[0;34m(\u001b[0m\u001b[0msentence\u001b[0m\u001b[0;34m)\u001b[0m    \u001b[0;31m#pos-tagging sentence here\u001b[0m\u001b[0;34m\u001b[0m\u001b[0;34m\u001b[0m\u001b[0m\n\u001b[0m\u001b[1;32m      6\u001b[0m     \u001b[0mnew_sentence\u001b[0m \u001b[0;34m=\u001b[0m \u001b[0;34m[\u001b[0m\u001b[0;34m]\u001b[0m \u001b[0;31m#to append to and then return as final sentence\u001b[0m\u001b[0;34m\u001b[0m\u001b[0;34m\u001b[0m\u001b[0m\n\u001b[1;32m      7\u001b[0m     \u001b[0;32mfor\u001b[0m \u001b[0mword\u001b[0m \u001b[0;32min\u001b[0m \u001b[0msentence\u001b[0m\u001b[0;34m:\u001b[0m\u001b[0;34m\u001b[0m\u001b[0;34m\u001b[0m\u001b[0m\n",
      "\u001b[0;31mUnboundLocalError\u001b[0m: local variable 'sentence' referenced before assignment"
     ]
    }
   ],
   "execution_count": null
  },
  {
   "cell_type": "code",
   "source": " gooEmbs.most_similar('woman')",
   "metadata": {
    "cell_id": "c3799b19b0cc47c7939e9797acb2e003",
    "tags": [],
    "deepnote_to_be_reexecuted": false,
    "source_hash": "bf8db33f",
    "execution_start": 1651137424726,
    "execution_millis": 97,
    "deepnote_cell_type": "code",
    "deepnote_cell_height": 290.921875,
    "deepnote_output_heights": [
     193.9375
    ]
   },
   "outputs": [
    {
     "output_type": "execute_result",
     "execution_count": 20,
     "data": {
      "text/plain": "[('man', 0.7664012908935547),\n ('girl', 0.7494640946388245),\n ('teenage_girl', 0.7336829304695129),\n ('teenager', 0.6317085027694702),\n ('lady', 0.6288785934448242),\n ('teenaged_girl', 0.6141784191131592),\n ('mother', 0.6076306104660034),\n ('policewoman', 0.6069462299346924),\n ('boy', 0.5975907444953918),\n ('Woman', 0.5770983099937439)]"
     },
     "metadata": {}
    }
   ],
   "execution_count": null
  },
  {
   "cell_type": "markdown",
   "source": "# Baseline",
   "metadata": {
    "tags": [],
    "cell_id": "00041-1ff244d6-7478-4b64-af71-050f766be07c",
    "deepnote_cell_type": "markdown",
    "deepnote_cell_height": 82
   }
  },
  {
   "cell_type": "code",
   "metadata": {
    "tags": [],
    "cell_id": "00042-64c2ae34-6b4a-4122-a44a-78175d2acb3c",
    "deepnote_to_be_reexecuted": false,
    "source_hash": "47f92766",
    "execution_start": 1651135623746,
    "execution_millis": 1,
    "deepnote_cell_type": "code",
    "deepnote_cell_height": 153
   },
   "source": "pipeline = Pipeline([\n    ('CountVectorizer',CountVectorizer(ngram_range=(1, 2))),\n    ('Tfidf',TfidfTransformer()),\n    ('clf', MultinomialNB(alpha=1, fit_prior=False))\n])",
   "outputs": [],
   "execution_count": null
  },
  {
   "cell_type": "code",
   "metadata": {
    "tags": [],
    "cell_id": "00043-5c9e58d5-6d98-4d6b-8ab9-101a4adb0d92",
    "deepnote_to_be_reexecuted": false,
    "source_hash": "6ef8dee9",
    "execution_start": 1651135623762,
    "execution_millis": 128,
    "deepnote_cell_type": "code",
    "deepnote_cell_height": 369.1875
   },
   "source": "size = [500, 1000, 2500, 5000, 10000, 20000, 30000, 50000, 60000, 70000, 80000, 90000, 100000]\ntrain_acc = []\ndev_acc = []\nfor i in size:\n    pipeline.fit(balanced_x_train[:i],balanced_y_train[:i] )\n    pred_train = pipeline.predict(balanced_x_train)\n    train_acc.append(f1_score(balanced_x_train, pred_train, average='macro'))\n    pred = pipeline.predict(dev_x)\n    dev_acc.append(f1_score(dev_y, pred, average='macro'))\n    print(f'done with size {i}')\n",
   "outputs": [
    {
     "output_type": "error",
     "ename": "KernelInterrupted",
     "evalue": "Execution interrupted by the Jupyter kernel.",
     "traceback": [
      "\u001b[0;31m---------------------------------------------------------------------------\u001b[0m",
      "\u001b[0;31mKernelInterrupted\u001b[0m: Execution interrupted by the Jupyter kernel."
     ]
    }
   ],
   "execution_count": null
  },
  {
   "cell_type": "code",
   "source": "plt.plot(size, dev_acc)",
   "metadata": {
    "cell_id": "f64251112a074b6db4dc0f6d844e5750",
    "tags": [],
    "deepnote_to_be_reexecuted": true,
    "source_hash": "15257823",
    "deepnote_cell_type": "code",
    "deepnote_cell_height": 66
   },
   "outputs": [],
   "execution_count": null
  },
  {
   "cell_type": "code",
   "source": "plt.plot(size, train_acc)",
   "metadata": {
    "cell_id": "d3ec2055579e429398d86e4aa47293b8",
    "tags": [],
    "deepnote_cell_type": "code",
    "deepnote_cell_height": 66
   },
   "outputs": [],
   "execution_count": null
  },
  {
   "cell_type": "markdown",
   "source": "<a style='text-decoration:none;line-height:16px;display:flex;color:#5B5B62;padding:10px;justify-content:end;' href='https://deepnote.com?utm_source=created-in-deepnote-cell&projectId=b88dfe01-c7e1-473c-bcfd-798313fc6522' target=\"_blank\">\n<img alt='Created in deepnote.com' style='display:inline;max-height:16px;margin:0px;margin-right:7.5px;' src='data:image/svg+xml;base64,PD94bWwgdmVyc2lvbj0iMS4wIiBlbmNvZGluZz0iVVRGLTgiPz4KPHN2ZyB3aWR0aD0iODBweCIgaGVpZ2h0PSI4MHB4IiB2aWV3Qm94PSIwIDAgODAgODAiIHZlcnNpb249IjEuMSIgeG1sbnM9Imh0dHA6Ly93d3cudzMub3JnLzIwMDAvc3ZnIiB4bWxuczp4bGluaz0iaHR0cDovL3d3dy53My5vcmcvMTk5OS94bGluayI+CiAgICA8IS0tIEdlbmVyYXRvcjogU2tldGNoIDU0LjEgKDc2NDkwKSAtIGh0dHBzOi8vc2tldGNoYXBwLmNvbSAtLT4KICAgIDx0aXRsZT5Hcm91cCAzPC90aXRsZT4KICAgIDxkZXNjPkNyZWF0ZWQgd2l0aCBTa2V0Y2guPC9kZXNjPgogICAgPGcgaWQ9IkxhbmRpbmciIHN0cm9rZT0ibm9uZSIgc3Ryb2tlLXdpZHRoPSIxIiBmaWxsPSJub25lIiBmaWxsLXJ1bGU9ImV2ZW5vZGQiPgogICAgICAgIDxnIGlkPSJBcnRib2FyZCIgdHJhbnNmb3JtPSJ0cmFuc2xhdGUoLTEyMzUuMDAwMDAwLCAtNzkuMDAwMDAwKSI+CiAgICAgICAgICAgIDxnIGlkPSJHcm91cC0zIiB0cmFuc2Zvcm09InRyYW5zbGF0ZSgxMjM1LjAwMDAwMCwgNzkuMDAwMDAwKSI+CiAgICAgICAgICAgICAgICA8cG9seWdvbiBpZD0iUGF0aC0yMCIgZmlsbD0iIzAyNjVCNCIgcG9pbnRzPSIyLjM3NjIzNzYyIDgwIDM4LjA0NzY2NjcgODAgNTcuODIxNzgyMiA3My44MDU3NTkyIDU3LjgyMTc4MjIgMzIuNzU5MjczOSAzOS4xNDAyMjc4IDMxLjY4MzE2ODMiPjwvcG9seWdvbj4KICAgICAgICAgICAgICAgIDxwYXRoIGQ9Ik0zNS4wMDc3MTgsODAgQzQyLjkwNjIwMDcsNzYuNDU0OTM1OCA0Ny41NjQ5MTY3LDcxLjU0MjI2NzEgNDguOTgzODY2LDY1LjI2MTk5MzkgQzUxLjExMjI4OTksNTUuODQxNTg0MiA0MS42NzcxNzk1LDQ5LjIxMjIyODQgMjUuNjIzOTg0Niw0OS4yMTIyMjg0IEMyNS40ODQ5Mjg5LDQ5LjEyNjg0NDggMjkuODI2MTI5Niw0My4yODM4MjQ4IDM4LjY0NzU4NjksMzEuNjgzMTY4MyBMNzIuODcxMjg3MSwzMi41NTQ0MjUgTDY1LjI4MDk3Myw2Ny42NzYzNDIxIEw1MS4xMTIyODk5LDc3LjM3NjE0NCBMMzUuMDA3NzE4LDgwIFoiIGlkPSJQYXRoLTIyIiBmaWxsPSIjMDAyODY4Ij48L3BhdGg+CiAgICAgICAgICAgICAgICA8cGF0aCBkPSJNMCwzNy43MzA0NDA1IEwyNy4xMTQ1MzcsMC4yNTcxMTE0MzYgQzYyLjM3MTUxMjMsLTEuOTkwNzE3MDEgODAsMTAuNTAwMzkyNyA4MCwzNy43MzA0NDA1IEM4MCw2NC45NjA0ODgyIDY0Ljc3NjUwMzgsNzkuMDUwMzQxNCAzNC4zMjk1MTEzLDgwIEM0Ny4wNTUzNDg5LDc3LjU2NzA4MDggNTMuNDE4MjY3Nyw3MC4zMTM2MTAzIDUzLjQxODI2NzcsNTguMjM5NTg4NSBDNTMuNDE4MjY3Nyw0MC4xMjg1NTU3IDM2LjMwMzk1NDQsMzcuNzMwNDQwNSAyNS4yMjc0MTcsMzcuNzMwNDQwNSBDMTcuODQzMDU4NiwzNy43MzA0NDA1IDkuNDMzOTE5NjYsMzcuNzMwNDQwNSAwLDM3LjczMDQ0MDUgWiIgaWQ9IlBhdGgtMTkiIGZpbGw9IiMzNzkzRUYiPjwvcGF0aD4KICAgICAgICAgICAgPC9nPgogICAgICAgIDwvZz4KICAgIDwvZz4KPC9zdmc+' > </img>\nCreated in <span style='font-weight:600;margin-left:4px;'>Deepnote</span></a>",
   "metadata": {
    "tags": [],
    "created_in_deepnote_cell": true,
    "deepnote_cell_type": "markdown"
   }
  }
 ],
 "nbformat": 4,
 "nbformat_minor": 2,
 "metadata": {
  "orig_nbformat": 2,
  "deepnote": {},
  "deepnote_notebook_id": "35ff6e96-fdd4-40d9-99a5-41c991ba8211",
  "deepnote_execution_queue": []
 }
}
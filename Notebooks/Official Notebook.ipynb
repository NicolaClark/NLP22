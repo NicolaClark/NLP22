{
 "cells": [
  {
   "cell_type": "markdown",
   "source": "### Import",
   "metadata": {
    "tags": [],
    "is_collapsed": false,
    "cell_id": "3cad926d-0cb3-40d2-976e-40a32131736c",
    "deepnote_cell_type": "text-cell-h3"
   }
  },
  {
   "cell_type": "code",
   "metadata": {
    "tags": [],
    "deepnote_to_be_reexecuted": false,
    "source_hash": "3a29e1db",
    "execution_start": 1651658385668,
    "execution_millis": 3121,
    "cell_id": "00001-ec4adc10-7c2f-42a4-8174-e1cc48be7af1",
    "deepnote_cell_type": "code",
    "deepnote_cell_height": 567
   },
   "source": "import gzip\nimport json\nimport random\nimport time\nfrom nltk import word_tokenize\nfrom tqdm import tqdm\nimport contractions\n\n# Imports for the synonym dictionary \nimport requests\nfrom bs4 import BeautifulSoup\nfrom nltk.wsd import lesk\n\n#wordnet imports\n#importing NLTK corpus synonym dictionary, pos-tagging and checking the outputs\nimport nltk\nfrom nltk.corpus import wordnet\nfrom nltk import pos_tag\nimport random\nfrom sklearn.pipeline import Pipeline\n\nfrom sklearn.utils import shuffle\nfrom sklearn.feature_extraction.text import CountVectorizer, TfidfTransformer\nfrom sklearn.naive_bayes import MultinomialNB\nfrom sklearn.metrics import f1_score\n\n#Word2Vec imports\nimport gensim.models",
   "execution_count": 1,
   "outputs": []
  },
  {
   "cell_type": "code",
   "metadata": {
    "tags": [],
    "deepnote_to_be_reexecuted": false,
    "source_hash": "698c3b88",
    "execution_start": 1651658388790,
    "execution_millis": 1754,
    "cell_id": "00002-04c1e54b-e0f1-4d09-8f8a-f1f78d262fa1",
    "deepnote_cell_type": "code",
    "deepnote_cell_height": 396.1875,
    "deepnote_output_heights": [
     null,
     21.1875
    ]
   },
   "source": "#wordnet downloads\nnltk.download('wordnet')\nnltk.download('omw-1.4')\nnltk.download('averaged_perceptron_tagger')\nnltk.download('punkt')",
   "execution_count": 2,
   "outputs": [
    {
     "name": "stderr",
     "text": "[nltk_data] Downloading package wordnet to /root/nltk_data...\n[nltk_data]   Unzipping corpora/wordnet.zip.\n[nltk_data] Downloading package omw-1.4 to /root/nltk_data...\n[nltk_data]   Unzipping corpora/omw-1.4.zip.\n[nltk_data] Downloading package averaged_perceptron_tagger to\n[nltk_data]     /root/nltk_data...\n[nltk_data]   Unzipping taggers/averaged_perceptron_tagger.zip.\n[nltk_data] Downloading package punkt to /root/nltk_data...\n[nltk_data]   Unzipping tokenizers/punkt.zip.\n",
     "output_type": "stream"
    },
    {
     "output_type": "execute_result",
     "execution_count": 2,
     "data": {
      "text/plain": "True"
     },
     "metadata": {}
    }
   ]
  },
  {
   "cell_type": "code",
   "metadata": {
    "tags": [],
    "deepnote_to_be_reexecuted": false,
    "source_hash": "f4fb80ea",
    "execution_start": 1651658390548,
    "execution_millis": 8,
    "cell_id": "00003-13c6f163-63ae-466a-81c8-90cf3cd192a4",
    "deepnote_cell_type": "code",
    "deepnote_cell_height": 81
   },
   "source": "random.seed(42)",
   "execution_count": 3,
   "outputs": []
  },
  {
   "cell_type": "markdown",
   "source": "### Read in the data",
   "metadata": {
    "tags": [],
    "is_collapsed": false,
    "cell_id": "00004-cd8d6e78-3ddf-485c-b03b-ae85fc8cb300",
    "deepnote_cell_type": "text-cell-h3"
   }
  },
  {
   "cell_type": "code",
   "metadata": {
    "tags": [],
    "deepnote_to_be_reexecuted": false,
    "source_hash": "8c0ba9db",
    "execution_start": 1651658390556,
    "execution_millis": 2,
    "cell_id": "00005-5009363c-759f-4b3d-968f-47a2ae377aba",
    "deepnote_cell_type": "code",
    "deepnote_cell_height": 243
   },
   "source": "#here\ndef reading_in(path):\n    thing=[]\n    for line in gzip.open(path):\n        review_data = json.loads(line)\n        subthing = dict()\n        for key in review_data:\n            subthing[key]= review_data[key]\n        thing.append(subthing)\n    return thing",
   "execution_count": 4,
   "outputs": []
  },
  {
   "cell_type": "code",
   "metadata": {
    "tags": [],
    "deepnote_to_be_reexecuted": false,
    "source_hash": "4f0347a6",
    "execution_start": 1651658390563,
    "execution_millis": 2072,
    "cell_id": "00006-5fc1f84a-7a8b-43ac-bf52-3fb81b1b8429",
    "deepnote_cell_type": "code",
    "deepnote_cell_height": 135
   },
   "source": "train = reading_in('../data/classification/music_reviews_train.json.gz')\ndev = reading_in('../data/classification/music_reviews_dev.json.gz') # do not use!\n#test = reading_in('../data/classification/music_reviews_test_masked.json.gz') #do not use!\ntrain = shuffle(train, random_state=42)",
   "execution_count": 5,
   "outputs": []
  },
  {
   "cell_type": "code",
   "metadata": {
    "tags": [],
    "deepnote_to_be_reexecuted": false,
    "source_hash": "8331f838",
    "execution_start": 1651658392700,
    "execution_millis": 150,
    "cell_id": "00007-5fd65099-f84f-4be8-b8cb-a2df5c8bb334",
    "deepnote_cell_type": "code",
    "deepnote_cell_height": 153
   },
   "source": "train_x = [i['reviewText'] for i in train if \"reviewText\" in i.keys() and \"sentiment\" in i.keys()]\ntrain_y =  [i['sentiment'] for i in train if \"reviewText\" in i.keys() and \"sentiment\" in i.keys()]\n\ndev_x = [i['reviewText'] if \"reviewText\" in i.keys() else \"\" for i in dev]\ndev_y = [i['sentiment'] for i in dev]",
   "execution_count": 6,
   "outputs": []
  },
  {
   "cell_type": "code",
   "metadata": {
    "tags": [],
    "deepnote_to_be_reexecuted": true,
    "source_hash": "ba64fbb3",
    "execution_start": 1651561158717,
    "execution_millis": 67,
    "cell_id": "00008-f9447969-61b3-456d-a93a-a33643de981c",
    "deepnote_cell_type": "code",
    "deepnote_cell_height": 81
   },
   "source": "pos_neg = [sum([i ==\"positive\" for i in train_y]),sum([i != \"positive\" for i in train_y])]",
   "execution_count": null,
   "outputs": []
  },
  {
   "cell_type": "code",
   "metadata": {
    "tags": [],
    "deepnote_to_be_reexecuted": false,
    "source_hash": "8766005f",
    "execution_start": 1651658396037,
    "execution_millis": 1528,
    "cell_id": "00009-bd9bb6de-6d70-4a37-b854-75f0111591b8",
    "deepnote_cell_type": "code",
    "deepnote_cell_height": 162.1875,
    "deepnote_output_heights": [
     21.1875,
     250
    ]
   },
   "source": "import matplotlib.pyplot as plt\nplt.bar(x=[\"pos\",\"neg\"], height = pos_neg) ",
   "execution_count": 7,
   "outputs": [
    {
     "output_type": "error",
     "ename": "NameError",
     "evalue": "name 'pos_neg' is not defined",
     "traceback": [
      "\u001b[0;31m---------------------------------------------------------------------------\u001b[0m",
      "\u001b[0;31mNameError\u001b[0m                                 Traceback (most recent call last)",
      "\u001b[0;32m<ipython-input-7-e977c9570bf2>\u001b[0m in \u001b[0;36m<module>\u001b[0;34m\u001b[0m\n\u001b[1;32m      1\u001b[0m \u001b[0;32mimport\u001b[0m \u001b[0mmatplotlib\u001b[0m\u001b[0;34m.\u001b[0m\u001b[0mpyplot\u001b[0m \u001b[0;32mas\u001b[0m \u001b[0mplt\u001b[0m\u001b[0;34m\u001b[0m\u001b[0;34m\u001b[0m\u001b[0m\n\u001b[0;32m----> 2\u001b[0;31m \u001b[0mplt\u001b[0m\u001b[0;34m.\u001b[0m\u001b[0mbar\u001b[0m\u001b[0;34m(\u001b[0m\u001b[0mx\u001b[0m\u001b[0;34m=\u001b[0m\u001b[0;34m[\u001b[0m\u001b[0;34m\"pos\"\u001b[0m\u001b[0;34m,\u001b[0m\u001b[0;34m\"neg\"\u001b[0m\u001b[0;34m]\u001b[0m\u001b[0;34m,\u001b[0m \u001b[0mheight\u001b[0m \u001b[0;34m=\u001b[0m \u001b[0mpos_neg\u001b[0m\u001b[0;34m)\u001b[0m\u001b[0;34m\u001b[0m\u001b[0;34m\u001b[0m\u001b[0m\n\u001b[0m",
      "\u001b[0;31mNameError\u001b[0m: name 'pos_neg' is not defined"
     ]
    }
   ]
  },
  {
   "cell_type": "code",
   "metadata": {
    "tags": [],
    "deepnote_to_be_reexecuted": false,
    "source_hash": "869c35c7",
    "execution_start": 1651658401045,
    "execution_millis": 157,
    "cell_id": "00010-0c23547b-d2ce-4847-a72e-f504e85e0e0d",
    "deepnote_cell_type": "code",
    "deepnote_cell_height": 351
   },
   "source": "###split into pos and neg\ntrain_x_pos = []\ntrain_x_neg = []\ntrain_y_pos = []\ntrain_y_neg = []\nfor i in range(len(train_x)):\n    if train_y[i] == \"positive\":\n        train_x_pos.append(train_x[i])\n        train_y_pos.append(train_y[i])\n    else:\n        train_x_neg.append(train_x[i])\n        train_y_neg.append(train_y[i])\ntrain_x_neg.extend(train_x_pos[0:len(train_x_neg)])\ntrain_y_neg.extend(train_y_pos[0:len(train_y_neg)])\nbalanced_x_train = train_x_neg\nbalanced_y_train = train_y_neg",
   "execution_count": 8,
   "outputs": []
  },
  {
   "cell_type": "code",
   "metadata": {
    "tags": [],
    "deepnote_to_be_reexecuted": false,
    "source_hash": "d33964d",
    "execution_start": 1651658410312,
    "execution_millis": 3,
    "cell_id": "00011-d02ecdeb-b76b-433f-945e-9809d27eab76",
    "deepnote_cell_type": "code",
    "deepnote_cell_height": 118.1875,
    "deepnote_output_heights": [
     21.1875
    ]
   },
   "source": "len(balanced_x_train)",
   "execution_count": 9,
   "outputs": [
    {
     "output_type": "execute_result",
     "execution_count": 9,
     "data": {
      "text/plain": "78424"
     },
     "metadata": {}
    }
   ]
  },
  {
   "cell_type": "code",
   "metadata": {
    "tags": [],
    "deepnote_to_be_reexecuted": false,
    "source_hash": "7864a816",
    "execution_start": 1651561111235,
    "execution_millis": 5,
    "cell_id": "00012-dc88eb27-5401-4d4c-920a-091e81552286",
    "deepnote_cell_type": "code",
    "deepnote_cell_height": 144.1875
   },
   "source": "len(train_x_neg)",
   "execution_count": null,
   "outputs": [
    {
     "output_type": "error",
     "ename": "NameError",
     "evalue": "name 'train_x_neg' is not defined",
     "traceback": [
      "\u001b[0;31m---------------------------------------------------------------------------\u001b[0m",
      "\u001b[0;31mNameError\u001b[0m                                 Traceback (most recent call last)",
      "\u001b[0;32m<ipython-input-5-b9acc2f9303d>\u001b[0m in \u001b[0;36m<module>\u001b[0;34m\u001b[0m\n\u001b[0;32m----> 1\u001b[0;31m \u001b[0mlen\u001b[0m\u001b[0;34m(\u001b[0m\u001b[0mtrain_x_neg\u001b[0m\u001b[0;34m)\u001b[0m\u001b[0;34m\u001b[0m\u001b[0;34m\u001b[0m\u001b[0m\n\u001b[0m",
      "\u001b[0;31mNameError\u001b[0m: name 'train_x_neg' is not defined"
     ]
    }
   ]
  },
  {
   "cell_type": "markdown",
   "source": "### Preparing the data",
   "metadata": {
    "tags": [],
    "is_collapsed": false,
    "cell_id": "00013-e68c8b2d-8a05-44c0-840b-25e4e7113a24",
    "deepnote_cell_type": "text-cell-h3"
   }
  },
  {
   "cell_type": "code",
   "metadata": {
    "tags": [],
    "deepnote_to_be_reexecuted": false,
    "source_hash": "69913f58",
    "execution_start": 1651561112384,
    "execution_millis": 1,
    "cell_id": "00014-c5763d17-fe95-4246-999b-dc88318bbc00",
    "deepnote_cell_type": "code",
    "deepnote_cell_height": 99
   },
   "source": "#old tokenizer\n#train_x_back = [' '.join(sen) for sen in train_x_split] may not need convertes tokenised back to single string",
   "execution_count": null,
   "outputs": []
  },
  {
   "cell_type": "code",
   "metadata": {
    "tags": [],
    "deepnote_to_be_reexecuted": false,
    "source_hash": "aa47e93f",
    "execution_start": 1651658416736,
    "execution_millis": 2,
    "cell_id": "00015-7feaf2b0-cf31-4e03-8ef1-f36e3f953c92",
    "deepnote_cell_type": "code",
    "deepnote_cell_height": 117
   },
   "source": "#Tokenizer\ndef tokenize_corpus(corpus):\n    return [word_tokenize(contractions.fix(s)) for s in corpus]",
   "execution_count": 10,
   "outputs": []
  },
  {
   "cell_type": "code",
   "metadata": {
    "tags": [],
    "deepnote_to_be_reexecuted": true,
    "source_hash": "cc15a788",
    "execution_start": 1651561174983,
    "execution_millis": 54497,
    "cell_id": "00016-774d9a42-4394-4dff-bf66-6fd50255f648",
    "deepnote_cell_type": "code",
    "deepnote_cell_height": 81
   },
   "source": "train_x_split = tokenize_corpus(balanced_x_train)",
   "execution_count": null,
   "outputs": []
  },
  {
   "cell_type": "markdown",
   "source": "# Webscrape synonyms",
   "metadata": {
    "tags": [],
    "is_collapsed": false,
    "cell_id": "00017-65518017-f1b7-4d19-bf2c-b54318c87bb5",
    "deepnote_cell_type": "text-cell-h1"
   }
  },
  {
   "cell_type": "code",
   "metadata": {
    "tags": [],
    "deepnote_to_be_reexecuted": false,
    "source_hash": "82406177",
    "execution_start": 1651561116583,
    "execution_millis": 107,
    "cell_id": "00018-24e6f800-ca34-405e-bf5d-57cd2d4d8269",
    "deepnote_cell_type": "code",
    "deepnote_cell_height": 310
   },
   "source": "##Alternative to PyDictionary\n##THIS IS COPIED FROM SLACK\n# https://stackoverflow.com/questions/52910297/pydictionary-word-has-no-synonyms-in-the-api\n\ndef synonyms(term):\n    response = requests.get('https://www.thesaurus.com/browse/{}'.format(term))\n    soup = BeautifulSoup(response.text, 'lxml')\n    soup.find('section', {'class': 'css-17ofzyv e1ccqdb60'})\n    return [span.text for span in soup.findAll('a', {'class': 'css-1kg1yv8 eh475bn0'})] # 'css-1gyuw4i eh475bn0' for less relevant synonyms\n\nword = \"us\"\nprint(synonyms(word))",
   "execution_count": null,
   "outputs": [
    {
     "name": "stdout",
     "text": "['them ', 'you ']\n",
     "output_type": "stream"
    }
   ]
  },
  {
   "cell_type": "code",
   "metadata": {
    "tags": [],
    "deepnote_to_be_reexecuted": true,
    "source_hash": "20c13daa",
    "execution_start": 1651129914834,
    "execution_millis": 3,
    "cell_id": "00019-636a53be-eafd-4983-9433-b1f5a096b3f1",
    "deepnote_cell_type": "code",
    "deepnote_cell_height": 405
   },
   "source": "dont_replace = ['am','are','be','been','being','did','do','does','had','has','have','having','is','was','were','will','I ', 'it ', 'she ', 'sie ', 'they ', 've ', 'xe ', 'you ', 'ze ', 'zie ','he',\"you\",\"we\",\"mine\",\"hers\",\"his\",\"yours\",\"its\",\"ours\",\"theirs\",\"your\",\"our\",\"oneself\",\"oneselves\",\"yourself\",\"yourselves\",\"himself\",\"herself\",\"himself\",\"myself\",\"themselves\",\"itself\",\"ourselves\",\"ourself\",\"us\",\"them\"] #Used to avoid changing function and pronouns words\nrandom.seed(43)\ndef gen_synth_web(sentence,prob = 0.5):\n    new_sen = []\n    for word in sentence:\n        if word in dont_replace:\n            new_sen.append(word)\n        else:\n            threshold = random.random()\n            if prob > threshold:\n                #print(threshold) can remove later kept for debugging\n                syn = synonyms(word)\n                if len(syn) != 0:\n                    #print(\"selected\", word) can remove later kept for debugging\n                    new_sen.append(random.choice(syn))\n                else:new_sen.append(word)\n            else:\n                new_sen.append(word)\n    return new_sen",
   "execution_count": null,
   "outputs": []
  },
  {
   "cell_type": "code",
   "metadata": {
    "tags": [],
    "deepnote_to_be_reexecuted": false,
    "source_hash": "8089786c",
    "execution_start": 1651561119393,
    "execution_millis": 15,
    "cell_id": "00020-bbe86597-1c8b-4d5f-bf86-759d5b485297",
    "deepnote_cell_type": "code",
    "deepnote_cell_height": 144.1875
   },
   "source": "print(train_x_split[12])",
   "execution_count": null,
   "outputs": [
    {
     "output_type": "error",
     "ename": "NameError",
     "evalue": "name 'train_x_split' is not defined",
     "traceback": [
      "\u001b[0;31m---------------------------------------------------------------------------\u001b[0m",
      "\u001b[0;31mNameError\u001b[0m                                 Traceback (most recent call last)",
      "\u001b[0;32m<ipython-input-10-7f7965d031c9>\u001b[0m in \u001b[0;36m<module>\u001b[0;34m\u001b[0m\n\u001b[0;32m----> 1\u001b[0;31m \u001b[0mprint\u001b[0m\u001b[0;34m(\u001b[0m\u001b[0mtrain_x_split\u001b[0m\u001b[0;34m[\u001b[0m\u001b[0;36m12\u001b[0m\u001b[0;34m]\u001b[0m\u001b[0;34m)\u001b[0m\u001b[0;34m\u001b[0m\u001b[0;34m\u001b[0m\u001b[0m\n\u001b[0m",
      "\u001b[0;31mNameError\u001b[0m: name 'train_x_split' is not defined"
     ]
    }
   ]
  },
  {
   "cell_type": "code",
   "metadata": {
    "tags": [],
    "deepnote_to_be_reexecuted": false,
    "source_hash": "8fb8ce94",
    "execution_start": 1651561120552,
    "execution_millis": 5,
    "cell_id": "00021-a1072f05-e117-4d07-90f9-5319ba9a0899",
    "deepnote_cell_type": "code",
    "deepnote_cell_height": 144.1875
   },
   "source": "print(gen_synth_web(train_x_split[12]))",
   "execution_count": null,
   "outputs": [
    {
     "output_type": "error",
     "ename": "NameError",
     "evalue": "name 'gen_synth_web' is not defined",
     "traceback": [
      "\u001b[0;31m---------------------------------------------------------------------------\u001b[0m",
      "\u001b[0;31mNameError\u001b[0m                                 Traceback (most recent call last)",
      "\u001b[0;32m<ipython-input-11-a444b96e84a8>\u001b[0m in \u001b[0;36m<module>\u001b[0;34m\u001b[0m\n\u001b[0;32m----> 1\u001b[0;31m \u001b[0mprint\u001b[0m\u001b[0;34m(\u001b[0m\u001b[0mgen_synth_web\u001b[0m\u001b[0;34m(\u001b[0m\u001b[0mtrain_x_split\u001b[0m\u001b[0;34m[\u001b[0m\u001b[0;36m12\u001b[0m\u001b[0;34m]\u001b[0m\u001b[0;34m)\u001b[0m\u001b[0;34m)\u001b[0m\u001b[0;34m\u001b[0m\u001b[0;34m\u001b[0m\u001b[0m\n\u001b[0m",
      "\u001b[0;31mNameError\u001b[0m: name 'gen_synth_web' is not defined"
     ]
    }
   ]
  },
  {
   "cell_type": "code",
   "metadata": {
    "tags": [],
    "deepnote_to_be_reexecuted": true,
    "source_hash": "7ec80b5",
    "execution_start": 1651129973772,
    "execution_millis": 78801,
    "cell_id": "00022-7ea6c407-ae2e-4eee-b27e-32ba6beb9690",
    "deepnote_cell_type": "code",
    "deepnote_cell_height": 244.1875
   },
   "source": "#for i in tqdm(train_x_split[:1000]):#running with 0:1000 dont uncomment as will mess up file \n   # with open (\"../data/synthetic1.txt\",\"a\") as f:\n       # f.write(' '.join(gen_synth_web(i))+\"\\n\")\n       # time.sleep(3)",
   "execution_count": null,
   "outputs": [
    {
     "name": "stderr",
     "text": "  1%|▏         | 13/1000 [01:18<1:39:39,  6.06s/it]\n",
     "output_type": "stream"
    },
    {
     "output_type": "error",
     "ename": "KeyboardInterrupt",
     "evalue": "",
     "traceback": [
      "\u001b[0;31m---------------------------------------------------------------------------\u001b[0m",
      "\u001b[0;31mKeyboardInterrupt\u001b[0m                         Traceback (most recent call last)",
      "\u001b[0;32m<ipython-input-52-c19bc195b703>\u001b[0m in \u001b[0;36m<module>\u001b[0;34m\u001b[0m\n\u001b[1;32m      2\u001b[0m     \u001b[0;32mwith\u001b[0m \u001b[0mopen\u001b[0m \u001b[0;34m(\u001b[0m\u001b[0;34m\"../data/synthetic1.txt\"\u001b[0m\u001b[0;34m,\u001b[0m\u001b[0;34m\"a\"\u001b[0m\u001b[0;34m)\u001b[0m \u001b[0;32mas\u001b[0m \u001b[0mf\u001b[0m\u001b[0;34m:\u001b[0m\u001b[0;34m\u001b[0m\u001b[0;34m\u001b[0m\u001b[0m\n\u001b[1;32m      3\u001b[0m         \u001b[0mf\u001b[0m\u001b[0;34m.\u001b[0m\u001b[0mwrite\u001b[0m\u001b[0;34m(\u001b[0m\u001b[0;34m' '\u001b[0m\u001b[0;34m.\u001b[0m\u001b[0mjoin\u001b[0m\u001b[0;34m(\u001b[0m\u001b[0mgen_synth_web\u001b[0m\u001b[0;34m(\u001b[0m\u001b[0mi\u001b[0m\u001b[0;34m)\u001b[0m\u001b[0;34m)\u001b[0m\u001b[0;34m+\u001b[0m\u001b[0;34m\"\\n\"\u001b[0m\u001b[0;34m)\u001b[0m\u001b[0;34m\u001b[0m\u001b[0;34m\u001b[0m\u001b[0m\n\u001b[0;32m----> 4\u001b[0;31m         \u001b[0mtime\u001b[0m\u001b[0;34m.\u001b[0m\u001b[0msleep\u001b[0m\u001b[0;34m(\u001b[0m\u001b[0;36m3\u001b[0m\u001b[0;34m)\u001b[0m\u001b[0;34m\u001b[0m\u001b[0;34m\u001b[0m\u001b[0m\n\u001b[0m",
      "\u001b[0;31mKeyboardInterrupt\u001b[0m: "
     ]
    }
   ]
  },
  {
   "cell_type": "markdown",
   "source": "#### Example of webscrape synthetic sentence ",
   "metadata": {
    "tags": [],
    "cell_id": "00023-b0126cab-ef9a-41a1-8003-86d74e4cbe80",
    "deepnote_cell_type": "markdown",
    "deepnote_cell_height": 54
   }
  },
  {
   "cell_type": "code",
   "metadata": {
    "tags": [],
    "deepnote_to_be_reexecuted": false,
    "source_hash": "180cb14c",
    "execution_start": 1650875688289,
    "execution_millis": 1,
    "cell_id": "00024-f3e9fbf2-366f-44a6-8f2e-6ce68e63e6ec",
    "deepnote_cell_type": "code",
    "deepnote_cell_height": 112
   },
   "source": "print(train_x_split[6])",
   "execution_count": null,
   "outputs": [
    {
     "name": "stdout",
     "text": "['I', 'love', 'all', 'of', 'his', 'music', '!', '!']\n",
     "output_type": "stream"
    }
   ]
  },
  {
   "cell_type": "code",
   "metadata": {
    "tags": [],
    "deepnote_to_be_reexecuted": false,
    "source_hash": "d57f9178",
    "execution_start": 1650875688296,
    "execution_millis": 784,
    "cell_id": "00025-769dc1f5-157a-4989-ae81-60cf11288e5d",
    "deepnote_cell_type": "code",
    "deepnote_cell_height": 112
   },
   "source": "print(gen_synth_web(train_x_split[6]))",
   "execution_count": null,
   "outputs": [
    {
     "name": "stdout",
     "text": "['I', 'passion ', 'fully ', 'of', 'his', 'music', '!', '!']\n",
     "output_type": "stream"
    }
   ]
  },
  {
   "cell_type": "markdown",
   "source": "# Wordnet",
   "metadata": {
    "tags": [],
    "is_collapsed": false,
    "cell_id": "00026-9fcc3dc2-5b55-4096-9304-fbc6e70043b0",
    "deepnote_cell_type": "text-cell-h1"
   }
  },
  {
   "cell_type": "code",
   "metadata": {
    "tags": [],
    "deepnote_to_be_reexecuted": false,
    "source_hash": "89119f2a",
    "execution_start": 1651140122674,
    "execution_millis": 2,
    "cell_id": "00027-7f797b32-3eb8-4562-927f-49173ad8812b",
    "deepnote_cell_type": "code",
    "deepnote_cell_height": 567
   },
   "source": "relevant = [\"NN\",\"NNS\",\"RB\",\"RBR\",\"RBS\",\"VB\",\"VBG\",\"VBD\",\"VBN\",\"VBP\",\"VBZ\",\"JJ\",\"JJR\",\"JJS\"]#The wordclasses that can be exchanged with synonyms (not functional words) #maybe not RB\nwordnet_tag_map = {'NN': ['n'],'NNS': ['n'],'JJ': ['a'],'JJR': ['a'],'JJS': ['a'],'RB': ['r'],'RBR': ['r'],'RBS': ['r'], 'VB': ['v'], 'VBG': ['v'], 'VBD': ['v'], 'VBN': ['v'], 'VBP': ['v'], 'VBZ': ['v']} #Making pos-tags coincide\naux_verbs = ['am','are','be','been','being','did','do','does','had','has','have','having','is','was','were','will'] #Used to avoid changing function words\ndef change_wordnet(sentence):\n    sentence = nltk.pos_tag(sentence)    #pos-tagging sentence here\n    new_sentence = [] #to append to and then return as final sentence\n    for word in sentence:\n        if word[1] in relevant and word[0] not in aux_verbs: #Not changing functional words\n            tag = wordnet_tag_map[word[1]]\n            chosen = lesk(sentence, word[0], tag[0]) #from all synsets choose the most likely in a smart way, thanks to library!\n            if chosen is None:\n                new_sentence.append(word[0]) #sometimes no synset is chosen so we just give the new sentence the original word\n            else:\n                options = chosen.lemma_names()\n                if word[0] in options:\n                    options.remove(word[0])\n                if len(options)>0:\n                    chosen_w = random.choice(options)\n                    if \"_\" in chosen_w:\n                        for w in chosen_w.split(\"_\"):\n                            new_sentence.append(w)\n                    else:\n                        new_sentence.append(word[0])\n                else:\n                    new_sentence.append(word[0])\n        else:\n            new_sentence.append(word[0])\n    return new_sentence",
   "execution_count": null,
   "outputs": []
  },
  {
   "cell_type": "markdown",
   "source": "#### Example of wordnet synthetic sentence ",
   "metadata": {
    "tags": [],
    "cell_id": "00028-87b7cf77-75cd-42b2-bb3e-d9b96ddb067e",
    "deepnote_cell_type": "markdown",
    "deepnote_cell_height": 54
   }
  },
  {
   "cell_type": "code",
   "metadata": {
    "tags": [],
    "deepnote_to_be_reexecuted": false,
    "source_hash": "d1ec070d",
    "execution_start": 1651140124738,
    "execution_millis": 2,
    "cell_id": "00029-4f453f85-3aff-4dab-9afd-aa99d0afde21",
    "deepnote_cell_type": "code",
    "deepnote_cell_height": 116.796875
   },
   "source": "print(train_x_split[10])",
   "execution_count": null,
   "outputs": [
    {
     "name": "stdout",
     "text": "['The', 'book', 'Think', '&', 'Grow', 'Rich', 'is', 'a', 'must', 'own', '.', 'It', 'is', 'book', 'to', 'be', 'read', 'multiple', 'times', '.', 'That', 'being', 'said', 'the', 'particular', 'reader', 'of', 'this', 'audio', 'book', 'is', 'very', 'monotone', '.', 'He', 'does', 'not', 'pause', 'at', 'the', 'end', 'of', 'sentence', 'or', 'even', 'a', 'paragraph', '.', 'You', 'can', 'hear', 'the', '``', 'paah', \"''\", 'noises', 'into', 'the', 'microphone', 'every', 'few', 'seconds', '.', 'The', 'narrator', 'has', 'a', 'strong', 'voice', 'it', 'is', 'just', 'emotionless', '.', 'It', 'reminded', 'me', 'of', 'when', 'a', 'teacher', 'would', 'call', 'on', 'a', 'student', 'to', 'read', 'aloud', '...', 'but', 'the', 'student', 'is', 'disinterested', 'a', 'tries', 'to', 'blow', 'through', 'it', 'as', 'quickly', 'and', 'unenthusiastically', 'as', 'possible', 'so', 'he', 'can', 'go', 'back', 'to', 'day', 'dreaming', '.', 'Bottomline', ':', 'Buy', 'the', 'book', ',', 'buy', 'the', 'audio', 'book', 'just', 'skip', 'this', 'one', '.']\n",
     "output_type": "stream"
    }
   ]
  },
  {
   "cell_type": "code",
   "metadata": {
    "tags": [],
    "deepnote_to_be_reexecuted": false,
    "source_hash": "ab15cd",
    "execution_start": 1651140126407,
    "execution_millis": 8,
    "cell_id": "00030-eb199587-d520-486c-b7fb-3e4e16323b8e",
    "owner_user_id": "25f14c51-1e8d-4a70-b4e1-014493979a0f",
    "deepnote_cell_type": "code",
    "deepnote_cell_height": 116.796875
   },
   "source": "print(change_wordnet(train_x_split[10]))",
   "execution_count": null,
   "outputs": [
    {
     "name": "stdout",
     "text": "['The', 'book', 'Think', '&', 'Grow', 'Rich', 'is', 'a', 'must', 'own', '.', 'It', 'is', 'book', 'to', 'be', 'read', 'multiple', 'times', '.', 'That', 'being', 'said', 'the', 'particular', 'reader', 'of', 'this', 'audio', 'book', 'is', 'very', 'monotone', '.', 'He', 'does', 'not', 'pause', 'at', 'the', 'end', 'of', 'sentence', 'or', 'even', 'a', 'paragraph', '.', 'You', 'can', 'take', 'heed', 'the', '``', 'paah', \"''\", 'noises', 'into', 'the', 'microphone', 'every', 'few', 'second', 'gear', '.', 'The', 'narrator', 'has', 'a', 'strong', 'voice', 'it', 'is', 'just', 'emotionless', '.', 'It', 'reminded', 'me', 'of', 'when', 'a', 'teacher', 'would', 'call', 'in', 'on', 'a', 'student', 'to', 'read', 'aloud', '...', 'but', 'the', 'student', 'is', 'disinterested', 'a', 'tries', 'to', 'blow', 'through', 'it', 'as', 'quickly', 'and', 'unenthusiastically', 'as', 'possible', 'so', 'he', 'can', 'go', 'back', 'to', 'sidereal', 'day', 'dreaming', '.', 'Bottomline', ':', 'Buy', 'the', 'book', ',', 'buy', 'the', 'audio', 'book', 'just', 'bound', 'off', 'this', 'one', '.']\n",
     "output_type": "stream"
    }
   ]
  },
  {
   "cell_type": "markdown",
   "source": "#### write to file",
   "metadata": {
    "tags": [],
    "cell_id": "00031-3ac06473-d78c-4261-84d7-bf8a310ff667",
    "deepnote_cell_type": "markdown",
    "deepnote_cell_height": 54
   }
  },
  {
   "cell_type": "code",
   "metadata": {
    "tags": [],
    "deepnote_to_be_reexecuted": false,
    "source_hash": "1fb3ee3a",
    "execution_start": 1651140138504,
    "execution_millis": 319443,
    "cell_id": "00032-ae29fcf5-2ad8-48ba-b1ec-8307d71c4166",
    "deepnote_cell_type": "code",
    "deepnote_cell_height": 81
   },
   "source": "wn_x_train = [change_wordnet(i) for i in train_x_split]",
   "execution_count": null,
   "outputs": []
  },
  {
   "cell_type": "code",
   "metadata": {
    "cell_id": "68de6c4363e844fea32e605191baec96",
    "tags": [],
    "deepnote_to_be_reexecuted": false,
    "source_hash": "1de32742",
    "execution_start": 1651140609558,
    "execution_millis": 596,
    "owner_user_id": "e3bb0160-fb91-44de-b701-79c62e58c7f8",
    "deepnote_cell_type": "code",
    "deepnote_cell_height": 118.1875,
    "deepnote_output_heights": [
     21.1875
    ]
   },
   "source": "len(wn_x_train)",
   "execution_count": null,
   "outputs": [
    {
     "output_type": "execute_result",
     "execution_count": 44,
     "data": {
      "text/plain": "78424"
     },
     "metadata": {}
    }
   ]
  },
  {
   "cell_type": "code",
   "metadata": {
    "tags": [],
    "deepnote_to_be_reexecuted": false,
    "source_hash": "d4e804f1",
    "execution_start": 1651140557856,
    "execution_millis": 156,
    "cell_id": "00033-d772c2da-e3e1-4e75-ab60-a082e2b2d96d",
    "deepnote_cell_type": "code",
    "deepnote_cell_height": 99
   },
   "source": "with open(\"../data/synthetic/wordnet.csv\",'w') as f:\n    f.writelines('\\t'.join(s) + '\\n' for s in wn_x_train)",
   "execution_count": null,
   "outputs": []
  },
  {
   "cell_type": "markdown",
   "source": "# Word2vec",
   "metadata": {
    "tags": [],
    "cell_id": "00034-ed563987-3646-486a-acbd-f31da0cae57f",
    "deepnote_cell_type": "markdown",
    "deepnote_cell_height": 82
   }
  },
  {
   "cell_type": "code",
   "metadata": {
    "tags": [],
    "deepnote_to_be_reexecuted": false,
    "source_hash": "16bbcaa7",
    "execution_start": 1651508237394,
    "execution_millis": 623,
    "cell_id": "00036-edc98367-06e7-4de6-a504-b5871fe76081",
    "deepnote_cell_type": "code",
    "deepnote_cell_height": 291,
    "deepnote_output_heights": [
     194
    ]
   },
   "source": "gooEmbs.most_similar('walk')",
   "execution_count": null,
   "outputs": [
    {
     "output_type": "execute_result",
     "execution_count": 19,
     "data": {
      "text/plain": "[('walking', 0.7361534237861633),\n ('walks', 0.7007260918617249),\n ('walked', 0.6831838488578796),\n ('stroll', 0.6208134889602661),\n ('Walking', 0.5674901604652405),\n ('Walk', 0.558607280254364),\n ('wander', 0.5585978627204895),\n ('jog', 0.5467169284820557),\n ('saunter', 0.5451485514640808),\n ('amble', 0.5250112414360046)]"
     },
     "metadata": {}
    }
   ]
  },
  {
   "cell_type": "code",
   "metadata": {
    "tags": [],
    "deepnote_to_be_reexecuted": false,
    "source_hash": "be5298b9",
    "execution_start": 1651508187650,
    "execution_millis": 8964,
    "cell_id": "00037-9f2bc624-811f-45ee-8f31-05099ce518fb",
    "deepnote_cell_type": "code",
    "deepnote_cell_height": 508
   },
   "source": "gooEmbs = gensim.models.KeyedVectors.load_word2vec_format('../data/GoogleNews-50k.bin', binary=True)\nprint('loading finished')\nrelevant = [\"NN\",\"NNS\",\"RB\",\"RBR\",\"RBS\",\"VB\",\"VBG\",\"VBD\",\"VBN\",\"VBP\",\"VBZ\",\"JJ\",\"JJR\",\"JJS\"]#The wordclasses that can be exchanged with synonyms (not functional words) #maybe not RB\naux_verbs = ['am','are','be','been','being','did','do','does','had','has','have','having','is','was','were','will'] #Used to avoid changing function words\ndef change_word2vec(original_sentence, prob = 0):\n    sentence = nltk.pos_tag(original_sentence)    #pos-tagging sentence here\n    new_sentence = [] #to append to and then return as final sentence\n    for word in sentence:\n        if word[1] in relevant and word[0] not in aux_verbs:\n            if random.random() > prob:\n                try:\n                    syno = gooEmbs.most_similar(word[0]) #taking the most similar word from word2vec\n                    if syno[0] != word[0]: # think this is supperficial since you cannot get the same word in word2vec\n                        new_sentence.append(syno[0])\n                    else:\n                        new_sentence.append(syno[1])\n                except:\n                    new_sentence.append(word[0])\n            else: \n                new_sentence.append(word[0])\n        else:\n            new_sentence.append(word[0])\n    return new_sentence",
   "execution_count": null,
   "outputs": [
    {
     "name": "stdout",
     "text": "loading finished\n",
     "output_type": "stream"
    }
   ]
  },
  {
   "cell_type": "code",
   "metadata": {
    "cell_id": "24e3a4be16774bb9b233c980c6fdec05",
    "tags": [],
    "deepnote_to_be_reexecuted": false,
    "source_hash": "aa233115",
    "execution_start": 1651658429932,
    "execution_millis": 11744,
    "owner_user_id": "03d0206a-8ef5-4ef4-a095-5515fca900a0",
    "deepnote_cell_type": "code",
    "deepnote_cell_height": 706
   },
   "source": "# With a threshold and without the check of same word\n\ngooEmbs = gensim.models.KeyedVectors.load_word2vec_format('../data/GoogleNews-50k.bin', binary=True)\nprint('loading finished')\nrelevant = [\"NN\",\"NNS\",\"RB\",\"RBR\",\"RBS\",\"VB\",\"VBG\",\"VBD\",\"VBN\",\"VBP\",\"VBZ\",\"JJ\",\"JJR\",\"JJS\"]#The wordclasses that can be exchanged with synonyms (not functional words) #maybe not RB\naux_verbs = ['am','are','be','been','being','did','do','does','had','has','have','having','is','was','were','will'] #Used to avoid changing function words\ndef change_word2vec(original_sentence, prob = 0, threshold = .5):\n    sentence = nltk.pos_tag(original_sentence)    #pos-tagging sentence here\n    new_sentence = [] #to append to and then return as final sentence\n    for word in sentence:\n        if word[1] in relevant and word[0] not in aux_verbs:\n            if random.random() > prob:\n                try:\n                    syno = gooEmbs.most_similar(word[0]) #taking the most similar word from word2vec\n                    syno_pos = []\n                    # method 1: \n                    for s in syno:\n                        if s[1] > threshold:\n                            syno_pos.append(s)\n                        else: \n                            break # because all the words are sorted we know that if one word is under 60% all the others after are also\n                    new_word = random.choice(syno_pos)[0]\n                    new_sentence.append(new_word)\n                  #  if \"_\" in new_word:\n                   #     for w in chosen_w.split(\"_\"):\n                    #        new_sentence.append(w)\n                    #else: new_sentence.append(new_word)\n                except:\n                    new_sentence.append(word[0])\n            else: \n                new_sentence.append(word[0])\n        else:\n            new_sentence.append(word[0])\n    return new_sentence",
   "execution_count": 11,
   "outputs": [
    {
     "name": "stdout",
     "text": "loading finished\n",
     "output_type": "stream"
    }
   ]
  },
  {
   "cell_type": "code",
   "metadata": {
    "tags": [],
    "deepnote_to_be_reexecuted": false,
    "source_hash": "2e052dc8",
    "execution_start": 1651562327963,
    "execution_millis": 37878,
    "cell_id": "00038-74434ca7-8d5d-4e98-9f36-2b5ffa008177",
    "deepnote_cell_type": "code",
    "deepnote_cell_height": 845
   },
   "source": "ori = train_x_split[3]\nt7= change_word2vec(train_x_split[3], threshold=0.7)\nt6 =change_word2vec(train_x_split[3], threshold=0.6)\nt5 = change_word2vec(train_x_split[3], threshold=0.5)\nt4 = change_word2vec(train_x_split[3], threshold=0.4)\nt3 = change_word2vec(train_x_split[3], threshold=0.3)\n\nfor i in range(len(ori)):\n    print(f'o: {ori[i]}, .7: {t7[i]}, .6: {t6[i]}, .5: {t5[i]}, .4 {t4[i]}, .3: {t3[i]}')",
   "execution_count": null,
   "outputs": [
    {
     "name": "stdout",
     "text": "o: Nickleback, .7: Nickleback, .6: Nickleback, .5: Nickleback, .4 Nickleback, .3: Nickleback\no: is, .7: is, .6: is, .5: is, .4 is, .3: is\no: Clear, .7: Clear, .6: Clear, .5: Clear, .4 Visible, .3: Clean\no: Channel, .7: Channel, .6: Channel, .5: Channel, .4 Channel, .3: Channel\no: 's, .7: 's, .6: 's, .5: 's, .4 's, .3: 's\no: best, .7: best, .6: finest, .5: terrific, .4 finest, .3: worst\no: friend, .7: pal, .6: uncle, .5: colleague, .4 colleague, .3: dear_friend\no: :, .7: :, .6: :, .5: :, .4 :, .3: :\no: their, .7: their, .6: their, .5: their, .4 their, .3: their\no: music, .7: classical_music, .6: musicians, .5: classical_music, .4 musicians, .3: musical\no: is, .7: is, .6: is, .5: is, .4 is, .3: is\no: ordinary, .7: ordinary, .6: Ordinary, .5: everyday, .4 extraordinary, .3: humdrum\no: ,, .7: ,, .6: ,, .5: ,, .4 ,, .3: ,\no: dull, .7: boring, .6: monotonous, .5: bland, .4 monotonous, .3: duller\no: ,, .7: ,, .6: ,, .5: ,, .4 ,, .3: ,\no: and, .7: and, .6: and, .5: and, .4 and, .3: and\no: absolutely, .7: absolutely, .6: Absolutely, .5: Absolutely, .4 Absolutely, .3: absolutley\no: defining, .7: define, .6: redefining, .5: redefine, .4 redefining, .3: defined\no: mainstream, .7: mainstream, .6: Mainstream, .5: Mainstream, .4 intelligentsia, .3: realm\no: ., .7: ., .6: ., .5: ., .4 ., .3: .\no: The, .7: The, .6: The, .5: The, .4 The, .3: The\no: songs, .7: instrumentals, .6: ballads, .5: song, .4 album, .3: album\no: here, .7: here, .6: here, .5: know, .4 I, .3: we\no: are, .7: are, .6: are, .5: are, .4 are, .3: are\no: all, .7: all, .6: all, .5: all, .4 all, .3: all\no: the, .7: the, .6: the, .5: the, .4 the, .3: the\no: same, .7: same, .6: same, .5: different, .4 compared, .3: exact\no: ,, .7: ,, .6: ,, .5: ,, .4 ,, .3: ,\no: with, .7: with, .6: with, .5: with, .4 with, .3: with\no: poor, .7: poor, .6: poorer, .5: lousy, .4 bad, .3: dismal\no: lyrics, .7: song, .6: melodies, .5: ballads, .4 lyric, .3: lyric\no: ,, .7: ,, .6: ,, .5: ,, .4 ,, .3: ,\no: and, .7: and, .6: and, .5: and, .4 and, .3: and\no: Chad, .7: Chad, .6: Chad, .5: Chad, .4 Chad, .3: Chad\no: 's, .7: 's, .6: 's, .5: 's, .4 's, .3: 's\no: standard, .7: standards, .6: standards, .5: Standards, .4 requirement, .3: guideline\no: ,, .7: ,, .6: ,, .5: ,, .4 ,, .3: ,\no: ordinary, .7: ordinary, .6: Ordinary, .5: Ordinary, .4 everyday, .3: humdrum\no: singing, .7: sung, .6: sung, .5: sings, .4 sang, .3: warbling\no: style, .7: style, .6: styles, .5: stylings, .4 styled, .3: styles\no: ., .7: ., .6: ., .5: ., .4 ., .3: .\no: Sorry, .7: Sorry, .6: Sorry, .5: Sorry, .4 Sorry, .3: Sorry\no: about, .7: about, .6: about, .5: about, .4 about, .3: about\no: using, .7: use, .6: Using, .5: use, .4 utilizing, .3: Use\no: ordinary, .7: ordinary, .6: Ordinary, .5: everyday, .4 humdrum, .3: quotidian\no: so, .7: too, .6: really, .5: anyway, .4 quite, .3: just\no: many, .7: many, .6: few, .5: myriad, .4 multitude, .3: handful\no: times, .7: times, .6: times, .5: twice, .4 hours, .3: past\no: ,, .7: ,, .6: ,, .5: ,, .4 ,, .3: ,\no: it, .7: it, .6: it, .5: it, .4 it, .3: it\no: just, .7: just, .6: anyway, .5: going, .4 so, .3: really\no: defines, .7: defines, .6: classifies, .5: defined, .4 redefines, .3: describes\no: this, .7: this, .6: this, .5: this, .4 this, .3: this\no: band, .7: alt_rock_band, .6: rockers, .5: rockers, .4 alt_rock_band, .3: guitarist\no: so, .7: too, .6: obviously, .5: quite, .4 obviously, .3: too\no: well, .7: well, .6: as, .5: poorly, .4 nicely, .3: good\no: ., .7: ., .6: ., .5: ., .4 ., .3: .\no: I, .7: I, .6: I, .5: I, .4 I, .3: I\no: find, .7: find, .6: Finding, .5: uncover, .4 Finding, .3: locate\no: it, .7: it, .6: it, .5: it, .4 it, .3: it\no: hilarious, .7: hilariously_funny, .6: hilariously, .5: Hilarious, .4 funny, .3: amusing\no: that, .7: that, .6: that, .5: that, .4 that, .3: that\no: ``, .7: ``, .6: ``, .5: ``, .4 ``, .3: ``\no: A, .7: A, .6: A, .5: A, .4 A, .3: A\no: kid, .7: guy, .6: kids, .5: dad, .4 dude, .3: guy\no: 's, .7: 's, .6: 's, .5: 's, .4 's, .3: 's\no: review, .7: review, .6: reviewing, .5: reviews, .4 Review, .3: scrutinize\no: '', .7: '', .6: '', .5: '', .4 '', .3: ''\no: was, .7: was, .6: was, .5: was, .4 was, .3: was\no: chosen, .7: selected, .6: selected, .5: selects, .4 choosing, .3: choosing\no: as, .7: as, .6: as, .5: as, .4 as, .3: as\no: a, .7: a, .6: a, .5: a, .4 a, .3: a\no: spotlight, .7: limelight, .6: limelight, .5: klieg_lights, .4 attention, .3: headlines\no: review, .7: review, .6: reviewed, .5: reviews, .4 reviewed, .3: reviewing\no: ,, .7: ,, .6: ,, .5: ,, .4 ,, .3: ,\no: because, .7: because, .6: because, .5: because, .4 because, .3: because\no: he/she, .7: he/she, .6: he/she, .5: he/she, .4 he/she, .3: he/she\no: defines, .7: defines, .6: define, .5: distinguishes, .4 establishes, .3: define\no: the, .7: the, .6: the, .5: the, .4 the, .3: the\no: average, .7: average, .6: averages, .5: averaged, .4 total, .3: percentage\no: radio-listening, .7: radio-listening, .6: radio-listening, .5: radio-listening, .4 radio-listening, .3: radio-listening\no: ,, .7: ,, .6: ,, .5: ,, .4 ,, .3: ,\no: Nickleback, .7: Nickleback, .6: Nickleback, .5: Nickleback, .4 Nickleback, .3: Nickleback\no: fan, .7: fans, .6: fanbase, .5: fanatic, .4 rabid_fan, .3: fanbase\no: ., .7: ., .6: ., .5: ., .4 ., .3: .\no: What, .7: What, .6: What, .5: What, .4 What, .3: What\no: I, .7: I, .6: I, .5: I, .4 I, .3: I\no: hate, .7: hate, .6: love, .5: HATE, .4 hated, .3: hating\no: about, .7: about, .6: about, .5: about, .4 about, .3: about\no: bands, .7: indie_bands, .6: rockers, .5: punk_bands, .4 indie_rock, .3: Bands\no: like, .7: like, .6: like, .5: like, .4 like, .3: like\no: this, .7: this, .6: this, .5: this, .4 this, .3: this\no: is, .7: is, .6: is, .5: is, .4 is, .3: is\no: that, .7: that, .6: that, .5: that, .4 that, .3: that\no: they, .7: they, .6: they, .5: they, .4 they, .3: they\no: take, .7: taking, .6: taken, .5: takes, .4 took, .3: give\no: away, .7: away, .6: away, .5: out, .4 out, .3: down\no: radio, .7: Radio, .6: broadcast, .5: FM_radio, .4 broadcasts, .3: broadcast\no: time, .7: time, .6: time, .5: moment, .4 hours, .3: weeks\no: to, .7: to, .6: to, .5: to, .4 to, .3: to\no: expose, .7: exposing, .6: Exposing, .5: unearth, .4 Exposing, .3: exposed\no: bands, .7: band, .6: rockers, .5: Bands, .4 punk_bands, .3: indie_rock\no: that, .7: that, .6: that, .5: that, .4 that, .3: that\no: deserve, .7: deserves, .6: deserved, .5: want, .4 undeserving, .3: begrudge\no: our, .7: our, .6: our, .5: our, .4 our, .3: our\no: attention, .7: attention, .6: Attention, .5: undivided_attention, .4 Attention, .3: acclaim\no: ., .7: ., .6: ., .5: ., .4 ., .3: .\no: Anybody, .7: Everybody, .6: somebody, .5: Everyone, .4 someone, .3: Nobody\no: with, .7: with, .6: with, .5: with, .4 with, .3: with\no: brains, .7: brain, .6: brain, .5: Brain, .4 frontal_lobes, .3: cerebrum\no: should, .7: should, .6: should, .5: should, .4 should, .3: should\no: turn, .7: turning, .6: turns, .5: pull, .4 morph, .3: turns\no: this, .7: this, .6: this, .5: this, .4 this, .3: this\no: off, .7: off, .6: down, .5: out, .4 away, .3: down\no: and, .7: and, .6: and, .5: and, .4 and, .3: and\no: listen, .7: listened, .6: Listen, .5: Listen, .4 sing, .3: vocalize\no: to, .7: to, .6: to, .5: to, .4 to, .3: to\no: real, .7: real, .6: real, .5: really, .4 sort, .3: actually\no: talent, .7: talents, .6: talents, .5: supremely_talented, .4 athleticism, .3: skillset\no: like, .7: like, .6: like, .5: like, .4 like, .3: like\no: In, .7: In, .6: In, .5: In, .4 In, .3: In\no: Flames, .7: Flames, .6: Flames, .5: Flames, .4 Flames, .3: Flames\no: ., .7: ., .6: ., .5: ., .4 ., .3: .\no: If, .7: If, .6: If, .5: If, .4 If, .3: If\no: you, .7: you, .6: you, .5: you, .4 you, .3: you\no: must, .7: must, .6: must, .5: must, .4 must, .3: must\no: listen, .7: listened, .6: Listen, .5: listen_intently, .4 listen_intently, .3: Listening\no: to, .7: to, .6: to, .5: to, .4 to, .3: to\no: a, .7: a, .6: a, .5: a, .4 a, .3: a\no: radio-dominated, .7: radio-dominated, .6: radio-dominated, .5: radio-dominated, .4 radio-dominated, .3: radio-dominated\no: band, .7: punk_band, .6: guitarist, .5: drummer, .4 bands, .3: singer_guitarist\no: ,, .7: ,, .6: ,, .5: ,, .4 ,, .3: ,\no: at, .7: at, .6: at, .5: at, .4 at, .3: at\no: least, .7: least, .6: least, .5: least, .4 minimum, .3: minimum\no: listen, .7: listening, .6: hear, .5: Listen, .4 listen_attentively, .3: listens\no: to, .7: to, .6: to, .5: to, .4 to, .3: to\no: A, .7: A, .6: A, .5: A, .4 A, .3: A\no: Perfect, .7: Perfect, .6: Perfect, .5: Perfect, .4 Perfect, .3: Perfect\no: Circle, .7: Circle, .6: Circle, .5: Circle, .4 Circle, .3: Circle\no: ,, .7: ,, .6: ,, .5: ,, .4 ,, .3: ,\no: Tool, .7: Tool, .6: Tool, .5: Tool, .4 Tool, .3: Tool\no: ,, .7: ,, .6: ,, .5: ,, .4 ,, .3: ,\no: Nine, .7: Nine, .6: Nine, .5: Nine, .4 Nine, .3: Nine\no: inch, .7: inches, .6: inch_thick, .5: ##in, .4 ##in, .3: ¼_inch\no: nails, .7: nails, .6: nail, .5: fingernails, .4 nail, .3: acrylic_nails\no: ,, .7: ,, .6: ,, .5: ,, .4 ,, .3: ,\no: Muse, .7: Muse, .6: Muse, .5: Muse, .4 Muse, .3: Muse\no: ,, .7: ,, .6: ,, .5: ,, .4 ,, .3: ,\no: Metallica, .7: Metallica, .6: Metallica, .5: Metallica, .4 Metallica, .3: Metallica\no: (, .7: (, .6: (, .5: (, .4 (, .3: (\no: pre-St., .7: pre-St., .6: pre-St., .5: pre-St., .4 pre-St., .3: pre-St.\no: Anger, .7: Anger, .6: Anger, .5: Anger, .4 Anger, .3: Anger\no: ), .7: ), .6: ), .5: ), .4 ), .3: )\no: ,, .7: ,, .6: ,, .5: ,, .4 ,, .3: ,\no: or, .7: or, .6: or, .5: or, .4 or, .3: or\no: anything, .7: nothing, .6: anyone, .5: anyone, .4 not, .3: any\no: elsewith, .7: elsewith, .6: elsewith, .5: elsewith, .4 elsewith, .3: elsewith\no: substance, .7: substance, .6: substances, .5: substances, .4 powder, .3: Substance\no: ., .7: ., .6: ., .5: ., .4 ., .3: .\no: By, .7: By, .6: By, .5: By, .4 By, .3: By\no: the, .7: the, .6: the, .5: the, .4 the, .3: the\no: way, .7: way, .6: way, .5: how, .4 manner, .3: ways\no: ,, .7: ,, .6: ,, .5: ,, .4 ,, .3: ,\no: try, .7: trying, .6: tried, .5: attempting, .4 do, .3: let\no: looping, .7: looped, .6: loops, .5: cushioned_header, .4 cannoning, .3: angled\no: ``, .7: ``, .6: ``, .5: ``, .4 ``, .3: ``\no: Someday, .7: Someday, .6: Someday, .5: Someday, .4 Someday, .3: Someday\no: '', .7: '', .6: '', .5: '', .4 '', .3: ''\no: alongside, .7: alongside, .6: alongside, .5: alongside, .4 alongside, .3: alongside\no: ``, .7: ``, .6: ``, .5: ``, .4 ``, .3: ``\no: How, .7: How, .6: How, .5: How, .4 How, .3: How\no: You, .7: You, .6: You, .5: You, .4 You, .3: You\no: Remind, .7: Remind, .6: Remind, .5: Acknowledge, .4 Explain, .3: Instruct\no: Me, .7: Me, .6: Me, .5: Me, .4 Me, .3: Me\no: ,, .7: ,, .6: ,, .5: ,, .4 ,, .3: ,\no: '', .7: '', .6: '', .5: '', .4 '', .3: ''\no: you, .7: you, .6: you, .5: you, .4 you, .3: you\no: will, .7: will, .6: will, .5: will, .4 will, .3: will\no: see, .7: see, .6: seeing, .5: seeing, .4 realize, .3: know\no: how, .7: how, .6: how, .5: how, .4 how, .3: how\no: Nickleback, .7: Nickleback, .6: Nickleback, .5: Nickleback, .4 Nickleback, .3: Nickleback\no: has, .7: has, .6: has, .5: has, .4 has, .3: has\no: produced, .7: produced, .6: produces, .5: produces, .4 Producing, .3: Producing\no: two, .7: two, .6: two, .5: two, .4 two, .3: two\no: almost, .7: nearly, .6: practically, .5: Almost, .4 seemingly, .3: virtually\no: identical, .7: virtually_identical, .6: identically, .5: similiar, .4 similiar, .3: similiar\no: songs, .7: ballads, .6: album, .5: album, .4 instrumentals, .3: album\no: ,, .7: ,, .6: ,, .5: ,, .4 ,, .3: ,\no: caused, .7: causing, .6: precipitated, .5: causing, .4 occasioned, .3: cause\no: by, .7: by, .6: by, .5: by, .4 by, .3: by\no: their, .7: their, .6: their, .5: their, .4 their, .3: their\no: radio-friendly, .7: radio-friendly, .6: radio-friendly, .5: radio-friendly, .4 radio-friendly, .3: radio-friendly\no: formulaic, .7: hackneyed, .6: unoriginal, .5: clichéd, .4 melodramatic, .3: clichéd\no: song, .7: ballad, .6: songs, .5: ballad, .4 lyric, .3: songs\no: writing, .7: writing, .6: reading, .5: writting, .4 penning, .3: writting\no: skills, .7: abilities, .6: interpersonal_skills, .5: skill, .4 aptitude, .3: prowess\no: ., .7: ., .6: ., .5: ., .4 ., .3: .\n",
     "output_type": "stream"
    }
   ]
  },
  {
   "cell_type": "code",
   "metadata": {
    "tags": [],
    "deepnote_to_be_reexecuted": false,
    "source_hash": "e72c710c",
    "execution_start": 1651129622292,
    "execution_millis": 0,
    "cell_id": "00039-8256c258-17d3-4462-b169-0c26675871be",
    "deepnote_cell_type": "code",
    "deepnote_cell_height": 117
   },
   "source": "#new_x = []\n#for  i in train_x[:1000]:\n    #new_x.append(change_word2vec(i))",
   "execution_count": null,
   "outputs": []
  },
  {
   "cell_type": "code",
   "metadata": {
    "tags": [],
    "deepnote_to_be_reexecuted": false,
    "source_hash": "41bfadc1",
    "execution_start": 1651130124346,
    "execution_millis": 280,
    "cell_id": "00040-60002cac-1c3e-48e5-940e-c395b9bdf5ee",
    "deepnote_cell_type": "code",
    "deepnote_cell_height": 284.1875
   },
   "source": "print(train_x_split[6])\nprint(gen_synth_web(train_x_split[6]))\nprint(change_wordnet(train_x_split[6]))\nprint(change_word2vec(train_x_split[6]))",
   "execution_count": null,
   "outputs": [
    {
     "name": "stdout",
     "text": "['I', 'love', 'all', 'of', 'his', 'music', '!', '!']\n['ve ', 'love', 'group ', 'of', 'his', 'music', '!', '!']\n['I', 'have_intercourse', 'all', 'of', 'his', 'music', '!', '!']\n",
     "output_type": "stream"
    },
    {
     "output_type": "error",
     "ename": "UnboundLocalError",
     "evalue": "local variable 'sentence' referenced before assignment",
     "traceback": [
      "\u001b[0;31m---------------------------------------------------------------------------\u001b[0m",
      "\u001b[0;31mUnboundLocalError\u001b[0m                         Traceback (most recent call last)",
      "\u001b[0;32m<ipython-input-54-fe5d0c7d39cc>\u001b[0m in \u001b[0;36m<module>\u001b[0;34m\u001b[0m\n\u001b[1;32m      2\u001b[0m \u001b[0mprint\u001b[0m\u001b[0;34m(\u001b[0m\u001b[0mgen_synth_web\u001b[0m\u001b[0;34m(\u001b[0m\u001b[0mtrain_x_split\u001b[0m\u001b[0;34m[\u001b[0m\u001b[0;36m6\u001b[0m\u001b[0;34m]\u001b[0m\u001b[0;34m)\u001b[0m\u001b[0;34m)\u001b[0m\u001b[0;34m\u001b[0m\u001b[0;34m\u001b[0m\u001b[0m\n\u001b[1;32m      3\u001b[0m \u001b[0mprint\u001b[0m\u001b[0;34m(\u001b[0m\u001b[0mchange_wordnet\u001b[0m\u001b[0;34m(\u001b[0m\u001b[0mtrain_x_split\u001b[0m\u001b[0;34m[\u001b[0m\u001b[0;36m6\u001b[0m\u001b[0;34m]\u001b[0m\u001b[0;34m)\u001b[0m\u001b[0;34m)\u001b[0m\u001b[0;34m\u001b[0m\u001b[0;34m\u001b[0m\u001b[0m\n\u001b[0;32m----> 4\u001b[0;31m \u001b[0mprint\u001b[0m\u001b[0;34m(\u001b[0m\u001b[0mchange_word2vec\u001b[0m\u001b[0;34m(\u001b[0m\u001b[0mtrain_x_split\u001b[0m\u001b[0;34m[\u001b[0m\u001b[0;36m6\u001b[0m\u001b[0;34m]\u001b[0m\u001b[0;34m)\u001b[0m\u001b[0;34m)\u001b[0m\u001b[0;34m\u001b[0m\u001b[0;34m\u001b[0m\u001b[0m\n\u001b[0m",
      "\u001b[0;32m<ipython-input-50-fab0f16df054>\u001b[0m in \u001b[0;36mchange_word2vec\u001b[0;34m(original_sentence, prob)\u001b[0m\n\u001b[1;32m      3\u001b[0m \u001b[0maux_verbs\u001b[0m \u001b[0;34m=\u001b[0m \u001b[0;34m[\u001b[0m\u001b[0;34m'am'\u001b[0m\u001b[0;34m,\u001b[0m\u001b[0;34m'are'\u001b[0m\u001b[0;34m,\u001b[0m\u001b[0;34m'be'\u001b[0m\u001b[0;34m,\u001b[0m\u001b[0;34m'been'\u001b[0m\u001b[0;34m,\u001b[0m\u001b[0;34m'being'\u001b[0m\u001b[0;34m,\u001b[0m\u001b[0;34m'did'\u001b[0m\u001b[0;34m,\u001b[0m\u001b[0;34m'do'\u001b[0m\u001b[0;34m,\u001b[0m\u001b[0;34m'does'\u001b[0m\u001b[0;34m,\u001b[0m\u001b[0;34m'had'\u001b[0m\u001b[0;34m,\u001b[0m\u001b[0;34m'has'\u001b[0m\u001b[0;34m,\u001b[0m\u001b[0;34m'have'\u001b[0m\u001b[0;34m,\u001b[0m\u001b[0;34m'having'\u001b[0m\u001b[0;34m,\u001b[0m\u001b[0;34m'is'\u001b[0m\u001b[0;34m,\u001b[0m\u001b[0;34m'was'\u001b[0m\u001b[0;34m,\u001b[0m\u001b[0;34m'were'\u001b[0m\u001b[0;34m,\u001b[0m\u001b[0;34m'will'\u001b[0m\u001b[0;34m]\u001b[0m \u001b[0;31m#Used to avoid changing function words\u001b[0m\u001b[0;34m\u001b[0m\u001b[0;34m\u001b[0m\u001b[0m\n\u001b[1;32m      4\u001b[0m \u001b[0;32mdef\u001b[0m \u001b[0mchange_word2vec\u001b[0m\u001b[0;34m(\u001b[0m\u001b[0moriginal_sentence\u001b[0m\u001b[0;34m,\u001b[0m \u001b[0mprob\u001b[0m \u001b[0;34m=\u001b[0m \u001b[0;36m0.5\u001b[0m\u001b[0;34m)\u001b[0m\u001b[0;34m:\u001b[0m\u001b[0;34m\u001b[0m\u001b[0;34m\u001b[0m\u001b[0m\n\u001b[0;32m----> 5\u001b[0;31m     \u001b[0msentence\u001b[0m \u001b[0;34m=\u001b[0m \u001b[0mnltk\u001b[0m\u001b[0;34m.\u001b[0m\u001b[0mpos_tag\u001b[0m\u001b[0;34m(\u001b[0m\u001b[0msentence\u001b[0m\u001b[0;34m)\u001b[0m    \u001b[0;31m#pos-tagging sentence here\u001b[0m\u001b[0;34m\u001b[0m\u001b[0;34m\u001b[0m\u001b[0m\n\u001b[0m\u001b[1;32m      6\u001b[0m     \u001b[0mnew_sentence\u001b[0m \u001b[0;34m=\u001b[0m \u001b[0;34m[\u001b[0m\u001b[0;34m]\u001b[0m \u001b[0;31m#to append to and then return as final sentence\u001b[0m\u001b[0;34m\u001b[0m\u001b[0;34m\u001b[0m\u001b[0m\n\u001b[1;32m      7\u001b[0m     \u001b[0;32mfor\u001b[0m \u001b[0mword\u001b[0m \u001b[0;32min\u001b[0m \u001b[0msentence\u001b[0m\u001b[0;34m:\u001b[0m\u001b[0;34m\u001b[0m\u001b[0;34m\u001b[0m\u001b[0m\n",
      "\u001b[0;31mUnboundLocalError\u001b[0m: local variable 'sentence' referenced before assignment"
     ]
    }
   ]
  },
  {
   "cell_type": "code",
   "metadata": {
    "cell_id": "c3799b19b0cc47c7939e9797acb2e003",
    "tags": [],
    "deepnote_to_be_reexecuted": false,
    "source_hash": "bf8db33f",
    "execution_start": 1651137424726,
    "execution_millis": 97,
    "deepnote_cell_type": "code",
    "deepnote_cell_height": 291,
    "deepnote_output_heights": [
     194
    ]
   },
   "source": " gooEmbs.most_similar('woman')",
   "execution_count": null,
   "outputs": [
    {
     "output_type": "execute_result",
     "execution_count": 20,
     "data": {
      "text/plain": "[('man', 0.7664012908935547),\n ('girl', 0.7494640946388245),\n ('teenage_girl', 0.7336829304695129),\n ('teenager', 0.6317085027694702),\n ('lady', 0.6288785934448242),\n ('teenaged_girl', 0.6141784191131592),\n ('mother', 0.6076306104660034),\n ('policewoman', 0.6069462299346924),\n ('boy', 0.5975907444953918),\n ('Woman', 0.5770983099937439)]"
     },
     "metadata": {}
    }
   ]
  },
  {
   "cell_type": "markdown",
   "source": "# Baseline",
   "metadata": {
    "tags": [],
    "cell_id": "00041-1ff244d6-7478-4b64-af71-050f766be07c",
    "deepnote_cell_type": "markdown",
    "deepnote_cell_height": 82
   }
  },
  {
   "cell_type": "code",
   "metadata": {
    "tags": [],
    "cell_id": "00042-64c2ae34-6b4a-4122-a44a-78175d2acb3c",
    "deepnote_to_be_reexecuted": false,
    "source_hash": "47f92766",
    "execution_start": 1651135623746,
    "execution_millis": 1,
    "deepnote_cell_type": "code",
    "deepnote_cell_height": 153
   },
   "source": "pipeline = Pipeline([\n    ('CountVectorizer',CountVectorizer(ngram_range=(1, 2))),\n    ('Tfidf',TfidfTransformer()),\n    ('clf', MultinomialNB(alpha=1, fit_prior=False))\n])",
   "execution_count": null,
   "outputs": []
  },
  {
   "cell_type": "code",
   "metadata": {
    "tags": [],
    "cell_id": "00043-5c9e58d5-6d98-4d6b-8ab9-101a4adb0d92",
    "deepnote_to_be_reexecuted": false,
    "source_hash": "6ef8dee9",
    "execution_start": 1651135623762,
    "execution_millis": 128,
    "deepnote_cell_type": "code",
    "deepnote_cell_height": 369.1875
   },
   "source": "size = [500, 1000, 2500, 5000, 10000, 20000, 30000, 50000, 60000, 70000, 80000, 90000, 100000]\ntrain_acc = []\ndev_acc = []\nfor i in size:\n    pipeline.fit(balanced_x_train[:i],balanced_y_train[:i] )\n    pred_train = pipeline.predict(balanced_x_train)\n    train_acc.append(f1_score(balanced_x_train, pred_train, average='macro'))\n    pred = pipeline.predict(dev_x)\n    dev_acc.append(f1_score(dev_y, pred, average='macro'))\n    print(f'done with size {i}')\n",
   "execution_count": null,
   "outputs": [
    {
     "output_type": "error",
     "ename": "KernelInterrupted",
     "evalue": "Execution interrupted by the Jupyter kernel.",
     "traceback": [
      "\u001b[0;31m---------------------------------------------------------------------------\u001b[0m",
      "\u001b[0;31mKernelInterrupted\u001b[0m: Execution interrupted by the Jupyter kernel."
     ]
    }
   ]
  },
  {
   "cell_type": "code",
   "metadata": {
    "cell_id": "f64251112a074b6db4dc0f6d844e5750",
    "tags": [],
    "deepnote_to_be_reexecuted": true,
    "source_hash": "15257823",
    "deepnote_cell_type": "code",
    "deepnote_cell_height": 81
   },
   "source": "plt.plot(size, dev_acc)",
   "execution_count": null,
   "outputs": []
  },
  {
   "cell_type": "code",
   "metadata": {
    "cell_id": "d3ec2055579e429398d86e4aa47293b8",
    "tags": [],
    "deepnote_cell_type": "code",
    "deepnote_cell_height": 66
   },
   "source": "plt.plot(size, train_acc)",
   "execution_count": null,
   "outputs": []
  },
  {
   "cell_type": "markdown",
   "source": "<a style='text-decoration:none;line-height:16px;display:flex;color:#5B5B62;padding:10px;justify-content:end;' href='https://deepnote.com?utm_source=created-in-deepnote-cell&projectId=b88dfe01-c7e1-473c-bcfd-798313fc6522' target=\"_blank\">\n<img alt='Created in deepnote.com' style='display:inline;max-height:16px;margin:0px;margin-right:7.5px;' src='data:image/svg+xml;base64,PD94bWwgdmVyc2lvbj0iMS4wIiBlbmNvZGluZz0iVVRGLTgiPz4KPHN2ZyB3aWR0aD0iODBweCIgaGVpZ2h0PSI4MHB4IiB2aWV3Qm94PSIwIDAgODAgODAiIHZlcnNpb249IjEuMSIgeG1sbnM9Imh0dHA6Ly93d3cudzMub3JnLzIwMDAvc3ZnIiB4bWxuczp4bGluaz0iaHR0cDovL3d3dy53My5vcmcvMTk5OS94bGluayI+CiAgICA8IS0tIEdlbmVyYXRvcjogU2tldGNoIDU0LjEgKDc2NDkwKSAtIGh0dHBzOi8vc2tldGNoYXBwLmNvbSAtLT4KICAgIDx0aXRsZT5Hcm91cCAzPC90aXRsZT4KICAgIDxkZXNjPkNyZWF0ZWQgd2l0aCBTa2V0Y2guPC9kZXNjPgogICAgPGcgaWQ9IkxhbmRpbmciIHN0cm9rZT0ibm9uZSIgc3Ryb2tlLXdpZHRoPSIxIiBmaWxsPSJub25lIiBmaWxsLXJ1bGU9ImV2ZW5vZGQiPgogICAgICAgIDxnIGlkPSJBcnRib2FyZCIgdHJhbnNmb3JtPSJ0cmFuc2xhdGUoLTEyMzUuMDAwMDAwLCAtNzkuMDAwMDAwKSI+CiAgICAgICAgICAgIDxnIGlkPSJHcm91cC0zIiB0cmFuc2Zvcm09InRyYW5zbGF0ZSgxMjM1LjAwMDAwMCwgNzkuMDAwMDAwKSI+CiAgICAgICAgICAgICAgICA8cG9seWdvbiBpZD0iUGF0aC0yMCIgZmlsbD0iIzAyNjVCNCIgcG9pbnRzPSIyLjM3NjIzNzYyIDgwIDM4LjA0NzY2NjcgODAgNTcuODIxNzgyMiA3My44MDU3NTkyIDU3LjgyMTc4MjIgMzIuNzU5MjczOSAzOS4xNDAyMjc4IDMxLjY4MzE2ODMiPjwvcG9seWdvbj4KICAgICAgICAgICAgICAgIDxwYXRoIGQ9Ik0zNS4wMDc3MTgsODAgQzQyLjkwNjIwMDcsNzYuNDU0OTM1OCA0Ny41NjQ5MTY3LDcxLjU0MjI2NzEgNDguOTgzODY2LDY1LjI2MTk5MzkgQzUxLjExMjI4OTksNTUuODQxNTg0MiA0MS42NzcxNzk1LDQ5LjIxMjIyODQgMjUuNjIzOTg0Niw0OS4yMTIyMjg0IEMyNS40ODQ5Mjg5LDQ5LjEyNjg0NDggMjkuODI2MTI5Niw0My4yODM4MjQ4IDM4LjY0NzU4NjksMzEuNjgzMTY4MyBMNzIuODcxMjg3MSwzMi41NTQ0MjUgTDY1LjI4MDk3Myw2Ny42NzYzNDIxIEw1MS4xMTIyODk5LDc3LjM3NjE0NCBMMzUuMDA3NzE4LDgwIFoiIGlkPSJQYXRoLTIyIiBmaWxsPSIjMDAyODY4Ij48L3BhdGg+CiAgICAgICAgICAgICAgICA8cGF0aCBkPSJNMCwzNy43MzA0NDA1IEwyNy4xMTQ1MzcsMC4yNTcxMTE0MzYgQzYyLjM3MTUxMjMsLTEuOTkwNzE3MDEgODAsMTAuNTAwMzkyNyA4MCwzNy43MzA0NDA1IEM4MCw2NC45NjA0ODgyIDY0Ljc3NjUwMzgsNzkuMDUwMzQxNCAzNC4zMjk1MTEzLDgwIEM0Ny4wNTUzNDg5LDc3LjU2NzA4MDggNTMuNDE4MjY3Nyw3MC4zMTM2MTAzIDUzLjQxODI2NzcsNTguMjM5NTg4NSBDNTMuNDE4MjY3Nyw0MC4xMjg1NTU3IDM2LjMwMzk1NDQsMzcuNzMwNDQwNSAyNS4yMjc0MTcsMzcuNzMwNDQwNSBDMTcuODQzMDU4NiwzNy43MzA0NDA1IDkuNDMzOTE5NjYsMzcuNzMwNDQwNSAwLDM3LjczMDQ0MDUgWiIgaWQ9IlBhdGgtMTkiIGZpbGw9IiMzNzkzRUYiPjwvcGF0aD4KICAgICAgICAgICAgPC9nPgogICAgICAgIDwvZz4KICAgIDwvZz4KPC9zdmc+' > </img>\nCreated in <span style='font-weight:600;margin-left:4px;'>Deepnote</span></a>",
   "metadata": {
    "tags": [],
    "created_in_deepnote_cell": true,
    "deepnote_cell_type": "markdown"
   }
  }
 ],
 "nbformat": 4,
 "nbformat_minor": 2,
 "metadata": {
  "orig_nbformat": 2,
  "deepnote": {},
  "deepnote_notebook_id": "35ff6e96-fdd4-40d9-99a5-41c991ba8211",
  "deepnote_execution_queue": []
 }
}
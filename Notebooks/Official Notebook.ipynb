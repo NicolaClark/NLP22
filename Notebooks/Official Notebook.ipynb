{
 "cells": [
  {
   "cell_type": "markdown",
   "source": "### Import",
   "metadata": {
    "tags": [],
    "is_collapsed": false,
    "cell_id": "3cad926d-0cb3-40d2-976e-40a32131736c",
    "deepnote_cell_type": "text-cell-h3"
   }
  },
  {
   "cell_type": "code",
   "metadata": {
    "tags": [],
    "deepnote_to_be_reexecuted": false,
    "source_hash": "3a29e1db",
    "execution_start": 1651659096650,
    "execution_millis": 5,
    "cell_id": "00001-ec4adc10-7c2f-42a4-8174-e1cc48be7af1",
    "deepnote_cell_type": "code",
    "deepnote_cell_height": 567
   },
   "source": "import gzip\nimport json\nimport random\nimport time\nfrom nltk import word_tokenize\nfrom tqdm import tqdm\nimport contractions\n\n# Imports for the synonym dictionary \nimport requests\nfrom bs4 import BeautifulSoup\nfrom nltk.wsd import lesk\n\n#wordnet imports\n#importing NLTK corpus synonym dictionary, pos-tagging and checking the outputs\nimport nltk\nfrom nltk.corpus import wordnet\nfrom nltk import pos_tag\nimport random\nfrom sklearn.pipeline import Pipeline\n\nfrom sklearn.utils import shuffle\nfrom sklearn.feature_extraction.text import CountVectorizer, TfidfTransformer\nfrom sklearn.naive_bayes import MultinomialNB\nfrom sklearn.metrics import f1_score\n\n#Word2Vec imports\nimport gensim.models",
   "execution_count": 15,
   "outputs": []
  },
  {
   "cell_type": "code",
   "metadata": {
    "tags": [],
    "deepnote_to_be_reexecuted": false,
    "source_hash": "698c3b88",
    "execution_start": 1651659098944,
    "execution_millis": 118,
    "cell_id": "00002-04c1e54b-e0f1-4d09-8f8a-f1f78d262fa1",
    "deepnote_cell_type": "code",
    "deepnote_cell_height": 408.125,
    "deepnote_output_heights": [
     null,
     21.1875
    ]
   },
   "source": "#wordnet downloads\nnltk.download('wordnet')\nnltk.download('omw-1.4')\nnltk.download('averaged_perceptron_tagger')\nnltk.download('punkt')",
   "execution_count": 16,
   "outputs": [
    {
     "name": "stderr",
     "text": "[nltk_data] Downloading package wordnet to /root/nltk_data...\n[nltk_data]   Package wordnet is already up-to-date!\n[nltk_data] Downloading package omw-1.4 to /root/nltk_data...\n[nltk_data]   Package omw-1.4 is already up-to-date!\n[nltk_data] Downloading package averaged_perceptron_tagger to\n[nltk_data]     /root/nltk_data...\n[nltk_data]   Package averaged_perceptron_tagger is already up-to-\n[nltk_data]       date!\n[nltk_data] Downloading package punkt to /root/nltk_data...\n[nltk_data]   Package punkt is already up-to-date!\n",
     "output_type": "stream"
    },
    {
     "output_type": "execute_result",
     "execution_count": 16,
     "data": {
      "text/plain": "True"
     },
     "metadata": {}
    }
   ]
  },
  {
   "cell_type": "code",
   "metadata": {
    "tags": [],
    "deepnote_to_be_reexecuted": false,
    "source_hash": "f4fb80ea",
    "execution_start": 1651659099065,
    "execution_millis": 2,
    "cell_id": "00003-13c6f163-63ae-466a-81c8-90cf3cd192a4",
    "deepnote_cell_type": "code",
    "deepnote_cell_height": 81
   },
   "source": "random.seed(42)",
   "execution_count": 17,
   "outputs": []
  },
  {
   "cell_type": "markdown",
   "source": "### Read in the data",
   "metadata": {
    "tags": [],
    "is_collapsed": false,
    "cell_id": "00004-cd8d6e78-3ddf-485c-b03b-ae85fc8cb300",
    "deepnote_cell_type": "text-cell-h3"
   }
  },
  {
   "cell_type": "code",
   "metadata": {
    "tags": [],
    "deepnote_to_be_reexecuted": false,
    "source_hash": "8c0ba9db",
    "execution_start": 1651659099070,
    "execution_millis": 1,
    "cell_id": "00005-5009363c-759f-4b3d-968f-47a2ae377aba",
    "deepnote_cell_type": "code",
    "deepnote_cell_height": 243
   },
   "source": "#here\ndef reading_in(path):\n    thing=[]\n    for line in gzip.open(path):\n        review_data = json.loads(line)\n        subthing = dict()\n        for key in review_data:\n            subthing[key]= review_data[key]\n        thing.append(subthing)\n    return thing",
   "execution_count": 18,
   "outputs": []
  },
  {
   "cell_type": "code",
   "metadata": {
    "tags": [],
    "deepnote_to_be_reexecuted": false,
    "source_hash": "4f0347a6",
    "execution_start": 1651659100712,
    "execution_millis": 2463,
    "cell_id": "00006-5fc1f84a-7a8b-43ac-bf52-3fb81b1b8429",
    "deepnote_cell_type": "code",
    "deepnote_cell_height": 135
   },
   "source": "train = reading_in('../data/classification/music_reviews_train.json.gz')\ndev = reading_in('../data/classification/music_reviews_dev.json.gz') # do not use!\n#test = reading_in('../data/classification/music_reviews_test_masked.json.gz') #do not use!\ntrain = shuffle(train, random_state=42)",
   "execution_count": 19,
   "outputs": []
  },
  {
   "cell_type": "code",
   "metadata": {
    "tags": [],
    "deepnote_to_be_reexecuted": false,
    "source_hash": "8331f838",
    "execution_start": 1651659103214,
    "execution_millis": 167,
    "cell_id": "00007-5fd65099-f84f-4be8-b8cb-a2df5c8bb334",
    "deepnote_cell_type": "code",
    "deepnote_cell_height": 153
   },
   "source": "train_x = [i['reviewText'] for i in train if \"reviewText\" in i.keys() and \"sentiment\" in i.keys()]\ntrain_y =  [i['sentiment'] for i in train if \"reviewText\" in i.keys() and \"sentiment\" in i.keys()]\n\ndev_x = [i['reviewText'] if \"reviewText\" in i.keys() else \"\" for i in dev]\ndev_y = [i['sentiment'] for i in dev]",
   "execution_count": 20,
   "outputs": []
  },
  {
   "cell_type": "code",
   "metadata": {
    "tags": [],
    "deepnote_to_be_reexecuted": false,
    "source_hash": "ba64fbb3",
    "execution_start": 1651659103457,
    "execution_millis": 2,
    "cell_id": "00008-f9447969-61b3-456d-a93a-a33643de981c",
    "deepnote_cell_type": "code",
    "deepnote_cell_height": 81
   },
   "source": "pos_neg = [sum([i ==\"positive\" for i in train_y]),sum([i != \"positive\" for i in train_y])]",
   "execution_count": 21,
   "outputs": []
  },
  {
   "cell_type": "code",
   "metadata": {
    "tags": [],
    "deepnote_to_be_reexecuted": false,
    "source_hash": "8766005f",
    "execution_start": 1651659103490,
    "execution_millis": 379,
    "cell_id": "00009-bd9bb6de-6d70-4a37-b854-75f0111591b8",
    "deepnote_cell_type": "code",
    "deepnote_cell_height": 417.171875,
    "deepnote_output_heights": [
     21.1875,
     250
    ]
   },
   "source": "import matplotlib.pyplot as plt\nplt.bar(x=[\"pos\",\"neg\"], height = pos_neg) ",
   "execution_count": 22,
   "outputs": [
    {
     "output_type": "execute_result",
     "execution_count": 22,
     "data": {
      "text/plain": "<BarContainer object of 2 artists>"
     },
     "metadata": {}
    },
    {
     "data": {
      "text/plain": "<Figure size 432x288 with 1 Axes>",
      "image/png": "[encoded data removed]"
     },
     "metadata": {
      "needs_background": "light",
      "image/png": {
       "width": 387,
       "height": 248
      }
     },
     "output_type": "display_data"
    }
   ]
  },
  {
   "cell_type": "code",
   "metadata": {
    "tags": [],
    "deepnote_to_be_reexecuted": false,
    "source_hash": "869c35c7",
    "execution_start": 1651659103773,
    "execution_millis": 79,
    "cell_id": "00010-0c23547b-d2ce-4847-a72e-f504e85e0e0d",
    "deepnote_cell_type": "code",
    "deepnote_cell_height": 351
   },
   "source": "###split into pos and neg\ntrain_x_pos = []\ntrain_x_neg = []\ntrain_y_pos = []\ntrain_y_neg = []\nfor i in range(len(train_x)):\n    if train_y[i] == \"positive\":\n        train_x_pos.append(train_x[i])\n        train_y_pos.append(train_y[i])\n    else:\n        train_x_neg.append(train_x[i])\n        train_y_neg.append(train_y[i])\ntrain_x_neg.extend(train_x_pos[0:len(train_x_neg)])\ntrain_y_neg.extend(train_y_pos[0:len(train_y_neg)])\nbalanced_x_train = train_x_neg\nbalanced_y_train = train_y_neg",
   "execution_count": 23,
   "outputs": []
  },
  {
   "cell_type": "code",
   "metadata": {
    "tags": [],
    "deepnote_to_be_reexecuted": true,
    "source_hash": "d33964d",
    "execution_start": 1651658410312,
    "execution_millis": 3,
    "cell_id": "00011-d02ecdeb-b76b-433f-945e-9809d27eab76",
    "deepnote_cell_type": "code",
    "deepnote_cell_height": 118.171875,
    "deepnote_output_heights": [
     21.1875
    ]
   },
   "source": "len(balanced_x_train)",
   "execution_count": 9,
   "outputs": [
    {
     "output_type": "execute_result",
     "execution_count": 9,
     "data": {
      "text/plain": "78424"
     },
     "metadata": {}
    }
   ]
  },
  {
   "cell_type": "code",
   "metadata": {
    "tags": [],
    "deepnote_to_be_reexecuted": true,
    "source_hash": "7864a816",
    "execution_start": 1651561111235,
    "execution_millis": 5,
    "cell_id": "00012-dc88eb27-5401-4d4c-920a-091e81552286",
    "deepnote_cell_type": "code",
    "deepnote_cell_height": 144.1875
   },
   "source": "len(train_x_neg)",
   "execution_count": null,
   "outputs": [
    {
     "output_type": "error",
     "ename": "NameError",
     "evalue": "name 'train_x_neg' is not defined",
     "traceback": [
      "\u001b[0;31m---------------------------------------------------------------------------\u001b[0m",
      "\u001b[0;31mNameError\u001b[0m                                 Traceback (most recent call last)",
      "\u001b[0;32m<ipython-input-5-b9acc2f9303d>\u001b[0m in \u001b[0;36m<module>\u001b[0;34m\u001b[0m\n\u001b[0;32m----> 1\u001b[0;31m \u001b[0mlen\u001b[0m\u001b[0;34m(\u001b[0m\u001b[0mtrain_x_neg\u001b[0m\u001b[0;34m)\u001b[0m\u001b[0;34m\u001b[0m\u001b[0;34m\u001b[0m\u001b[0m\n\u001b[0m",
      "\u001b[0;31mNameError\u001b[0m: name 'train_x_neg' is not defined"
     ]
    }
   ]
  },
  {
   "cell_type": "markdown",
   "source": "### Preparing the data",
   "metadata": {
    "tags": [],
    "is_collapsed": false,
    "cell_id": "00013-e68c8b2d-8a05-44c0-840b-25e4e7113a24",
    "deepnote_cell_type": "text-cell-h3"
   }
  },
  {
   "cell_type": "code",
   "metadata": {
    "tags": [],
    "deepnote_to_be_reexecuted": false,
    "source_hash": "69913f58",
    "execution_start": 1651659106652,
    "execution_millis": 1,
    "cell_id": "00014-c5763d17-fe95-4246-999b-dc88318bbc00",
    "deepnote_cell_type": "code",
    "deepnote_cell_height": 99
   },
   "source": "#old tokenizer\n#train_x_back = [' '.join(sen) for sen in train_x_split] may not need convertes tokenised back to single string",
   "execution_count": 24,
   "outputs": []
  },
  {
   "cell_type": "code",
   "metadata": {
    "tags": [],
    "deepnote_to_be_reexecuted": false,
    "source_hash": "aa47e93f",
    "execution_start": 1651659107897,
    "execution_millis": 2,
    "cell_id": "00015-7feaf2b0-cf31-4e03-8ef1-f36e3f953c92",
    "deepnote_cell_type": "code",
    "deepnote_cell_height": 117
   },
   "source": "#Tokenizer\ndef tokenize_corpus(corpus):\n    return [word_tokenize(contractions.fix(s)) for s in corpus]",
   "execution_count": 25,
   "outputs": []
  },
  {
   "cell_type": "code",
   "metadata": {
    "tags": [],
    "deepnote_to_be_reexecuted": false,
    "source_hash": "cc15a788",
    "execution_start": 1651659107924,
    "execution_millis": 39599,
    "cell_id": "00016-774d9a42-4394-4dff-bf66-6fd50255f648",
    "deepnote_cell_type": "code",
    "deepnote_cell_height": 81
   },
   "source": "train_x_split = tokenize_corpus(balanced_x_train)",
   "execution_count": 26,
   "outputs": []
  },
  {
   "cell_type": "markdown",
   "source": "# Webscrape synonyms",
   "metadata": {
    "tags": [],
    "is_collapsed": false,
    "cell_id": "00017-65518017-f1b7-4d19-bf2c-b54318c87bb5",
    "deepnote_cell_type": "text-cell-h1"
   }
  },
  {
   "cell_type": "code",
   "metadata": {
    "tags": [],
    "deepnote_to_be_reexecuted": false,
    "source_hash": "82406177",
    "execution_start": 1651561116583,
    "execution_millis": 107,
    "cell_id": "00018-24e6f800-ca34-405e-bf5d-57cd2d4d8269",
    "deepnote_cell_type": "code",
    "deepnote_cell_height": 309.1875
   },
   "source": "##Alternative to PyDictionary\n##THIS IS COPIED FROM SLACK\n# https://stackoverflow.com/questions/52910297/pydictionary-word-has-no-synonyms-in-the-api\n\ndef synonyms(term):\n    response = requests.get('https://www.thesaurus.com/browse/{}'.format(term))\n    soup = BeautifulSoup(response.text, 'lxml')\n    soup.find('section', {'class': 'css-17ofzyv e1ccqdb60'})\n    return [span.text for span in soup.findAll('a', {'class': 'css-1kg1yv8 eh475bn0'})] # 'css-1gyuw4i eh475bn0' for less relevant synonyms\n\nword = \"us\"\nprint(synonyms(word))",
   "execution_count": null,
   "outputs": [
    {
     "name": "stdout",
     "text": "['them ', 'you ']\n",
     "output_type": "stream"
    }
   ]
  },
  {
   "cell_type": "code",
   "metadata": {
    "tags": [],
    "deepnote_to_be_reexecuted": true,
    "source_hash": "20c13daa",
    "execution_start": 1651129914834,
    "execution_millis": 3,
    "cell_id": "00019-636a53be-eafd-4983-9433-b1f5a096b3f1",
    "deepnote_cell_type": "code",
    "deepnote_cell_height": 405
   },
   "source": "dont_replace = ['am','are','be','been','being','did','do','does','had','has','have','having','is','was','were','will','I ', 'it ', 'she ', 'sie ', 'they ', 've ', 'xe ', 'you ', 'ze ', 'zie ','he',\"you\",\"we\",\"mine\",\"hers\",\"his\",\"yours\",\"its\",\"ours\",\"theirs\",\"your\",\"our\",\"oneself\",\"oneselves\",\"yourself\",\"yourselves\",\"himself\",\"herself\",\"himself\",\"myself\",\"themselves\",\"itself\",\"ourselves\",\"ourself\",\"us\",\"them\"] #Used to avoid changing function and pronouns words\nrandom.seed(43)\ndef gen_synth_web(sentence,prob = 0.5):\n    new_sen = []\n    for word in sentence:\n        if word in dont_replace:\n            new_sen.append(word)\n        else:\n            threshold = random.random()\n            if prob > threshold:\n                #print(threshold) can remove later kept for debugging\n                syn = synonyms(word)\n                if len(syn) != 0:\n                    #print(\"selected\", word) can remove later kept for debugging\n                    new_sen.append(random.choice(syn))\n                else:new_sen.append(word)\n            else:\n                new_sen.append(word)\n    return new_sen",
   "execution_count": null,
   "outputs": []
  },
  {
   "cell_type": "code",
   "metadata": {
    "tags": [],
    "deepnote_to_be_reexecuted": false,
    "source_hash": "8089786c",
    "execution_start": 1651561119393,
    "execution_millis": 15,
    "cell_id": "00020-bbe86597-1c8b-4d5f-bf86-759d5b485297",
    "deepnote_cell_type": "code",
    "deepnote_cell_height": 144.1875
   },
   "source": "print(train_x_split[12])",
   "execution_count": null,
   "outputs": [
    {
     "output_type": "error",
     "ename": "NameError",
     "evalue": "name 'train_x_split' is not defined",
     "traceback": [
      "\u001b[0;31m---------------------------------------------------------------------------\u001b[0m",
      "\u001b[0;31mNameError\u001b[0m                                 Traceback (most recent call last)",
      "\u001b[0;32m<ipython-input-10-7f7965d031c9>\u001b[0m in \u001b[0;36m<module>\u001b[0;34m\u001b[0m\n\u001b[0;32m----> 1\u001b[0;31m \u001b[0mprint\u001b[0m\u001b[0;34m(\u001b[0m\u001b[0mtrain_x_split\u001b[0m\u001b[0;34m[\u001b[0m\u001b[0;36m12\u001b[0m\u001b[0;34m]\u001b[0m\u001b[0;34m)\u001b[0m\u001b[0;34m\u001b[0m\u001b[0;34m\u001b[0m\u001b[0m\n\u001b[0m",
      "\u001b[0;31mNameError\u001b[0m: name 'train_x_split' is not defined"
     ]
    }
   ]
  },
  {
   "cell_type": "code",
   "metadata": {
    "tags": [],
    "deepnote_to_be_reexecuted": false,
    "source_hash": "8fb8ce94",
    "execution_start": 1651561120552,
    "execution_millis": 5,
    "cell_id": "00021-a1072f05-e117-4d07-90f9-5319ba9a0899",
    "deepnote_cell_type": "code",
    "deepnote_cell_height": 144.1875
   },
   "source": "print(gen_synth_web(train_x_split[12]))",
   "execution_count": null,
   "outputs": [
    {
     "output_type": "error",
     "ename": "NameError",
     "evalue": "name 'gen_synth_web' is not defined",
     "traceback": [
      "\u001b[0;31m---------------------------------------------------------------------------\u001b[0m",
      "\u001b[0;31mNameError\u001b[0m                                 Traceback (most recent call last)",
      "\u001b[0;32m<ipython-input-11-a444b96e84a8>\u001b[0m in \u001b[0;36m<module>\u001b[0;34m\u001b[0m\n\u001b[0;32m----> 1\u001b[0;31m \u001b[0mprint\u001b[0m\u001b[0;34m(\u001b[0m\u001b[0mgen_synth_web\u001b[0m\u001b[0;34m(\u001b[0m\u001b[0mtrain_x_split\u001b[0m\u001b[0;34m[\u001b[0m\u001b[0;36m12\u001b[0m\u001b[0;34m]\u001b[0m\u001b[0;34m)\u001b[0m\u001b[0;34m)\u001b[0m\u001b[0;34m\u001b[0m\u001b[0;34m\u001b[0m\u001b[0m\n\u001b[0m",
      "\u001b[0;31mNameError\u001b[0m: name 'gen_synth_web' is not defined"
     ]
    }
   ]
  },
  {
   "cell_type": "code",
   "metadata": {
    "tags": [],
    "deepnote_to_be_reexecuted": true,
    "source_hash": "7ec80b5",
    "execution_start": 1651129973772,
    "execution_millis": 78801,
    "cell_id": "00022-7ea6c407-ae2e-4eee-b27e-32ba6beb9690",
    "deepnote_cell_type": "code",
    "deepnote_cell_height": 243.375
   },
   "source": "#for i in tqdm(train_x_split[:1000]):#running with 0:1000 dont uncomment as will mess up file \n   # with open (\"../data/synthetic1.txt\",\"a\") as f:\n       # f.write(' '.join(gen_synth_web(i))+\"\\n\")\n       # time.sleep(3)",
   "execution_count": null,
   "outputs": [
    {
     "name": "stderr",
     "text": "  1%|▏         | 13/1000 [01:18<1:39:39,  6.06s/it]\n",
     "output_type": "stream"
    },
    {
     "output_type": "error",
     "ename": "KeyboardInterrupt",
     "evalue": "",
     "traceback": [
      "\u001b[0;31m---------------------------------------------------------------------------\u001b[0m",
      "\u001b[0;31mKeyboardInterrupt\u001b[0m                         Traceback (most recent call last)",
      "\u001b[0;32m<ipython-input-52-c19bc195b703>\u001b[0m in \u001b[0;36m<module>\u001b[0;34m\u001b[0m\n\u001b[1;32m      2\u001b[0m     \u001b[0;32mwith\u001b[0m \u001b[0mopen\u001b[0m \u001b[0;34m(\u001b[0m\u001b[0;34m\"../data/synthetic1.txt\"\u001b[0m\u001b[0;34m,\u001b[0m\u001b[0;34m\"a\"\u001b[0m\u001b[0;34m)\u001b[0m \u001b[0;32mas\u001b[0m \u001b[0mf\u001b[0m\u001b[0;34m:\u001b[0m\u001b[0;34m\u001b[0m\u001b[0;34m\u001b[0m\u001b[0m\n\u001b[1;32m      3\u001b[0m         \u001b[0mf\u001b[0m\u001b[0;34m.\u001b[0m\u001b[0mwrite\u001b[0m\u001b[0;34m(\u001b[0m\u001b[0;34m' '\u001b[0m\u001b[0;34m.\u001b[0m\u001b[0mjoin\u001b[0m\u001b[0;34m(\u001b[0m\u001b[0mgen_synth_web\u001b[0m\u001b[0;34m(\u001b[0m\u001b[0mi\u001b[0m\u001b[0;34m)\u001b[0m\u001b[0;34m)\u001b[0m\u001b[0;34m+\u001b[0m\u001b[0;34m\"\\n\"\u001b[0m\u001b[0;34m)\u001b[0m\u001b[0;34m\u001b[0m\u001b[0;34m\u001b[0m\u001b[0m\n\u001b[0;32m----> 4\u001b[0;31m         \u001b[0mtime\u001b[0m\u001b[0;34m.\u001b[0m\u001b[0msleep\u001b[0m\u001b[0;34m(\u001b[0m\u001b[0;36m3\u001b[0m\u001b[0;34m)\u001b[0m\u001b[0;34m\u001b[0m\u001b[0;34m\u001b[0m\u001b[0m\n\u001b[0m",
      "\u001b[0;31mKeyboardInterrupt\u001b[0m: "
     ]
    }
   ]
  },
  {
   "cell_type": "markdown",
   "source": "#### Example of webscrape synthetic sentence ",
   "metadata": {
    "tags": [],
    "cell_id": "00023-b0126cab-ef9a-41a1-8003-86d74e4cbe80",
    "deepnote_cell_type": "markdown",
    "deepnote_cell_height": 54
   }
  },
  {
   "cell_type": "code",
   "metadata": {
    "tags": [],
    "deepnote_to_be_reexecuted": false,
    "source_hash": "180cb14c",
    "execution_start": 1650875688289,
    "execution_millis": 1,
    "cell_id": "00024-f3e9fbf2-366f-44a6-8f2e-6ce68e63e6ec",
    "deepnote_cell_type": "code",
    "deepnote_cell_height": 111.1875
   },
   "source": "print(train_x_split[6])",
   "execution_count": null,
   "outputs": [
    {
     "name": "stdout",
     "text": "['I', 'love', 'all', 'of', 'his', 'music', '!', '!']\n",
     "output_type": "stream"
    }
   ]
  },
  {
   "cell_type": "code",
   "metadata": {
    "tags": [],
    "deepnote_to_be_reexecuted": false,
    "source_hash": "d57f9178",
    "execution_start": 1650875688296,
    "execution_millis": 784,
    "cell_id": "00025-769dc1f5-157a-4989-ae81-60cf11288e5d",
    "deepnote_cell_type": "code",
    "deepnote_cell_height": 111.1875
   },
   "source": "print(gen_synth_web(train_x_split[6]))",
   "execution_count": null,
   "outputs": [
    {
     "name": "stdout",
     "text": "['I', 'passion ', 'fully ', 'of', 'his', 'music', '!', '!']\n",
     "output_type": "stream"
    }
   ]
  },
  {
   "cell_type": "markdown",
   "source": "# Wordnet",
   "metadata": {
    "tags": [],
    "is_collapsed": false,
    "cell_id": "00026-9fcc3dc2-5b55-4096-9304-fbc6e70043b0",
    "deepnote_cell_type": "text-cell-h1"
   }
  },
  {
   "cell_type": "code",
   "metadata": {
    "tags": [],
    "deepnote_to_be_reexecuted": false,
    "source_hash": "5704e446",
    "execution_start": 1651660932555,
    "execution_millis": 2,
    "cell_id": "00027-7f797b32-3eb8-4562-927f-49173ad8812b",
    "deepnote_cell_type": "code",
    "deepnote_cell_height": 621
   },
   "source": "relevant = [\"NN\",\"NNS\",\"RB\",\"RBR\",\"RBS\",\"VB\",\"VBG\",\"VBD\",\"VBN\",\"VBP\",\"VBZ\",\"JJ\",\"JJR\",\"JJS\"]#The wordclasses that can be exchanged with synonyms (not functional words) #maybe not RB\nwordnet_tag_map = {'NN': ['n'],'NNS': ['n'],'JJ': ['a'],'JJR': ['a'],'JJS': ['a'],'RB': ['r'],'RBR': ['r'],'RBS': ['r'], 'VB': ['v'], 'VBG': ['v'], 'VBD': ['v'], 'VBN': ['v'], 'VBP': ['v'], 'VBZ': ['v']} #Making pos-tags coincide\naux_verbs = ['am','are','be','been','being','did','do','does','had','has','have','having','is','was','were','will'] #Used to avoid changing function words\ndef change_wordnet(sentence):\n    sentence = nltk.pos_tag(sentence)    #pos-tagging sentence here\n    new_sentence = [] #to append to and then return as final sentence\n    for word in sentence:\n        if random.random()>0.5:\n            if word[1] in relevant and word[0] not in aux_verbs: #Not changing functional words\n                tag = wordnet_tag_map[word[1]]\n                chosen = lesk(sentence, word[0], tag[0]) #from all synsets choose the most likely in a smart way, thanks to library!\n                if chosen is None:\n                    new_sentence.append(word[0]) #sometimes no synset is chosen so we just give the new sentence the original word\n                else:\n                    options = chosen.lemma_names()\n                    if word[0] in options:\n                        options.remove(word[0])\n                    if len(options)>0:\n                        chosen_w = random.choice(options)\n                        if \"_\" in chosen_w:\n                            for w in chosen_w.split(\"_\"):\n                                new_sentence.append(w)\n                        else:\n                            new_sentence.append(chosen_w)\n                    else:\n                        new_sentence.append(word[0])\n            else:\n                new_sentence.append(word[0])\n        else:\n            new_sentence.append(word[0])\n    return new_sentence",
   "execution_count": 57,
   "outputs": []
  },
  {
   "cell_type": "markdown",
   "source": "#### Example of wordnet synthetic sentence ",
   "metadata": {
    "tags": [],
    "cell_id": "00028-87b7cf77-75cd-42b2-bb3e-d9b96ddb067e",
    "deepnote_cell_type": "markdown",
    "deepnote_cell_height": 54
   }
  },
  {
   "cell_type": "code",
   "metadata": {
    "tags": [],
    "deepnote_to_be_reexecuted": false,
    "source_hash": "ad5c9446",
    "execution_start": 1651660954356,
    "execution_millis": 4,
    "cell_id": "00029-4f453f85-3aff-4dab-9afd-aa99d0afde21",
    "deepnote_cell_type": "code",
    "deepnote_cell_height": 111.1875
   },
   "source": "print(train_x_split[2])",
   "execution_count": 62,
   "outputs": [
    {
     "name": "stdout",
     "text": "['will', 'not', 'play', 'on', 'any', 'MP3', 'device', 'will', 'play', 'on', 'my', 'computer']\n",
     "output_type": "stream"
    }
   ]
  },
  {
   "cell_type": "code",
   "metadata": {
    "tags": [],
    "deepnote_to_be_reexecuted": false,
    "source_hash": "7a2a263e",
    "execution_start": 1651660965720,
    "execution_millis": 7,
    "cell_id": "00030-eb199587-d520-486c-b7fb-3e4e16323b8e",
    "deepnote_cell_type": "code",
    "deepnote_cell_height": 111.1875
   },
   "source": "print(change_wordnet(train_x_split[2]))",
   "execution_count": 68,
   "outputs": [
    {
     "name": "stdout",
     "text": "['will', 'non', 'play', 'on', 'any', 'MP3', 'device', 'will', 'play', 'on', 'my', 'computing', 'machine']\n",
     "output_type": "stream"
    }
   ]
  },
  {
   "cell_type": "markdown",
   "source": "#### write to file",
   "metadata": {
    "tags": [],
    "cell_id": "00031-3ac06473-d78c-4261-84d7-bf8a310ff667",
    "deepnote_cell_type": "markdown",
    "deepnote_cell_height": 54
   }
  },
  {
   "cell_type": "code",
   "metadata": {
    "tags": [],
    "deepnote_to_be_reexecuted": false,
    "source_hash": "1fb3ee3a",
    "execution_start": 1651660987348,
    "execution_millis": 230199,
    "cell_id": "00032-ae29fcf5-2ad8-48ba-b1ec-8307d71c4166",
    "deepnote_cell_type": "code",
    "deepnote_cell_height": 81
   },
   "source": "wn_x_train = [change_wordnet(i) for i in train_x_split]",
   "execution_count": 69,
   "outputs": []
  },
  {
   "cell_type": "code",
   "metadata": {
    "cell_id": "68de6c4363e844fea32e605191baec96",
    "tags": [],
    "deepnote_to_be_reexecuted": false,
    "source_hash": "1de32742",
    "execution_start": 1651662260420,
    "execution_millis": 2,
    "deepnote_cell_type": "code",
    "deepnote_cell_height": 118.171875,
    "deepnote_output_heights": [
     21.1875
    ]
   },
   "source": "len(wn_x_train)",
   "execution_count": 70,
   "outputs": [
    {
     "output_type": "execute_result",
     "execution_count": 70,
     "data": {
      "text/plain": "78424"
     },
     "metadata": {}
    }
   ]
  },
  {
   "cell_type": "code",
   "metadata": {
    "tags": [],
    "deepnote_to_be_reexecuted": false,
    "source_hash": "d4e804f1",
    "execution_start": 1651662262448,
    "execution_millis": 310,
    "cell_id": "00033-d772c2da-e3e1-4e75-ab60-a082e2b2d96d",
    "deepnote_cell_type": "code",
    "deepnote_cell_height": 99
   },
   "source": "with open(\"../data/synthetic/wordnet.csv\",'w') as f:\n    f.writelines('\\t'.join(s) + '\\n' for s in wn_x_train)",
   "execution_count": 71,
   "outputs": []
  },
  {
   "cell_type": "markdown",
   "source": "# Word2vec",
   "metadata": {
    "tags": [],
    "cell_id": "00034-ed563987-3646-486a-acbd-f31da0cae57f",
    "deepnote_cell_type": "markdown",
    "deepnote_cell_height": 82
   }
  },
  {
   "cell_type": "code",
   "metadata": {
    "tags": [],
    "deepnote_to_be_reexecuted": false,
    "source_hash": "16bbcaa7",
    "execution_start": 1651508237394,
    "execution_millis": 623,
    "cell_id": "00036-edc98367-06e7-4de6-a504-b5871fe76081",
    "deepnote_cell_type": "code",
    "deepnote_cell_height": 290.921875,
    "deepnote_output_heights": [
     193.9375
    ]
   },
   "source": "gooEmbs.most_similar('walk')",
   "execution_count": null,
   "outputs": [
    {
     "output_type": "execute_result",
     "execution_count": 19,
     "data": {
      "text/plain": "[('walking', 0.7361534237861633),\n ('walks', 0.7007260918617249),\n ('walked', 0.6831838488578796),\n ('stroll', 0.6208134889602661),\n ('Walking', 0.5674901604652405),\n ('Walk', 0.558607280254364),\n ('wander', 0.5585978627204895),\n ('jog', 0.5467169284820557),\n ('saunter', 0.5451485514640808),\n ('amble', 0.5250112414360046)]"
     },
     "metadata": {}
    }
   ]
  },
  {
   "cell_type": "code",
   "metadata": {
    "cell_id": "24e3a4be16774bb9b233c980c6fdec05",
    "tags": [],
    "deepnote_to_be_reexecuted": false,
    "source_hash": "894ea2ad",
    "execution_start": 1651660036396,
    "execution_millis": 6849,
    "deepnote_cell_type": "code",
    "deepnote_cell_height": 723.1875
   },
   "source": "# With a threshold and without the check of same word\n\ngooEmbs = gensim.models.KeyedVectors.load_word2vec_format('../data/GoogleNews-50k.bin', binary=True)\nprint('loading finished')\nrelevant = [\"NN\",\"NNS\",\"RB\",\"RBR\",\"RBS\",\"VB\",\"VBG\",\"VBD\",\"VBN\",\"VBP\",\"VBZ\",\"JJ\",\"JJR\",\"JJS\"]#The wordclasses that can be exchanged with synonyms (not functional words) #maybe not RB\naux_verbs = ['am','are','be','been','being','did','do','does','had','has','have','having','is','was','were','will'] #Used to avoid changing function words\ndef change_word2vec(original_sentence, prob = 0.5, threshold = .6):\n    sentence = nltk.pos_tag(original_sentence)    #pos-tagging sentence here\n    new_sentence = [] #to append to and then return as final sentence\n    for word in sentence:\n        if word[1] in relevant and word[0] not in aux_verbs:\n            if random.random() > prob:\n                try:\n                    syno = gooEmbs.most_similar(word[0]) #taking the most similar word from word2vec\n                    syno_pos = []\n                    # method 1: \n                    for s in syno:\n                        if s[1] > threshold:\n                            syno_pos.append(s)\n                        else: \n                            break # because all the words are sorted we know that if one word is under 60% all the others after are also\n                    if syno_pos!=[]:\n                        new_word = random.choice(syno_pos)[0]\n                    else:  new_word = syno[0][0]\n                    if \"_\" in new_word:\n                        for w in chosen_w.split(\"_\"):\n                            new_sentence.append(w)\n                    else: new_sentence.append(new_word)                    \n                except:\n                    new_sentence.append(word[0])\n            else: \n                new_sentence.append(word[0])\n        else:\n            new_sentence.append(word[0])\n    return new_sentence",
   "execution_count": 37,
   "outputs": [
    {
     "name": "stdout",
     "text": "loading finished\n",
     "output_type": "stream"
    }
   ]
  },
  {
   "cell_type": "code",
   "metadata": {
    "tags": [],
    "deepnote_to_be_reexecuted": false,
    "source_hash": "2e052dc8",
    "execution_start": 1651660042923,
    "execution_millis": 37749,
    "cell_id": "00038-74434ca7-8d5d-4e98-9f36-2b5ffa008177",
    "owner_user_id": "03d0206a-8ef5-4ef4-a095-5515fca900a0",
    "deepnote_cell_type": "code",
    "deepnote_cell_height": 845
   },
   "source": "ori = train_x_split[3]\nt7= change_word2vec(train_x_split[3], threshold=0.7)\nt6 =change_word2vec(train_x_split[3], threshold=0.6)\nt5 = change_word2vec(train_x_split[3], threshold=0.5)\nt4 = change_word2vec(train_x_split[3], threshold=0.4)\nt3 = change_word2vec(train_x_split[3], threshold=0.3)\n\nfor i in range(len(ori)):\n    print(f'o: {ori[i]}, .7: {t7[i]}, .6: {t6[i]}, .5: {t5[i]}, .4 {t4[i]}, .3: {t3[i]}')",
   "execution_count": 38,
   "outputs": [
    {
     "name": "stdout",
     "text": "empty\nempty\nempty\nempty\nempty\nempty\nempty\nempty\nempty\nempty\nempty\nempty\nempty\nempty\nempty\nempty\nempty\nempty\nempty\nempty\nempty\nempty\nempty\nempty\nempty\nempty\nempty\nempty\nempty\nempty\nempty\nempty\nempty\nempty\nempty\nempty\nempty\nempty\nempty\nempty\nempty\nempty\nempty\nempty\nempty\nempty\nempty\no: Nickleback, .7: Nickleback, .6: Nickleback, .5: Nickleback, .4 Nickleback, .3: Nickleback\no: is, .7: is, .6: is, .5: is, .4 is, .3: is\no: Clear, .7: Clean, .6: Clean, .5: Clean, .4 Clean, .3: Clean\no: Channel, .7: Channel, .6: Channel, .5: Channel, .4 Channel, .3: Channel\no: 's, .7: 's, .6: 's, .5: 's, .4 's, .3: 's\no: best, .7: finest, .6: finest, .5: healthiest, .4 good, .3: good\no: friend, .7: friends, .6: acquaintance, .5: cousin, .4 buddy, .3: friends\no: :, .7: :, .6: :, .5: :, .4 :, .3: :\no: their, .7: their, .6: their, .5: their, .4 their, .3: their\no: music, .7: classical_music, .6: musics, .5: reggae, .4 musicians, .3: reggae\no: is, .7: is, .6: is, .5: is, .4 is, .3: is\no: ordinary, .7: Ordinary, .6: Ordinary, .5: Ordinary, .4 extraordinary, .3: quotidian\no: ,, .7: ,, .6: ,, .5: ,, .4 ,, .3: ,\no: dull, .7: boring, .6: duller, .5: uninteresting, .4 bland, .3: bland\no: ,, .7: ,, .6: ,, .5: ,, .4 ,, .3: ,\no: and, .7: and, .6: and, .5: and, .4 and, .3: and\no: absolutely, .7: Absolutely, .6: utterly, .5: quite_frankly, .4 frankly, .3: unbelievably\no: defining, .7: define, .6: define, .5: defined, .4 redefining, .3: redefining\no: mainstream, .7: Mainstream, .6: Mainstream, .5: Mainstream, .4 realm, .3: mainstreaming\no: ., .7: ., .6: ., .5: ., .4 ., .3: .\no: The, .7: The, .6: The, .5: The, .4 The, .3: The\no: songs, .7: lyrics, .6: albums, .5: Songs, .4 Songs, .3: song\no: here, .7: we, .6: we, .5: really, .4 just, .3: this\no: are, .7: are, .6: are, .5: are, .4 are, .3: are\no: all, .7: all, .6: all, .5: all, .4 all, .3: all\no: the, .7: the, .6: the, .5: the, .4 the, .3: the\no: same, .7: Same, .6: Same, .5: Same, .4 Same, .3: Same\no: ,, .7: ,, .6: ,, .5: ,, .4 ,, .3: ,\no: with, .7: with, .6: with, .5: with, .4 with, .3: with\no: poor, .7: poorer, .6: poorer, .5: bad, .4 abysmal, .3: wretched\no: lyrics, .7: melodies, .6: melody, .5: lyricist, .4 lyrically, .3: song\no: ,, .7: ,, .6: ,, .5: ,, .4 ,, .3: ,\no: and, .7: and, .6: and, .5: and, .4 and, .3: and\no: Chad, .7: Chad, .6: Chad, .5: Chad, .4 Chad, .3: Chad\no: 's, .7: 's, .6: 's, .5: 's, .4 's, .3: 's\no: standard, .7: standards, .6: standards, .5: standards, .4 guidelines, .3: standards\no: ,, .7: ,, .6: ,, .5: ,, .4 ,, .3: ,\no: ordinary, .7: Ordinary, .6: Ordinary, .5: Ordinary, .4 humdrum, .3: ORDINARY\no: singing, .7: sing, .6: sung, .5: warbling, .4 sang, .3: crooning\no: style, .7: styles, .6: flair, .5: flair, .4 finesse, .3: elegance\no: ., .7: ., .6: ., .5: ., .4 ., .3: .\no: Sorry, .7: Sorry, .6: Sorry, .5: Sorry, .4 Sorry, .3: Sorry\no: about, .7: about, .6: about, .5: about, .4 about, .3: about\no: using, .7: use, .6: used, .5: Use, .4 Use, .3: utilizing\no: ordinary, .7: Ordinary, .6: Ordinary, .5: everyday, .4 common, .3: everyday\no: so, .7: too, .6: anyway, .5: pretty, .4 but, .3: too\no: many, .7: several, .6: countless, .5: multitude, .4 few, .3: myriad\no: times, .7: twice, .6: twice, .5: occasions, .4 days, .3: past\no: ,, .7: ,, .6: ,, .5: ,, .4 ,, .3: ,\no: it, .7: it, .6: it, .5: it, .4 it, .3: it\no: just, .7: really, .6: maybe, .5: basically, .4 so, .3: basically\no: defines, .7: defined, .6: refers, .5: establishes, .4 refers, .3: describes\no: this, .7: this, .6: this, .5: this, .4 this, .3: this\no: band, .7: punk_band, .6: singer_guitarist, .5: punk_band, .4 punk_rock_band, .3: singer_guitarist\no: so, .7: too, .6: pretty, .5: really, .4 because, .3: quite\no: well, .7: as, .6: as, .5: nicely, .4 excellently, .3: such\no: ., .7: ., .6: ., .5: ., .4 ., .3: .\no: I, .7: I, .6: I, .5: I, .4 I, .3: I\no: find, .7: discover, .6: Finding, .5: fi_nd, .4 Finding, .3: Find\no: it, .7: it, .6: it, .5: it, .4 it, .3: it\no: hilarious, .7: witty, .6: comical, .5: witty, .4 Hilarious, .3: hilariously_funny\no: that, .7: that, .6: that, .5: that, .4 that, .3: that\no: ``, .7: ``, .6: ``, .5: ``, .4 ``, .3: ``\no: A, .7: A, .6: A, .5: A, .4 A, .3: A\no: kid, .7: guy, .6: schooler, .5: teenager, .4 dad, .3: teenager\no: 's, .7: 's, .6: 's, .5: 's, .4 's, .3: 's\no: review, .7: reviewed, .6: reviewing, .5: reviewing, .4 reviewing, .3: evaluation\no: '', .7: '', .6: '', .5: '', .4 '', .3: ''\no: was, .7: was, .6: was, .5: was, .4 was, .3: was\no: chosen, .7: selected, .6: chose, .5: selects, .4 chose, .3: shortlisted\no: as, .7: as, .6: as, .5: as, .4 as, .3: as\no: a, .7: a, .6: a, .5: a, .4 a, .3: a\no: spotlight, .7: limelight, .6: limelight, .5: klieg_lights, .4 headlines, .3: intense_scrutiny\no: review, .7: reviewed, .6: evaluation, .5: reviewed, .4 scrutinize, .3: scrutinize\no: ,, .7: ,, .6: ,, .5: ,, .4 ,, .3: ,\no: because, .7: because, .6: because, .5: because, .4 because, .3: because\no: he/she, .7: he/she, .6: he/she, .5: he/she, .4 he/she, .3: he/she\no: defines, .7: defined, .6: establishes, .5: characterizes, .4 describes, .3: defined\no: the, .7: the, .6: the, .5: the, .4 the, .3: the\no: average, .7: averages, .6: per, .5: per, .4 averaged, .3: averages\no: radio-listening, .7: radio-listening, .6: radio-listening, .5: radio-listening, .4 radio-listening, .3: radio-listening\no: ,, .7: ,, .6: ,, .5: ,, .4 ,, .3: ,\no: Nickleback, .7: Nickleback, .6: Nickleback, .5: Nickleback, .4 Nickleback, .3: Nickleback\no: fan, .7: fans, .6: superfan, .5: fanbase, .4 diehard_fans, .3: Fan\no: ., .7: ., .6: ., .5: ., .4 ., .3: .\no: What, .7: What, .6: What, .5: What, .4 What, .3: What\no: I, .7: I, .6: I, .5: I, .4 I, .3: I\no: hate, .7: despise, .6: love, .5: despise, .4 despise, .3: love\no: about, .7: about, .6: about, .5: about, .4 about, .3: about\no: bands, .7: indie_bands, .6: indie_bands, .5: musicians, .4 Bands, .3: rockers\no: like, .7: like, .6: like, .5: like, .4 like, .3: like\no: this, .7: this, .6: this, .5: this, .4 this, .3: this\no: is, .7: is, .6: is, .5: is, .4 is, .3: is\no: that, .7: that, .6: that, .5: that, .4 that, .3: that\no: they, .7: they, .6: they, .5: they, .4 they, .3: they\no: take, .7: taking, .6: took, .5: took, .4 put, .3: taking\no: away, .7: out, .6: out, .5: out, .4 aways, .3: apart\no: radio, .7: radio_stations, .6: radio_stations, .5: radio_broadcasts, .4 radio_stations, .3: Radio\no: time, .7: day, .6: day, .5: moment, .4 period, .3: period\no: to, .7: to, .6: to, .5: to, .4 to, .3: to\no: expose, .7: exposing, .6: uncover, .5: enlighten, .4 exposes, .3: embarrass\no: bands, .7: band, .6: musicians, .5: punk_bands, .4 ska_band, .3: musicians\no: that, .7: that, .6: that, .5: that, .4 that, .3: that\no: deserve, .7: deserved, .6: richly_deserve, .5: richly_deserve, .4 deserves, .3: deserved\no: our, .7: our, .6: our, .5: our, .4 our, .3: our\no: attention, .7: Attention, .6: Attention, .5: Attention, .4 acclaim, .3: plaudits\no: ., .7: ., .6: ., .5: ., .4 ., .3: .\no: Anybody, .7: anyone, .6: Somebody, .5: Somebody, .4 someone, .3: anybody\no: with, .7: with, .6: with, .5: with, .4 with, .3: with\no: brains, .7: brain, .6: brain, .5: cerebrum, .4 cerebrum, .3: Brain\no: should, .7: should, .6: should, .5: should, .4 should, .3: should\no: turn, .7: turning, .6: turned, .5: turns, .4 yank, .3: turns\no: this, .7: this, .6: this, .5: this, .4 this, .3: this\no: off, .7: down, .6: down, .5: away, .4 out, .3: back\no: and, .7: and, .6: and, .5: and, .4 and, .3: and\no: listen, .7: listening, .6: listening, .5: listened, .4 listened, .3: listen_attentively\no: to, .7: to, .6: to, .5: to, .4 to, .3: to\no: real, .7: genuine, .6: genuine, .5: actual, .4 actual, .3: kind\no: talent, .7: talents, .6: talents, .5: immensely_talented, .4 talents, .3: immensely_talented\no: like, .7: like, .6: like, .5: like, .4 like, .3: like\no: In, .7: In, .6: In, .5: In, .4 In, .3: In\no: Flames, .7: Flames, .6: Flames, .5: Flames, .4 Flames, .3: Flames\no: ., .7: ., .6: ., .5: ., .4 ., .3: .\no: If, .7: If, .6: If, .5: If, .4 If, .3: If\no: you, .7: you, .6: you, .5: you, .4 you, .3: you\no: must, .7: must, .6: must, .5: must, .4 must, .3: must\no: listen, .7: listened, .6: listened, .5: hear, .4 listen_attentively, .3: Listen\no: to, .7: to, .6: to, .5: to, .4 to, .3: to\no: a, .7: a, .6: a, .5: a, .4 a, .3: a\no: radio-dominated, .7: radio-dominated, .6: radio-dominated, .5: radio-dominated, .4 radio-dominated, .3: radio-dominated\no: band, .7: bands, .6: indie_rock_band, .5: alt_rock_band, .4 singer_guitarist, .3: punk_band\no: ,, .7: ,, .6: ,, .5: ,, .4 ,, .3: ,\no: at, .7: at, .6: at, .5: at, .4 at, .3: at\no: least, .7: one, .6: one, .5: one, .4 five, .3: leas\no: listen, .7: listening, .6: listening, .5: listen_attentively, .4 listened, .3: Listening\no: to, .7: to, .6: to, .5: to, .4 to, .3: to\no: A, .7: A, .6: A, .5: A, .4 A, .3: A\no: Perfect, .7: Perfect, .6: Perfect, .5: Perfect, .4 Perfect, .3: Perfect\no: Circle, .7: Circle, .6: Circle, .5: Circle, .4 Circle, .3: Circle\no: ,, .7: ,, .6: ,, .5: ,, .4 ,, .3: ,\no: Tool, .7: Tool, .6: Tool, .5: Tool, .4 Tool, .3: Tool\no: ,, .7: ,, .6: ,, .5: ,, .4 ,, .3: ,\no: Nine, .7: Nine, .6: Nine, .5: Nine, .4 Nine, .3: Nine\no: inch, .7: inches, .6: millimeter, .5: inch_diameter, .4 ##/#-inch, .3: ##/#-inch\no: nails, .7: fingernails, .6: nail, .5: cuticles, .4 teeth, .3: acrylic_nails\no: ,, .7: ,, .6: ,, .5: ,, .4 ,, .3: ,\no: Muse, .7: Muse, .6: Muse, .5: Muse, .4 Muse, .3: Muse\no: ,, .7: ,, .6: ,, .5: ,, .4 ,, .3: ,\no: Metallica, .7: Metallica, .6: Metallica, .5: Metallica, .4 Metallica, .3: Metallica\no: (, .7: (, .6: (, .5: (, .4 (, .3: (\no: pre-St., .7: pre-St., .6: pre-St., .5: pre-St., .4 pre-St., .3: pre-St.\no: Anger, .7: Anger, .6: Anger, .5: Anger, .4 Anger, .3: Anger\no: ), .7: ), .6: ), .5: ), .4 ), .3: )\no: ,, .7: ,, .6: ,, .5: ,, .4 ,, .3: ,\no: or, .7: or, .6: or, .5: or, .4 or, .3: or\no: anything, .7: nothing, .6: nothing, .5: anybody, .4 anyone, .3: anybody\no: elsewith, .7: elsewith, .6: elsewith, .5: elsewith, .4 elsewith, .3: elsewith\no: substance, .7: substances, .6: substances, .5: stimulant, .4 amphetamine, .3: narcotic\no: ., .7: ., .6: ., .5: ., .4 ., .3: .\no: By, .7: By, .6: By, .5: By, .4 By, .3: By\no: the, .7: the, .6: the, .5: the, .4 the, .3: the\no: way, .7: ways, .6: ways, .5: how, .4 how, .3: manner\no: ,, .7: ,, .6: ,, .5: ,, .4 ,, .3: ,\no: try, .7: trying, .6: tried, .5: trying, .4 attempt, .3: Trying\no: looping, .7: looped, .6: loops, .5: loops, .4 angled, .3: angled\no: ``, .7: ``, .6: ``, .5: ``, .4 ``, .3: ``\no: Someday, .7: Someday, .6: Someday, .5: Someday, .4 Someday, .3: Someday\no: '', .7: '', .6: '', .5: '', .4 '', .3: ''\no: alongside, .7: alongside, .6: alongside, .5: alongside, .4 alongside, .3: alongside\no: ``, .7: ``, .6: ``, .5: ``, .4 ``, .3: ``\no: How, .7: How, .6: How, .5: How, .4 How, .3: How\no: You, .7: You, .6: You, .5: You, .4 You, .3: You\no: Remind, .7: remind, .6: remind, .5: Explain, .4 Reassure, .3: Acknowledge\no: Me, .7: Me, .6: Me, .5: Me, .4 Me, .3: Me\no: ,, .7: ,, .6: ,, .5: ,, .4 ,, .3: ,\no: '', .7: '', .6: '', .5: '', .4 '', .3: ''\no: you, .7: you, .6: you, .5: you, .4 you, .3: you\no: will, .7: will, .6: will, .5: will, .4 will, .3: will\no: see, .7: seeing, .6: seeing, .5: find, .4 look, .3: tell\no: how, .7: how, .6: how, .5: how, .4 how, .3: how\no: Nickleback, .7: Nickleback, .6: Nickleback, .5: Nickleback, .4 Nickleback, .3: Nickleback\no: has, .7: has, .6: has, .5: has, .4 has, .3: has\no: produced, .7: produce, .6: producing, .5: Producing, .4 yielded, .3: Produced\no: two, .7: two, .6: two, .5: two, .4 two, .3: two\no: almost, .7: nearly, .6: Almost, .5: Almost, .4 virtually, .3: Virtually\no: identical, .7: virtually_identical, .6: identically, .5: indistinguishable, .4 strikingly_similar, .3: different\no: songs, .7: tunes, .6: albums, .5: ballads, .4 lyrics, .3: Songs\no: ,, .7: ,, .6: ,, .5: ,, .4 ,, .3: ,\no: caused, .7: causing, .6: causes, .5: occasioned, .4 causes, .3: triggered\no: by, .7: by, .6: by, .5: by, .4 by, .3: by\no: their, .7: their, .6: their, .5: their, .4 their, .3: their\no: radio-friendly, .7: radio-friendly, .6: radio-friendly, .5: radio-friendly, .4 radio-friendly, .3: radio-friendly\no: formulaic, .7: clichéd, .6: hackneyed, .5: trite, .4 cliché_ridden, .3: clichéd\no: song, .7: lyrics, .6: melody, .5: songs, .4 lyric, .3: ballad\no: writing, .7: write, .6: written, .5: scribbling, .4 composing, .3: writting\no: skills, .7: abilities, .6: skill, .5: interpersonal_skills, .4 abilities, .3: abilities\no: ., .7: ., .6: ., .5: ., .4 ., .3: .\n",
     "output_type": "stream"
    }
   ]
  },
  {
   "cell_type": "code",
   "source": "print(ori)\nprint(t7)\nprint(t6)\nprint(t5)\nprint(t4)\nprint(t3)",
   "metadata": {
    "cell_id": "31b54339d8584a579e906e886e7ffceb",
    "tags": [],
    "deepnote_to_be_reexecuted": false,
    "source_hash": "3d0f31c2",
    "execution_start": 1651659358084,
    "execution_millis": 24,
    "deepnote_cell_type": "code",
    "deepnote_cell_height": 301.609375
   },
   "outputs": [
    {
     "name": "stdout",
     "text": "['Nickleback', 'is', 'Clear', 'Channel', \"'s\", 'best', 'friend', ':', 'their', 'music', 'is', 'ordinary', ',', 'dull', ',', 'and', 'absolutely', 'defining', 'mainstream', '.', 'The', 'songs', 'here', 'are', 'all', 'the', 'same', ',', 'with', 'poor', 'lyrics', ',', 'and', 'Chad', \"'s\", 'standard', ',', 'ordinary', 'singing', 'style', '.', 'Sorry', 'about', 'using', 'ordinary', 'so', 'many', 'times', ',', 'it', 'just', 'defines', 'this', 'band', 'so', 'well', '.', 'I', 'find', 'it', 'hilarious', 'that', '``', 'A', 'kid', \"'s\", 'review', \"''\", 'was', 'chosen', 'as', 'a', 'spotlight', 'review', ',', 'because', 'he/she', 'defines', 'the', 'average', 'radio-listening', ',', 'Nickleback', 'fan', '.', 'What', 'I', 'hate', 'about', 'bands', 'like', 'this', 'is', 'that', 'they', 'take', 'away', 'radio', 'time', 'to', 'expose', 'bands', 'that', 'deserve', 'our', 'attention', '.', 'Anybody', 'with', 'brains', 'should', 'turn', 'this', 'off', 'and', 'listen', 'to', 'real', 'talent', 'like', 'In', 'Flames', '.', 'If', 'you', 'must', 'listen', 'to', 'a', 'radio-dominated', 'band', ',', 'at', 'least', 'listen', 'to', 'A', 'Perfect', 'Circle', ',', 'Tool', ',', 'Nine', 'inch', 'nails', ',', 'Muse', ',', 'Metallica', '(', 'pre-St.', 'Anger', ')', ',', 'or', 'anything', 'elsewith', 'substance', '.', 'By', 'the', 'way', ',', 'try', 'looping', '``', 'Someday', \"''\", 'alongside', '``', 'How', 'You', 'Remind', 'Me', ',', \"''\", 'you', 'will', 'see', 'how', 'Nickleback', 'has', 'produced', 'two', 'almost', 'identical', 'songs', ',', 'caused', 'by', 'their', 'radio-friendly', 'formulaic', 'song', 'writing', 'skills', '.']\n['Nickleback', 'is', 'Clear', 'Channel', \"'s\", 'best', 'pal', ':', 'their', 'classical_music', 'is', 'ordinary', ',', 'boring', ',', 'and', 'absolutely', 'define', 'mainstream', '.', 'The', 'tunes', 'here', 'are', 'all', 'the', 'same', ',', 'with', 'poor', 'lyrically', ',', 'and', 'Chad', \"'s\", 'standards', ',', 'ordinary', 'crooning', 'style', '.', 'Sorry', 'about', 'use', 'ordinary', 'too', 'many', 'times', ',', 'it', 'just', 'defines', 'this', 'punk_band', 'too', 'well', '.', 'I', 'find', 'it', 'humorous', 'that', '``', 'A', 'guy', \"'s\", 'review', \"''\", 'was', 'selected', 'as', 'a', 'limelight', 'review', ',', 'because', 'he/she', 'defines', 'the', 'average', 'radio-listening', ',', 'Nickleback', 'fans', '.', 'What', 'I', 'hate', 'about', 'punk_bands', 'like', 'this', 'is', 'that', 'they', 'taking', 'away', 'radio_stations', 'time', 'to', 'exposing', 'band', 'that', 'deserved', 'our', 'attention', '.', 'anyone', 'with', 'brain', 'should', 'turning', 'this', 'off', 'and', 'listened', 'to', 'real', 'talents', 'like', 'In', 'Flames', '.', 'If', 'you', 'must', 'listened', 'to', 'a', 'radio-dominated', 'bands', ',', 'at', 'least', 'listened', 'to', 'A', 'Perfect', 'Circle', ',', 'Tool', ',', 'Nine', 'inches', 'nails', ',', 'Muse', ',', 'Metallica', '(', 'pre-St.', 'Anger', ')', ',', 'or', 'something', 'elsewith', 'substance', '.', 'By', 'the', 'way', ',', 'trying', 'looped', '``', 'Someday', \"''\", 'alongside', '``', 'How', 'You', 'Remind', 'Me', ',', \"''\", 'you', 'will', 'see', 'how', 'Nickleback', 'has', 'produced', 'two', 'nearly', 'virtually_identical', 'tunes', ',', 'causing', 'by', 'their', 'radio-friendly', 'clichéd', 'lyric', 'writing', 'skill', '.']\n['Nickleback', 'is', 'Clear', 'Channel', \"'s\", 'finest', 'colleague', ':', 'their', 'tunes', 'is', 'Ordinary', ',', 'duller', ',', 'and', 'Absolutely', 'Defining', 'Mainstream', '.', 'The', 'melodies', 'here', 'are', 'all', 'the', 'same', ',', 'with', 'poorer', 'ballad', ',', 'and', 'Chad', \"'s\", 'standards', ',', 'Ordinary', 'song', 'flair', '.', 'Sorry', 'about', 'utilizing', 'Ordinary', 'really', 'several', 'times', ',', 'it', 'maybe', 'defined', 'this', 'punk_band', 'anyway', 'as', '.', 'I', 'found', 'it', 'witty', 'that', '``', 'A', 'dad', \"'s\", 'evaluation', \"''\", 'was', 'choosen', 'as', 'a', 'limelight', 'reviewed', ',', 'because', 'he/she', 'classifies', 'the', 'averages', 'radio-listening', ',', 'Nickleback', 'diehard_fan', '.', 'What', 'I', 'hatred', 'about', 'indie_bands', 'like', 'this', 'is', 'that', 'they', 'Taking', 'away', 'radio_stations', 'time', 'to', 'exposes', 'indie_rock', 'that', 'richly_deserve', 'our', 'Attention', '.', 'anybody', 'with', 'brain', 'should', 'turns', 'this', 'out', 'and', 'hear', 'to', 'real', 'talents', 'like', 'In', 'Flames', '.', 'If', 'you', 'must', 'listening', 'to', 'a', 'radio-dominated', 'singer_guitarist', ',', 'at', 'least', 'listening', 'to', 'A', 'Perfect', 'Circle', ',', 'Tool', ',', 'Nine', '#/#-inch', 'fingernails', ',', 'Muse', ',', 'Metallica', '(', 'pre-St.', 'Anger', ')', ',', 'or', 'never', 'elsewith', 'substances', '.', 'By', 'the', 'way', ',', 'tries', 'looped', '``', 'Someday', \"''\", 'alongside', '``', 'How', 'You', 'Remind', 'Me', ',', \"''\", 'you', 'will', 'look', 'how', 'Nickleback', 'has', 'Produced', 'two', 'nearly', 'virtually_identical', 'Songs', ',', 'triggered', 'by', 'their', 'radio-friendly', 'cliched', 'lyric', 'composing', 'employability_skills', '.']\n['Nickleback', 'is', 'Clear', 'Channel', \"'s\", 'healthiest', 'uncle', ':', 'their', 'jazz', 'is', 'Ordinary', ',', 'dreary', ',', 'and', 'totally', 'defined', 'Mainstream', '.', 'The', 'ballads', 'there', 'are', 'all', 'the', 'Same', ',', 'with', 'bad', 'lyric', ',', 'and', 'Chad', \"'s\", 'standards', ',', 'everyday', 'warbling', 'stylings', '.', 'Sorry', 'about', 'utilizing', 'Ordinary', 'quite', 'some', 'twice', ',', 'it', 'really', 'characterizes', 'this', 'punk_band', 'just', 'excellently', '.', 'I', 'Finding', 'it', 'humorous', 'that', '``', 'A', 'boy', \"'s\", 'reviewed', \"''\", 'was', 'choose', 'as', 'a', 'klieg_lights', 'evaluation', ',', 'because', 'he/she', 'classifies', 'the', 'averages', 'radio-listening', ',', 'Nickleback', 'rabid_fan', '.', 'What', 'I', 'hatred', 'about', 'indie_rock_bands', 'like', 'this', 'is', 'that', 'they', 'Taking', 'apart', 'broadcasts', 'moment', 'to', 'exposes', 'Bands', 'that', 'want', 'our', 'spotlight', '.', 'Someone', 'with', 'cerebrum', 'should', 'pull', 'this', 'down', 'and', 'listening', 'to', 'great', 'talented', 'like', 'In', 'Flames', '.', 'If', 'you', 'must', 'Listening', 'to', 'a', 'radio-dominated', 'punk_band', ',', 'at', 'least', 'listens', 'to', 'A', 'Perfect', 'Circle', ',', 'Tool', ',', 'Nine', 'inch_thick', 'teeth', ',', 'Muse', ',', 'Metallica', '(', 'pre-St.', 'Anger', ')', ',', 'or', 'everything', 'elsewith', 'stimulant', '.', 'By', 'the', 'ways', ',', 'want', 'acrobatically', '``', 'Someday', \"''\", 'alongside', '``', 'How', 'You', 'Tell', 'Me', ',', \"''\", 'you', 'will', 'expect', 'how', 'Nickleback', 'has', 'Producing', 'two', 'practically', 'eerily_similar', 'original_compositions', ',', 'exacerbated', 'by', 'their', 'radio-friendly', 'cliched', 'songs', 'scribbling', 'abilities', '.']\n['Nickleback', 'is', 'Safe', 'Channel', \"'s\", 'good', 'dear_friend', ':', 'their', 'classical_music', 'is', 'Ordinary', ',', 'duller', ',', 'and', 'really', 'delineating', 'mainstreaming', '.', 'The', 'melodies', 'this', 'are', 'all', 'the', 'similiar', ',', 'with', 'shoddy', 'ballad', ',', 'and', 'Chad', \"'s\", 'Standards', ',', 'common', 'crooning', 'sensibility', '.', 'Sorry', 'about', 'employing', 'everyday', 'but', 'countless', 'time', ',', 'it', 'maybe', 'characterizes', 'this', 'alt_rock_band', 'but', 'good', '.', 'I', 'uncover', 'it', 'hilariously', 'that', '``', 'A', 'fella', \"'s\", 'reviewed', \"''\", 'was', 'Chosen', 'as', 'a', 'limelight', 'assessment', ',', 'because', 'he/she', 'redefines', 'the', 'averaging', 'radio-listening', ',', 'Nickleback', 'rabid_fan', '.', 'What', 'I', 'HATE', 'about', 'rockers', 'like', 'this', 'is', 'that', 'they', 'Take', 'in.', 'broadcaster', 'times', 'to', 'exposing', 'rockers', 'that', 'merited', 'our', 'notoriety', '.', 'Everybody', 'with', 'neural_pathways', 'should', 'morph', 'this', 'up', 'and', 'listened', 'to', 'big', 'superstars', 'like', 'In', 'Flames', '.', 'If', 'you', 'must', 'listened', 'to', 'a', 'radio-dominated', 'bands', ',', 'at', 'nearly', 'sing', 'to', 'A', 'Perfect', 'Circle', ',', 'Tool', ',', 'Nine', 'centimeter', 'nail', ',', 'Muse', ',', 'Metallica', '(', 'pre-St.', 'Anger', ')', ',', 'or', 'not', 'elsewith', 'noxious_substance', '.', 'By', 'the', 'how', ',', 'tries', 'loops', '``', 'Someday', \"''\", 'alongside', '``', 'How', 'You', 'Encourage', 'Me', ',', \"''\", 'you', 'will', 'watch', 'how', 'Nickleback', 'has', 'produces', 'two', 'Almost', 'eerily_similar', 'original_compositions', ',', 'occasioned', 'by', 'their', 'radio-friendly', 'rote', 'lyrics', 'reading', 'talents', '.']\n['Nickleback', 'is', 'Clearer', 'Channel', \"'s\", 'easiest', 'colleague', ':', 'their', 'musical', 'is', 'plebian', ',', 'unexciting', ',', 'and', 'really', 'shaping', 'zeitgeist', '.', 'The', 'Songs', 'just', 'are', 'all', 'the', 'similiar', ',', 'with', 'wretched', 'melody', ',', 'and', 'Chad', \"'s\", 'guidelines', ',', 'extraordinary', 'song', 'elegance', '.', 'Sorry', 'about', 'Utilize', 'mundane', 'just', 'numerous', 'past', ',', 'it', 'anyway', 'establishes', 'this', 'bands', 'really', 'excellently', '.', 'I', 'Find', 'it', 'uproarious', 'that', '``', 'A', 'schooler', \"'s\", 'evaluate', \"''\", 'was', 'selecting', 'as', 'a', 'spotlights', 'evaluation', ',', 'because', 'he/she', 'refers', 'the', 'total', 'radio-listening', ',', 'Nickleback', 'fanatic', '.', 'What', 'I', 'Hate', 'about', 'Bands', 'like', 'this', 'is', 'that', 'they', 'takes', 'up', 'radio_stations', 'hours', 'to', 'exposed', 'indie_rock', 'that', 'deserves', 'our', 'scorn', '.', 'Someone', 'with', 'brain', 'should', 'yank', 'this', 'out', 'and', 'listened', 'to', 'genuine', 'skillset', 'like', 'In', 'Flames', '.', 'If', 'you', 'must', 'listened', 'to', 'a', 'radio-dominated', 'drummer', ',', 'at', 'Least', 'vocalize', 'to', 'A', 'Perfect', 'Circle', ',', 'Tool', ',', 'Nine', 'millimeter', 'rusty_nail', ',', 'Muse', ',', 'Metallica', '(', 'pre-St.', 'Anger', ')', ',', 'or', 'never', 'elsewith', 'stimulant', '.', 'By', 'the', 'things', ',', 'hoping', 'diagonal', '``', 'Someday', \"''\", 'alongside', '``', 'How', 'You', 'Instruct', 'Me', ',', \"''\", 'you', 'will', 'seeing', 'how', 'Nickleback', 'has', 'yielded', 'two', 'nearly', 'eerily_similar', 'melodies', ',', 'exacerbated', 'by', 'their', 'radio-friendly', 'bland', 'ballad', 'wrote', 'interpersonal_skills', '.']\n",
     "output_type": "stream"
    }
   ],
   "execution_count": 29
  },
  {
   "cell_type": "code",
   "metadata": {
    "tags": [],
    "deepnote_to_be_reexecuted": false,
    "source_hash": "e72c710c",
    "execution_start": 1651129622292,
    "execution_millis": 0,
    "cell_id": "00039-8256c258-17d3-4462-b169-0c26675871be",
    "deepnote_cell_type": "code",
    "deepnote_cell_height": 117
   },
   "source": "#new_x = []\n#for  i in train_x[:1000]:\n    #new_x.append(change_word2vec(i))",
   "execution_count": null,
   "outputs": []
  },
  {
   "cell_type": "code",
   "metadata": {
    "tags": [],
    "deepnote_to_be_reexecuted": false,
    "source_hash": "41bfadc1",
    "execution_start": 1651130124346,
    "execution_millis": 280,
    "cell_id": "00040-60002cac-1c3e-48e5-940e-c395b9bdf5ee",
    "deepnote_cell_type": "code",
    "deepnote_cell_height": 281.765625
   },
   "source": "print(train_x_split[6])\nprint(gen_synth_web(train_x_split[6]))\nprint(change_wordnet(train_x_split[6]))\nprint(change_word2vec(train_x_split[6]))",
   "execution_count": null,
   "outputs": [
    {
     "name": "stdout",
     "text": "['I', 'love', 'all', 'of', 'his', 'music', '!', '!']\n['ve ', 'love', 'group ', 'of', 'his', 'music', '!', '!']\n['I', 'have_intercourse', 'all', 'of', 'his', 'music', '!', '!']\n",
     "output_type": "stream"
    },
    {
     "output_type": "error",
     "ename": "UnboundLocalError",
     "evalue": "local variable 'sentence' referenced before assignment",
     "traceback": [
      "\u001b[0;31m---------------------------------------------------------------------------\u001b[0m",
      "\u001b[0;31mUnboundLocalError\u001b[0m                         Traceback (most recent call last)",
      "\u001b[0;32m<ipython-input-54-fe5d0c7d39cc>\u001b[0m in \u001b[0;36m<module>\u001b[0;34m\u001b[0m\n\u001b[1;32m      2\u001b[0m \u001b[0mprint\u001b[0m\u001b[0;34m(\u001b[0m\u001b[0mgen_synth_web\u001b[0m\u001b[0;34m(\u001b[0m\u001b[0mtrain_x_split\u001b[0m\u001b[0;34m[\u001b[0m\u001b[0;36m6\u001b[0m\u001b[0;34m]\u001b[0m\u001b[0;34m)\u001b[0m\u001b[0;34m)\u001b[0m\u001b[0;34m\u001b[0m\u001b[0;34m\u001b[0m\u001b[0m\n\u001b[1;32m      3\u001b[0m \u001b[0mprint\u001b[0m\u001b[0;34m(\u001b[0m\u001b[0mchange_wordnet\u001b[0m\u001b[0;34m(\u001b[0m\u001b[0mtrain_x_split\u001b[0m\u001b[0;34m[\u001b[0m\u001b[0;36m6\u001b[0m\u001b[0;34m]\u001b[0m\u001b[0;34m)\u001b[0m\u001b[0;34m)\u001b[0m\u001b[0;34m\u001b[0m\u001b[0;34m\u001b[0m\u001b[0m\n\u001b[0;32m----> 4\u001b[0;31m \u001b[0mprint\u001b[0m\u001b[0;34m(\u001b[0m\u001b[0mchange_word2vec\u001b[0m\u001b[0;34m(\u001b[0m\u001b[0mtrain_x_split\u001b[0m\u001b[0;34m[\u001b[0m\u001b[0;36m6\u001b[0m\u001b[0;34m]\u001b[0m\u001b[0;34m)\u001b[0m\u001b[0;34m)\u001b[0m\u001b[0;34m\u001b[0m\u001b[0;34m\u001b[0m\u001b[0m\n\u001b[0m",
      "\u001b[0;32m<ipython-input-50-fab0f16df054>\u001b[0m in \u001b[0;36mchange_word2vec\u001b[0;34m(original_sentence, prob)\u001b[0m\n\u001b[1;32m      3\u001b[0m \u001b[0maux_verbs\u001b[0m \u001b[0;34m=\u001b[0m \u001b[0;34m[\u001b[0m\u001b[0;34m'am'\u001b[0m\u001b[0;34m,\u001b[0m\u001b[0;34m'are'\u001b[0m\u001b[0;34m,\u001b[0m\u001b[0;34m'be'\u001b[0m\u001b[0;34m,\u001b[0m\u001b[0;34m'been'\u001b[0m\u001b[0;34m,\u001b[0m\u001b[0;34m'being'\u001b[0m\u001b[0;34m,\u001b[0m\u001b[0;34m'did'\u001b[0m\u001b[0;34m,\u001b[0m\u001b[0;34m'do'\u001b[0m\u001b[0;34m,\u001b[0m\u001b[0;34m'does'\u001b[0m\u001b[0;34m,\u001b[0m\u001b[0;34m'had'\u001b[0m\u001b[0;34m,\u001b[0m\u001b[0;34m'has'\u001b[0m\u001b[0;34m,\u001b[0m\u001b[0;34m'have'\u001b[0m\u001b[0;34m,\u001b[0m\u001b[0;34m'having'\u001b[0m\u001b[0;34m,\u001b[0m\u001b[0;34m'is'\u001b[0m\u001b[0;34m,\u001b[0m\u001b[0;34m'was'\u001b[0m\u001b[0;34m,\u001b[0m\u001b[0;34m'were'\u001b[0m\u001b[0;34m,\u001b[0m\u001b[0;34m'will'\u001b[0m\u001b[0;34m]\u001b[0m \u001b[0;31m#Used to avoid changing function words\u001b[0m\u001b[0;34m\u001b[0m\u001b[0;34m\u001b[0m\u001b[0m\n\u001b[1;32m      4\u001b[0m \u001b[0;32mdef\u001b[0m \u001b[0mchange_word2vec\u001b[0m\u001b[0;34m(\u001b[0m\u001b[0moriginal_sentence\u001b[0m\u001b[0;34m,\u001b[0m \u001b[0mprob\u001b[0m \u001b[0;34m=\u001b[0m \u001b[0;36m0.5\u001b[0m\u001b[0;34m)\u001b[0m\u001b[0;34m:\u001b[0m\u001b[0;34m\u001b[0m\u001b[0;34m\u001b[0m\u001b[0m\n\u001b[0;32m----> 5\u001b[0;31m     \u001b[0msentence\u001b[0m \u001b[0;34m=\u001b[0m \u001b[0mnltk\u001b[0m\u001b[0;34m.\u001b[0m\u001b[0mpos_tag\u001b[0m\u001b[0;34m(\u001b[0m\u001b[0msentence\u001b[0m\u001b[0;34m)\u001b[0m    \u001b[0;31m#pos-tagging sentence here\u001b[0m\u001b[0;34m\u001b[0m\u001b[0;34m\u001b[0m\u001b[0m\n\u001b[0m\u001b[1;32m      6\u001b[0m     \u001b[0mnew_sentence\u001b[0m \u001b[0;34m=\u001b[0m \u001b[0;34m[\u001b[0m\u001b[0;34m]\u001b[0m \u001b[0;31m#to append to and then return as final sentence\u001b[0m\u001b[0;34m\u001b[0m\u001b[0;34m\u001b[0m\u001b[0m\n\u001b[1;32m      7\u001b[0m     \u001b[0;32mfor\u001b[0m \u001b[0mword\u001b[0m \u001b[0;32min\u001b[0m \u001b[0msentence\u001b[0m\u001b[0;34m:\u001b[0m\u001b[0;34m\u001b[0m\u001b[0;34m\u001b[0m\u001b[0m\n",
      "\u001b[0;31mUnboundLocalError\u001b[0m: local variable 'sentence' referenced before assignment"
     ]
    }
   ]
  },
  {
   "cell_type": "code",
   "metadata": {
    "cell_id": "c3799b19b0cc47c7939e9797acb2e003",
    "tags": [],
    "deepnote_to_be_reexecuted": false,
    "source_hash": "bf8db33f",
    "execution_start": 1651137424726,
    "execution_millis": 97,
    "deepnote_cell_type": "code",
    "deepnote_cell_height": 290.921875,
    "deepnote_output_heights": [
     193.9375
    ]
   },
   "source": " gooEmbs.most_similar('woman')",
   "execution_count": null,
   "outputs": [
    {
     "output_type": "execute_result",
     "execution_count": 20,
     "data": {
      "text/plain": "[('man', 0.7664012908935547),\n ('girl', 0.7494640946388245),\n ('teenage_girl', 0.7336829304695129),\n ('teenager', 0.6317085027694702),\n ('lady', 0.6288785934448242),\n ('teenaged_girl', 0.6141784191131592),\n ('mother', 0.6076306104660034),\n ('policewoman', 0.6069462299346924),\n ('boy', 0.5975907444953918),\n ('Woman', 0.5770983099937439)]"
     },
     "metadata": {}
    }
   ]
  },
  {
   "cell_type": "markdown",
   "source": "# Baseline",
   "metadata": {
    "tags": [],
    "cell_id": "00041-1ff244d6-7478-4b64-af71-050f766be07c",
    "deepnote_cell_type": "markdown",
    "deepnote_cell_height": 82
   }
  },
  {
   "cell_type": "code",
   "metadata": {
    "tags": [],
    "cell_id": "00042-64c2ae34-6b4a-4122-a44a-78175d2acb3c",
    "deepnote_to_be_reexecuted": false,
    "source_hash": "47f92766",
    "execution_start": 1651135623746,
    "execution_millis": 1,
    "deepnote_cell_type": "code",
    "deepnote_cell_height": 153
   },
   "source": "pipeline = Pipeline([\n    ('CountVectorizer',CountVectorizer(ngram_range=(1, 2))),\n    ('Tfidf',TfidfTransformer()),\n    ('clf', MultinomialNB(alpha=1, fit_prior=False))\n])",
   "execution_count": null,
   "outputs": []
  },
  {
   "cell_type": "code",
   "metadata": {
    "tags": [],
    "cell_id": "00043-5c9e58d5-6d98-4d6b-8ab9-101a4adb0d92",
    "deepnote_to_be_reexecuted": false,
    "source_hash": "6ef8dee9",
    "execution_start": 1651135623762,
    "execution_millis": 128,
    "deepnote_cell_type": "code",
    "deepnote_cell_height": 369.1875
   },
   "source": "size = [500, 1000, 2500, 5000, 10000, 20000, 30000, 50000, 60000, 70000, 80000, 90000, 100000]\ntrain_acc = []\ndev_acc = []\nfor i in size:\n    pipeline.fit(balanced_x_train[:i],balanced_y_train[:i] )\n    pred_train = pipeline.predict(balanced_x_train)\n    train_acc.append(f1_score(balanced_x_train, pred_train, average='macro'))\n    pred = pipeline.predict(dev_x)\n    dev_acc.append(f1_score(dev_y, pred, average='macro'))\n    print(f'done with size {i}')\n",
   "execution_count": null,
   "outputs": [
    {
     "output_type": "error",
     "ename": "KernelInterrupted",
     "evalue": "Execution interrupted by the Jupyter kernel.",
     "traceback": [
      "\u001b[0;31m---------------------------------------------------------------------------\u001b[0m",
      "\u001b[0;31mKernelInterrupted\u001b[0m: Execution interrupted by the Jupyter kernel."
     ]
    }
   ]
  },
  {
   "cell_type": "code",
   "metadata": {
    "cell_id": "f64251112a074b6db4dc0f6d844e5750",
    "tags": [],
    "deepnote_to_be_reexecuted": true,
    "source_hash": "15257823",
    "deepnote_cell_type": "code",
    "deepnote_cell_height": 81
   },
   "source": "plt.plot(size, dev_acc)",
   "execution_count": null,
   "outputs": []
  },
  {
   "cell_type": "code",
   "metadata": {
    "cell_id": "d3ec2055579e429398d86e4aa47293b8",
    "tags": [],
    "deepnote_cell_type": "code",
    "deepnote_cell_height": 66
   },
   "source": "plt.plot(size, train_acc)",
   "execution_count": null,
   "outputs": []
  },
  {
   "cell_type": "markdown",
   "source": "<a style='text-decoration:none;line-height:16px;display:flex;color:#5B5B62;padding:10px;justify-content:end;' href='https://deepnote.com?utm_source=created-in-deepnote-cell&projectId=b88dfe01-c7e1-473c-bcfd-798313fc6522' target=\"_blank\">\n<img alt='Created in deepnote.com' style='display:inline;max-height:16px;margin:0px;margin-right:7.5px;' src='data:image/svg+xml;base64,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' > </img>\nCreated in <span style='font-weight:600;margin-left:4px;'>Deepnote</span></a>",
   "metadata": {
    "tags": [],
    "created_in_deepnote_cell": true,
    "deepnote_cell_type": "markdown"
   }
  }
 ],
 "nbformat": 4,
 "nbformat_minor": 2,
 "metadata": {
  "orig_nbformat": 2,
  "deepnote": {},
  "deepnote_notebook_id": "35ff6e96-fdd4-40d9-99a5-41c991ba8211",
  "deepnote_execution_queue": []
 }
}
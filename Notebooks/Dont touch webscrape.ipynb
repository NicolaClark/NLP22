{
 "cells": [
  {
   "cell_type": "markdown",
   "source": "### Import",
   "metadata": {
    "tags": [],
    "is_collapsed": false,
    "cell_id": "3e3ff134-1981-436b-89de-1217d1f35ba9",
    "deepnote_cell_type": "text-cell-h3"
   }
  },
  {
   "cell_type": "code",
   "metadata": {
    "tags": [],
    "deepnote_to_be_reexecuted": false,
    "source_hash": "5a18cebf",
    "execution_start": 1651747764465,
    "execution_millis": 2748,
    "cell_id": "00001-1a7bfe27-b20f-4f55-ab67-8a8a19f15073",
    "deepnote_cell_type": "code",
    "deepnote_cell_height": 513
   },
   "source": "import gzip\nimport json\nimport random\nimport time\nfrom nltk import word_tokenize\nfrom tqdm import tqdm\nimport contractions\n\n# Imports for the synonym dictionary \nimport requests\nfrom bs4 import BeautifulSoup\nfrom nltk.wsd import lesk\n\n#wordnet imports\n#importing NLTK corpus synonym dictionary, pos-tagging and checking the outputs\nimport nltk\nfrom nltk.corpus import wordnet\nfrom nltk import pos_tag\nimport random\n\n\nfrom sklearn.utils import shuffle\n\n#Word2Vec imports\nimport gensim.models",
   "execution_count": null,
   "outputs": []
  },
  {
   "cell_type": "code",
   "metadata": {
    "tags": [],
    "deepnote_to_be_reexecuted": false,
    "source_hash": "698c3b88",
    "execution_start": 1651747770068,
    "execution_millis": 2354,
    "cell_id": "00002-193460b4-60a8-4bfa-b623-4e3f3c9ac8b7",
    "owner_user_id": "e3bb0160-fb91-44de-b701-79c62e58c7f8",
    "deepnote_cell_type": "code",
    "deepnote_cell_height": 396.1875
   },
   "source": "#wordnet downloads\nnltk.download('wordnet')\nnltk.download('omw-1.4')\nnltk.download('averaged_perceptron_tagger')\nnltk.download('punkt')",
   "execution_count": null,
   "outputs": [
    {
     "name": "stderr",
     "text": "[nltk_data] Downloading package wordnet to /root/nltk_data...\n[nltk_data]   Unzipping corpora/wordnet.zip.\n[nltk_data] Downloading package omw-1.4 to /root/nltk_data...\n[nltk_data]   Unzipping corpora/omw-1.4.zip.\n[nltk_data] Downloading package averaged_perceptron_tagger to\n[nltk_data]     /root/nltk_data...\n[nltk_data]   Unzipping taggers/averaged_perceptron_tagger.zip.\n[nltk_data] Downloading package punkt to /root/nltk_data...\n[nltk_data]   Unzipping tokenizers/punkt.zip.\n",
     "output_type": "stream"
    },
    {
     "output_type": "execute_result",
     "execution_count": 2,
     "data": {
      "text/plain": "True"
     },
     "metadata": {}
    }
   ]
  },
  {
   "cell_type": "code",
   "metadata": {
    "tags": [],
    "deepnote_to_be_reexecuted": false,
    "source_hash": "f4fb80ea",
    "execution_start": 1651747772432,
    "execution_millis": 0,
    "cell_id": "00003-849480a4-4161-4d6d-979d-ffad1dd2ecd9",
    "deepnote_cell_type": "code",
    "deepnote_cell_height": 81
   },
   "source": "random.seed(42)",
   "execution_count": null,
   "outputs": []
  },
  {
   "cell_type": "markdown",
   "source": "### Read in the data",
   "metadata": {
    "tags": [],
    "is_collapsed": false,
    "cell_id": "00004-e1e8441f-55d0-4ced-9f48-f631b5bcecd5",
    "deepnote_cell_type": "text-cell-h3"
   }
  },
  {
   "cell_type": "code",
   "metadata": {
    "tags": [],
    "deepnote_to_be_reexecuted": false,
    "source_hash": "8c0ba9db",
    "execution_start": 1651747774283,
    "execution_millis": 0,
    "cell_id": "00005-cdea06e8-1bb8-44c4-bb79-bd6e2ab062ab",
    "deepnote_cell_type": "code",
    "deepnote_cell_height": 243
   },
   "source": "#here\ndef reading_in(path):\n    thing=[]\n    for line in gzip.open(path):\n        review_data = json.loads(line)\n        subthing = dict()\n        for key in review_data:\n            subthing[key]= review_data[key]\n        thing.append(subthing)\n    return thing",
   "execution_count": null,
   "outputs": []
  },
  {
   "cell_type": "code",
   "metadata": {
    "tags": [],
    "deepnote_to_be_reexecuted": false,
    "source_hash": "3075fe6d",
    "execution_start": 1651747776230,
    "execution_millis": 2733,
    "cell_id": "00006-449450e8-9654-4a1d-a55a-25bb7fc0c7e2",
    "deepnote_cell_type": "code",
    "deepnote_cell_height": 135
   },
   "source": "train = reading_in('../data/classification/music_reviews_train.json.gz')\n#dev = reading_in('../data/classification/music_reviews_dev.json.gz') # do not use!\n#test = reading_in('../data/classification/music_reviews_test_masked.json.gz') #do not use!\ntrain = shuffle(train, random_state=42)",
   "execution_count": null,
   "outputs": []
  },
  {
   "cell_type": "code",
   "metadata": {
    "tags": [],
    "deepnote_to_be_reexecuted": false,
    "source_hash": "7fdd351a",
    "execution_start": 1651747784036,
    "execution_millis": 297,
    "cell_id": "00007-825df242-3a2e-4613-84af-576332ddfbf3",
    "owner_user_id": "25f14c51-1e8d-4a70-b4e1-014493979a0f",
    "deepnote_cell_type": "code",
    "deepnote_cell_height": 99
   },
   "source": "train_x = [i['reviewText'] for i in train if \"reviewText\" in i.keys() and \"sentiment\" in i.keys()]\ntrain_y =  [i['sentiment'] for i in train if \"reviewText\" in i.keys() and \"sentiment\" in i.keys()]",
   "execution_count": null,
   "outputs": []
  },
  {
   "cell_type": "code",
   "metadata": {
    "cell_id": "e1ab28f5eb0a4764aa000573f7e7de14",
    "tags": [],
    "deepnote_to_be_reexecuted": false,
    "source_hash": "ba64fbb3",
    "execution_start": 1651747786086,
    "execution_millis": 104,
    "deepnote_cell_type": "code",
    "deepnote_cell_height": 81
   },
   "source": "pos_neg = [sum([i ==\"positive\" for i in train_y]),sum([i != \"positive\" for i in train_y])]",
   "execution_count": null,
   "outputs": []
  },
  {
   "cell_type": "code",
   "metadata": {
    "cell_id": "eb434fedf9e04069ad86670ffee4e92d",
    "tags": [],
    "deepnote_to_be_reexecuted": false,
    "source_hash": "8766005f",
    "execution_start": 1651747789052,
    "execution_millis": 2041,
    "deepnote_cell_type": "code",
    "deepnote_cell_height": 417.1875,
    "deepnote_output_heights": [
     null,
     250
    ]
   },
   "source": "import matplotlib.pyplot as plt\nplt.bar(x=[\"pos\",\"neg\"], height = pos_neg) ",
   "execution_count": null,
   "outputs": [
    {
     "output_type": "execute_result",
     "execution_count": 9,
     "data": {
      "text/plain": "<BarContainer object of 2 artists>"
     },
     "metadata": {}
    },
    {
     "data": {
      "text/plain": "<Figure size 432x288 with 1 Axes>",
      "image/png": "[encoded data removed]"
     },
     "metadata": {
      "needs_background": "light",
      "image/png": {
       "width": 387,
       "height": 248
      }
     },
     "output_type": "display_data"
    }
   ]
  },
  {
   "cell_type": "code",
   "metadata": {
    "cell_id": "fe30cd8944184fffa71bb723ec163a22",
    "tags": [],
    "deepnote_to_be_reexecuted": false,
    "source_hash": "3bbd2066",
    "execution_start": 1651748137707,
    "execution_millis": 170,
    "deepnote_cell_type": "code",
    "deepnote_cell_height": 405
   },
   "source": "###split into pos and neg\ntrain_x_pos = []\ntrain_x_neg = []\ntrain_y_pos = []\ntrain_y_neg = []\nfor i in range(len(train_x)):\n    if train_y[i] == \"positive\":\n        train_x_pos.append(train_x[i])\n        train_y_pos.append(train_y[i])\n    else:\n        train_x_neg.append(train_x[i])\n        train_y_neg.append(train_y[i])\ntrain_x_neg.extend(train_x_pos[0:len(train_x_neg)])\ntrain_y_neg.extend(train_y_pos[0:len(train_y_neg)])\nbalanced_x_train_s = train_x_neg\nbalanced_y_train_s = train_y_neg\n\nbalanced_x_train, balanced_y_train = shuffle(balanced_x_train_s, balanced_y_train_s, random_state= 42)\n",
   "execution_count": null,
   "outputs": []
  },
  {
   "cell_type": "code",
   "metadata": {
    "cell_id": "7c257e6f6dfd434ab2f5664f247d9006",
    "tags": [],
    "deepnote_to_be_reexecuted": false,
    "source_hash": "d33964d",
    "execution_start": 1651748139400,
    "execution_millis": 341494,
    "deepnote_cell_type": "code",
    "deepnote_cell_height": 118.1875
   },
   "source": "len(balanced_x_train)",
   "execution_count": null,
   "outputs": [
    {
     "output_type": "execute_result",
     "execution_count": 19,
     "data": {
      "text/plain": "78424"
     },
     "metadata": {}
    }
   ]
  },
  {
   "cell_type": "markdown",
   "source": "### Preparing the data",
   "metadata": {
    "tags": [],
    "is_collapsed": false,
    "cell_id": "00008-58b54748-3c52-4686-8258-03357805ed9f",
    "deepnote_cell_type": "text-cell-h3"
   }
  },
  {
   "cell_type": "code",
   "metadata": {
    "tags": [],
    "deepnote_to_be_reexecuted": false,
    "source_hash": "69913f58",
    "execution_start": 1651748141202,
    "execution_millis": 3,
    "cell_id": "00009-86d377aa-ab40-4fd5-9e3a-a20f7bce05ab",
    "deepnote_cell_type": "code",
    "deepnote_cell_height": 99
   },
   "source": "#old tokenizer\n#train_x_back = [' '.join(sen) for sen in train_x_split] may not need convertes tokenised back to single string",
   "execution_count": null,
   "outputs": []
  },
  {
   "cell_type": "code",
   "metadata": {
    "tags": [],
    "deepnote_to_be_reexecuted": false,
    "source_hash": "aa47e93f",
    "execution_start": 1651748142826,
    "execution_millis": 3,
    "cell_id": "00010-4c77c799-0922-4fa7-a21e-8fb222ae83fc",
    "deepnote_cell_type": "code",
    "deepnote_cell_height": 117
   },
   "source": "#Tokenizer\ndef tokenize_corpus(corpus):\n    return [word_tokenize(contractions.fix(s)) for s in corpus]",
   "execution_count": null,
   "outputs": []
  },
  {
   "cell_type": "code",
   "metadata": {
    "tags": [],
    "deepnote_to_be_reexecuted": false,
    "source_hash": "cc15a788",
    "execution_start": 1651748146375,
    "execution_millis": 61269,
    "cell_id": "00011-4bd17ecf-fd42-4f18-9a46-0511f060295c",
    "deepnote_cell_type": "code",
    "deepnote_cell_height": 81
   },
   "source": "train_x_split = tokenize_corpus(balanced_x_train)",
   "execution_count": null,
   "outputs": []
  },
  {
   "cell_type": "markdown",
   "source": "# Webscrape synonyms",
   "metadata": {
    "tags": [],
    "is_collapsed": false,
    "cell_id": "00012-958eb605-f960-4db9-9f34-f0d8ed3aeea7",
    "deepnote_cell_type": "text-cell-h1"
   }
  },
  {
   "cell_type": "code",
   "metadata": {
    "tags": [],
    "deepnote_to_be_reexecuted": false,
    "source_hash": "82406177",
    "execution_start": 1651748207644,
    "execution_millis": 88,
    "cell_id": "00013-f6f10f14-2b20-423d-a517-9c4cf9049c28",
    "deepnote_cell_type": "code",
    "deepnote_cell_height": 310
   },
   "source": "##Alternative to PyDictionary\n##THIS IS COPIED FROM SLACK\n# https://stackoverflow.com/questions/52910297/pydictionary-word-has-no-synonyms-in-the-api\n\ndef synonyms(term):\n    response = requests.get('https://www.thesaurus.com/browse/{}'.format(term))\n    soup = BeautifulSoup(response.text, 'lxml')\n    soup.find('section', {'class': 'css-17ofzyv e1ccqdb60'})\n    return [span.text for span in soup.findAll('a', {'class': 'css-1kg1yv8 eh475bn0'})] # 'css-1gyuw4i eh475bn0' for less relevant synonyms\n\nword = \"us\"\nprint(synonyms(word))",
   "execution_count": null,
   "outputs": [
    {
     "name": "stdout",
     "text": "['them ', 'you ']\n",
     "output_type": "stream"
    }
   ]
  },
  {
   "cell_type": "code",
   "metadata": {
    "tags": [],
    "deepnote_to_be_reexecuted": false,
    "source_hash": "92b3ef15",
    "execution_start": 1651748775244,
    "execution_millis": 3,
    "cell_id": "00014-80593723-f320-4b00-8136-431fd99a99b9",
    "deepnote_cell_type": "code",
    "deepnote_cell_height": 387
   },
   "source": "dont_replace = ['am','are','be','been','being','did','do','does','had','has','have','having','is','was','were','will','i', 'it', 'she', 'sie', 'they', 've', 'xe', 'you', 'ze', 'zie','he',\"you\",\"we\",\"mine\",\"hers\",\"his\",\"yours\",\"its\",\"ours\",\"theirs\",\"your\",\"our\",\"oneself\",\"oneselves\",\"yourself\",\"yourselves\",\"himself\",\"herself\",\"himself\",\"myself\",\"themselves\",\"itself\",\"ourselves\",\"ourself\",\"us\",\"them\"] #Used to avoid changing function and pronouns words\nrandom.seed(43)\ndef gen_synth_web(sentence,prob = 0.5):\n    new_sen = []\n    for word in sentence:\n        if word.lower() in dont_replace:\n            new_sen.append(word)\n        else:\n            if prob < random.random():\n                #print(threshold) can remove later kept for debugging\n                syn = synonyms(word.lower())\n                if len(syn) != 0:\n                    #print(\"selected\", word) can remove later kept for debugging\n                    new_sen.append(random.choice(syn))\n                else:new_sen.append(word)\n            else:\n                new_sen.append(word)\n    return new_sen",
   "execution_count": null,
   "outputs": []
  },
  {
   "cell_type": "code",
   "metadata": {
    "cell_id": "b88279ab8d734f988cff9dcb0ed77d05",
    "tags": [],
    "deepnote_to_be_reexecuted": false,
    "source_hash": "f97e197f",
    "execution_start": 1651748207750,
    "execution_millis": 16,
    "deepnote_cell_type": "code",
    "deepnote_cell_height": 112
   },
   "source": "print(train_x_split[11])",
   "execution_count": null,
   "outputs": [
    {
     "name": "stdout",
     "text": "['I', 'love', 'this', 'song', ',', 'words', 'and', 'music', 'is', 'on', 'point']\n",
     "output_type": "stream"
    }
   ]
  },
  {
   "cell_type": "code",
   "metadata": {
    "cell_id": "d0fedaf7d8994bfbb83dfe66b9d544f4",
    "tags": [],
    "deepnote_to_be_reexecuted": false,
    "source_hash": "4b7cee4a",
    "execution_start": 1651748207771,
    "execution_millis": 1142,
    "deepnote_cell_type": "code",
    "deepnote_cell_height": 112
   },
   "source": "print(gen_synth_web(train_x_split[11]))",
   "execution_count": null,
   "outputs": [
    {
     "name": "stdout",
     "text": "['I', 'worship ', 'this', 'song', ',', 'words', 'and', 'music', 'is', 'on', 'point']\n",
     "output_type": "stream"
    }
   ]
  },
  {
   "cell_type": "code",
   "metadata": {
    "cell_id": "d5965ae8c9fe479386919c9cc98208a6",
    "tags": [],
    "deepnote_to_be_reexecuted": false,
    "source_hash": "ebf1cc5f",
    "execution_start": 1651140824638,
    "execution_millis": 5,
    "deepnote_cell_type": "code",
    "deepnote_cell_height": 118.1875,
    "deepnote_output_heights": [
     21.1875
    ]
   },
   "source": "[0,1,2,3,4][:2]",
   "execution_count": null,
   "outputs": [
    {
     "output_type": "execute_result",
     "execution_count": 28,
     "data": {
      "text/plain": "[0, 1]"
     },
     "metadata": {}
    }
   ]
  },
  {
   "cell_type": "code",
   "metadata": {
    "tags": [],
    "deepnote_to_be_reexecuted": false,
    "source_hash": "201c14ee",
    "execution_start": 1651748789579,
    "execution_millis": 56274134,
    "cell_id": "00015-6e2ef738-db86-4e6f-a38e-6df8e6e0ac62",
    "deepnote_cell_type": "code",
    "deepnote_cell_height": 166
   },
   "source": "for i in tqdm(train_x_split[0:10000]):#running with 0:10000\n    with open (\"../data/synthetic/webscrape.csv\",\"a\") as f:\n        f.write(' '.join(gen_synth_web(i))+\"\\n\")\n        time.sleep(2)",
   "execution_count": null,
   "outputs": [
    {
     "name": "stderr",
     "text": "100%|██████████| 10000/10000 [15:37:54<00:00,  5.63s/it]\n",
     "output_type": "stream"
    }
   ]
  },
  {
   "cell_type": "markdown",
   "source": "#### Example of webscrape synthetic sentence ",
   "metadata": {
    "tags": [],
    "cell_id": "00016-5eb15f75-8e24-420e-965f-16f4b630772b",
    "deepnote_cell_type": "markdown",
    "deepnote_cell_height": 54
   }
  },
  {
   "cell_type": "code",
   "metadata": {
    "tags": [],
    "deepnote_to_be_reexecuted": false,
    "source_hash": "180cb14c",
    "execution_start": 1650875688289,
    "execution_millis": 1,
    "cell_id": "00017-4e8ac0a8-6a12-4b2d-a625-210844a78526",
    "deepnote_cell_type": "code",
    "deepnote_cell_height": 112
   },
   "source": "print(train_x_split[6])",
   "execution_count": null,
   "outputs": [
    {
     "name": "stdout",
     "text": "['I', 'love', 'all', 'of', 'his', 'music', '!', '!']\n",
     "output_type": "stream"
    }
   ]
  },
  {
   "cell_type": "code",
   "metadata": {
    "tags": [],
    "deepnote_to_be_reexecuted": false,
    "source_hash": "d57f9178",
    "execution_start": 1650875688296,
    "execution_millis": 784,
    "cell_id": "00018-e0b41d9a-7c82-4e93-b040-471fb5e125c7",
    "deepnote_cell_type": "code",
    "deepnote_cell_height": 112
   },
   "source": "print(gen_synth_web(train_x_split[6]))",
   "execution_count": null,
   "outputs": [
    {
     "name": "stdout",
     "text": "['I', 'passion ', 'fully ', 'of', 'his', 'music', '!', '!']\n",
     "output_type": "stream"
    }
   ]
  },
  {
   "cell_type": "markdown",
   "source": "# Wordnet",
   "metadata": {
    "tags": [],
    "is_collapsed": false,
    "cell_id": "00019-aa6f94d9-3f9c-4816-ba4e-e1da63fc7f25",
    "deepnote_cell_type": "text-cell-h1"
   }
  },
  {
   "cell_type": "code",
   "metadata": {
    "tags": [],
    "deepnote_to_be_reexecuted": false,
    "source_hash": "5704e446",
    "execution_start": 1651734506041,
    "execution_millis": 0,
    "cell_id": "00020-72cde555-29a8-4161-bd59-b6c6247672d2",
    "deepnote_cell_type": "code",
    "deepnote_cell_height": 621
   },
   "source": "relevant = [\"NN\",\"NNS\",\"RB\",\"RBR\",\"RBS\",\"VB\",\"VBG\",\"VBD\",\"VBN\",\"VBP\",\"VBZ\",\"JJ\",\"JJR\",\"JJS\"]#The wordclasses that can be exchanged with synonyms (not functional words) #maybe not RB\nwordnet_tag_map = {'NN': ['n'],'NNS': ['n'],'JJ': ['a'],'JJR': ['a'],'JJS': ['a'],'RB': ['r'],'RBR': ['r'],'RBS': ['r'], 'VB': ['v'], 'VBG': ['v'], 'VBD': ['v'], 'VBN': ['v'], 'VBP': ['v'], 'VBZ': ['v']} #Making pos-tags coincide\naux_verbs = ['am','are','be','been','being','did','do','does','had','has','have','having','is','was','were','will'] #Used to avoid changing function words\ndef change_wordnet(sentence):\n    sentence = nltk.pos_tag(sentence)    #pos-tagging sentence here\n    new_sentence = [] #to append to and then return as final sentence\n    for word in sentence:\n        if random.random()>0.5:\n            if word[1] in relevant and word[0] not in aux_verbs: #Not changing functional words\n                tag = wordnet_tag_map[word[1]]\n                chosen = lesk(sentence, word[0], tag[0]) #from all synsets choose the most likely in a smart way, thanks to library!\n                if chosen is None:\n                    new_sentence.append(word[0]) #sometimes no synset is chosen so we just give the new sentence the original word\n                else:\n                    options = chosen.lemma_names()\n                    if word[0] in options:\n                        options.remove(word[0])\n                    if len(options)>0:\n                        chosen_w = random.choice(options)\n                        if \"_\" in chosen_w:\n                            for w in chosen_w.split(\"_\"):\n                                new_sentence.append(w)\n                        else:\n                            new_sentence.append(chosen_w)\n                    else:\n                        new_sentence.append(word[0])\n            else:\n                new_sentence.append(word[0])\n        else:\n            new_sentence.append(word[0])\n    return new_sentence",
   "execution_count": null,
   "outputs": []
  },
  {
   "cell_type": "markdown",
   "source": "#### Example of wordnet synthetic sentence ",
   "metadata": {
    "tags": [],
    "cell_id": "00021-5b97e5e6-8dbb-4b36-8e58-f77b26ee3583",
    "deepnote_cell_type": "markdown",
    "deepnote_cell_height": 54
   }
  },
  {
   "cell_type": "code",
   "metadata": {
    "tags": [],
    "deepnote_to_be_reexecuted": false,
    "source_hash": "7cceafcb",
    "execution_start": 1651734509109,
    "execution_millis": 3,
    "cell_id": "00022-b81c92d1-3645-44df-93cd-690699fe32e9",
    "deepnote_cell_type": "code",
    "deepnote_cell_height": 112
   },
   "source": "print(train_x_split[3])",
   "execution_count": null,
   "outputs": [
    {
     "name": "stdout",
     "text": "['I', 'love', 'the', 'sound', 'of', 'anything', 'George', 'Ezra', 'sings', 'in', ';', 'remarkable', 'young', 'man', '.']\n",
     "output_type": "stream"
    }
   ]
  },
  {
   "cell_type": "code",
   "metadata": {
    "tags": [],
    "deepnote_to_be_reexecuted": false,
    "source_hash": "27c48620",
    "execution_start": 1651734510592,
    "execution_millis": 14,
    "cell_id": "00023-8afb2101-4950-44a8-9106-c47d39de7d6d",
    "deepnote_cell_type": "code",
    "deepnote_cell_height": 112
   },
   "source": "print(change_wordnet(train_x_split[3]))",
   "execution_count": null,
   "outputs": [
    {
     "name": "stdout",
     "text": "['I', 'love', 'the', 'strait', 'of', 'anything', 'George', 'Ezra', 'sings', 'in', ';', 'remarkable', 'young', 'man', '.']\n",
     "output_type": "stream"
    }
   ]
  },
  {
   "cell_type": "markdown",
   "source": "#### write to file",
   "metadata": {
    "tags": [],
    "cell_id": "00024-59e945b2-aa0e-4099-9968-55406a402d50",
    "deepnote_cell_type": "markdown",
    "deepnote_cell_height": 54
   }
  },
  {
   "cell_type": "code",
   "metadata": {
    "tags": [],
    "deepnote_to_be_reexecuted": false,
    "source_hash": "1fb3ee3a",
    "execution_start": 1651734513273,
    "execution_millis": 223295,
    "cell_id": "00025-4f8e1b97-ec7d-4886-a36f-79d0b595ba80",
    "deepnote_cell_type": "code",
    "deepnote_cell_height": 81
   },
   "source": "wn_x_train = [change_wordnet(i) for i in train_x_split]",
   "execution_count": null,
   "outputs": []
  },
  {
   "cell_type": "code",
   "metadata": {
    "tags": [],
    "deepnote_to_be_reexecuted": false,
    "source_hash": "d4e804f1",
    "execution_start": 1651734855916,
    "execution_millis": 157,
    "cell_id": "00026-d8eef988-1a3e-4265-82ed-e035e2f01128",
    "deepnote_cell_type": "code",
    "deepnote_cell_height": 99
   },
   "source": "with open(\"../data/synthetic/wordnet.csv\",'w') as f:\n    f.writelines('\\t'.join(s) + '\\n' for s in wn_x_train)",
   "execution_count": null,
   "outputs": []
  },
  {
   "cell_type": "markdown",
   "source": "# Word2vec",
   "metadata": {
    "tags": [],
    "cell_id": "00027-87f28eb2-5634-414e-97c4-4a12c7ede459",
    "deepnote_cell_type": "markdown",
    "deepnote_cell_height": 82
   }
  },
  {
   "cell_type": "code",
   "metadata": {
    "tags": [],
    "deepnote_to_be_reexecuted": true,
    "source_hash": "7462dd4a",
    "execution_start": 1650872505537,
    "execution_millis": 11307,
    "cell_id": "00028-d0445ad4-9023-474c-855f-aa241b251b47",
    "deepnote_cell_type": "code",
    "deepnote_cell_height": 130
   },
   "source": "gooEmbs = gensim.models.KeyedVectors.load_word2vec_format('../data/GoogleNews-50k.bin', binary=True)\nprint('loading finished')",
   "execution_count": null,
   "outputs": [
    {
     "name": "stdout",
     "text": "loading finished\n",
     "output_type": "stream"
    }
   ]
  },
  {
   "cell_type": "code",
   "metadata": {
    "tags": [],
    "deepnote_to_be_reexecuted": true,
    "source_hash": "43fccd1f",
    "execution_start": 1650872521172,
    "execution_millis": 739,
    "cell_id": "00029-8dbbbdad-4bbc-40d4-a56c-989e665f21ba",
    "deepnote_cell_type": "code",
    "deepnote_cell_height": 291,
    "deepnote_output_heights": [
     194
    ]
   },
   "source": "gooEmbs.most_similar('run')",
   "execution_count": null,
   "outputs": [
    {
     "output_type": "execute_result",
     "execution_count": 30,
     "data": {
      "text/plain": "[('runs', 0.6569936275482178),\n ('running', 0.6062965989112854),\n ('drive', 0.4834049642086029),\n ('ran', 0.4764978289604187),\n ('scamper', 0.46932122111320496),\n ('go', 0.4631645083427429),\n ('walk', 0.45697975158691406),\n ('homerun', 0.45180249214172363),\n ('roundtripper', 0.43272683024406433),\n ('sacrifice_fly', 0.42050617933273315)]"
     },
     "metadata": {}
    }
   ]
  },
  {
   "cell_type": "code",
   "metadata": {
    "tags": [],
    "deepnote_to_be_reexecuted": false,
    "source_hash": "cad11e15",
    "execution_start": 1651668716483,
    "execution_millis": 7369,
    "cell_id": "00030-77150a7c-5dd3-4f96-8a50-7b9c9a87ec3a",
    "deepnote_cell_type": "code",
    "deepnote_cell_height": 724
   },
   "source": "# With a threshold and without the check of same word\n\ngooEmbs = gensim.models.KeyedVectors.load_word2vec_format('../data/GoogleNews-50k.bin', binary=True)\nprint('loading finished')\nrelevant = [\"NN\",\"NNS\",\"RB\",\"RBR\",\"RBS\",\"VB\",\"VBG\",\"VBD\",\"VBN\",\"VBP\",\"VBZ\",\"JJ\",\"JJR\",\"JJS\"]#The wordclasses that can be exchanged with synonyms (not functional words) #maybe not RB\naux_verbs = ['am','are','be','been','being','did','do','does','had','has','have','having','is','was','were','will'] #Used to avoid changing function words\ndef change_word2vec(original_sentence, prob = 0.5, threshold = .6):\n    sentence = nltk.pos_tag(original_sentence)    #pos-tagging sentence here\n    new_sentence = [] #to append to and then return as final sentence\n    for word in sentence:\n        if word[1] in relevant and word[0] not in aux_verbs:\n            if random.random() > prob:\n                try:\n                    syno = gooEmbs.most_similar(word[0]) #taking the most similar word from word2vec\n                    syno_pos = []\n                    # method 1: \n                    for s in syno:\n                        if s[1] > threshold:\n                            syno_pos.append(s)\n                        else: \n                            break # because all the words are sorted we know that if one word is under 60% all the others after are also\n                    if syno_pos!=[]:\n                        new_word = random.choice(syno_pos)[0]\n                    else:  new_word = syno[0][0]\n                    if \"_\" in new_word:\n                        for w in chosen_w.split(\"_\"):\n                            new_sentence.append(w)\n                    else: new_sentence.append(new_word)                    \n                except:\n                    new_sentence.append(word[0])\n            else: \n                new_sentence.append(word[0])\n        else:\n            new_sentence.append(word[0])\n    return new_sentence",
   "execution_count": null,
   "outputs": [
    {
     "name": "stdout",
     "text": "loading finished\n",
     "output_type": "stream"
    }
   ]
  },
  {
   "cell_type": "markdown",
   "source": "#### Write to file",
   "metadata": {
    "cell_id": "1579d3239bd145298081faf60b6cc1c1",
    "tags": [],
    "deepnote_cell_type": "markdown",
    "deepnote_cell_height": 54
   }
  },
  {
   "cell_type": "code",
   "metadata": {
    "cell_id": "0ab3eed05a5044fa95093db457009979",
    "tags": [],
    "deepnote_to_be_reexecuted": false,
    "source_hash": "2fc27d8a",
    "execution_start": 1651668743777,
    "execution_millis": 26212561,
    "owner_user_id": "03d0206a-8ef5-4ef4-a095-5515fca900a0",
    "deepnote_cell_type": "code",
    "deepnote_cell_height": 202
   },
   "source": "wn_x_train = [change_word2vec(i) for i in tqdm(train_x_split[:25000])]\nwith open(\"../data/synthetic/word2vec.csv\",'w') as f:\n    f.writelines('\\t'.join(s) + '\\n' for s in wn_x_train)\n\n\n",
   "execution_count": null,
   "outputs": [
    {
     "name": "stderr",
     "text": "100%|██████████| 25000/25000 [7:16:52<00:00,  1.05s/it]\n",
     "output_type": "stream"
    }
   ]
  },
  {
   "cell_type": "code",
   "metadata": {
    "tags": [],
    "deepnote_to_be_reexecuted": true,
    "source_hash": "bbd54931",
    "execution_start": 1650872535693,
    "execution_millis": 814,
    "cell_id": "00031-f9351d22-c615-4676-b3f5-3b3f95422466",
    "deepnote_cell_type": "code",
    "deepnote_cell_height": 186.984375,
    "deepnote_output_heights": [
     null,
     21.1875
    ]
   },
   "source": "print(change_word2vec(train_x[1]))\nlen(train_x)",
   "execution_count": null,
   "outputs": [
    {
     "name": "stdout",
     "text": "['This', 'tapes', 'can', 'scarcely', 'be', 'understood', 'and', 'it', 'was', 'listing', 'for', 'sold', 'as', '``', 'very', 'good', \"''\", '.', 'It', \"'s\", 'VERY', 'BAD', '.']\n",
     "output_type": "stream"
    },
    {
     "output_type": "execute_result",
     "execution_count": 32,
     "data": {
      "text/plain": "99946"
     },
     "metadata": {}
    }
   ]
  },
  {
   "cell_type": "code",
   "metadata": {
    "tags": [],
    "deepnote_to_be_reexecuted": false,
    "source_hash": "e72c710c",
    "execution_start": 1651129622292,
    "execution_millis": 0,
    "cell_id": "00032-12876a83-4828-4d4d-9495-1226751cb0f0",
    "deepnote_cell_type": "code",
    "deepnote_cell_height": 117
   },
   "source": "#new_x = []\n#for  i in train_x[:1000]:\n    #new_x.append(change_word2vec(i))",
   "execution_count": null,
   "outputs": []
  },
  {
   "cell_type": "code",
   "metadata": {
    "cell_id": "6bb4b1d47cb34af98ff247e0c5532d3d",
    "tags": [],
    "deepnote_to_be_reexecuted": false,
    "source_hash": "41bfadc1",
    "execution_start": 1651130124346,
    "execution_millis": 280,
    "deepnote_cell_type": "code",
    "deepnote_cell_height": 284.1875
   },
   "source": "print(train_x_split[6])\nprint(gen_synth_web(train_x_split[6]))\nprint(change_wordnet(train_x_split[6]))\nprint(change_word2vec(train_x_split[6]))",
   "execution_count": null,
   "outputs": [
    {
     "name": "stdout",
     "text": "['I', 'love', 'all', 'of', 'his', 'music', '!', '!']\n['ve ', 'love', 'group ', 'of', 'his', 'music', '!', '!']\n['I', 'have_intercourse', 'all', 'of', 'his', 'music', '!', '!']\n",
     "output_type": "stream"
    },
    {
     "output_type": "error",
     "ename": "UnboundLocalError",
     "evalue": "local variable 'sentence' referenced before assignment",
     "traceback": [
      "\u001b[0;31m---------------------------------------------------------------------------\u001b[0m",
      "\u001b[0;31mUnboundLocalError\u001b[0m                         Traceback (most recent call last)",
      "\u001b[0;32m<ipython-input-54-fe5d0c7d39cc>\u001b[0m in \u001b[0;36m<module>\u001b[0;34m\u001b[0m\n\u001b[1;32m      2\u001b[0m \u001b[0mprint\u001b[0m\u001b[0;34m(\u001b[0m\u001b[0mgen_synth_web\u001b[0m\u001b[0;34m(\u001b[0m\u001b[0mtrain_x_split\u001b[0m\u001b[0;34m[\u001b[0m\u001b[0;36m6\u001b[0m\u001b[0;34m]\u001b[0m\u001b[0;34m)\u001b[0m\u001b[0;34m)\u001b[0m\u001b[0;34m\u001b[0m\u001b[0;34m\u001b[0m\u001b[0m\n\u001b[1;32m      3\u001b[0m \u001b[0mprint\u001b[0m\u001b[0;34m(\u001b[0m\u001b[0mchange_wordnet\u001b[0m\u001b[0;34m(\u001b[0m\u001b[0mtrain_x_split\u001b[0m\u001b[0;34m[\u001b[0m\u001b[0;36m6\u001b[0m\u001b[0;34m]\u001b[0m\u001b[0;34m)\u001b[0m\u001b[0;34m)\u001b[0m\u001b[0;34m\u001b[0m\u001b[0;34m\u001b[0m\u001b[0m\n\u001b[0;32m----> 4\u001b[0;31m \u001b[0mprint\u001b[0m\u001b[0;34m(\u001b[0m\u001b[0mchange_word2vec\u001b[0m\u001b[0;34m(\u001b[0m\u001b[0mtrain_x_split\u001b[0m\u001b[0;34m[\u001b[0m\u001b[0;36m6\u001b[0m\u001b[0;34m]\u001b[0m\u001b[0;34m)\u001b[0m\u001b[0;34m)\u001b[0m\u001b[0;34m\u001b[0m\u001b[0;34m\u001b[0m\u001b[0m\n\u001b[0m",
      "\u001b[0;32m<ipython-input-50-fab0f16df054>\u001b[0m in \u001b[0;36mchange_word2vec\u001b[0;34m(original_sentence, prob)\u001b[0m\n\u001b[1;32m      3\u001b[0m \u001b[0maux_verbs\u001b[0m \u001b[0;34m=\u001b[0m \u001b[0;34m[\u001b[0m\u001b[0;34m'am'\u001b[0m\u001b[0;34m,\u001b[0m\u001b[0;34m'are'\u001b[0m\u001b[0;34m,\u001b[0m\u001b[0;34m'be'\u001b[0m\u001b[0;34m,\u001b[0m\u001b[0;34m'been'\u001b[0m\u001b[0;34m,\u001b[0m\u001b[0;34m'being'\u001b[0m\u001b[0;34m,\u001b[0m\u001b[0;34m'did'\u001b[0m\u001b[0;34m,\u001b[0m\u001b[0;34m'do'\u001b[0m\u001b[0;34m,\u001b[0m\u001b[0;34m'does'\u001b[0m\u001b[0;34m,\u001b[0m\u001b[0;34m'had'\u001b[0m\u001b[0;34m,\u001b[0m\u001b[0;34m'has'\u001b[0m\u001b[0;34m,\u001b[0m\u001b[0;34m'have'\u001b[0m\u001b[0;34m,\u001b[0m\u001b[0;34m'having'\u001b[0m\u001b[0;34m,\u001b[0m\u001b[0;34m'is'\u001b[0m\u001b[0;34m,\u001b[0m\u001b[0;34m'was'\u001b[0m\u001b[0;34m,\u001b[0m\u001b[0;34m'were'\u001b[0m\u001b[0;34m,\u001b[0m\u001b[0;34m'will'\u001b[0m\u001b[0;34m]\u001b[0m \u001b[0;31m#Used to avoid changing function words\u001b[0m\u001b[0;34m\u001b[0m\u001b[0;34m\u001b[0m\u001b[0m\n\u001b[1;32m      4\u001b[0m \u001b[0;32mdef\u001b[0m \u001b[0mchange_word2vec\u001b[0m\u001b[0;34m(\u001b[0m\u001b[0moriginal_sentence\u001b[0m\u001b[0;34m,\u001b[0m \u001b[0mprob\u001b[0m \u001b[0;34m=\u001b[0m \u001b[0;36m0.5\u001b[0m\u001b[0;34m)\u001b[0m\u001b[0;34m:\u001b[0m\u001b[0;34m\u001b[0m\u001b[0;34m\u001b[0m\u001b[0m\n\u001b[0;32m----> 5\u001b[0;31m     \u001b[0msentence\u001b[0m \u001b[0;34m=\u001b[0m \u001b[0mnltk\u001b[0m\u001b[0;34m.\u001b[0m\u001b[0mpos_tag\u001b[0m\u001b[0;34m(\u001b[0m\u001b[0msentence\u001b[0m\u001b[0;34m)\u001b[0m    \u001b[0;31m#pos-tagging sentence here\u001b[0m\u001b[0;34m\u001b[0m\u001b[0;34m\u001b[0m\u001b[0m\n\u001b[0m\u001b[1;32m      6\u001b[0m     \u001b[0mnew_sentence\u001b[0m \u001b[0;34m=\u001b[0m \u001b[0;34m[\u001b[0m\u001b[0;34m]\u001b[0m \u001b[0;31m#to append to and then return as final sentence\u001b[0m\u001b[0;34m\u001b[0m\u001b[0;34m\u001b[0m\u001b[0m\n\u001b[1;32m      7\u001b[0m     \u001b[0;32mfor\u001b[0m \u001b[0mword\u001b[0m \u001b[0;32min\u001b[0m \u001b[0msentence\u001b[0m\u001b[0;34m:\u001b[0m\u001b[0;34m\u001b[0m\u001b[0;34m\u001b[0m\u001b[0m\n",
      "\u001b[0;31mUnboundLocalError\u001b[0m: local variable 'sentence' referenced before assignment"
     ]
    }
   ]
  },
  {
   "cell_type": "markdown",
   "source": "# Baseline",
   "metadata": {
    "cell_id": "f865a7773d414834b061eac14293de29",
    "tags": [],
    "deepnote_cell_type": "markdown",
    "deepnote_cell_height": 82
   }
  },
  {
   "cell_type": "code",
   "metadata": {
    "cell_id": "6b7e7474cc7742b8b651c485cfe70a32",
    "tags": [],
    "deepnote_cell_type": "code",
    "deepnote_cell_height": 138
   },
   "source": "pipeline = Pipeline([\n    ('CountVectorizer',CountVectorizer(ngram_range=(1, 2))),\n    ('Tfidf',TfidfTransformer()),\n    ('clf', MultinomialNB(alpha=1, fit_prior=False))\n])",
   "execution_count": null,
   "outputs": []
  },
  {
   "cell_type": "code",
   "metadata": {
    "cell_id": "f7a013a7d5cf4037acdc7e2c105ec127",
    "tags": [],
    "deepnote_cell_type": "code",
    "deepnote_cell_height": 66
   },
   "source": "",
   "execution_count": null,
   "outputs": []
  },
  {
   "cell_type": "markdown",
   "source": "<a style='text-decoration:none;line-height:16px;display:flex;color:#5B5B62;padding:10px;justify-content:end;' href='https://deepnote.com?utm_source=created-in-deepnote-cell&projectId=b88dfe01-c7e1-473c-bcfd-798313fc6522' target=\"_blank\">\n<img alt='Created in deepnote.com' style='display:inline;max-height:16px;margin:0px;margin-right:7.5px;' src='data:image/svg+xml;base64,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' > </img>\nCreated in <span style='font-weight:600;margin-left:4px;'>Deepnote</span></a>",
   "metadata": {
    "tags": [],
    "created_in_deepnote_cell": true,
    "deepnote_cell_type": "markdown"
   }
  }
 ],
 "nbformat": 4,
 "nbformat_minor": 2,
 "metadata": {
  "orig_nbformat": 2,
  "deepnote": {},
  "deepnote_notebook_id": "4e7963ba-647e-4c53-a94c-cef90fa8e4a0",
  "deepnote_execution_queue": []
 }
}
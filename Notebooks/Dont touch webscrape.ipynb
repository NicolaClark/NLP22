{
 "cells": [
  {
   "cell_type": "markdown",
   "source": "### Import",
   "metadata": {
    "tags": [],
    "is_collapsed": false,
    "cell_id": "3e3ff134-1981-436b-89de-1217d1f35ba9",
    "deepnote_cell_type": "text-cell-h3"
   }
  },
  {
   "cell_type": "code",
   "metadata": {
    "tags": [],
    "deepnote_to_be_reexecuted": false,
    "source_hash": "5a18cebf",
    "execution_start": 1651662256732,
    "execution_millis": 4394,
    "cell_id": "00001-1a7bfe27-b20f-4f55-ab67-8a8a19f15073",
    "deepnote_cell_type": "code",
    "deepnote_cell_height": 513
   },
   "source": "import gzip\nimport json\nimport random\nimport time\nfrom nltk import word_tokenize\nfrom tqdm import tqdm\nimport contractions\n\n# Imports for the synonym dictionary \nimport requests\nfrom bs4 import BeautifulSoup\nfrom nltk.wsd import lesk\n\n#wordnet imports\n#importing NLTK corpus synonym dictionary, pos-tagging and checking the outputs\nimport nltk\nfrom nltk.corpus import wordnet\nfrom nltk import pos_tag\nimport random\n\n\nfrom sklearn.utils import shuffle\n\n#Word2Vec imports\nimport gensim.models",
   "execution_count": 5,
   "outputs": []
  },
  {
   "cell_type": "code",
   "metadata": {
    "tags": [],
    "deepnote_to_be_reexecuted": false,
    "source_hash": "698c3b88",
    "execution_start": 1651662261131,
    "execution_millis": 355,
    "cell_id": "00002-193460b4-60a8-4bfa-b623-4e3f3c9ac8b7",
    "deepnote_cell_type": "code",
    "deepnote_cell_height": 416.1875,
    "deepnote_output_heights": [
     null,
     21.1875
    ]
   },
   "source": "#wordnet downloads\nnltk.download('wordnet')\nnltk.download('omw-1.4')\nnltk.download('averaged_perceptron_tagger')\nnltk.download('punkt')",
   "execution_count": 6,
   "outputs": [
    {
     "name": "stderr",
     "text": "[nltk_data] Downloading package wordnet to /root/nltk_data...\n[nltk_data]   Package wordnet is already up-to-date!\n[nltk_data] Downloading package omw-1.4 to /root/nltk_data...\n[nltk_data]   Package omw-1.4 is already up-to-date!\n[nltk_data] Downloading package averaged_perceptron_tagger to\n[nltk_data]     /root/nltk_data...\n[nltk_data]   Package averaged_perceptron_tagger is already up-to-\n[nltk_data]       date!\n[nltk_data] Downloading package punkt to /root/nltk_data...\n[nltk_data]   Package punkt is already up-to-date!\n",
     "output_type": "stream"
    },
    {
     "output_type": "execute_result",
     "execution_count": 6,
     "data": {
      "text/plain": "True"
     },
     "metadata": {}
    }
   ]
  },
  {
   "cell_type": "code",
   "metadata": {
    "tags": [],
    "deepnote_to_be_reexecuted": false,
    "source_hash": "f4fb80ea",
    "execution_start": 1651662261491,
    "execution_millis": 4,
    "cell_id": "00003-849480a4-4161-4d6d-979d-ffad1dd2ecd9",
    "deepnote_cell_type": "code",
    "deepnote_cell_height": 81
   },
   "source": "random.seed(42)",
   "execution_count": 7,
   "outputs": []
  },
  {
   "cell_type": "markdown",
   "source": "### Read in the data",
   "metadata": {
    "tags": [],
    "is_collapsed": false,
    "cell_id": "00004-e1e8441f-55d0-4ced-9f48-f631b5bcecd5",
    "deepnote_cell_type": "text-cell-h3"
   }
  },
  {
   "cell_type": "code",
   "metadata": {
    "tags": [],
    "deepnote_to_be_reexecuted": false,
    "source_hash": "8c0ba9db",
    "execution_start": 1651662369777,
    "execution_millis": 3,
    "cell_id": "00005-cdea06e8-1bb8-44c4-bb79-bd6e2ab062ab",
    "deepnote_cell_type": "code",
    "deepnote_cell_height": 243
   },
   "source": "#here\ndef reading_in(path):\n    thing=[]\n    for line in gzip.open(path):\n        review_data = json.loads(line)\n        subthing = dict()\n        for key in review_data:\n            subthing[key]= review_data[key]\n        thing.append(subthing)\n    return thing",
   "execution_count": 10,
   "outputs": []
  },
  {
   "cell_type": "code",
   "metadata": {
    "tags": [],
    "deepnote_to_be_reexecuted": false,
    "source_hash": "3075fe6d",
    "execution_start": 1651662371291,
    "execution_millis": 1877,
    "cell_id": "00006-449450e8-9654-4a1d-a55a-25bb7fc0c7e2",
    "deepnote_cell_type": "code",
    "deepnote_cell_height": 135
   },
   "source": "train = reading_in('../data/classification/music_reviews_train.json.gz')\n#dev = reading_in('../data/classification/music_reviews_dev.json.gz') # do not use!\n#test = reading_in('../data/classification/music_reviews_test_masked.json.gz') #do not use!\ntrain = shuffle(train, random_state=42)",
   "execution_count": 11,
   "outputs": []
  },
  {
   "cell_type": "code",
   "metadata": {
    "tags": [],
    "deepnote_to_be_reexecuted": false,
    "source_hash": "7fdd351a",
    "execution_start": 1651662373211,
    "execution_millis": 187,
    "cell_id": "00007-825df242-3a2e-4613-84af-576332ddfbf3",
    "deepnote_cell_type": "code",
    "deepnote_cell_height": 99
   },
   "source": "train_x = [i['reviewText'] for i in train if \"reviewText\" in i.keys() and \"sentiment\" in i.keys()]\ntrain_y =  [i['sentiment'] for i in train if \"reviewText\" in i.keys() and \"sentiment\" in i.keys()]",
   "execution_count": 12,
   "outputs": []
  },
  {
   "cell_type": "code",
   "metadata": {
    "cell_id": "e1ab28f5eb0a4764aa000573f7e7de14",
    "tags": [],
    "deepnote_to_be_reexecuted": false,
    "source_hash": "ba64fbb3",
    "execution_start": 1651662381595,
    "execution_millis": 83,
    "deepnote_cell_type": "code",
    "deepnote_cell_height": 81
   },
   "source": "pos_neg = [sum([i ==\"positive\" for i in train_y]),sum([i != \"positive\" for i in train_y])]",
   "execution_count": 13,
   "outputs": []
  },
  {
   "cell_type": "code",
   "metadata": {
    "cell_id": "eb434fedf9e04069ad86670ffee4e92d",
    "tags": [],
    "deepnote_to_be_reexecuted": false,
    "source_hash": "8766005f",
    "execution_start": 1651662383235,
    "execution_millis": 1733,
    "deepnote_cell_type": "code",
    "deepnote_cell_height": 417.1875,
    "deepnote_output_heights": [
     21.1875,
     250
    ]
   },
   "source": "import matplotlib.pyplot as plt\nplt.bar(x=[\"pos\",\"neg\"], height = pos_neg) ",
   "execution_count": 14,
   "outputs": [
    {
     "output_type": "execute_result",
     "execution_count": 14,
     "data": {
      "text/plain": "<BarContainer object of 2 artists>"
     },
     "metadata": {}
    },
    {
     "data": {
      "text/plain": "<Figure size 432x288 with 1 Axes>",
      "image/png": "[encoded data removed]"
     },
     "metadata": {
      "needs_background": "light",
      "image/png": {
       "width": 387,
       "height": 248
      }
     },
     "output_type": "display_data"
    }
   ]
  },
  {
   "cell_type": "code",
   "metadata": {
    "cell_id": "fe30cd8944184fffa71bb723ec163a22",
    "tags": [],
    "deepnote_to_be_reexecuted": false,
    "source_hash": "869c35c7",
    "execution_start": 1651662389240,
    "execution_millis": 128,
    "deepnote_cell_type": "code",
    "deepnote_cell_height": 351
   },
   "source": "###split into pos and neg\ntrain_x_pos = []\ntrain_x_neg = []\ntrain_y_pos = []\ntrain_y_neg = []\nfor i in range(len(train_x)):\n    if train_y[i] == \"positive\":\n        train_x_pos.append(train_x[i])\n        train_y_pos.append(train_y[i])\n    else:\n        train_x_neg.append(train_x[i])\n        train_y_neg.append(train_y[i])\ntrain_x_neg.extend(train_x_pos[0:len(train_x_neg)])\ntrain_y_neg.extend(train_y_pos[0:len(train_y_neg)])\nbalanced_x_train = train_x_neg\nbalanced_y_train = train_y_neg",
   "execution_count": 15,
   "outputs": []
  },
  {
   "cell_type": "code",
   "metadata": {
    "cell_id": "7c257e6f6dfd434ab2f5664f247d9006",
    "tags": [],
    "deepnote_to_be_reexecuted": false,
    "source_hash": "d33964d",
    "execution_start": 1651662391976,
    "execution_millis": 4,
    "deepnote_cell_type": "code",
    "deepnote_cell_height": 118.1875
   },
   "source": "len(balanced_x_train)",
   "execution_count": 16,
   "outputs": [
    {
     "output_type": "execute_result",
     "execution_count": 16,
     "data": {
      "text/plain": "78424"
     },
     "metadata": {}
    }
   ]
  },
  {
   "cell_type": "markdown",
   "source": "### Preparing the data",
   "metadata": {
    "tags": [],
    "is_collapsed": false,
    "cell_id": "00008-58b54748-3c52-4686-8258-03357805ed9f",
    "deepnote_cell_type": "text-cell-h3"
   }
  },
  {
   "cell_type": "code",
   "metadata": {
    "tags": [],
    "deepnote_to_be_reexecuted": false,
    "source_hash": "69913f58",
    "execution_start": 1651662394610,
    "execution_millis": 6,
    "cell_id": "00009-86d377aa-ab40-4fd5-9e3a-a20f7bce05ab",
    "deepnote_cell_type": "code",
    "deepnote_cell_height": 99
   },
   "source": "#old tokenizer\n#train_x_back = [' '.join(sen) for sen in train_x_split] may not need convertes tokenised back to single string",
   "execution_count": 17,
   "outputs": []
  },
  {
   "cell_type": "code",
   "metadata": {
    "tags": [],
    "deepnote_to_be_reexecuted": false,
    "source_hash": "aa47e93f",
    "execution_start": 1651662394620,
    "execution_millis": 21,
    "cell_id": "00010-4c77c799-0922-4fa7-a21e-8fb222ae83fc",
    "deepnote_cell_type": "code",
    "deepnote_cell_height": 117
   },
   "source": "#Tokenizer\ndef tokenize_corpus(corpus):\n    return [word_tokenize(contractions.fix(s)) for s in corpus]",
   "execution_count": 18,
   "outputs": []
  },
  {
   "cell_type": "code",
   "metadata": {
    "tags": [],
    "deepnote_to_be_reexecuted": false,
    "source_hash": "cc15a788",
    "execution_start": 1651662395939,
    "execution_millis": 43757,
    "cell_id": "00011-4bd17ecf-fd42-4f18-9a46-0511f060295c",
    "deepnote_cell_type": "code",
    "deepnote_cell_height": 81
   },
   "source": "train_x_split = tokenize_corpus(balanced_x_train)",
   "execution_count": 19,
   "outputs": []
  },
  {
   "cell_type": "markdown",
   "source": "# Webscrape synonyms",
   "metadata": {
    "tags": [],
    "is_collapsed": false,
    "cell_id": "00012-958eb605-f960-4db9-9f34-f0d8ed3aeea7",
    "deepnote_cell_type": "text-cell-h1"
   }
  },
  {
   "cell_type": "code",
   "metadata": {
    "tags": [],
    "deepnote_to_be_reexecuted": false,
    "source_hash": "82406177",
    "execution_start": 1651134062648,
    "execution_millis": 85,
    "cell_id": "00013-f6f10f14-2b20-423d-a517-9c4cf9049c28",
    "deepnote_cell_type": "code",
    "deepnote_cell_height": 310
   },
   "source": "##Alternative to PyDictionary\n##THIS IS COPIED FROM SLACK\n# https://stackoverflow.com/questions/52910297/pydictionary-word-has-no-synonyms-in-the-api\n\ndef synonyms(term):\n    response = requests.get('https://www.thesaurus.com/browse/{}'.format(term))\n    soup = BeautifulSoup(response.text, 'lxml')\n    soup.find('section', {'class': 'css-17ofzyv e1ccqdb60'})\n    return [span.text for span in soup.findAll('a', {'class': 'css-1kg1yv8 eh475bn0'})] # 'css-1gyuw4i eh475bn0' for less relevant synonyms\n\nword = \"us\"\nprint(synonyms(word))",
   "execution_count": null,
   "outputs": [
    {
     "name": "stdout",
     "text": "['them ', 'you ']\n",
     "output_type": "stream"
    }
   ]
  },
  {
   "cell_type": "code",
   "metadata": {
    "tags": [],
    "deepnote_to_be_reexecuted": false,
    "source_hash": "1c62da74",
    "execution_start": 1651134699972,
    "execution_millis": 1,
    "cell_id": "00014-80593723-f320-4b00-8136-431fd99a99b9",
    "deepnote_cell_type": "code",
    "deepnote_cell_height": 405
   },
   "source": "dont_replace = ['am','are','be','been','being','did','do','does','had','has','have','having','is','was','were','will','i', 'it', 'she', 'sie', 'they', 've', 'xe', 'you', 'ze', 'zie','he',\"you\",\"we\",\"mine\",\"hers\",\"his\",\"yours\",\"its\",\"ours\",\"theirs\",\"your\",\"our\",\"oneself\",\"oneselves\",\"yourself\",\"yourselves\",\"himself\",\"herself\",\"himself\",\"myself\",\"themselves\",\"itself\",\"ourselves\",\"ourself\",\"us\",\"them\"] #Used to avoid changing function and pronouns words\nrandom.seed(43)\ndef gen_synth_web(sentence,prob = 0.5):\n    new_sen = []\n    for word in sentence:\n        if word.lower() in dont_replace:\n            new_sen.append(word)\n        else:\n            threshold = random.random()\n            if prob > threshold:\n                #print(threshold) can remove later kept for debugging\n                syn = synonyms(word)\n                if len(syn) != 0:\n                    #print(\"selected\", word) can remove later kept for debugging\n                    new_sen.append(random.choice(syn))\n                else:new_sen.append(word)\n            else:\n                new_sen.append(word)\n    return new_sen",
   "execution_count": null,
   "outputs": []
  },
  {
   "cell_type": "code",
   "metadata": {
    "cell_id": "b88279ab8d734f988cff9dcb0ed77d05",
    "tags": [],
    "deepnote_to_be_reexecuted": false,
    "source_hash": "f97e197f",
    "execution_start": 1651134584490,
    "execution_millis": 13,
    "deepnote_cell_type": "code",
    "deepnote_cell_height": 116.796875
   },
   "source": "print(train_x_split[11])",
   "execution_count": null,
   "outputs": [
    {
     "name": "stdout",
     "text": "['I', 'love', 'the', 'original', 'video', 'recording', ',', 'but', 'this', 'version', 'adds', 'way', 'to', 'much', 'instrument', 'background', 'music', '.', 'Makes', 'it', 'difficult', 'to', 'hear', 'the', 'words', 'at', 'many', 'points', 'in', 'the', 'song', '.']\n",
     "output_type": "stream"
    }
   ]
  },
  {
   "cell_type": "code",
   "metadata": {
    "cell_id": "d0fedaf7d8994bfbb83dfe66b9d544f4",
    "tags": [],
    "deepnote_to_be_reexecuted": false,
    "source_hash": "4b7cee4a",
    "execution_start": 1651134589560,
    "execution_millis": 1544,
    "deepnote_cell_type": "code",
    "deepnote_cell_height": 116.796875
   },
   "source": "print(gen_synth_web(train_x_split[11]))",
   "execution_count": null,
   "outputs": [
    {
     "name": "stdout",
     "text": "['she ', 'love', 'every ', 'unconventional ', 'video', 'recording', ',', 'but', 'this', 'version', 'adds', 'fashion ', 'to', 'much', 'appliance ', 'tradition ', 'soul ', '.', 'Makes', 'it', 'arduous ', 'to', 'attend ', 'the', 'words', 'at', 'many', 'contribution ', 'in', 'the', 'song', '.']\n",
     "output_type": "stream"
    }
   ]
  },
  {
   "cell_type": "code",
   "metadata": {
    "cell_id": "d5965ae8c9fe479386919c9cc98208a6",
    "tags": [],
    "deepnote_to_be_reexecuted": false,
    "source_hash": "ebf1cc5f",
    "execution_start": 1651140824638,
    "execution_millis": 5,
    "deepnote_cell_type": "code",
    "deepnote_cell_height": 118.1875,
    "deepnote_output_heights": [
     21.1875
    ]
   },
   "source": "[0,1,2,3,4][:2]",
   "execution_count": null,
   "outputs": [
    {
     "output_type": "execute_result",
     "execution_count": 28,
     "data": {
      "text/plain": "[0, 1]"
     },
     "metadata": {}
    }
   ]
  },
  {
   "cell_type": "code",
   "metadata": {
    "tags": [],
    "deepnote_to_be_reexecuted": false,
    "source_hash": "4cc6863a",
    "execution_start": 1651140864630,
    "execution_millis": 56967783,
    "cell_id": "00015-6e2ef738-db86-4e6f-a38e-6df8e6e0ac62",
    "deepnote_cell_type": "code",
    "deepnote_cell_height": 212
   },
   "source": "for i in tqdm(train_x_split[1000:10000]):#running with 0:1000 dont uncomment as will mess up file, now with 1000:10000 \n    with open (\"../data/synthetic1.txt\",\"a\") as f:\n        f.write(' '.join(gen_synth_web(i))+\"\\n\")\n        time.sleep(3)",
   "execution_count": null,
   "outputs": [
    {
     "name": "stderr",
     "text": " 33%|███▎      | 3005/9000 [5:15:27<9:45:55,  5.86s/it] ",
     "output_type": "stream"
    },
    {
     "name": "stderr",
     "text": "100%|██████████| 9000/9000 [15:49:27<00:00,  6.33s/it]\n",
     "output_type": "stream"
    }
   ]
  },
  {
   "cell_type": "markdown",
   "source": "#### Example of webscrape synthetic sentence ",
   "metadata": {
    "tags": [],
    "cell_id": "00016-5eb15f75-8e24-420e-965f-16f4b630772b",
    "deepnote_cell_type": "markdown",
    "deepnote_cell_height": 54
   }
  },
  {
   "cell_type": "code",
   "metadata": {
    "tags": [],
    "deepnote_to_be_reexecuted": false,
    "source_hash": "180cb14c",
    "execution_start": 1650875688289,
    "execution_millis": 1,
    "cell_id": "00017-4e8ac0a8-6a12-4b2d-a625-210844a78526",
    "deepnote_cell_type": "code",
    "deepnote_cell_height": 112
   },
   "source": "print(train_x_split[6])",
   "execution_count": null,
   "outputs": [
    {
     "name": "stdout",
     "text": "['I', 'love', 'all', 'of', 'his', 'music', '!', '!']\n",
     "output_type": "stream"
    }
   ]
  },
  {
   "cell_type": "code",
   "metadata": {
    "tags": [],
    "deepnote_to_be_reexecuted": false,
    "source_hash": "d57f9178",
    "execution_start": 1650875688296,
    "execution_millis": 784,
    "cell_id": "00018-e0b41d9a-7c82-4e93-b040-471fb5e125c7",
    "deepnote_cell_type": "code",
    "deepnote_cell_height": 112
   },
   "source": "print(gen_synth_web(train_x_split[6]))",
   "execution_count": null,
   "outputs": [
    {
     "name": "stdout",
     "text": "['I', 'passion ', 'fully ', 'of', 'his', 'music', '!', '!']\n",
     "output_type": "stream"
    }
   ]
  },
  {
   "cell_type": "markdown",
   "source": "# Wordnet",
   "metadata": {
    "tags": [],
    "is_collapsed": false,
    "cell_id": "00019-aa6f94d9-3f9c-4816-ba4e-e1da63fc7f25",
    "deepnote_cell_type": "text-cell-h1"
   }
  },
  {
   "cell_type": "code",
   "metadata": {
    "tags": [],
    "deepnote_to_be_reexecuted": false,
    "source_hash": "de5736f",
    "execution_start": 1651129940560,
    "execution_millis": 2,
    "cell_id": "00020-72cde555-29a8-4161-bd59-b6c6247672d2",
    "owner_user_id": "e3bb0160-fb91-44de-b701-79c62e58c7f8",
    "deepnote_cell_type": "code",
    "deepnote_cell_height": 387
   },
   "source": "relevant = [\"NN\",\"NNS\",\"RB\",\"RBR\",\"RBS\",\"VB\",\"VBG\",\"VBD\",\"VBN\",\"VBP\",\"VBZ\",\"JJ\",\"JJR\",\"JJS\"]#The wordclasses that can be exchanged with synonyms (not functional words) #maybe not RB\nwordnet_tag_map = {'NN': ['n'],'NNS': ['n'],'JJ': ['a'],'JJR': ['a'],'JJS': ['a'],'RB': ['r'],'RBR': ['r'],'RBS': ['r'], 'VB': ['v'], 'VBG': ['v'], 'VBD': ['v'], 'VBN': ['v'], 'VBP': ['v'], 'VBZ': ['v']} #Making pos-tags coincide\naux_verbs = ['am','are','be','been','being','did','do','does','had','has','have','having','is','was','were','will'] #Used to avoid changing function words\ndef change_wordnet(sentence):\n    sentence = nltk.pos_tag(sentence)    #pos-tagging sentence here\n    new_sentence = [] #to append to and then return as final sentence\n    for word in sentence:\n        if word[1] in relevant and word[0] not in aux_verbs: #Not changing functional words\n            tag = wordnet_tag_map[word[1]]\n            chosen = lesk(sentence, word[0], tag[0]) #from all synsets choose the most likely in a smart way, thanks to library!\n            if chosen is None:\n                new_sentence.append(word[0]) #sometimes no synset is chosen so we just give the new sentence the original word\n            else:\n                chosen_w = random.choice(chosen.lemma_names())\n                new_sentence.append(chosen_w)\n        else:\n            new_sentence.append(word[0])\n    return new_sentence",
   "execution_count": null,
   "outputs": []
  },
  {
   "cell_type": "markdown",
   "source": "#### Example of wordnet synthetic sentence ",
   "metadata": {
    "tags": [],
    "cell_id": "00021-5b97e5e6-8dbb-4b36-8e58-f77b26ee3583",
    "deepnote_cell_type": "markdown",
    "deepnote_cell_height": 54
   }
  },
  {
   "cell_type": "code",
   "metadata": {
    "tags": [],
    "deepnote_to_be_reexecuted": false,
    "source_hash": "7cceafcb",
    "execution_start": 1651659816894,
    "execution_millis": 104,
    "cell_id": "00022-b81c92d1-3645-44df-93cd-690699fe32e9",
    "deepnote_cell_type": "code",
    "deepnote_cell_height": 144.1875
   },
   "source": "print(train_x_split[3])",
   "execution_count": 1,
   "outputs": [
    {
     "output_type": "error",
     "ename": "NameError",
     "evalue": "name 'train_x_split' is not defined",
     "traceback": [
      "\u001b[0;31m---------------------------------------------------------------------------\u001b[0m",
      "\u001b[0;31mNameError\u001b[0m                                 Traceback (most recent call last)",
      "\u001b[0;32m<ipython-input-1-1fb2466712be>\u001b[0m in \u001b[0;36m<module>\u001b[0;34m\u001b[0m\n\u001b[0;32m----> 1\u001b[0;31m \u001b[0mprint\u001b[0m\u001b[0;34m(\u001b[0m\u001b[0mtrain_x_split\u001b[0m\u001b[0;34m[\u001b[0m\u001b[0;36m3\u001b[0m\u001b[0;34m]\u001b[0m\u001b[0;34m)\u001b[0m\u001b[0;34m\u001b[0m\u001b[0;34m\u001b[0m\u001b[0m\n\u001b[0m",
      "\u001b[0;31mNameError\u001b[0m: name 'train_x_split' is not defined"
     ]
    }
   ]
  },
  {
   "cell_type": "code",
   "metadata": {
    "tags": [],
    "deepnote_to_be_reexecuted": false,
    "source_hash": "27c48620",
    "execution_start": 1650879095970,
    "execution_millis": 8,
    "cell_id": "00023-8afb2101-4950-44a8-9106-c47d39de7d6d",
    "deepnote_cell_type": "code",
    "deepnote_cell_height": 116.796875
   },
   "source": "print(change_wordnet(train_x_split[3]))",
   "execution_count": null,
   "outputs": [
    {
     "name": "stdout",
     "text": "['I', 'know', 'Dallas', 'Holms', 'medicine', 'and', 'voice', '!', 'Thank', 'You', '!', 'I', 'will', 'be', 'attend', 'all', 'his', 'concert', 'in', 'Heaven', ',', 'forever_and_a_day', '!']\n",
     "output_type": "stream"
    }
   ]
  },
  {
   "cell_type": "markdown",
   "source": "#### write to file",
   "metadata": {
    "tags": [],
    "cell_id": "00024-59e945b2-aa0e-4099-9968-55406a402d50",
    "deepnote_cell_type": "markdown",
    "deepnote_cell_height": 54
   }
  },
  {
   "cell_type": "code",
   "metadata": {
    "tags": [],
    "deepnote_to_be_reexecuted": false,
    "source_hash": "1fb3ee3a",
    "execution_start": 1650878102228,
    "execution_millis": 556912,
    "cell_id": "00025-4f8e1b97-ec7d-4886-a36f-79d0b595ba80",
    "deepnote_cell_type": "code",
    "deepnote_cell_height": 81
   },
   "source": "wn_x_train = [change_wordnet(i) for i in train_x_split]",
   "execution_count": null,
   "outputs": []
  },
  {
   "cell_type": "code",
   "metadata": {
    "tags": [],
    "deepnote_to_be_reexecuted": false,
    "source_hash": "d4e804f1",
    "execution_start": 1650878902724,
    "execution_millis": 350,
    "cell_id": "00026-d8eef988-1a3e-4265-82ed-e035e2f01128",
    "deepnote_cell_type": "code",
    "deepnote_cell_height": 99
   },
   "source": "with open(\"../data/synthetic/wordnet.csv\",'w') as f:\n    f.writelines('\\t'.join(s) + '\\n' for s in wn_x_train)",
   "execution_count": null,
   "outputs": []
  },
  {
   "cell_type": "markdown",
   "source": "# Word2vec",
   "metadata": {
    "tags": [],
    "cell_id": "00027-87f28eb2-5634-414e-97c4-4a12c7ede459",
    "deepnote_cell_type": "markdown",
    "deepnote_cell_height": 82
   }
  },
  {
   "cell_type": "code",
   "metadata": {
    "tags": [],
    "deepnote_to_be_reexecuted": true,
    "source_hash": "7462dd4a",
    "execution_start": 1650872505537,
    "execution_millis": 11307,
    "cell_id": "00028-d0445ad4-9023-474c-855f-aa241b251b47",
    "deepnote_cell_type": "code",
    "deepnote_cell_height": 130
   },
   "source": "gooEmbs = gensim.models.KeyedVectors.load_word2vec_format('../data/GoogleNews-50k.bin', binary=True)\nprint('loading finished')",
   "execution_count": null,
   "outputs": [
    {
     "name": "stdout",
     "text": "loading finished\n",
     "output_type": "stream"
    }
   ]
  },
  {
   "cell_type": "code",
   "metadata": {
    "tags": [],
    "deepnote_to_be_reexecuted": true,
    "source_hash": "43fccd1f",
    "execution_start": 1650872521172,
    "execution_millis": 739,
    "cell_id": "00029-8dbbbdad-4bbc-40d4-a56c-989e665f21ba",
    "deepnote_cell_type": "code",
    "deepnote_cell_height": 291,
    "deepnote_output_heights": [
     194
    ]
   },
   "source": "gooEmbs.most_similar('run')",
   "execution_count": null,
   "outputs": [
    {
     "output_type": "execute_result",
     "execution_count": 30,
     "data": {
      "text/plain": "[('runs', 0.6569936275482178),\n ('running', 0.6062965989112854),\n ('drive', 0.4834049642086029),\n ('ran', 0.4764978289604187),\n ('scamper', 0.46932122111320496),\n ('go', 0.4631645083427429),\n ('walk', 0.45697975158691406),\n ('homerun', 0.45180249214172363),\n ('roundtripper', 0.43272683024406433),\n ('sacrifice_fly', 0.42050617933273315)]"
     },
     "metadata": {}
    }
   ]
  },
  {
   "cell_type": "code",
   "metadata": {
    "tags": [],
    "deepnote_to_be_reexecuted": false,
    "source_hash": "cad11e15",
    "execution_start": 1651662456832,
    "execution_millis": 7031,
    "cell_id": "00030-77150a7c-5dd3-4f96-8a50-7b9c9a87ec3a",
    "deepnote_cell_type": "code",
    "deepnote_cell_height": 724
   },
   "source": "# With a threshold and without the check of same word\n\ngooEmbs = gensim.models.KeyedVectors.load_word2vec_format('../data/GoogleNews-50k.bin', binary=True)\nprint('loading finished')\nrelevant = [\"NN\",\"NNS\",\"RB\",\"RBR\",\"RBS\",\"VB\",\"VBG\",\"VBD\",\"VBN\",\"VBP\",\"VBZ\",\"JJ\",\"JJR\",\"JJS\"]#The wordclasses that can be exchanged with synonyms (not functional words) #maybe not RB\naux_verbs = ['am','are','be','been','being','did','do','does','had','has','have','having','is','was','were','will'] #Used to avoid changing function words\ndef change_word2vec(original_sentence, prob = 0.5, threshold = .6):\n    sentence = nltk.pos_tag(original_sentence)    #pos-tagging sentence here\n    new_sentence = [] #to append to and then return as final sentence\n    for word in sentence:\n        if word[1] in relevant and word[0] not in aux_verbs:\n            if random.random() > prob:\n                try:\n                    syno = gooEmbs.most_similar(word[0]) #taking the most similar word from word2vec\n                    syno_pos = []\n                    # method 1: \n                    for s in syno:\n                        if s[1] > threshold:\n                            syno_pos.append(s)\n                        else: \n                            break # because all the words are sorted we know that if one word is under 60% all the others after are also\n                    if syno_pos!=[]:\n                        new_word = random.choice(syno_pos)[0]\n                    else:  new_word = syno[0][0]\n                    if \"_\" in new_word:\n                        for w in chosen_w.split(\"_\"):\n                            new_sentence.append(w)\n                    else: new_sentence.append(new_word)                    \n                except:\n                    new_sentence.append(word[0])\n            else: \n                new_sentence.append(word[0])\n        else:\n            new_sentence.append(word[0])\n    return new_sentence",
   "execution_count": 20,
   "outputs": [
    {
     "name": "stdout",
     "text": "loading finished\n",
     "output_type": "stream"
    }
   ]
  },
  {
   "cell_type": "markdown",
   "source": "#### Write to file",
   "metadata": {
    "cell_id": "1579d3239bd145298081faf60b6cc1c1",
    "tags": [],
    "deepnote_cell_type": "markdown",
    "deepnote_cell_height": 54
   }
  },
  {
   "cell_type": "code",
   "source": "wn_x_train = [change_word2vec(i) for i in tqdm(train_x_split[:25000])]\nwith open(\"../data/synthetic/word2vec.csv\",'w') as f:\n    f.writelines('\\t'.join(s) + '\\n' for s in wn_x_train)\n\n\n",
   "metadata": {
    "cell_id": "0ab3eed05a5044fa95093db457009979",
    "tags": [],
    "deepnote_to_be_reexecuted": false,
    "source_hash": "2fc27d8a",
    "execution_start": 1651662552360,
    "execution_millis": 21507,
    "owner_user_id": "03d0206a-8ef5-4ef4-a095-5515fca900a0",
    "deepnote_cell_type": "code",
    "deepnote_cell_height": 836
   },
   "outputs": [
    {
     "name": "stderr",
     "text": "  3%|▎         | 850/25000 [16:50<4:04:53,  1.64it/s]\u001b[A\n  3%|▎         | 851/25000 [16:51<4:16:19,  1.57it/s]\u001b[A\n  3%|▎         | 852/25000 [16:52<6:01:22,  1.11it/s]\u001b[A\n  3%|▎         | 853/25000 [16:53<5:10:37,  1.30it/s]\u001b[A\n  3%|▎         | 854/25000 [16:53<4:44:30,  1.41it/s]\u001b[A\n  3%|▎         | 855/25000 [16:54<4:12:10,  1.60it/s]\u001b[A\n  3%|▎         | 856/25000 [16:54<4:07:32,  1.63it/s]\u001b[A\n  3%|▎         | 857/25000 [16:55<3:59:59,  1.68it/s]\u001b[A\n  3%|▎         | 858/25000 [16:55<4:10:26,  1.61it/s]\u001b[A\n  3%|▎         | 859/25000 [16:56<4:31:51,  1.48it/s]\u001b[A\n  3%|▎         | 860/25000 [16:56<3:54:35,  1.72it/s]\u001b[A\n  3%|▎         | 861/25000 [16:57<3:43:24,  1.80it/s]\u001b[A\n  3%|▎         | 862/25000 [16:58<4:12:51,  1.59it/s]\u001b[A\n  3%|▎         | 863/25000 [16:59<4:35:58,  1.46it/s]\u001b[A\n  3%|▎         | 864/25000 [16:59<4:26:09,  1.51it/s]\u001b[A\n  3%|▎         | 867/25000 [16:59<2:06:58,  3.17it/s]\u001b[A\n  3%|▎         | 868/25000 [16:59<1:52:36,  3.57it/s]\u001b[A\n  3%|▎         | 869/25000 [17:00<2:58:30,  2.25it/s]\u001b[A\n  3%|▎         | 870/25000 [17:01<3:26:47,  1.94it/s]\u001b[A\n  3%|▎         | 871/25000 [17:01<2:55:16,  2.29it/s]\u001b[A\n  3%|▎         | 872/25000 [17:03<4:21:22,  1.54it/s]\u001b[A\n  3%|▎         | 873/25000 [17:06<9:27:24,  1.41s/it]\u001b[A\n  3%|▎         | 874/25000 [17:14<22:55:15,  3.42s/it]\u001b[A\n  4%|▎         | 876/25000 [17:15<13:17:32,  1.98s/it]\u001b[A\n  4%|▎         | 878/25000 [17:15<8:22:27,  1.25s/it] \u001b[A\n  4%|▎         | 879/25000 [17:15<7:05:13,  1.06s/it]\u001b[A\n  4%|▎         | 880/25000 [17:16<5:44:41,  1.17it/s]\u001b[A\n  4%|▎         | 881/25000 [17:17<6:18:40,  1.06it/s]\u001b[A\n  4%|▎         | 882/25000 [17:17<5:20:53,  1.25it/s]\u001b[A\n  4%|▎         | 883/25000 [17:19<6:52:40,  1.03s/it]\u001b[A\n  4%|▎         | 884/25000 [17:22<10:24:53,  1.55s/it]\u001b[A\n  4%|▎         | 885/25000 [17:22<8:20:34,  1.25s/it] \u001b[A\n  4%|▎         | 886/25000 [17:24<8:25:54,  1.26s/it]\u001b[A\n  4%|▎         | 887/25000 [17:25<8:02:56,  1.20s/it]\u001b[A\n  4%|▎         | 888/25000 [17:25<6:23:44,  1.05it/s]\u001b[A\n  4%|▎         | 889/25000 [17:26<5:31:45,  1.21it/s]\u001b[A\n  4%|▎         | 890/25000 [17:26<4:54:51,  1.36it/s]\u001b[A\n  4%|▎         | 891/25000 [17:27<4:20:42,  1.54it/s]\u001b[A\n  4%|▎         | 892/25000 [17:27<3:36:28,  1.86it/s]\u001b[A\n  4%|▎         | 893/25000 [17:27<2:48:04,  2.39it/s]\u001b[A\n  4%|▎         | 894/25000 [17:28<3:30:04,  1.91it/s]\u001b[A\n  4%|▎         | 895/25000 [17:28<2:47:48,  2.39it/s]\u001b[A\n  4%|▎         | 896/25000 [17:29<3:50:03,  1.75it/s]\u001b[A\n  4%|▎         | 897/25000 [17:31<6:43:47,  1.01s/it]\u001b[A\n  4%|▎         | 898/25000 [17:31<5:30:48,  1.21it/s]\u001b[A\n  4%|▎         | 899/25000 [17:32<6:04:25,  1.10it/s]\u001b[A\n  4%|▎         | 900/25000 [17:33<4:59:29,  1.34it/s]\u001b[A\n  4%|▎         | 901/25000 [17:35<8:45:25,  1.31s/it]\u001b[A\n  4%|▎         | 902/25000 [17:39<13:38:13,  2.04s/it]\u001b[A\n  4%|▎         | 903/25000 [17:39<10:01:22,  1.50s/it]\u001b[A\n  4%|▎         | 904/25000 [17:39<7:14:20,  1.08s/it] \u001b[A\n  4%|▎         | 905/25000 [17:40<5:41:44,  1.18it/s]\u001b[A\n  4%|▎         | 906/25000 [17:40<5:11:09,  1.29it/s]\u001b[A\n  4%|▎         | 907/25000 [17:41<4:25:00,  1.52it/s]\u001b[A\n  4%|▎         | 908/25000 [17:41<4:29:22,  1.49it/s]\u001b[A\n  4%|▎         | 909/25000 [17:42<4:11:07,  1.60it/s]\u001b[A\n  4%|▎         | 910/25000 [17:47<13:36:01,  2.03s/it]\u001b[A\n  4%|▎         | 911/25000 [17:47<9:50:41,  1.47s/it] \u001b[A\n  4%|▎         | 912/25000 [17:50<12:32:48,  1.88s/it]\u001b[A\n  4%|▎         | 913/25000 [17:51<9:35:30,  1.43s/it] \u001b[A\n  4%|▎         | 915/25000 [17:51<6:13:18,  1.08it/s]\u001b[A\n  4%|▎         | 916/25000 [17:53<8:12:31,  1.23s/it]\u001b[A\n  4%|▎         | 917/25000 [17:54<7:44:38,  1.16s/it]\u001b[A\n  4%|▎         | 918/25000 [17:54<5:50:59,  1.14it/s]\u001b[A\n  4%|▎         | 919/25000 [17:55<5:54:49,  1.13it/s]\u001b[A\n  4%|▎         | 920/25000 [17:56<5:19:03,  1.26it/s]\u001b[A\n  4%|▎         | 921/25000 [17:56<4:03:35,  1.65it/s]\u001b[A\n  4%|▎         | 922/25000 [17:57<4:23:25,  1.52it/s]\u001b[A\n  4%|▎         | 923/25000 [18:00<8:16:46,  1.24s/it]\u001b[A\n  4%|▎         | 924/25000 [18:00<6:20:48,  1.05it/s]\u001b[A\n  4%|▎         | 925/25000 [18:05<14:11:24,  2.12s/it]\u001b[A\n  4%|▎         | 926/25000 [18:06<11:58:12,  1.79s/it]\u001b[A\n  4%|▎         | 927/25000 [18:10<16:59:54,  2.54s/it]\u001b[A\n  4%|▎         | 928/25000 [18:10<12:42:02,  1.90s/it]\u001b[A\n  4%|▎         | 929/25000 [18:11<11:04:45,  1.66s/it]\u001b[A\n  4%|▎         | 930/25000 [18:12<8:40:31,  1.30s/it] \u001b[A\n  4%|▎         | 931/25000 [18:15<11:38:48,  1.74s/it]\u001b[A\n  4%|▎         | 932/25000 [18:15<9:04:57,  1.36s/it] \u001b[A\n  4%|▎         | 933/25000 [18:21<17:24:24,  2.60s/it]\u001b[A\n  4%|▎         | 934/25000 [18:21<12:36:47,  1.89s/it]\u001b[A\n  4%|▎         | 935/25000 [18:21<9:48:15,  1.47s/it] \u001b[A\n  4%|▎         | 936/25000 [18:22<7:41:34,  1.15s/it]\u001b[A\n  4%|▍         | 938/25000 [18:22<4:23:46,  1.52it/s]\u001b[A\n  4%|▍         | 939/25000 [18:22<3:40:27,  1.82it/s]\u001b[A\n  4%|▍         | 940/25000 [18:23<3:21:07,  1.99it/s]\u001b[A\n  4%|▍         | 941/25000 [18:23<3:26:22,  1.94it/s]\u001b[A\n  4%|▍         | 942/25000 [18:23<2:48:24,  2.38it/s]\u001b[A\n  4%|▍         | 943/25000 [18:24<3:09:57,  2.11it/s]\u001b[A\n  4%|▍         | 944/25000 [18:24<2:50:14,  2.36it/s]\u001b[A\n  4%|▍         | 945/25000 [18:25<3:47:17,  1.76it/s]\u001b[A\n  4%|▍         | 946/25000 [18:26<3:36:22,  1.85it/s]\u001b[A\n  4%|▍         | 947/25000 [18:27<5:12:00,  1.28it/s]\u001b[A\n  4%|▍         | 948/25000 [18:28<5:27:07,  1.23it/s]\u001b[A\n  4%|▍         | 949/25000 [18:29<5:33:55,  1.20it/s]\u001b[A\n  4%|▍         | 950/25000 [18:30<5:45:21,  1.16it/s]\u001b[A\n  4%|▍         | 951/25000 [18:31<6:37:23,  1.01it/s]\u001b[A\n  4%|▍         | 952/25000 [18:32<6:49:08,  1.02s/it]\u001b[A\n  4%|▍         | 953/25000 [18:36<12:31:32,  1.88s/it]\u001b[A\n  4%|▍         | 954/25000 [18:37<11:21:19,  1.70s/it]\u001b[A\n  4%|▍         | 955/25000 [18:38<9:07:44,  1.37s/it] \u001b[A\n  4%|▍         | 956/25000 [18:38<7:36:29,  1.14s/it]\u001b[A\n  4%|▍         | 957/25000 [18:39<7:28:46,  1.12s/it]\u001b[A\n  4%|▍         | 958/25000 [18:40<6:05:44,  1.10it/s]\u001b[A\n  4%|▍         | 959/25000 [18:41<6:56:58,  1.04s/it]\u001b[A\n  4%|▍         | 960/25000 [18:42<6:27:32,  1.03it/s]\u001b[A\n  4%|▍         | 961/25000 [18:44<8:47:17,  1.32s/it]\u001b[A\n  4%|▍         | 962/25000 [18:46<9:21:35,  1.40s/it]\u001b[A\n  4%|▍         | 964/25000 [18:47<7:15:57,  1.09s/it]\u001b[A\n  4%|▍         | 966/25000 [18:48<5:11:22,  1.29it/s]\u001b[A\n  4%|▍         | 967/25000 [18:49<5:35:16,  1.19it/s]\u001b[A\n  4%|▍         | 968/25000 [18:50<5:31:55,  1.21it/s]\u001b[A\n  4%|▍         | 969/25000 [18:59<19:56:20,  2.99s/it]\u001b[A\n  4%|▍         | 970/25000 [19:00<16:39:46,  2.50s/it]\u001b[A\n  4%|▍         | 971/25000 [19:01<13:28:55,  2.02s/it]\u001b[A\n  4%|▍         | 972/25000 [19:01<10:28:49,  1.57s/it]\u001b[A\n  4%|▍         | 973/25000 [19:02<9:07:27,  1.37s/it] \u001b[A\n  4%|▍         | 974/25000 [19:02<6:56:54,  1.04s/it]\u001b[A\n  4%|▍         | 975/25000 [19:05<10:11:12,  1.53s/it]\u001b[A\n  4%|▍         | 976/25000 [19:06<8:15:25,  1.24s/it] \u001b[A\n  4%|▍         | 977/25000 [19:06<6:11:06,  1.08it/s]\u001b[A\n  4%|▍         | 978/25000 [19:06<5:07:55,  1.30it/s]\u001b[A\n  4%|▍         | 979/25000 [19:15<20:49:29,  3.12s/it]\u001b[A\n  4%|▍         | 980/25000 [19:15<15:17:40,  2.29s/it]\u001b[A\n  4%|▍         | 981/25000 [19:16<11:26:43,  1.72s/it]\u001b[A\n  4%|▍         | 982/25000 [19:17<10:26:40,  1.57s/it]\u001b[A\n  4%|▍         | 983/25000 [19:17<7:44:38,  1.16s/it] \u001b[A\n  4%|▍         | 984/25000 [19:21<13:56:51,  2.09s/it]\u001b[A\n  4%|▍         | 985/25000 [19:22<10:57:06,  1.64s/it]\u001b[A\n  4%|▍         | 986/25000 [19:22<8:21:20,  1.25s/it] \u001b[A\n  4%|▍         | 987/25000 [19:22<6:21:03,  1.05it/s]\u001b[A\n  4%|▍         | 989/25000 [19:25<7:27:01,  1.12s/it]\u001b[A\n  4%|▍         | 990/25000 [19:25<6:10:21,  1.08it/s]\u001b[A\n  4%|▍         | 991/25000 [19:27<7:20:50,  1.10s/it]\u001b[A\n  4%|▍         | 993/25000 [19:28<4:58:42,  1.34it/s]\u001b[A\n  4%|▍         | 994/25000 [19:28<5:07:19,  1.30it/s]\u001b[A\n  4%|▍         | 995/25000 [19:29<4:38:47,  1.44it/s]\u001b[A\n  4%|▍         | 996/25000 [19:30<5:52:42,  1.13it/s]\u001b[A\n  4%|▍         | 997/25000 [19:33<8:25:45,  1.26s/it]\u001b[A\n  4%|▍         | 998/25000 [19:33<7:33:24,  1.13s/it]\u001b[A\n  4%|▍         | 999/25000 [19:34<7:07:36,  1.07s/it]\u001b[A\n  4%|▍         | 1000/25000 [19:36<9:20:12,  1.40s/it]\u001b[A\n  4%|▍         | 1001/25000 [19:38<8:45:26,  1.31s/it]\u001b[A\n  4%|▍         | 1002/25000 [19:39<9:16:17,  1.39s/it]\u001b[A\n  4%|▍         | 1003/25000 [19:40<7:13:23,  1.08s/it]\u001b[A\n  4%|▍         | 1004/25000 [19:41<7:04:12,  1.06s/it]\u001b[A\n  4%|▍         | 1005/25000 [19:51<26:14:20,  3.94s/it]\u001b[A\n  4%|▍         | 1006/25000 [19:52<19:56:15,  2.99s/it]\u001b[A\n  4%|▍         | 1007/25000 [19:52<14:20:40,  2.15s/it]\u001b[A\n  4%|▍         | 1008/25000 [19:53<11:05:28,  1.66s/it]\u001b[A\n  4%|▍         | 1009/25000 [19:54<11:07:14,  1.67s/it]\u001b[A\n  4%|▍         | 1010/25000 [19:58<15:47:15,  2.37s/it]\u001b[A\n  4%|▍         | 1011/25000 [19:59<11:18:19,  1.70s/it]\u001b[A\n  4%|▍         | 1012/25000 [20:00<9:53:33,  1.48s/it] \u001b[A\n  4%|▍         | 1013/25000 [20:01<8:57:56,  1.35s/it]\u001b[A\n  4%|▍         | 1014/25000 [20:02<8:17:38,  1.24s/it]\u001b[A\n  4%|▍         | 1015/25000 [20:07<17:15:45,  2.59s/it]\u001b[A\n  4%|▍         | 1016/25000 [20:08<13:03:39,  1.96s/it]\u001b[A\n  4%|▍         | 1017/25000 [20:08<9:59:48,  1.50s/it] \u001b[A\n  4%|▍         | 1018/25000 [20:09<8:15:40,  1.24s/it]\u001b[A\n  4%|▍         | 1019/25000 [20:09<6:08:04,  1.09it/s]\u001b[A\n  4%|▍         | 1020/25000 [20:10<5:17:03,  1.26it/s]\u001b[A\n  4%|▍         | 1022/25000 [20:10<3:46:32,  1.76it/s]\u001b[A\n  4%|▍         | 1023/25000 [20:11<4:21:26,  1.53it/s]\u001b[A\n  4%|▍         | 1024/25000 [20:12<4:14:15,  1.57it/s]\u001b[A\n  4%|▍         | 1025/25000 [20:12<3:51:31,  1.73it/s]\u001b[A\n  4%|▍         | 1026/25000 [20:13<4:20:24,  1.53it/s]\u001b[A\n  4%|▍         | 1027/25000 [20:15<7:52:06,  1.18s/it]\u001b[A\n  4%|▍         | 1028/25000 [20:16<7:42:45,  1.16s/it]\u001b[A\n  4%|▍         | 1030/25000 [20:17<4:41:01,  1.42it/s]\u001b[A\n  4%|▍         | 1031/25000 [20:18<5:03:37,  1.32it/s]\u001b[A\n  4%|▍         | 1033/25000 [20:19<4:03:33,  1.64it/s]\u001b[A\n  4%|▍         | 1034/25000 [20:19<4:10:51,  1.59it/s]\u001b[A\n  4%|▍         | 1035/25000 [20:21<6:02:07,  1.10it/s]\u001b[A\n  4%|▍         | 1036/25000 [20:22<6:44:01,  1.01s/it]\u001b[A\n  4%|▍         | 1037/25000 [20:25<9:09:20,  1.38s/it]\u001b[A\n  4%|▍         | 1038/25000 [20:25<7:17:21,  1.10s/it]\u001b[A\n  4%|▍         | 1039/25000 [20:26<6:47:37,  1.02s/it]\u001b[A\n  4%|▍         | 1040/25000 [20:27<7:14:01,  1.09s/it]\u001b[A\n  4%|▍         | 1041/25000 [20:28<6:58:40,  1.05s/it]\u001b[A\n  4%|▍         | 1042/25000 [20:29<6:04:11,  1.10it/s]\u001b[A\n  4%|▍         | 1043/25000 [20:29<4:36:55,  1.44it/s]\u001b[A\n  4%|▍         | 1044/25000 [20:30<4:44:57,  1.40it/s]\u001b[A\n  4%|▍         | 1045/25000 [20:30<3:47:45,  1.75it/s]\u001b[A\n  4%|▍         | 1046/25000 [20:31<4:14:27,  1.57it/s]\u001b[A\n  4%|▍         | 1047/25000 [20:31<4:09:46,  1.60it/s]\u001b[A\n  4%|▍         | 1048/25000 [20:32<4:15:36,  1.56it/s]\u001b[A\n  4%|▍         | 1049/25000 [20:34<6:23:25,  1.04it/s]\u001b[A\n  4%|▍         | 1050/25000 [20:34<5:55:40,  1.12it/s]\u001b[A\n  4%|▍         | 1051/25000 [20:36<8:27:29,  1.27s/it]\u001b[A\n  4%|▍         | 1052/25000 [20:37<6:31:30,  1.02it/s]\u001b[A\n  4%|▍         | 1054/25000 [20:39<6:35:53,  1.01it/s]\u001b[A\n  4%|▍         | 1055/25000 [20:39<5:30:57,  1.21it/s]\u001b[A\n  4%|▍         | 1056/25000 [20:41<7:01:00,  1.05s/it]\u001b[A\n  4%|▍         | 1058/25000 [20:41<4:32:28,  1.46it/s]\u001b[A\n  4%|▍         | 1059/25000 [20:42<4:15:27,  1.56it/s]\u001b[A\n  4%|▍         | 1060/25000 [20:42<4:06:05,  1.62it/s]\u001b[A\n  4%|▍         | 1061/25000 [20:42<3:20:52,  1.99it/s]\u001b[A\n  4%|▍         | 1062/25000 [20:44<4:29:44,  1.48it/s]\u001b[A\n  4%|▍         | 1063/25000 [20:44<4:51:39,  1.37it/s]\u001b[A\n  4%|▍         | 1064/25000 [20:48<9:20:57,  1.41s/it]\u001b[A\n  4%|▍         | 1065/25000 [20:51<12:59:50,  1.95s/it]\u001b[A\n  4%|▍         | 1067/25000 [20:51<7:18:09,  1.10s/it] \u001b[A\n  4%|▍         | 1068/25000 [20:51<5:56:17,  1.12it/s]\u001b[A\n  4%|▍         | 1069/25000 [20:54<8:32:10,  1.28s/it]\u001b[A\n  4%|▍         | 1070/25000 [20:54<6:39:33,  1.00s/it]\u001b[A\n  4%|▍         | 1071/25000 [20:55<6:52:11,  1.03s/it]\u001b[A\n  4%|▍         | 1072/25000 [20:55<5:49:29,  1.14it/s]\u001b[A\n  4%|▍         | 1073/25000 [20:57<7:19:30,  1.10s/it]\u001b[A\n  4%|▍         | 1074/25000 [20:58<7:06:14,  1.07s/it]\u001b[A\n  4%|▍         | 1075/25000 [20:58<5:29:46,  1.21it/s]\u001b[A\n  4%|▍         | 1076/25000 [20:59<4:59:54,  1.33it/s]\u001b[A\n  4%|▍         | 1077/25000 [21:01<7:39:04,  1.15s/it]\u001b[A\n  4%|▍         | 1078/25000 [21:02<6:32:10,  1.02it/s]\u001b[A\n  4%|▍         | 1080/25000 [21:03<5:53:35,  1.13it/s]\u001b[A\n  4%|▍         | 1081/25000 [21:05<6:57:27,  1.05s/it]\u001b[A\n  4%|▍         | 1082/25000 [21:05<5:37:06,  1.18it/s]\u001b[A\n  4%|▍         | 1083/25000 [21:07<7:10:42,  1.08s/it]\u001b[A\n  4%|▍         | 1084/25000 [21:07<6:03:23,  1.10it/s]\u001b[A\n  4%|▍         | 1085/25000 [21:12<12:51:26,  1.94s/it]\u001b[A\n  4%|▍         | 1086/25000 [21:13<12:23:38,  1.87s/it]\u001b[A\n  4%|▍         | 1087/25000 [21:15<11:22:24,  1.71s/it]\u001b[A\n  4%|▍         | 1089/25000 [21:15<7:16:50,  1.10s/it] \u001b[A\n  4%|▍         | 1090/25000 [21:16<6:03:42,  1.10it/s]\u001b[A\n  4%|▍         | 1091/25000 [21:16<5:09:22,  1.29it/s]\u001b[A\n  4%|▍         | 1092/25000 [21:17<5:28:12,  1.21it/s]\u001b[A\n  4%|▍         | 1094/25000 [21:18<3:54:03,  1.70it/s]\u001b[A\n  4%|▍         | 1095/25000 [21:18<3:14:08,  2.05it/s]\u001b[A\n  4%|▍         | 1096/25000 [21:20<5:38:52,  1.18it/s]\u001b[A\n  4%|▍         | 1097/25000 [21:20<5:07:31,  1.30it/s]\u001b[A\n  4%|▍         | 1098/25000 [21:20<4:06:31,  1.62it/s]\u001b[A\n  4%|▍         | 1099/25000 [21:21<3:47:20,  1.75it/s]\u001b[A\n  4%|▍         | 1100/25000 [21:21<3:21:09,  1.98it/s]\u001b[A\n  4%|▍         | 1101/25000 [21:23<6:03:50,  1.09it/s]\u001b[A\n  4%|▍         | 1102/25000 [21:24<5:45:09,  1.15it/s]\u001b[A\n  4%|▍         | 1103/25000 [21:24<5:07:17,  1.30it/s]\u001b[A\n  4%|▍         | 1104/25000 [21:25<4:12:02,  1.58it/s]\u001b[A\n  4%|▍         | 1105/25000 [21:26<6:06:15,  1.09it/s]\u001b[A\n  4%|▍         | 1106/25000 [21:28<6:54:37,  1.04s/it]\u001b[A\n  4%|▍         | 1107/25000 [21:28<5:10:55,  1.28it/s]\u001b[A\n  4%|▍         | 1108/25000 [21:30<7:22:26,  1.11s/it]\u001b[A\n  4%|▍         | 1109/25000 [21:39<23:20:33,  3.52s/it]\u001b[A\n  4%|▍         | 1110/25000 [21:39<17:12:31,  2.59s/it]\u001b[A\n  4%|▍         | 1111/25000 [21:40<13:01:12,  1.96s/it]\u001b[A\n  4%|▍         | 1112/25000 [21:42<13:05:51,  1.97s/it]\u001b[A\n  4%|▍         | 1114/25000 [21:42<7:58:20,  1.20s/it] \u001b[A\n  4%|▍         | 1115/25000 [21:43<6:17:23,  1.05it/s]\u001b[A\n  4%|▍         | 1118/25000 [21:43<3:27:48,  1.92it/s]\u001b[A\n  4%|▍         | 1119/25000 [21:43<3:26:03,  1.93it/s]\u001b[A\n  4%|▍         | 1120/25000 [21:44<2:53:44,  2.29it/s]\u001b[A\n  4%|▍         | 1121/25000 [21:44<3:00:09,  2.21it/s]\u001b[A\n  4%|▍         | 1122/25000 [21:44<2:32:36,  2.61it/s]\u001b[A\n  4%|▍         | 1123/25000 [21:49<9:27:10,  1.43s/it]\u001b[A\n  4%|▍         | 1124/25000 [21:49<8:26:45,  1.27s/it]\u001b[A\n  4%|▍         | 1125/25000 [21:50<7:34:21,  1.14s/it]\u001b[A\n  5%|▍         | 1126/25000 [21:53<10:34:39,  1.60s/it]\u001b[A\n  5%|▍         | 1127/25000 [21:54<8:24:57,  1.27s/it] \u001b[A\n  5%|▍         | 1128/25000 [21:54<7:36:44,  1.15s/it]\u001b[A\n  5%|▍         | 1129/25000 [21:57<9:39:43,  1.46s/it]\u001b[A\n  5%|▍         | 1130/25000 [21:57<7:45:42,  1.17s/it]\u001b[A\n  5%|▍         | 1131/25000 [21:57<5:57:00,  1.11it/s]\u001b[A\n  5%|▍         | 1132/25000 [21:58<5:48:13,  1.14it/s]\u001b[A\n  5%|▍         | 1133/25000 [22:03<13:25:17,  2.02s/it]\u001b[A\n  5%|▍         | 1134/25000 [22:03<9:54:41,  1.50s/it] \u001b[A\n  5%|▍         | 1135/25000 [22:03<7:39:57,  1.16s/it]\u001b[A\n  5%|▍         | 1136/25000 [22:04<7:08:26,  1.08s/it]\u001b[A\n  5%|▍         | 1137/25000 [22:05<6:28:55,  1.02it/s]\u001b[A\n  5%|▍         | 1138/25000 [22:06<6:51:20,  1.03s/it]\u001b[A\n  5%|▍         | 1139/25000 [22:06<5:09:09,  1.29it/s]\u001b[A\n  5%|▍         | 1140/25000 [22:07<4:34:43,  1.45it/s]\u001b[A\n  5%|▍         | 1141/25000 [22:08<6:00:18,  1.10it/s]\u001b[A\n  5%|▍         | 1142/25000 [22:12<10:59:33,  1.66s/it]\u001b[A\n  5%|▍         | 1143/25000 [22:16<15:52:11,  2.39s/it]\u001b[A\n  5%|▍         | 1144/25000 [22:17<12:48:34,  1.93s/it]\u001b[A\n  5%|▍         | 1145/25000 [22:18<11:57:53,  1.81s/it]\u001b[A\n  5%|▍         | 1146/25000 [22:20<11:34:50,  1.75s/it]\u001b[A\n  5%|▍         | 1147/25000 [22:20<9:16:08,  1.40s/it] \u001b[A\n  5%|▍         | 1148/25000 [22:21<6:52:45,  1.04s/it]\u001b[A\n  5%|▍         | 1149/25000 [22:23<9:11:55,  1.39s/it]\u001b[A\n  5%|▍         | 1150/25000 [22:24<9:33:37,  1.44s/it]\u001b[A\n  5%|▍         | 1151/25000 [22:26<9:08:28,  1.38s/it]\u001b[A\n  5%|▍         | 1152/25000 [22:27<9:28:19,  1.43s/it]\u001b[A\n  5%|▍         | 1153/25000 [22:28<7:27:08,  1.13s/it]\u001b[A\n  5%|▍         | 1154/25000 [22:30<10:18:51,  1.56s/it]\u001b[A\n  5%|▍         | 1155/25000 [22:32<10:28:39,  1.58s/it]\u001b[A\n  5%|▍         | 1156/25000 [22:32<8:34:27,  1.29s/it] \u001b[A\n  5%|▍         | 1157/25000 [22:33<6:36:35,  1.00it/s]\u001b[A\n  5%|▍         | 1158/25000 [22:33<5:03:25,  1.31it/s]\u001b[A\n  5%|▍         | 1159/25000 [22:36<8:55:42,  1.35s/it]\u001b[A\n  5%|▍         | 1160/25000 [22:36<7:25:43,  1.12s/it]\u001b[A\n  5%|▍         | 1161/25000 [22:37<6:25:59,  1.03it/s]\u001b[A\n  5%|▍         | 1163/25000 [22:38<4:28:18,  1.48it/s]\u001b[A\n  5%|▍         | 1164/25000 [22:39<5:58:34,  1.11it/s]\u001b[A\n  5%|▍         | 1165/25000 [22:41<7:59:37,  1.21s/it]\u001b[A\n  5%|▍         | 1166/25000 [22:42<7:14:25,  1.09s/it]\u001b[A\n  5%|▍         | 1167/25000 [22:43<7:33:30,  1.14s/it]\u001b[A\n  5%|▍         | 1168/25000 [22:44<7:36:45,  1.15s/it]\u001b[A\n  5%|▍         | 1169/25000 [22:45<5:39:32,  1.17it/s]\u001b[A\n  5%|▍         | 1170/25000 [22:45<5:19:12,  1.24it/s]\u001b[A\n  5%|▍         | 1171/25000 [22:46<5:29:53,  1.20it/s]\u001b[A\n  5%|▍         | 1172/25000 [22:46<4:05:58,  1.61it/s]\u001b[A\n  5%|▍         | 1174/25000 [22:47<3:15:40,  2.03it/s]\u001b[A\n  5%|▍         | 1175/25000 [22:51<8:47:37,  1.33s/it]\u001b[A\n  5%|▍         | 1176/25000 [22:53<10:28:01,  1.58s/it]\u001b[A\n  5%|▍         | 1177/25000 [22:53<8:08:16,  1.23s/it] \u001b[A\n  5%|▍         | 1178/25000 [22:55<8:27:18,  1.28s/it]\u001b[A\n  5%|▍         | 1179/25000 [22:55<6:34:26,  1.01it/s]\u001b[A\n  5%|▍         | 1180/25000 [22:55<5:21:11,  1.24it/s]\u001b[A\n  5%|▍         | 1181/25000 [22:56<5:12:47,  1.27it/s]\u001b[A\n  5%|▍         | 1182/25000 [23:00<10:38:57,  1.61s/it]\u001b[A\n  5%|▍         | 1183/25000 [23:01<10:40:09,  1.61s/it]\u001b[A\n  5%|▍         | 1184/25000 [23:03<10:06:38,  1.53s/it]\u001b[A\n  5%|▍         | 1186/25000 [23:07<11:53:52,  1.80s/it]\u001b[A\n  5%|▍         | 1187/25000 [23:08<11:23:00,  1.72s/it]\u001b[A\n  5%|▍         | 1188/25000 [23:09<9:19:25,  1.41s/it] \u001b[A\n  5%|▍         | 1189/25000 [23:09<7:13:39,  1.09s/it]\u001b[A\n  5%|▍         | 1190/25000 [23:11<8:45:36,  1.32s/it]\u001b[A\n  5%|▍         | 1191/25000 [23:13<9:28:33,  1.43s/it]\u001b[A\n  5%|▍         | 1192/25000 [23:19<18:00:15,  2.72s/it]\u001b[A\n  5%|▍         | 1193/25000 [23:20<15:03:38,  2.28s/it]\u001b[A\n  5%|▍         | 1194/25000 [23:21<13:45:30,  2.08s/it]\u001b[A\n  5%|▍         | 1195/25000 [23:23<12:12:27,  1.85s/it]\u001b[A\n  5%|▍         | 1196/25000 [23:23<9:26:24,  1.43s/it] \u001b[A\n  5%|▍         | 1198/25000 [23:24<5:41:28,  1.16it/s]\u001b[A\n  5%|▍         | 1199/25000 [23:26<8:55:21,  1.35s/it]\u001b[A\n  5%|▍         | 1200/25000 [23:28<9:23:27,  1.42s/it]\u001b[A\n  5%|▍         | 1201/25000 [23:29<8:09:42,  1.23s/it]\u001b[A\n  5%|▍         | 1202/25000 [23:30<7:14:59,  1.10s/it]\u001b[A\n  5%|▍         | 1203/25000 [23:30<6:24:31,  1.03it/s]\u001b[A\n  5%|▍         | 1204/25000 [23:31<6:54:49,  1.05s/it]\u001b[A\n  5%|▍         | 1205/25000 [23:32<5:46:44,  1.14it/s]\u001b[A\n  5%|▍         | 1207/25000 [23:34<5:46:26,  1.14it/s]\u001b[A\n  5%|▍         | 1209/25000 [23:34<3:46:44,  1.75it/s]\u001b[A\n  5%|▍         | 1210/25000 [23:34<3:12:41,  2.06it/s]\u001b[A\n  5%|▍         | 1211/25000 [23:38<8:30:41,  1.29s/it]\u001b[A\n  5%|▍         | 1213/25000 [23:38<5:20:00,  1.24it/s]\u001b[A\n  5%|▍         | 1214/25000 [23:40<6:25:33,  1.03it/s]\u001b[A\n  5%|▍         | 1215/25000 [23:40<5:32:36,  1.19it/s]\u001b[A\n  5%|▍         | 1216/25000 [23:40<4:44:04,  1.40it/s]\u001b[A\n  5%|▍         | 1217/25000 [23:41<4:17:47,  1.54it/s]\u001b[A\n  5%|▍         | 1219/25000 [23:43<4:46:19,  1.38it/s]\u001b[A\n  5%|▍         | 1220/25000 [23:43<4:07:02,  1.60it/s]\u001b[A\n  5%|▍         | 1221/25000 [23:44<4:58:06,  1.33it/s]\u001b[A\n  5%|▍         | 1222/25000 [23:44<4:35:37,  1.44it/s]\u001b[A\n  5%|▍         | 1224/25000 [23:45<3:57:40,  1.67it/s]\u001b[A\n  5%|▍         | 1225/25000 [23:49<8:53:03,  1.35s/it]\u001b[A\n  5%|▍         | 1226/25000 [23:51<8:57:42,  1.36s/it]\u001b[A\n  5%|▍         | 1227/25000 [23:51<6:46:06,  1.02s/it]\u001b[A\n  5%|▍         | 1228/25000 [23:57<16:39:16,  2.52s/it]\u001b[A\n  5%|▍         | 1229/25000 [23:58<12:41:54,  1.92s/it]\u001b[A\n  5%|▍         | 1230/25000 [23:58<9:42:55,  1.47s/it] \u001b[A\n  5%|▍         | 1231/25000 [23:58<7:46:10,  1.18s/it]\u001b[A\n  5%|▍         | 1232/25000 [23:59<6:44:39,  1.02s/it]\u001b[A\n  5%|▍         | 1233/25000 [23:59<5:38:30,  1.17it/s]\u001b[A\n  5%|▍         | 1234/25000 [24:00<4:23:00,  1.51it/s]\u001b[A\n  5%|▍         | 1235/25000 [24:00<3:52:55,  1.70it/s]\u001b[A\n  5%|▍         | 1236/25000 [24:07<16:31:47,  2.50s/it]\u001b[A\n  5%|▍         | 1237/25000 [24:08<14:08:20,  2.14s/it]\u001b[A\n  5%|▍         | 1238/25000 [24:10<12:42:13,  1.92s/it]\u001b[A\n  5%|▍         | 1240/25000 [24:10<7:17:33,  1.10s/it] \u001b[A\n  5%|▍         | 1241/25000 [24:11<6:39:05,  1.01s/it]\u001b[A\n  5%|▍         | 1244/25000 [24:13<5:40:57,  1.16it/s]\u001b[A\n  5%|▍         | 1245/25000 [24:14<5:30:08,  1.20it/s]\u001b[A\n  5%|▍         | 1246/25000 [24:14<4:42:03,  1.40it/s]\u001b[A\n  5%|▍         | 1247/25000 [24:15<5:35:57,  1.18it/s]\u001b[A\n  5%|▍         | 1248/25000 [24:16<4:47:01,  1.38it/s]\u001b[A\n  5%|▍         | 1249/25000 [24:16<4:33:28,  1.45it/s]\u001b[A\n  5%|▌         | 1250/25000 [24:17<5:00:03,  1.32it/s]\u001b[A\n  5%|▌         | 1251/25000 [24:19<7:14:51,  1.10s/it]\u001b[A\n  5%|▌         | 1252/25000 [24:20<6:17:48,  1.05it/s]\u001b[A\n  5%|▌         | 1253/25000 [24:20<5:13:38,  1.26it/s]\u001b[A\n  5%|▌         | 1254/25000 [24:21<4:37:24,  1.43it/s]\u001b[A\n  5%|▌         | 1255/25000 [24:21<3:30:13,  1.88it/s]\u001b[A\n  5%|▌         | 1256/25000 [24:21<2:46:59,  2.37it/s]\u001b[A\n  5%|▌         | 1257/25000 [24:22<4:03:47,  1.62it/s]\u001b[A\n  5%|▌         | 1259/25000 [24:23<3:31:33,  1.87it/s]\u001b[A\n  5%|▌         | 1260/25000 [24:23<3:10:08,  2.08it/s]\u001b[A\n  5%|▌         | 1261/25000 [24:24<3:45:49,  1.75it/s]\u001b[A\n  5%|▌         | 1262/25000 [24:25<4:01:42,  1.64it/s]\u001b[A\n  5%|▌         | 1263/25000 [24:25<3:45:50,  1.75it/s]\u001b[A\n  5%|▌         | 1266/25000 [24:26<2:18:22,  2.86it/s]\u001b[A\n  5%|▌         | 1267/25000 [24:27<3:23:15,  1.95it/s]\u001b[A\n  5%|▌         | 1268/25000 [24:27<3:03:58,  2.15it/s]\u001b[A\n  5%|▌         | 1269/25000 [24:28<3:25:51,  1.92it/s]\u001b[A\n  5%|▌         | 1270/25000 [24:29<4:02:22,  1.63it/s]\u001b[A\n  5%|▌         | 1271/25000 [24:32<8:37:39,  1.31s/it]\u001b[A\n  5%|▌         | 1272/25000 [24:32<7:06:33,  1.08s/it]\u001b[A\n  5%|▌         | 1273/25000 [24:37<12:53:04,  1.95s/it]\u001b[A\n  5%|▌         | 1274/25000 [24:37<9:33:37,  1.45s/it] \u001b[A\n  5%|▌         | 1275/25000 [24:37<7:09:36,  1.09s/it]\u001b[A\n  5%|▌         | 1276/25000 [24:38<7:10:36,  1.09s/it]\u001b[A\n  5%|▌         | 1277/25000 [24:40<8:18:20,  1.26s/it]\u001b[A\n  5%|▌         | 1278/25000 [24:40<6:36:39,  1.00s/it]\u001b[A\n  5%|▌         | 1279/25000 [24:40<5:19:03,  1.24it/s]\u001b[A\n  5%|▌         | 1280/25000 [24:41<4:29:11,  1.47it/s]\u001b[A\n  5%|▌         | 1281/25000 [24:41<3:28:57,  1.89it/s]\u001b[A\n  5%|▌         | 1282/25000 [24:41<3:25:25,  1.92it/s]\u001b[A\n  5%|▌         | 1284/25000 [24:44<5:03:25,  1.30it/s]\u001b[A\n  5%|▌         | 1285/25000 [24:46<7:53:08,  1.20s/it]\u001b[A\n  5%|▌         | 1286/25000 [24:46<6:09:52,  1.07it/s]\u001b[A\n  5%|▌         | 1287/25000 [24:48<7:15:21,  1.10s/it]\u001b[A\n  5%|▌         | 1288/25000 [24:49<6:38:55,  1.01s/it]\u001b[A\n  5%|▌         | 1289/25000 [24:50<7:00:09,  1.06s/it]\u001b[A\n  5%|▌         | 1290/25000 [24:51<6:30:54,  1.01it/s]\u001b[A\n  5%|▌         | 1291/25000 [24:52<7:06:42,  1.08s/it]\u001b[A\n  5%|▌         | 1292/25000 [24:52<5:24:49,  1.22it/s]\u001b[A\n  5%|▌         | 1293/25000 [24:54<7:41:42,  1.17s/it]\u001b[A\n  5%|▌         | 1294/25000 [24:55<6:08:11,  1.07it/s]\u001b[A\n  5%|▌         | 1295/25000 [24:56<8:11:30,  1.24s/it]\u001b[A\n  5%|▌         | 1296/25000 [24:57<6:01:36,  1.09it/s]\u001b[A\n  5%|▌         | 1297/25000 [24:57<4:39:37,  1.41it/s]\u001b[A\n  5%|▌         | 1298/25000 [24:57<3:34:12,  1.84it/s]\u001b[A\n  5%|▌         | 1299/25000 [24:57<2:42:38,  2.43it/s]\u001b[A\n  5%|▌         | 1300/25000 [24:57<2:10:22,  3.03it/s]\u001b[A\n  5%|▌         | 1301/25000 [24:58<2:23:42,  2.75it/s]\u001b[A\n  5%|▌         | 1302/25000 [24:58<2:25:17,  2.72it/s]\u001b[A\n  5%|▌         | 1304/25000 [24:59<2:50:48,  2.31it/s]\u001b[A\n  5%|▌         | 1305/25000 [25:00<3:55:50,  1.67it/s]\u001b[A\n  5%|▌         | 1306/25000 [25:03<8:26:27,  1.28s/it]\u001b[A\n  5%|▌         | 1307/25000 [25:05<8:12:17,  1.25s/it]\u001b[A\n  5%|▌         | 1308/25000 [25:05<7:26:27,  1.13s/it]\u001b[A\n  5%|▌         | 1309/25000 [25:09<12:05:51,  1.84s/it]\u001b[A\n  5%|▌         | 1310/25000 [25:09<9:29:06,  1.44s/it] \u001b[A\n  5%|▌         | 1311/25000 [25:10<8:23:11,  1.27s/it]\u001b[A\n  5%|▌         | 1312/25000 [25:11<6:33:59,  1.00it/s]\u001b[A\n  5%|▌         | 1313/25000 [25:11<5:20:37,  1.23it/s]\u001b[A\n  5%|▌         | 1314/25000 [25:11<4:28:06,  1.47it/s]\u001b[A\n  5%|▌         | 1315/25000 [25:13<5:42:05,  1.15it/s]\u001b[A\n  5%|▌         | 1316/25000 [25:13<4:26:58,  1.48it/s]\u001b[A\n  5%|▌         | 1317/25000 [25:13<3:35:55,  1.83it/s]\u001b[A\n  5%|▌         | 1318/25000 [25:14<4:14:45,  1.55it/s]\u001b[A\n  5%|▌         | 1319/25000 [25:16<5:51:30,  1.12it/s]\u001b[A\n  5%|▌         | 1320/25000 [25:16<4:32:58,  1.45it/s]\u001b[A\n  5%|▌         | 1321/25000 [25:19<8:51:48,  1.35s/it]\u001b[A\n  5%|▌         | 1322/25000 [25:21<10:35:21,  1.61s/it]\u001b[A\n  5%|▌         | 1323/25000 [25:22<9:02:14,  1.37s/it] \u001b[A\n  5%|▌         | 1325/25000 [25:27<12:19:04,  1.87s/it]\u001b[A\n  5%|▌         | 1328/25000 [25:27<6:54:00,  1.05s/it] \u001b[A\n  5%|▌         | 1329/25000 [25:31<10:42:30,  1.63s/it]\u001b[A\n  5%|▌         | 1330/25000 [25:32<8:43:27,  1.33s/it] \u001b[A\n  5%|▌         | 1331/25000 [25:33<8:58:54,  1.37s/it]\u001b[A\n  5%|▌         | 1332/25000 [25:35<9:39:10,  1.47s/it]\u001b[A\n  5%|▌         | 1333/25000 [25:36<8:41:51,  1.32s/it]\u001b[A\n  5%|▌         | 1334/25000 [25:36<6:47:30,  1.03s/it]\u001b[A\n  5%|▌         | 1335/25000 [25:40<11:56:08,  1.82s/it]\u001b[A\n  5%|▌         | 1336/25000 [25:40<9:42:46,  1.48s/it] \u001b[A\n  5%|▌         | 1337/25000 [25:41<7:51:01,  1.19s/it]\u001b[A\n  5%|▌         | 1338/25000 [25:41<6:02:32,  1.09it/s]\u001b[A\n  5%|▌         | 1339/25000 [25:42<5:51:29,  1.12it/s]\u001b[A\n  5%|▌         | 1340/25000 [25:42<4:50:13,  1.36it/s]\u001b[A\n  5%|▌         | 1341/25000 [25:43<3:49:19,  1.72it/s]\u001b[A\n  5%|▌         | 1342/25000 [25:55<26:59:22,  4.11s/it]\u001b[A\n  5%|▌         | 1343/25000 [25:57<23:15:46,  3.54s/it]\u001b[A\n  5%|▌         | 1344/25000 [25:59<18:51:56,  2.87s/it]\u001b[A\n  5%|▌         | 1345/25000 [25:59<14:23:43,  2.19s/it]\u001b[A\n  5%|▌         | 1346/25000 [26:01<13:04:32,  1.99s/it]\u001b[A\n  5%|▌         | 1348/25000 [26:01<7:22:07,  1.12s/it] \u001b[A\n  5%|▌         | 1349/25000 [26:03<9:42:35,  1.48s/it]\u001b[A\n  5%|▌         | 1350/25000 [26:07<12:38:27,  1.92s/it]\u001b[A\n  5%|▌         | 1352/25000 [26:07<7:59:48,  1.22s/it] \u001b[A\n  5%|▌         | 1353/25000 [26:08<7:29:01,  1.14s/it]\u001b[A\n  5%|▌         | 1354/25000 [26:08<6:09:28,  1.07it/s]\u001b[A\n  5%|▌         | 1355/25000 [26:09<4:48:34,  1.37it/s]\u001b[A\n  5%|▌         | 1356/25000 [26:09<3:47:49,  1.73it/s]\u001b[A\n  5%|▌         | 1357/25000 [26:09<4:07:48,  1.59it/s]\u001b[A\n  5%|▌         | 1358/25000 [26:10<3:13:27,  2.04it/s]\u001b[A\n  5%|▌         | 1359/25000 [26:12<7:30:00,  1.14s/it]\u001b[A\n  5%|▌         | 1361/25000 [26:12<4:19:53,  1.52it/s]\u001b[A\n  5%|▌         | 1362/25000 [26:13<3:58:03,  1.65it/s]\u001b[A\n  5%|▌         | 1363/25000 [26:13<3:34:12,  1.84it/s]\u001b[A\n  5%|▌         | 1364/25000 [26:14<3:46:35,  1.74it/s]\u001b[A\n  5%|▌         | 1365/25000 [26:14<3:38:18,  1.80it/s]\u001b[A\n  5%|▌         | 1366/25000 [26:16<4:57:55,  1.32it/s]\u001b[A\n  5%|▌         | 1367/25000 [26:19<10:30:04,  1.60s/it]\u001b[A\n  5%|▌         | 1368/25000 [26:20<8:54:49,  1.36s/it] \u001b[A\n  5%|▌         | 1369/25000 [26:21<8:41:18,  1.32s/it]\u001b[A\n  5%|▌         | 1370/25000 [26:23<10:00:35,  1.53s/it]\u001b[A\n  5%|▌         | 1371/25000 [26:24<8:06:40,  1.24s/it] \u001b[A\n  5%|▌         | 1372/25000 [26:26<10:16:18,  1.57s/it]\u001b[A\n  5%|▌         | 1373/25000 [26:28<10:31:11,  1.60s/it]\u001b[A\n  5%|▌         | 1374/25000 [26:31<13:16:17,  2.02s/it]\u001b[A\n  6%|▌         | 1375/25000 [26:32<11:06:22,  1.69s/it]\u001b[A\n  6%|▌         | 1376/25000 [26:32<8:56:26,  1.36s/it] \u001b[A\n  6%|▌         | 1377/25000 [26:33<6:42:07,  1.02s/it]\u001b[A\n  6%|▌         | 1378/25000 [26:33<5:13:34,  1.26it/s]\u001b[A\n  6%|▌         | 1379/25000 [26:34<5:03:23,  1.30it/s]\u001b[A\n  6%|▌         | 1380/25000 [26:49<33:29:49,  5.11s/it]\u001b[A\n  6%|▌         | 1381/25000 [26:58<41:21:27,  6.30s/it]\u001b[A\n  6%|▌         | 1383/25000 [26:59<23:29:56,  3.58s/it]\u001b[A\n  6%|▌         | 1384/25000 [27:00<20:01:53,  3.05s/it]\u001b[A\n  6%|▌         | 1385/25000 [27:01<16:30:02,  2.52s/it]\u001b[A\n  6%|▌         | 1386/25000 [27:02<12:33:07,  1.91s/it]\u001b[A\n  6%|▌         | 1387/25000 [27:02<10:12:51,  1.56s/it]\u001b[A\n  6%|▌         | 1389/25000 [27:03<6:31:37,  1.00it/s] \u001b[A\n  6%|▌         | 1390/25000 [27:03<5:52:10,  1.12it/s]\u001b[A\n  6%|▌         | 1391/25000 [27:04<5:06:59,  1.28it/s]\u001b[A\n  6%|▌         | 1392/25000 [27:05<5:56:46,  1.10it/s]\u001b[A\n  6%|▌         | 1393/25000 [27:08<8:53:42,  1.36s/it]\u001b[A\n  6%|▌         | 1394/25000 [27:11<11:46:47,  1.80s/it]\u001b[A\n  6%|▌         | 1395/25000 [27:11<8:57:09,  1.37s/it] \u001b[A\n  6%|▌         | 1396/25000 [27:11<7:34:17,  1.15s/it]\u001b[A\n  6%|▌         | 1398/25000 [27:12<5:10:18,  1.27it/s]\u001b[A\n  6%|▌         | 1399/25000 [27:13<4:53:06,  1.34it/s]\u001b[A\n  6%|▌         | 1400/25000 [27:13<4:33:15,  1.44it/s]\u001b[A\n  6%|▌         | 1401/25000 [27:16<7:49:52,  1.19s/it]\u001b[A\n  6%|▌         | 1402/25000 [27:17<8:27:02,  1.29s/it]\u001b[A\n  6%|▌         | 1403/25000 [27:18<7:07:58,  1.09s/it]\u001b[A\n  6%|▌         | 1404/25000 [27:19<7:29:14,  1.14s/it]\u001b[A\n  6%|▌         | 1405/25000 [27:20<6:22:25,  1.03it/s]\u001b[A\n  6%|▌         | 1406/25000 [27:22<8:22:34,  1.28s/it]\u001b[A\n  6%|▌         | 1407/25000 [27:22<6:29:03,  1.01it/s]\u001b[A\n  6%|▌         | 1408/25000 [27:24<8:38:43,  1.32s/it]\u001b[A\n  6%|▌         | 1409/25000 [27:25<7:10:18,  1.09s/it]\u001b[A\n  6%|▌         | 1411/25000 [27:28<8:47:40,  1.34s/it]\u001b[A\n  6%|▌         | 1412/25000 [27:28<7:12:32,  1.10s/it]\u001b[A\n  6%|▌         | 1413/25000 [27:30<8:08:43,  1.24s/it]\u001b[A\n  6%|▌         | 1414/25000 [27:31<7:24:19,  1.13s/it]\u001b[A\n  6%|▌         | 1415/25000 [27:32<6:34:48,  1.00s/it]\u001b[A\n  6%|▌         | 1417/25000 [27:32<4:49:49,  1.36it/s]\u001b[A\n  6%|▌         | 1418/25000 [27:33<4:20:59,  1.51it/s]\u001b[A\n  6%|▌         | 1420/25000 [27:35<5:18:08,  1.24it/s]\u001b[A\n  6%|▌         | 1421/25000 [27:35<4:33:24,  1.44it/s]\u001b[A\n  6%|▌         | 1422/25000 [27:40<10:46:58,  1.65s/it]\u001b[A\n  6%|▌         | 1423/25000 [27:40<8:13:29,  1.26s/it] \u001b[A\n  6%|▌         | 1424/25000 [27:41<7:37:11,  1.16s/it]\u001b[A\n  6%|▌         | 1425/25000 [27:42<7:49:37,  1.20s/it]\u001b[A\n  6%|▌         | 1426/25000 [27:46<12:27:36,  1.90s/it]\u001b[A\n  6%|▌         | 1427/25000 [27:49<13:59:55,  2.14s/it]\u001b[A\n  6%|▌         | 1428/25000 [27:49<11:03:22,  1.69s/it]\u001b[A\n  6%|▌         | 1429/25000 [27:50<8:44:03,  1.33s/it] \u001b[A\n  6%|▌         | 1430/25000 [27:50<7:18:23,  1.12s/it]\u001b[A\n  6%|▌         | 1431/25000 [27:51<6:33:31,  1.00s/it]\u001b[A\n  6%|▌         | 1433/25000 [27:53<6:35:28,  1.01s/it]\u001b[A\n  6%|▌         | 1435/25000 [27:54<5:27:28,  1.20it/s]\u001b[A\n  6%|▌         | 1436/25000 [27:54<4:31:30,  1.45it/s]\u001b[A\n  6%|▌         | 1437/25000 [27:54<3:39:17,  1.79it/s]\u001b[A\n  6%|▌         | 1440/25000 [27:57<5:01:56,  1.30it/s]\u001b[A\n  6%|▌         | 1441/25000 [27:58<4:45:42,  1.37it/s]\u001b[A\n  6%|▌         | 1442/25000 [27:58<4:25:29,  1.48it/s]\u001b[A\n  6%|▌         | 1443/25000 [27:59<4:03:08,  1.61it/s]\u001b[A\n  6%|▌         | 1444/25000 [28:00<5:31:36,  1.18it/s]\u001b[A\n  6%|▌         | 1445/25000 [28:02<6:53:13,  1.05s/it]\u001b[A\n  6%|▌         | 1446/25000 [28:06<11:27:21,  1.75s/it]\u001b[A\n  6%|▌         | 1447/25000 [28:07<11:42:01,  1.79s/it]\u001b[A\n  6%|▌         | 1448/25000 [28:10<12:19:08,  1.88s/it]\u001b[A\n  6%|▌         | 1450/25000 [28:12<9:56:26,  1.52s/it] \u001b[A\n  6%|▌         | 1451/25000 [28:12<8:14:03,  1.26s/it]\u001b[A\n  6%|▌         | 1452/25000 [28:13<7:47:52,  1.19s/it]\u001b[A\n  6%|▌         | 1453/25000 [28:13<6:12:26,  1.05it/s]\u001b[A\n  6%|▌         | 1454/25000 [28:14<4:44:27,  1.38it/s]\u001b[A\n  6%|▌         | 1455/25000 [28:14<4:22:54,  1.49it/s]\u001b[A\n  6%|▌         | 1456/25000 [28:15<5:08:02,  1.27it/s]\u001b[A\n  6%|▌         | 1457/25000 [28:18<8:03:24,  1.23s/it]\u001b[A\n  6%|▌         | 1458/25000 [28:18<7:15:25,  1.11s/it]\u001b[A\n  6%|▌         | 1459/25000 [28:23<13:25:38,  2.05s/it]\u001b[A\n  6%|▌         | 1460/25000 [28:23<10:11:53,  1.56s/it]\u001b[A\n  6%|▌         | 1462/25000 [28:23<5:56:43,  1.10it/s] \u001b[A\n  6%|▌         | 1464/25000 [28:24<4:23:46,  1.49it/s]\u001b[A\n  6%|▌         | 1465/25000 [28:24<3:44:15,  1.75it/s]\u001b[A\n  6%|▌         | 1466/25000 [28:25<3:50:56,  1.70it/s]\u001b[A\n  6%|▌         | 1467/25000 [28:26<4:08:44,  1.58it/s]\u001b[A\n  6%|▌         | 1468/25000 [28:27<6:25:02,  1.02it/s]\u001b[A\n  6%|▌         | 1469/25000 [28:28<4:53:14,  1.34it/s]\u001b[A\n  6%|▌         | 1470/25000 [28:30<7:40:05,  1.17s/it]\u001b[A\n  6%|▌         | 1472/25000 [28:36<13:47:43,  2.11s/it]\u001b[A\n  6%|▌         | 1473/25000 [28:37<11:02:36,  1.69s/it]\u001b[A\n  6%|▌         | 1474/25000 [28:38<9:38:49,  1.48s/it] \u001b[A\n  6%|▌         | 1475/25000 [28:38<7:20:16,  1.12s/it]\u001b[A\n  6%|▌         | 1476/25000 [28:38<6:11:56,  1.05it/s]\u001b[A\n  6%|▌         | 1477/25000 [28:40<7:31:33,  1.15s/it]\u001b[A\n  6%|▌         | 1478/25000 [28:40<6:12:49,  1.05it/s]\u001b[A\n  6%|▌         | 1479/25000 [28:41<5:53:51,  1.11it/s]\u001b[A\n  6%|▌         | 1480/25000 [28:41<4:36:11,  1.42it/s]\u001b[A\n  6%|▌         | 1481/25000 [28:42<4:18:28,  1.52it/s]\u001b[A\n  6%|▌         | 1482/25000 [28:42<3:28:48,  1.88it/s]\u001b[A\n  6%|▌         | 1483/25000 [28:43<3:02:53,  2.14it/s]\u001b[A\n  6%|▌         | 1484/25000 [28:43<3:55:19,  1.67it/s]\u001b[A\n  6%|▌         | 1485/25000 [28:49<12:50:16,  1.97s/it]\u001b[A\n  6%|▌         | 1486/25000 [28:50<11:08:14,  1.71s/it]\u001b[A\n  6%|▌         | 1487/25000 [28:50<8:32:52,  1.31s/it] \u001b[A\n  6%|▌         | 1491/25000 [28:51<3:54:56,  1.67it/s]\u001b[A\n  6%|▌         | 1492/25000 [28:51<3:23:32,  1.92it/s]\u001b[A\n  6%|▌         | 1493/25000 [28:52<3:27:49,  1.89it/s]\u001b[A\n  6%|▌         | 1495/25000 [28:53<3:23:03,  1.93it/s]\u001b[A\n  6%|▌         | 1496/25000 [28:54<4:32:59,  1.43it/s]\u001b[A\n  6%|▌         | 1497/25000 [28:54<4:07:36,  1.58it/s]\u001b[A\n  6%|▌         | 1499/25000 [28:55<3:07:23,  2.09it/s]\u001b[A\n  6%|▌         | 1500/25000 [28:58<6:22:23,  1.02it/s]\u001b[A\n  6%|▌         | 1501/25000 [28:58<5:22:33,  1.21it/s]\u001b[A\n  6%|▌         | 1502/25000 [28:59<5:40:53,  1.15it/s]\u001b[A\n  6%|▌         | 1503/25000 [28:59<4:32:40,  1.44it/s]\u001b[A\n  6%|▌         | 1504/25000 [28:59<3:57:10,  1.65it/s]\u001b[A\n  6%|▌         | 1506/25000 [29:00<3:04:21,  2.12it/s]\u001b[A\n  6%|▌         | 1508/25000 [29:00<2:08:56,  3.04it/s]\u001b[A\n  6%|▌         | 1509/25000 [29:04<7:07:22,  1.09s/it]\u001b[A\n  6%|▌         | 1510/25000 [29:04<5:47:26,  1.13it/s]\u001b[A\n  6%|▌         | 1511/25000 [29:11<15:02:03,  2.30s/it]\u001b[A\n  6%|▌         | 1512/25000 [29:12<12:47:34,  1.96s/it]\u001b[A\n  6%|▌         | 1514/25000 [29:13<8:45:22,  1.34s/it] \u001b[A\n  6%|▌         | 1515/25000 [29:14<8:34:24,  1.31s/it]\u001b[A\n  6%|▌         | 1516/25000 [29:15<7:23:54,  1.13s/it]\u001b[A\n  6%|▌         | 1517/25000 [29:15<5:55:12,  1.10it/s]\u001b[A\n  6%|▌         | 1518/25000 [29:16<5:58:29,  1.09it/s]\u001b[A\n  6%|▌         | 1519/25000 [29:17<5:53:56,  1.11it/s]\u001b[A\n  6%|▌         | 1520/25000 [29:17<4:53:16,  1.33it/s]\u001b[A\n  6%|▌         | 1522/25000 [29:17<2:55:26,  2.23it/s]\u001b[A\n  6%|▌         | 1523/25000 [29:18<2:33:00,  2.56it/s]\u001b[A\n  6%|▌         | 1524/25000 [29:18<2:08:04,  3.05it/s]\u001b[A\n  6%|▌         | 1525/25000 [29:19<3:22:02,  1.94it/s]\u001b[A\n  6%|▌         | 1526/25000 [29:20<4:05:41,  1.59it/s]\u001b[A\n  6%|▌         | 1527/25000 [29:20<3:57:14,  1.65it/s]\u001b[A\n  6%|▌         | 1528/25000 [29:21<4:32:26,  1.44it/s]\u001b[A\n  6%|▌         | 1529/25000 [29:22<4:05:50,  1.59it/s]\u001b[A\n  6%|▌         | 1530/25000 [29:23<6:09:17,  1.06it/s]\u001b[A\n  6%|▌         | 1531/25000 [29:26<9:43:33,  1.49s/it]\u001b[A\n  6%|▌         | 1532/25000 [29:26<7:25:12,  1.14s/it]\u001b[A\n  6%|▌         | 1533/25000 [29:27<5:45:10,  1.13it/s]\u001b[A\n  6%|▌         | 1534/25000 [29:27<5:23:45,  1.21it/s]\u001b[A\n  6%|▌         | 1535/25000 [29:28<4:26:08,  1.47it/s]\u001b[A\n  6%|▌         | 1537/25000 [29:30<6:01:47,  1.08it/s]\u001b[A\n  6%|▌         | 1538/25000 [29:31<5:37:19,  1.16it/s]\u001b[A\n  6%|▌         | 1539/25000 [29:33<7:33:31,  1.16s/it]\u001b[A\n  6%|▌         | 1540/25000 [29:33<6:39:24,  1.02s/it]\u001b[A\n  6%|▌         | 1541/25000 [29:36<9:54:22,  1.52s/it]\u001b[A\n  6%|▌         | 1542/25000 [29:37<7:38:08,  1.17s/it]\u001b[A\n  6%|▌         | 1543/25000 [29:37<5:50:08,  1.12it/s]\u001b[A\n  6%|▌         | 1544/25000 [29:37<5:07:25,  1.27it/s]\u001b[A\n  6%|▌         | 1545/25000 [29:38<4:32:13,  1.44it/s]\u001b[A\n  6%|▌         | 1546/25000 [29:38<3:36:31,  1.81it/s]\u001b[A\n  6%|▌         | 1547/25000 [29:39<3:33:28,  1.83it/s]\u001b[A\n  6%|▌         | 1548/25000 [29:40<4:34:56,  1.42it/s]\u001b[A\n  6%|▌         | 1549/25000 [29:40<3:41:06,  1.77it/s]\u001b[A\n  6%|▌         | 1550/25000 [29:40<3:27:46,  1.88it/s]\u001b[A\n  6%|▌         | 1551/25000 [29:41<3:54:39,  1.67it/s]\u001b[A\n  6%|▌         | 1552/25000 [29:42<4:32:42,  1.43it/s]\u001b[A\n  6%|▌         | 1553/25000 [29:42<3:44:11,  1.74it/s]\u001b[A\n  6%|▌         | 1554/25000 [29:43<4:06:14,  1.59it/s]\u001b[A\n  6%|▌         | 1555/25000 [29:44<3:58:44,  1.64it/s]\u001b[A\n  6%|▌         | 1556/25000 [29:44<3:41:23,  1.76it/s]\u001b[A\n  6%|▌         | 1557/25000 [29:45<4:26:32,  1.47it/s]\u001b[A\n  6%|▌         | 1558/25000 [29:46<4:11:26,  1.55it/s]\u001b[A\n  6%|▌         | 1559/25000 [29:46<4:05:25,  1.59it/s]\u001b[A\n  6%|▌         | 1560/25000 [29:46<3:06:49,  2.09it/s]\u001b[A\n  6%|▌         | 1561/25000 [29:48<5:55:46,  1.10it/s]\u001b[A\n  6%|▌         | 1562/25000 [29:49<5:06:29,  1.27it/s]\u001b[A\n  6%|▋         | 1563/25000 [29:49<4:26:04,  1.47it/s]\u001b[A\n  6%|▋         | 1564/25000 [29:49<3:26:47,  1.89it/s]\u001b[A\n  6%|▋         | 1565/25000 [29:50<3:20:16,  1.95it/s]\u001b[A\n  6%|▋         | 1566/25000 [29:50<3:31:11,  1.85it/s]\u001b[A\n  6%|▋         | 1567/25000 [29:52<5:51:00,  1.11it/s]\u001b[A\n  6%|▋         | 1568/25000 [29:54<8:31:21,  1.31s/it]\u001b[A\n  6%|▋         | 1569/25000 [29:55<6:18:09,  1.03it/s]\u001b[A\n  6%|▋         | 1570/25000 [29:55<5:00:54,  1.30it/s]\u001b[A\n  6%|▋         | 1572/25000 [29:56<4:36:03,  1.41it/s]\u001b[A\n  6%|▋         | 1574/25000 [29:57<3:36:23,  1.80it/s]\u001b[A\n  6%|▋         | 1575/25000 [29:58<4:07:54,  1.57it/s]\u001b[A\n  6%|▋         | 1576/25000 [29:58<4:04:35,  1.60it/s]\u001b[A\n  6%|▋         | 1577/25000 [30:01<7:22:16,  1.13s/it]\u001b[A\n  6%|▋         | 1578/25000 [30:02<7:45:02,  1.19s/it]\u001b[A\n  6%|▋         | 1579/25000 [30:03<6:33:17,  1.01s/it]\u001b[A\n  6%|▋         | 1580/25000 [30:04<6:46:06,  1.04s/it]\u001b[A\n  6%|▋         | 1581/25000 [30:04<5:06:20,  1.27it/s]\u001b[A\n  6%|▋         | 1582/25000 [30:07<8:14:51,  1.27s/it]\u001b[A\n  6%|▋         | 1583/25000 [30:10<11:36:40,  1.79s/it]\u001b[A\n  6%|▋         | 1584/25000 [30:10<9:57:35,  1.53s/it] \u001b[A\n  6%|▋         | 1585/25000 [30:14<13:42:53,  2.11s/it]\u001b[A\n  6%|▋         | 1586/25000 [30:14<10:05:33,  1.55s/it]\u001b[A\n  6%|▋         | 1587/25000 [30:14<7:31:05,  1.16s/it] \u001b[A\n  6%|▋         | 1588/25000 [30:15<5:34:23,  1.17it/s]\u001b[A\n  6%|▋         | 1590/25000 [30:17<7:06:30,  1.09s/it]\u001b[A\n  6%|▋         | 1591/25000 [30:17<5:37:23,  1.16it/s]\u001b[A\n  6%|▋         | 1592/25000 [30:18<5:29:29,  1.18it/s]\u001b[A\n  6%|▋         | 1593/25000 [30:19<5:10:47,  1.26it/s]\u001b[A\n  6%|▋         | 1594/25000 [30:19<4:23:27,  1.48it/s]\u001b[A\n  6%|▋         | 1595/25000 [30:20<4:19:47,  1.50it/s]\u001b[A\n  6%|▋         | 1596/25000 [30:20<3:35:43,  1.81it/s]\u001b[A\n  6%|▋         | 1597/25000 [30:22<5:22:15,  1.21it/s]\u001b[A\n  6%|▋         | 1598/25000 [30:25<9:22:24,  1.44s/it]\u001b[A\n  6%|▋         | 1599/25000 [30:28<12:38:39,  1.95s/it]\u001b[A\n  6%|▋         | 1600/25000 [30:30<14:09:32,  2.18s/it]\u001b[A\n  6%|▋         | 1601/25000 [30:32<12:49:33,  1.97s/it]\u001b[A\n  6%|▋         | 1603/25000 [30:33<8:15:45,  1.27s/it] \u001b[A\n  6%|▋         | 1604/25000 [30:33<7:02:23,  1.08s/it]\u001b[A\n  6%|▋         | 1605/25000 [30:34<6:02:03,  1.08it/s]\u001b[A\n  6%|▋         | 1606/25000 [30:35<6:01:03,  1.08it/s]\u001b[A\n  6%|▋         | 1607/25000 [30:36<7:17:30,  1.12s/it]\u001b[A\n  6%|▋         | 1608/25000 [30:37<6:18:38,  1.03it/s]\u001b[A\n  6%|▋         | 1609/25000 [30:38<6:28:28,  1.00it/s]\u001b[A\n  6%|▋         | 1610/25000 [30:40<8:22:25,  1.29s/it]\u001b[A\n  6%|▋         | 1611/25000 [30:41<7:38:40,  1.18s/it]\u001b[A\n  6%|▋         | 1612/25000 [30:42<6:46:00,  1.04s/it]\u001b[A\n  6%|▋         | 1613/25000 [30:42<6:08:13,  1.06it/s]\u001b[A\n  6%|▋         | 1615/25000 [30:43<3:37:43,  1.79it/s]\u001b[A\n  6%|▋         | 1617/25000 [30:43<2:47:45,  2.32it/s]\u001b[A\n  6%|▋         | 1618/25000 [30:44<3:19:01,  1.96it/s]\u001b[A\n  6%|▋         | 1619/25000 [30:45<4:08:40,  1.57it/s]\u001b[A\n  6%|▋         | 1620/25000 [30:49<9:22:28,  1.44s/it]\u001b[A\n  6%|▋         | 1621/25000 [30:50<8:56:40,  1.38s/it]\u001b[A\n  6%|▋         | 1622/25000 [30:50<7:13:17,  1.11s/it]\u001b[A\n  6%|▋         | 1623/25000 [30:51<6:26:58,  1.01it/s]\u001b[A\n  6%|▋         | 1624/25000 [30:51<5:25:37,  1.20it/s]\u001b[A\n  6%|▋         | 1625/25000 [30:52<4:26:11,  1.46it/s]\u001b[A\n  7%|▋         | 1626/25000 [30:53<5:16:44,  1.23it/s]\u001b[A\n  7%|▋         | 1627/25000 [30:53<4:27:53,  1.45it/s]\u001b[A\n  7%|▋         | 1628/25000 [30:54<4:39:05,  1.40it/s]\u001b[A\n  7%|▋         | 1629/25000 [30:56<6:50:38,  1.05s/it]\u001b[A\n  7%|▋         | 1630/25000 [30:56<5:38:49,  1.15it/s]\u001b[A\n  7%|▋         | 1631/25000 [30:57<5:24:53,  1.20it/s]\u001b[A\n  7%|▋         | 1632/25000 [30:58<4:47:18,  1.36it/s]\u001b[A\n  7%|▋         | 1633/25000 [30:58<4:35:57,  1.41it/s]\u001b[A\n  7%|▋         | 1634/25000 [31:04<14:01:01,  2.16s/it]\u001b[A\n  7%|▋         | 1635/25000 [31:05<11:24:45,  1.76s/it]\u001b[A\n  7%|▋         | 1636/25000 [31:05<9:11:50,  1.42s/it] \u001b[A\n  7%|▋         | 1637/25000 [31:10<15:00:43,  2.31s/it]\u001b[A\n  7%|▋         | 1638/25000 [31:10<11:35:02,  1.79s/it]\u001b[A\n  7%|▋         | 1639/25000 [31:11<8:51:10,  1.36s/it] \u001b[A\n  7%|▋         | 1640/25000 [31:11<6:55:54,  1.07s/it]\u001b[A\n  7%|▋         | 1641/25000 [31:13<8:11:02,  1.26s/it]\u001b[A\n  7%|▋         | 1642/25000 [31:13<6:18:51,  1.03it/s]\u001b[A\n  7%|▋         | 1643/25000 [31:13<5:02:15,  1.29it/s]\u001b[A\n  7%|▋         | 1644/25000 [31:14<4:06:29,  1.58it/s]\u001b[A\n  7%|▋         | 1645/25000 [31:16<7:11:11,  1.11s/it]\u001b[A\n  7%|▋         | 1646/25000 [31:16<5:32:36,  1.17it/s]\u001b[A\n  7%|▋         | 1647/25000 [31:23<17:52:11,  2.75s/it]\u001b[A\n  7%|▋         | 1648/25000 [31:24<12:59:06,  2.00s/it]\u001b[A\n  7%|▋         | 1649/25000 [31:24<10:20:48,  1.60s/it]\u001b[A\n  7%|▋         | 1650/25000 [31:25<8:17:05,  1.28s/it] \u001b[A\n  7%|▋         | 1651/25000 [31:25<6:46:52,  1.05s/it]\u001b[A\n  7%|▋         | 1652/25000 [31:26<6:49:11,  1.05s/it]\u001b[A\n  7%|▋         | 1653/25000 [31:32<16:49:24,  2.59s/it]\u001b[A\n  7%|▋         | 1654/25000 [31:33<12:45:10,  1.97s/it]\u001b[A\n  7%|▋         | 1655/25000 [31:33<9:30:25,  1.47s/it] \u001b[A\n  7%|▋         | 1656/25000 [31:34<8:38:48,  1.33s/it]\u001b[A\n  7%|▋         | 1657/25000 [31:37<11:10:34,  1.72s/it]\u001b[A\n  7%|▋         | 1658/25000 [31:37<8:08:58,  1.26s/it] \u001b[A\n  7%|▋         | 1659/25000 [31:38<7:30:03,  1.16s/it]\u001b[A\n  7%|▋         | 1660/25000 [31:39<8:05:57,  1.25s/it]\u001b[A\n  7%|▋         | 1661/25000 [31:41<8:31:21,  1.31s/it]\u001b[A\n  7%|▋         | 1662/25000 [31:41<6:17:53,  1.03it/s]\u001b[A\n  7%|▋         | 1664/25000 [31:42<4:09:09,  1.56it/s]\u001b[A\n  7%|▋         | 1665/25000 [31:43<4:32:01,  1.43it/s]\u001b[A\n  7%|▋         | 1666/25000 [31:43<4:42:19,  1.38it/s]\u001b[A\n  7%|▋         | 1667/25000 [31:46<7:36:46,  1.17s/it]\u001b[A\n  7%|▋         | 1668/25000 [31:49<10:34:40,  1.63s/it]\u001b[A\n  7%|▋         | 1669/25000 [31:49<8:50:33,  1.36s/it] \u001b[A\n  7%|▋         | 1670/25000 [31:50<6:55:57,  1.07s/it]\u001b[A\n  7%|▋         | 1671/25000 [31:50<5:51:10,  1.11it/s]\u001b[A\n  7%|▋         | 1673/25000 [31:52<6:19:53,  1.02it/s]\u001b[A\n  7%|▋         | 1674/25000 [31:53<5:24:58,  1.20it/s]\u001b[A\n  7%|▋         | 1675/25000 [31:54<6:13:07,  1.04it/s]\u001b[A\n  7%|▋         | 1676/25000 [31:54<5:14:08,  1.24it/s]\u001b[A\n  7%|▋         | 1677/25000 [31:55<4:27:05,  1.46it/s]\u001b[A\n  7%|▋         | 1678/25000 [31:55<3:59:21,  1.62it/s]\u001b[A\n  7%|▋         | 1679/25000 [31:56<3:36:46,  1.79it/s]\u001b[A\n  7%|▋         | 1680/25000 [31:56<3:52:25,  1.67it/s]\u001b[A\n  7%|▋         | 1681/25000 [31:56<3:09:17,  2.05it/s]\u001b[A\n  7%|▋         | 1682/25000 [31:58<4:42:27,  1.38it/s]\u001b[A\n  7%|▋         | 1683/25000 [31:58<4:24:03,  1.47it/s]\u001b[A\n  7%|▋         | 1684/25000 [31:58<3:22:48,  1.92it/s]\u001b[A\n  7%|▋         | 1685/25000 [31:59<3:58:26,  1.63it/s]\u001b[A\n  7%|▋         | 1686/25000 [32:00<3:22:26,  1.92it/s]\u001b[A\n  7%|▋         | 1687/25000 [32:00<2:52:04,  2.26it/s]\u001b[A\n  7%|▋         | 1688/25000 [32:00<2:17:54,  2.82it/s]\u001b[A\n  7%|▋         | 1690/25000 [32:01<2:42:20,  2.39it/s]\u001b[A\n  7%|▋         | 1691/25000 [32:16<25:51:01,  3.99s/it]\u001b[A\n  7%|▋         | 1692/25000 [32:16<19:24:30,  3.00s/it]\u001b[A\n  7%|▋         | 1693/25000 [32:23<25:52:53,  4.00s/it]\u001b[A\n  7%|▋         | 1694/25000 [32:23<19:34:31,  3.02s/it]\u001b[A\n  7%|▋         | 1695/25000 [32:24<15:38:28,  2.42s/it]\u001b[A\n  7%|▋         | 1697/25000 [32:25<9:20:43,  1.44s/it] \u001b[A\n  7%|▋         | 1698/25000 [32:25<7:21:21,  1.14s/it]\u001b[A\n  7%|▋         | 1699/25000 [32:26<6:41:30,  1.03s/it]\u001b[A\n  7%|▋         | 1700/25000 [32:26<6:29:39,  1.00s/it]\u001b[A\n  7%|▋         | 1701/25000 [32:28<6:45:30,  1.04s/it]\u001b[A\n  7%|▋         | 1702/25000 [32:29<6:50:10,  1.06s/it]\u001b[A\n  7%|▋         | 1703/25000 [32:32<10:59:31,  1.70s/it]\u001b[A\n  7%|▋         | 1704/25000 [32:33<9:58:19,  1.54s/it] \u001b[A\n  7%|▋         | 1706/25000 [32:34<6:20:05,  1.02it/s]\u001b[A\n  7%|▋         | 1707/25000 [32:34<5:17:34,  1.22it/s]\u001b[A\n  7%|▋         | 1708/25000 [32:35<5:44:00,  1.13it/s]\u001b[A\n  7%|▋         | 1709/25000 [32:36<5:09:03,  1.26it/s]\u001b[A\n  7%|▋         | 1710/25000 [32:36<4:43:17,  1.37it/s]\u001b[A\n  7%|▋         | 1711/25000 [32:37<4:02:29,  1.60it/s]\u001b[A\n  7%|▋         | 1712/25000 [32:39<7:14:56,  1.12s/it]\u001b[A\n  7%|▋         | 1713/25000 [32:39<6:00:45,  1.08it/s]\u001b[A\n  7%|▋         | 1714/25000 [32:40<4:36:49,  1.40it/s]\u001b[A\n  7%|▋         | 1715/25000 [32:40<4:56:34,  1.31it/s]\u001b[A\n  7%|▋         | 1716/25000 [32:41<4:02:39,  1.60it/s]\u001b[A\n  7%|▋         | 1717/25000 [32:44<8:09:01,  1.26s/it]\u001b[A\n  7%|▋         | 1718/25000 [32:47<12:27:02,  1.93s/it]\u001b[A\n  7%|▋         | 1720/25000 [32:48<7:50:07,  1.21s/it] \u001b[A\n  7%|▋         | 1721/25000 [32:48<6:06:50,  1.06it/s]\u001b[A\n  7%|▋         | 1723/25000 [32:48<4:09:27,  1.56it/s]\u001b[A\n  7%|▋         | 1724/25000 [32:49<3:44:09,  1.73it/s]\u001b[A\n  7%|▋         | 1726/25000 [32:50<3:58:03,  1.63it/s]\u001b[A\n  7%|▋         | 1727/25000 [32:51<3:58:11,  1.63it/s]\u001b[A\n  7%|▋         | 1728/25000 [32:51<3:19:18,  1.95it/s]\u001b[A\n  7%|▋         | 1730/25000 [32:52<3:54:48,  1.65it/s]\u001b[A\n  7%|▋         | 1731/25000 [32:55<6:22:49,  1.01it/s]\u001b[A\n  7%|▋         | 1732/25000 [32:56<6:22:10,  1.01it/s]\u001b[A\n  7%|▋         | 1733/25000 [32:57<6:45:33,  1.05s/it]\u001b[A\n  7%|▋         | 1734/25000 [32:57<5:15:54,  1.23it/s]\u001b[A\n  7%|▋         | 1735/25000 [32:57<4:09:40,  1.55it/s]\u001b[A\n  7%|▋         | 1736/25000 [33:02<12:16:05,  1.90s/it]\u001b[A\n  7%|▋         | 1737/25000 [33:06<15:50:17,  2.45s/it]\u001b[A\n  7%|▋         | 1738/25000 [33:07<12:35:36,  1.95s/it]\u001b[A\n  7%|▋         | 1739/25000 [33:07<9:20:07,  1.44s/it] \u001b[A\n  7%|▋         | 1740/25000 [33:07<6:52:21,  1.06s/it]\u001b[A\n  7%|▋         | 1741/25000 [33:07<5:12:35,  1.24it/s]\u001b[A\n  7%|▋         | 1742/25000 [33:08<3:59:38,  1.62it/s]\u001b[A\n  7%|▋         | 1743/25000 [33:08<3:37:21,  1.78it/s]\u001b[A\n  7%|▋         | 1745/25000 [33:08<2:29:57,  2.58it/s]\u001b[A\n  7%|▋         | 1748/25000 [33:09<1:43:43,  3.74it/s]\u001b[A\n  7%|▋         | 1749/25000 [33:09<1:45:29,  3.67it/s]\u001b[A\n  7%|▋         | 1750/25000 [33:09<1:37:24,  3.98it/s]\u001b[A\n  7%|▋         | 1751/25000 [33:10<2:10:47,  2.96it/s]\u001b[A\n  7%|▋         | 1752/25000 [33:10<1:58:40,  3.26it/s]\u001b[A\n  7%|▋         | 1753/25000 [33:10<1:39:59,  3.88it/s]\u001b[A\n  7%|▋         | 1754/25000 [33:21<19:34:06,  3.03s/it]\u001b[A\n  7%|▋         | 1755/25000 [33:23<19:04:29,  2.95s/it]\u001b[A\n  7%|▋         | 1756/25000 [33:24<14:54:00,  2.31s/it]\u001b[A\n  7%|▋         | 1757/25000 [33:25<11:43:09,  1.82s/it]\u001b[A\n  7%|▋         | 1759/25000 [33:25<6:48:46,  1.06s/it] \u001b[A\n  7%|▋         | 1760/25000 [33:25<5:25:32,  1.19it/s]\u001b[A\n  7%|▋         | 1761/25000 [33:25<4:30:07,  1.43it/s]\u001b[A\n  7%|▋         | 1762/25000 [33:26<4:10:28,  1.55it/s]\u001b[A\n  7%|▋         | 1763/25000 [33:36<20:55:14,  3.24s/it]\u001b[A\n  7%|▋         | 1764/25000 [33:37<17:45:53,  2.75s/it]\u001b[A\n  7%|▋         | 1765/25000 [33:38<13:19:00,  2.06s/it]\u001b[A\n  7%|▋         | 1766/25000 [33:38<10:29:55,  1.63s/it]\u001b[A\n  7%|▋         | 1767/25000 [33:39<7:57:59,  1.23s/it] \u001b[A\n  7%|▋         | 1769/25000 [33:41<8:28:18,  1.31s/it]\u001b[A\n  7%|▋         | 1770/25000 [33:44<10:54:09,  1.69s/it]\u001b[A\n  7%|▋         | 1771/25000 [33:45<9:13:28,  1.43s/it] \u001b[A\n  7%|▋         | 1772/25000 [33:46<8:15:24,  1.28s/it]\u001b[A\n  7%|▋         | 1773/25000 [33:46<6:36:32,  1.02s/it]\u001b[A\n  7%|▋         | 1774/25000 [33:47<5:40:56,  1.14it/s]\u001b[A\n  7%|▋         | 1775/25000 [33:47<5:11:13,  1.24it/s]\u001b[A\n  7%|▋         | 1776/25000 [33:48<5:01:28,  1.28it/s]\u001b[A\n  7%|▋         | 1777/25000 [33:52<10:30:51,  1.63s/it]\u001b[A\n  7%|▋         | 1778/25000 [33:54<10:42:25,  1.66s/it]\u001b[A\n  7%|▋         | 1779/25000 [33:59<17:54:39,  2.78s/it]\u001b[A\n  7%|▋         | 1780/25000 [33:59<13:28:59,  2.09s/it]\u001b[A\n  7%|▋         | 1781/25000 [34:00<11:21:40,  1.76s/it]\u001b[A\n  7%|▋         | 1782/25000 [34:01<8:46:03,  1.36s/it] \u001b[A\n  7%|▋         | 1784/25000 [34:01<5:17:53,  1.22it/s]\u001b[A\n  7%|▋         | 1785/25000 [34:02<5:33:39,  1.16it/s]\u001b[A\n  7%|▋         | 1786/25000 [34:03<5:32:00,  1.17it/s]\u001b[A\n  7%|▋         | 1787/25000 [34:03<4:24:15,  1.46it/s]\u001b[A\n  7%|▋         | 1788/25000 [34:05<6:43:48,  1.04s/it]\u001b[A\n  7%|▋         | 1789/25000 [34:06<5:23:20,  1.20it/s]\u001b[A\n  7%|▋         | 1790/25000 [34:08<7:58:25,  1.24s/it]\u001b[A\n  7%|▋         | 1791/25000 [34:09<8:43:51,  1.35s/it]\u001b[A\n  7%|▋         | 1792/25000 [34:10<6:32:44,  1.02s/it]\u001b[A\n  7%|▋         | 1793/25000 [34:10<5:32:29,  1.16it/s]\u001b[A\n  7%|▋         | 1794/25000 [34:11<4:42:28,  1.37it/s]\u001b[A\n  7%|▋         | 1795/25000 [34:11<3:42:36,  1.74it/s]\u001b[A\n  7%|▋         | 1796/25000 [34:11<3:30:59,  1.83it/s]\u001b[A\n  7%|▋         | 1797/25000 [34:13<5:09:25,  1.25it/s]\u001b[A\n  7%|▋         | 1798/25000 [34:13<4:46:19,  1.35it/s]\u001b[A\n  7%|▋         | 1799/25000 [34:14<4:33:40,  1.41it/s]\u001b[A\n  7%|▋         | 1800/25000 [34:14<3:56:50,  1.63it/s]\u001b[A\n  7%|▋         | 1801/25000 [34:15<4:33:26,  1.41it/s]\u001b[A\n  7%|▋         | 1802/25000 [34:18<8:38:41,  1.34s/it]\u001b[A\n  7%|▋         | 1803/25000 [34:19<8:59:53,  1.40s/it]\u001b[A\n  7%|▋         | 1804/25000 [34:20<6:42:48,  1.04s/it]\u001b[A\n  7%|▋         | 1805/25000 [34:23<10:27:33,  1.62s/it]\u001b[A\n  7%|▋         | 1806/25000 [34:23<7:54:09,  1.23s/it] \u001b[A\n  7%|▋         | 1807/25000 [34:23<6:12:53,  1.04it/s]\u001b[A\n  7%|▋         | 1808/25000 [34:25<7:28:24,  1.16s/it]\u001b[A\n  7%|▋         | 1809/25000 [34:27<9:39:47,  1.50s/it]\u001b[A\n  7%|▋         | 1810/25000 [34:28<7:28:50,  1.16s/it]\u001b[A\n  7%|▋         | 1811/25000 [34:29<8:00:07,  1.24s/it]\u001b[A\n  7%|▋         | 1812/25000 [34:31<9:27:24,  1.47s/it]\u001b[A\n  7%|▋         | 1813/25000 [34:32<7:31:47,  1.17s/it]\u001b[A\n  7%|▋         | 1814/25000 [34:34<10:27:44,  1.62s/it]\u001b[A\n  7%|▋         | 1818/25000 [34:35<4:26:36,  1.45it/s] \u001b[A\n  7%|▋         | 1819/25000 [34:35<3:49:26,  1.68it/s]\u001b[A\n  7%|▋         | 1820/25000 [34:38<6:45:59,  1.05s/it]\u001b[A\n  7%|▋         | 1822/25000 [34:39<5:32:53,  1.16it/s]\u001b[A\n  7%|▋         | 1823/25000 [34:40<6:22:49,  1.01it/s]\u001b[A\n  7%|▋         | 1824/25000 [34:41<6:00:06,  1.07it/s]\u001b[A\n  7%|▋         | 1825/25000 [34:43<7:22:03,  1.14s/it]\u001b[A\n  7%|▋         | 1826/25000 [34:43<6:24:07,  1.01it/s]\u001b[A\n  7%|▋         | 1827/25000 [34:44<5:01:18,  1.28it/s]\u001b[A\n  7%|▋         | 1828/25000 [34:44<3:48:36,  1.69it/s]\u001b[A\n  7%|▋         | 1829/25000 [34:44<3:13:25,  2.00it/s]\u001b[A\n  7%|▋         | 1830/25000 [34:45<4:14:13,  1.52it/s]\u001b[A\n  7%|▋         | 1831/25000 [34:45<3:23:28,  1.90it/s]\u001b[A\n  7%|▋         | 1832/25000 [34:46<4:06:29,  1.57it/s]\u001b[A\n  7%|▋         | 1833/25000 [35:03<34:52:42,  5.42s/it]\u001b[A\n  7%|▋         | 1834/25000 [35:03<25:14:15,  3.92s/it]\u001b[A\n  7%|▋         | 1835/25000 [35:04<18:22:19,  2.86s/it]\u001b[A\n  7%|▋         | 1836/25000 [35:06<16:39:40,  2.59s/it]\u001b[A\n  7%|▋         | 1837/25000 [35:08<15:52:26,  2.47s/it]\u001b[A\n  7%|▋         | 1838/25000 [35:14<22:54:29,  3.56s/it]\u001b[A\n  7%|▋         | 1840/25000 [35:16<14:43:24,  2.29s/it]\u001b[A\n  7%|▋         | 1841/25000 [35:16<11:18:07,  1.76s/it]\u001b[A\n  7%|▋         | 1842/25000 [35:16<8:36:51,  1.34s/it] \u001b[A\n  7%|▋         | 1843/25000 [35:16<7:19:53,  1.14s/it]\u001b[A\n  7%|▋         | 1844/25000 [35:18<8:30:45,  1.32s/it]\u001b[A\n  7%|▋         | 1845/25000 [35:30<27:00:12,  4.20s/it]\u001b[A\n  7%|▋         | 1846/25000 [35:30<19:59:44,  3.11s/it]\u001b[A\n  7%|▋         | 1847/25000 [35:31<15:09:35,  2.36s/it]\u001b[A\n  7%|▋         | 1848/25000 [35:32<13:20:38,  2.07s/it]\u001b[A\n  7%|▋         | 1849/25000 [35:34<13:49:59,  2.15s/it]\u001b[A\n  7%|▋         | 1850/25000 [35:34<9:54:41,  1.54s/it] \u001b[A\n  7%|▋         | 1851/25000 [35:35<9:02:06,  1.41s/it]\u001b[A\n  7%|▋         | 1852/25000 [35:37<9:05:31,  1.41s/it]\u001b[A\n  7%|▋         | 1853/25000 [35:37<7:05:55,  1.10s/it]\u001b[A\n  7%|▋         | 1854/25000 [35:38<6:51:43,  1.07s/it]\u001b[A\n  7%|▋         | 1855/25000 [35:39<6:34:16,  1.02s/it]\u001b[A\n  7%|▋         | 1857/25000 [35:40<5:04:57,  1.26it/s]\u001b[A\n  7%|▋         | 1858/25000 [35:40<4:05:15,  1.57it/s]\u001b[A\n  7%|▋         | 1859/25000 [35:41<4:01:09,  1.60it/s]\u001b[A\n  7%|▋         | 1860/25000 [35:41<3:20:24,  1.92it/s]\u001b[A\n  7%|▋         | 1861/25000 [35:42<2:51:51,  2.24it/s]\u001b[A\n  7%|▋         | 1862/25000 [35:42<2:19:00,  2.77it/s]\u001b[A\n  7%|▋         | 1863/25000 [35:42<1:56:15,  3.32it/s]\u001b[A\n  7%|▋         | 1864/25000 [35:42<2:28:24,  2.60it/s]\u001b[A\n  7%|▋         | 1865/25000 [35:43<2:18:40,  2.78it/s]\u001b[A\n  7%|▋         | 1866/25000 [35:50<15:15:01,  2.37s/it]\u001b[A\n  7%|▋         | 1867/25000 [35:51<12:20:33,  1.92s/it]\u001b[A\n  7%|▋         | 1868/25000 [35:52<10:17:18,  1.60s/it]\u001b[A\n  7%|▋         | 1869/25000 [35:55<14:24:48,  2.24s/it]\u001b[A\n  7%|▋         | 1870/25000 [35:57<13:54:49,  2.17s/it]\u001b[A\n  7%|▋         | 1871/25000 [35:57<10:08:29,  1.58s/it]\u001b[A\n  7%|▋         | 1872/25000 [35:58<8:37:05,  1.34s/it] \u001b[A\n  7%|▋         | 1873/25000 [35:59<7:05:37,  1.10s/it]\u001b[A\n  7%|▋         | 1874/25000 [35:59<5:41:11,  1.13it/s]\u001b[A\n  8%|▊         | 1875/25000 [36:00<5:53:15,  1.09it/s]\u001b[A\n  8%|▊         | 1876/25000 [36:00<4:24:33,  1.46it/s]\u001b[A\n  8%|▊         | 1877/25000 [36:01<4:19:51,  1.48it/s]\u001b[A\n  8%|▊         | 1878/25000 [36:06<12:21:43,  1.92s/it]\u001b[A\n  8%|▊         | 1879/25000 [36:06<9:27:48,  1.47s/it] \u001b[A\n  8%|▊         | 1880/25000 [36:06<7:04:28,  1.10s/it]\u001b[A\n  8%|▊         | 1881/25000 [36:09<10:36:16,  1.65s/it]\u001b[A\n  8%|▊         | 1882/25000 [36:10<8:11:13,  1.27s/it] \u001b[A\n  8%|▊         | 1883/25000 [36:12<9:44:21,  1.52s/it]\u001b[A\n  8%|▊         | 1884/25000 [36:25<31:31:49,  4.91s/it]\u001b[A\n  8%|▊         | 1885/25000 [36:25<22:16:10,  3.47s/it]\u001b[A\n  8%|▊         | 1886/25000 [36:26<17:50:06,  2.78s/it]\u001b[A\n  8%|▊         | 1887/25000 [36:28<15:52:49,  2.47s/it]\u001b[A\n  8%|▊         | 1888/25000 [36:30<15:35:47,  2.43s/it]\u001b[A\n  8%|▊         | 1890/25000 [36:31<9:16:49,  1.45s/it] \u001b[A\n  8%|▊         | 1891/25000 [36:32<9:33:23,  1.49s/it]\u001b[A\n  8%|▊         | 1892/25000 [36:33<9:00:53,  1.40s/it]\u001b[A\n  8%|▊         | 1893/25000 [36:34<6:45:34,  1.05s/it]\u001b[A\n  8%|▊         | 1894/25000 [36:38<13:36:02,  2.12s/it]\u001b[A\n  8%|▊         | 1895/25000 [36:39<10:43:57,  1.67s/it]\u001b[A\n  8%|▊         | 1896/25000 [36:41<11:10:26,  1.74s/it]\u001b[A\n  8%|▊         | 1898/25000 [36:41<6:19:05,  1.02it/s] \u001b[A\n  8%|▊         | 1899/25000 [36:48<14:54:33,  2.32s/it]\u001b[A\n  8%|▊         | 1901/25000 [36:48<9:23:51,  1.46s/it] \u001b[A\n  8%|▊         | 1902/25000 [36:48<7:46:43,  1.21s/it]\u001b[A\n  8%|▊         | 1903/25000 [36:48<6:02:08,  1.06it/s]\u001b[A\n  8%|▊         | 1904/25000 [36:49<4:58:58,  1.29it/s]\u001b[A\n  8%|▊         | 1905/25000 [36:49<4:40:15,  1.37it/s]\u001b[A\n  8%|▊         | 1906/25000 [36:50<4:15:36,  1.51it/s]\u001b[A\n  8%|▊         | 1907/25000 [36:50<3:52:08,  1.66it/s]\u001b[A\n  8%|▊         | 1908/25000 [36:51<3:53:31,  1.65it/s]\u001b[A\n  8%|▊         | 1909/25000 [36:51<3:32:19,  1.81it/s]\u001b[A\n  8%|▊         | 1910/25000 [36:52<3:15:27,  1.97it/s]\u001b[A\n  8%|▊         | 1912/25000 [36:52<2:43:54,  2.35it/s]\u001b[A\n  8%|▊         | 1913/25000 [36:53<2:32:26,  2.52it/s]\u001b[A\n  8%|▊         | 1914/25000 [36:54<3:36:19,  1.78it/s]\u001b[A\n  8%|▊         | 1915/25000 [36:54<3:02:57,  2.10it/s]\u001b[A\n  8%|▊         | 1917/25000 [36:56<4:14:21,  1.51it/s]\u001b[A\n  8%|▊         | 1918/25000 [36:56<4:11:05,  1.53it/s]\u001b[A\n  8%|▊         | 1919/25000 [36:59<7:21:01,  1.15s/it]\u001b[A\n  8%|▊         | 1920/25000 [36:59<5:41:31,  1.13it/s]\u001b[A\n  8%|▊         | 1921/25000 [37:00<5:06:57,  1.25it/s]\u001b[A\n  8%|▊         | 1922/25000 [37:00<4:52:10,  1.32it/s]\u001b[A\n  8%|▊         | 1923/25000 [37:02<6:20:20,  1.01it/s]\u001b[A\n  8%|▊         | 1924/25000 [37:03<5:53:22,  1.09it/s]\u001b[A\n  8%|▊         | 1925/25000 [37:04<7:15:12,  1.13s/it]\u001b[A\n  8%|▊         | 1926/25000 [37:05<7:06:31,  1.11s/it]\u001b[A\n  8%|▊         | 1927/25000 [37:06<5:33:32,  1.15it/s]\u001b[A\n  8%|▊         | 1928/25000 [37:06<4:26:06,  1.45it/s]\u001b[A\n  8%|▊         | 1929/25000 [37:06<3:18:26,  1.94it/s]\u001b[A\n  8%|▊         | 1930/25000 [37:06<2:42:51,  2.36it/s]\u001b[A\n  8%|▊         | 1931/25000 [37:07<3:07:19,  2.05it/s]\u001b[A\n  8%|▊         | 1932/25000 [37:08<5:13:31,  1.23it/s]\u001b[A\n  8%|▊         | 1933/25000 [37:10<6:28:15,  1.01s/it]\u001b[A\n  8%|▊         | 1934/25000 [37:14<11:22:56,  1.78s/it]\u001b[A\n  8%|▊         | 1935/25000 [37:20<20:50:04,  3.25s/it]\u001b[A\n  8%|▊         | 1936/25000 [37:21<16:26:19,  2.57s/it]\u001b[A\n  8%|▊         | 1937/25000 [37:22<12:39:40,  1.98s/it]\u001b[A\n  8%|▊         | 1938/25000 [37:23<11:12:22,  1.75s/it]\u001b[A\n  8%|▊         | 1939/25000 [37:24<8:48:27,  1.37s/it] \u001b[A\n  8%|▊         | 1940/25000 [37:24<6:29:34,  1.01s/it]\u001b[A\n  8%|▊         | 1943/25000 [37:24<3:01:21,  2.12it/s]\u001b[A\n  8%|▊         | 1944/25000 [37:24<3:07:37,  2.05it/s]\u001b[A\n  8%|▊         | 1945/25000 [37:25<3:11:51,  2.00it/s]\u001b[A\n  8%|▊         | 1947/25000 [37:26<3:11:43,  2.00it/s]\u001b[A\n  8%|▊         | 1948/25000 [37:26<2:51:31,  2.24it/s]\u001b[A\n  8%|▊         | 1949/25000 [37:28<4:55:48,  1.30it/s]\u001b[A\n  8%|▊         | 1950/25000 [37:31<8:39:50,  1.35s/it]\u001b[A\n  8%|▊         | 1952/25000 [37:31<5:26:07,  1.18it/s]\u001b[A\n  8%|▊         | 1953/25000 [37:32<5:02:29,  1.27it/s]\u001b[A\n  8%|▊         | 1954/25000 [37:36<10:46:11,  1.68s/it]\u001b[A",
     "output_type": "stream"
    }
   ],
   "execution_count": 21
  },
  {
   "cell_type": "code",
   "metadata": {
    "tags": [],
    "deepnote_to_be_reexecuted": true,
    "source_hash": "bbd54931",
    "execution_start": 1650872535693,
    "execution_millis": 814,
    "cell_id": "00031-f9351d22-c615-4676-b3f5-3b3f95422466",
    "deepnote_cell_type": "code",
    "deepnote_cell_height": 186.984375,
    "deepnote_output_heights": [
     null,
     21.1875
    ]
   },
   "source": "print(change_word2vec(train_x[1]))\nlen(train_x)",
   "execution_count": null,
   "outputs": [
    {
     "name": "stdout",
     "text": "['This', 'tapes', 'can', 'scarcely', 'be', 'understood', 'and', 'it', 'was', 'listing', 'for', 'sold', 'as', '``', 'very', 'good', \"''\", '.', 'It', \"'s\", 'VERY', 'BAD', '.']\n",
     "output_type": "stream"
    },
    {
     "output_type": "execute_result",
     "execution_count": 32,
     "data": {
      "text/plain": "99946"
     },
     "metadata": {}
    }
   ]
  },
  {
   "cell_type": "code",
   "metadata": {
    "tags": [],
    "deepnote_to_be_reexecuted": false,
    "source_hash": "e72c710c",
    "execution_start": 1651129622292,
    "execution_millis": 0,
    "cell_id": "00032-12876a83-4828-4d4d-9495-1226751cb0f0",
    "deepnote_cell_type": "code",
    "deepnote_cell_height": 117
   },
   "source": "#new_x = []\n#for  i in train_x[:1000]:\n    #new_x.append(change_word2vec(i))",
   "execution_count": null,
   "outputs": []
  },
  {
   "cell_type": "code",
   "metadata": {
    "cell_id": "6bb4b1d47cb34af98ff247e0c5532d3d",
    "tags": [],
    "deepnote_to_be_reexecuted": false,
    "source_hash": "41bfadc1",
    "execution_start": 1651130124346,
    "execution_millis": 280,
    "deepnote_cell_type": "code",
    "deepnote_cell_height": 284.1875
   },
   "source": "print(train_x_split[6])\nprint(gen_synth_web(train_x_split[6]))\nprint(change_wordnet(train_x_split[6]))\nprint(change_word2vec(train_x_split[6]))",
   "execution_count": null,
   "outputs": [
    {
     "name": "stdout",
     "text": "['I', 'love', 'all', 'of', 'his', 'music', '!', '!']\n['ve ', 'love', 'group ', 'of', 'his', 'music', '!', '!']\n['I', 'have_intercourse', 'all', 'of', 'his', 'music', '!', '!']\n",
     "output_type": "stream"
    },
    {
     "output_type": "error",
     "ename": "UnboundLocalError",
     "evalue": "local variable 'sentence' referenced before assignment",
     "traceback": [
      "\u001b[0;31m---------------------------------------------------------------------------\u001b[0m",
      "\u001b[0;31mUnboundLocalError\u001b[0m                         Traceback (most recent call last)",
      "\u001b[0;32m<ipython-input-54-fe5d0c7d39cc>\u001b[0m in \u001b[0;36m<module>\u001b[0;34m\u001b[0m\n\u001b[1;32m      2\u001b[0m \u001b[0mprint\u001b[0m\u001b[0;34m(\u001b[0m\u001b[0mgen_synth_web\u001b[0m\u001b[0;34m(\u001b[0m\u001b[0mtrain_x_split\u001b[0m\u001b[0;34m[\u001b[0m\u001b[0;36m6\u001b[0m\u001b[0;34m]\u001b[0m\u001b[0;34m)\u001b[0m\u001b[0;34m)\u001b[0m\u001b[0;34m\u001b[0m\u001b[0;34m\u001b[0m\u001b[0m\n\u001b[1;32m      3\u001b[0m \u001b[0mprint\u001b[0m\u001b[0;34m(\u001b[0m\u001b[0mchange_wordnet\u001b[0m\u001b[0;34m(\u001b[0m\u001b[0mtrain_x_split\u001b[0m\u001b[0;34m[\u001b[0m\u001b[0;36m6\u001b[0m\u001b[0;34m]\u001b[0m\u001b[0;34m)\u001b[0m\u001b[0;34m)\u001b[0m\u001b[0;34m\u001b[0m\u001b[0;34m\u001b[0m\u001b[0m\n\u001b[0;32m----> 4\u001b[0;31m \u001b[0mprint\u001b[0m\u001b[0;34m(\u001b[0m\u001b[0mchange_word2vec\u001b[0m\u001b[0;34m(\u001b[0m\u001b[0mtrain_x_split\u001b[0m\u001b[0;34m[\u001b[0m\u001b[0;36m6\u001b[0m\u001b[0;34m]\u001b[0m\u001b[0;34m)\u001b[0m\u001b[0;34m)\u001b[0m\u001b[0;34m\u001b[0m\u001b[0;34m\u001b[0m\u001b[0m\n\u001b[0m",
      "\u001b[0;32m<ipython-input-50-fab0f16df054>\u001b[0m in \u001b[0;36mchange_word2vec\u001b[0;34m(original_sentence, prob)\u001b[0m\n\u001b[1;32m      3\u001b[0m \u001b[0maux_verbs\u001b[0m \u001b[0;34m=\u001b[0m \u001b[0;34m[\u001b[0m\u001b[0;34m'am'\u001b[0m\u001b[0;34m,\u001b[0m\u001b[0;34m'are'\u001b[0m\u001b[0;34m,\u001b[0m\u001b[0;34m'be'\u001b[0m\u001b[0;34m,\u001b[0m\u001b[0;34m'been'\u001b[0m\u001b[0;34m,\u001b[0m\u001b[0;34m'being'\u001b[0m\u001b[0;34m,\u001b[0m\u001b[0;34m'did'\u001b[0m\u001b[0;34m,\u001b[0m\u001b[0;34m'do'\u001b[0m\u001b[0;34m,\u001b[0m\u001b[0;34m'does'\u001b[0m\u001b[0;34m,\u001b[0m\u001b[0;34m'had'\u001b[0m\u001b[0;34m,\u001b[0m\u001b[0;34m'has'\u001b[0m\u001b[0;34m,\u001b[0m\u001b[0;34m'have'\u001b[0m\u001b[0;34m,\u001b[0m\u001b[0;34m'having'\u001b[0m\u001b[0;34m,\u001b[0m\u001b[0;34m'is'\u001b[0m\u001b[0;34m,\u001b[0m\u001b[0;34m'was'\u001b[0m\u001b[0;34m,\u001b[0m\u001b[0;34m'were'\u001b[0m\u001b[0;34m,\u001b[0m\u001b[0;34m'will'\u001b[0m\u001b[0;34m]\u001b[0m \u001b[0;31m#Used to avoid changing function words\u001b[0m\u001b[0;34m\u001b[0m\u001b[0;34m\u001b[0m\u001b[0m\n\u001b[1;32m      4\u001b[0m \u001b[0;32mdef\u001b[0m \u001b[0mchange_word2vec\u001b[0m\u001b[0;34m(\u001b[0m\u001b[0moriginal_sentence\u001b[0m\u001b[0;34m,\u001b[0m \u001b[0mprob\u001b[0m \u001b[0;34m=\u001b[0m \u001b[0;36m0.5\u001b[0m\u001b[0;34m)\u001b[0m\u001b[0;34m:\u001b[0m\u001b[0;34m\u001b[0m\u001b[0;34m\u001b[0m\u001b[0m\n\u001b[0;32m----> 5\u001b[0;31m     \u001b[0msentence\u001b[0m \u001b[0;34m=\u001b[0m \u001b[0mnltk\u001b[0m\u001b[0;34m.\u001b[0m\u001b[0mpos_tag\u001b[0m\u001b[0;34m(\u001b[0m\u001b[0msentence\u001b[0m\u001b[0;34m)\u001b[0m    \u001b[0;31m#pos-tagging sentence here\u001b[0m\u001b[0;34m\u001b[0m\u001b[0;34m\u001b[0m\u001b[0m\n\u001b[0m\u001b[1;32m      6\u001b[0m     \u001b[0mnew_sentence\u001b[0m \u001b[0;34m=\u001b[0m \u001b[0;34m[\u001b[0m\u001b[0;34m]\u001b[0m \u001b[0;31m#to append to and then return as final sentence\u001b[0m\u001b[0;34m\u001b[0m\u001b[0;34m\u001b[0m\u001b[0m\n\u001b[1;32m      7\u001b[0m     \u001b[0;32mfor\u001b[0m \u001b[0mword\u001b[0m \u001b[0;32min\u001b[0m \u001b[0msentence\u001b[0m\u001b[0;34m:\u001b[0m\u001b[0;34m\u001b[0m\u001b[0;34m\u001b[0m\u001b[0m\n",
      "\u001b[0;31mUnboundLocalError\u001b[0m: local variable 'sentence' referenced before assignment"
     ]
    }
   ]
  },
  {
   "cell_type": "markdown",
   "source": "# Baseline",
   "metadata": {
    "cell_id": "f865a7773d414834b061eac14293de29",
    "tags": [],
    "deepnote_cell_type": "markdown",
    "deepnote_cell_height": 82
   }
  },
  {
   "cell_type": "code",
   "metadata": {
    "cell_id": "6b7e7474cc7742b8b651c485cfe70a32",
    "tags": [],
    "deepnote_cell_type": "code",
    "deepnote_cell_height": 138
   },
   "source": "pipeline = Pipeline([\n    ('CountVectorizer',CountVectorizer(ngram_range=(1, 2))),\n    ('Tfidf',TfidfTransformer()),\n    ('clf', MultinomialNB(alpha=1, fit_prior=False))\n])",
   "execution_count": null,
   "outputs": []
  },
  {
   "cell_type": "code",
   "metadata": {
    "cell_id": "f7a013a7d5cf4037acdc7e2c105ec127",
    "tags": [],
    "deepnote_cell_type": "code",
    "deepnote_cell_height": 66
   },
   "source": "",
   "execution_count": null,
   "outputs": []
  },
  {
   "cell_type": "markdown",
   "source": "<a style='text-decoration:none;line-height:16px;display:flex;color:#5B5B62;padding:10px;justify-content:end;' href='https://deepnote.com?utm_source=created-in-deepnote-cell&projectId=b88dfe01-c7e1-473c-bcfd-798313fc6522' target=\"_blank\">\n<img alt='Created in deepnote.com' style='display:inline;max-height:16px;margin:0px;margin-right:7.5px;' src='data:image/svg+xml;base64,PD94bWwgdmVyc2lvbj0iMS4wIiBlbmNvZGluZz0iVVRGLTgiPz4KPHN2ZyB3aWR0aD0iODBweCIgaGVpZ2h0PSI4MHB4IiB2aWV3Qm94PSIwIDAgODAgODAiIHZlcnNpb249IjEuMSIgeG1sbnM9Imh0dHA6Ly93d3cudzMub3JnLzIwMDAvc3ZnIiB4bWxuczp4bGluaz0iaHR0cDovL3d3dy53My5vcmcvMTk5OS94bGluayI+CiAgICA8IS0tIEdlbmVyYXRvcjogU2tldGNoIDU0LjEgKDc2NDkwKSAtIGh0dHBzOi8vc2tldGNoYXBwLmNvbSAtLT4KICAgIDx0aXRsZT5Hcm91cCAzPC90aXRsZT4KICAgIDxkZXNjPkNyZWF0ZWQgd2l0aCBTa2V0Y2guPC9kZXNjPgogICAgPGcgaWQ9IkxhbmRpbmciIHN0cm9rZT0ibm9uZSIgc3Ryb2tlLXdpZHRoPSIxIiBmaWxsPSJub25lIiBmaWxsLXJ1bGU9ImV2ZW5vZGQiPgogICAgICAgIDxnIGlkPSJBcnRib2FyZCIgdHJhbnNmb3JtPSJ0cmFuc2xhdGUoLTEyMzUuMDAwMDAwLCAtNzkuMDAwMDAwKSI+CiAgICAgICAgICAgIDxnIGlkPSJHcm91cC0zIiB0cmFuc2Zvcm09InRyYW5zbGF0ZSgxMjM1LjAwMDAwMCwgNzkuMDAwMDAwKSI+CiAgICAgICAgICAgICAgICA8cG9seWdvbiBpZD0iUGF0aC0yMCIgZmlsbD0iIzAyNjVCNCIgcG9pbnRzPSIyLjM3NjIzNzYyIDgwIDM4LjA0NzY2NjcgODAgNTcuODIxNzgyMiA3My44MDU3NTkyIDU3LjgyMTc4MjIgMzIuNzU5MjczOSAzOS4xNDAyMjc4IDMxLjY4MzE2ODMiPjwvcG9seWdvbj4KICAgICAgICAgICAgICAgIDxwYXRoIGQ9Ik0zNS4wMDc3MTgsODAgQzQyLjkwNjIwMDcsNzYuNDU0OTM1OCA0Ny41NjQ5MTY3LDcxLjU0MjI2NzEgNDguOTgzODY2LDY1LjI2MTk5MzkgQzUxLjExMjI4OTksNTUuODQxNTg0MiA0MS42NzcxNzk1LDQ5LjIxMjIyODQgMjUuNjIzOTg0Niw0OS4yMTIyMjg0IEMyNS40ODQ5Mjg5LDQ5LjEyNjg0NDggMjkuODI2MTI5Niw0My4yODM4MjQ4IDM4LjY0NzU4NjksMzEuNjgzMTY4MyBMNzIuODcxMjg3MSwzMi41NTQ0MjUgTDY1LjI4MDk3Myw2Ny42NzYzNDIxIEw1MS4xMTIyODk5LDc3LjM3NjE0NCBMMzUuMDA3NzE4LDgwIFoiIGlkPSJQYXRoLTIyIiBmaWxsPSIjMDAyODY4Ij48L3BhdGg+CiAgICAgICAgICAgICAgICA8cGF0aCBkPSJNMCwzNy43MzA0NDA1IEwyNy4xMTQ1MzcsMC4yNTcxMTE0MzYgQzYyLjM3MTUxMjMsLTEuOTkwNzE3MDEgODAsMTAuNTAwMzkyNyA4MCwzNy43MzA0NDA1IEM4MCw2NC45NjA0ODgyIDY0Ljc3NjUwMzgsNzkuMDUwMzQxNCAzNC4zMjk1MTEzLDgwIEM0Ny4wNTUzNDg5LDc3LjU2NzA4MDggNTMuNDE4MjY3Nyw3MC4zMTM2MTAzIDUzLjQxODI2NzcsNTguMjM5NTg4NSBDNTMuNDE4MjY3Nyw0MC4xMjg1NTU3IDM2LjMwMzk1NDQsMzcuNzMwNDQwNSAyNS4yMjc0MTcsMzcuNzMwNDQwNSBDMTcuODQzMDU4NiwzNy43MzA0NDA1IDkuNDMzOTE5NjYsMzcuNzMwNDQwNSAwLDM3LjczMDQ0MDUgWiIgaWQ9IlBhdGgtMTkiIGZpbGw9IiMzNzkzRUYiPjwvcGF0aD4KICAgICAgICAgICAgPC9nPgogICAgICAgIDwvZz4KICAgIDwvZz4KPC9zdmc+' > </img>\nCreated in <span style='font-weight:600;margin-left:4px;'>Deepnote</span></a>",
   "metadata": {
    "tags": [],
    "created_in_deepnote_cell": true,
    "deepnote_cell_type": "markdown"
   }
  }
 ],
 "nbformat": 4,
 "nbformat_minor": 2,
 "metadata": {
  "orig_nbformat": 2,
  "deepnote": {},
  "deepnote_notebook_id": "4e7963ba-647e-4c53-a94c-cef90fa8e4a0",
  "deepnote_execution_queue": [
   {
    "cellId": "0ab3eed05a5044fa95093db457009979",
    "sessionId": "1ae829f5-97c7-48cd-b90e-1ae6de29f866",
    "msgId": "75d14b38-55b8-46bd-909b-7c71da9b7993"
   }
  ]
 }
}
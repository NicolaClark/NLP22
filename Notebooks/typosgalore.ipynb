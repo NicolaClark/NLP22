{
 "cells": [
  {
   "cell_type": "code",
   "metadata": {
    "tags": [],
    "cell_id": "f5b94e67-7ceb-4bf5-8b56-884b417a778c",
    "deepnote_to_be_reexecuted": false,
    "source_hash": "3bb4bc10",
    "execution_start": 1648455354504,
    "execution_millis": 1512,
    "deepnote_cell_type": "code",
    "deepnote_cell_height": 333
   },
   "source": "import random\nimport gzip\nimport json\nfrom sklearn.feature_extraction.text import CountVectorizer\nfrom sklearn.feature_extraction.text import TfidfTransformer\nfrom sklearn.pipeline import Pipeline\n\nfrom sklearn import preprocessing\nfrom sklearn.naive_bayes import MultinomialNB\nfrom sklearn.linear_model import LogisticRegression\nfrom sklearn.neural_network import MLPClassifier\n\nfrom sklearn.metrics import f1_score\nimport pickle\nimport math",
   "execution_count": null,
   "outputs": []
  },
  {
   "cell_type": "code",
   "metadata": {
    "cell_id": "d12d801f64524a30848f4792150e67c4",
    "tags": [],
    "deepnote_to_be_reexecuted": false,
    "source_hash": "ae5b9fc9",
    "execution_start": 1648455359150,
    "execution_millis": 2,
    "deepnote_cell_type": "code",
    "deepnote_cell_height": 225
   },
   "source": "def reading_in(path):\n    thing=[]\n    for line in gzip.open(path):\n        review_data = json.loads(line)\n        subthing = dict()\n        for key in review_data:\n            subthing[key]= review_data[key]\n        thing.append(subthing)\n    return thing",
   "execution_count": null,
   "outputs": []
  },
  {
   "cell_type": "code",
   "metadata": {
    "cell_id": "c82952432d84415581dc866b409551c1",
    "tags": [],
    "deepnote_to_be_reexecuted": false,
    "source_hash": "e0360496",
    "execution_start": 1648455360295,
    "execution_millis": 2319,
    "deepnote_cell_type": "code",
    "deepnote_cell_height": 117
   },
   "source": "train = reading_in('../data/classification/music_reviews_train.json.gz')\ndev = reading_in('../data/classification/music_reviews_dev.json.gz')\ntest = reading_in('../data/classification/music_reviews_test_masked.json.gz')",
   "execution_count": null,
   "outputs": []
  },
  {
   "cell_type": "code",
   "metadata": {
    "cell_id": "1c8a8f2fb4f24ebd95869dbe5ad555bd",
    "tags": [],
    "deepnote_to_be_reexecuted": false,
    "source_hash": "3aba5950",
    "execution_start": 1648455362694,
    "execution_millis": 7,
    "deepnote_cell_type": "code",
    "deepnote_cell_height": 207
   },
   "source": "train_x = [i['reviewText'] if \"reviewText\" in i.keys() else \"\" for i in train]\ntrain_y =  [i['sentiment'] for i in train]\n\ndev_x = [i['reviewText'] if \"reviewText\" in i.keys() else \"\" for i in dev]\ndev_y = [i['sentiment'] for i in dev]\n\ntest_x = [i['reviewText'] if \"reviewText\" in i.keys() else \"\" for i in test]\ntest_y = [i['sentiment'] for i in test]",
   "execution_count": null,
   "outputs": []
  },
  {
   "cell_type": "code",
   "metadata": {
    "cell_id": "b9a4152401274d7bab63d6df7d42588b",
    "tags": [],
    "deepnote_to_be_reexecuted": false,
    "source_hash": "a6599c17",
    "execution_start": 1648455363304,
    "execution_millis": 2,
    "deepnote_cell_type": "code",
    "deepnote_cell_height": 261
   },
   "source": "def dumb(text):\n    length = len(text)\n    swap_p = random.randint(1,length-1)\n    rem_p = random.randint(0,length-1)\n    ##swap 2 random letters next to each other\n    character = text[swap_p]\n    text = text[:swap_p-1] + text[swap_p] + text[swap_p-1] + text[swap_p+1:]\n    #remove a random character\n    text =  text[:rem_p] +  text[rem_p+1:]\n    return text\n",
   "execution_count": null,
   "outputs": []
  },
  {
   "cell_type": "code",
   "metadata": {
    "cell_id": "584bfc50b18843fc8babb8ed8313b6f7",
    "tags": [],
    "deepnote_to_be_reexecuted": false,
    "source_hash": "6a2e24a1",
    "execution_start": 1648455356019,
    "execution_millis": 8,
    "deepnote_cell_type": "code",
    "deepnote_cell_height": 135
   },
   "source": "def make_dumb(text):\n    for i in range(math.ceil(len(text)/75)):\n        text = dumb(text)\n    return text",
   "execution_count": null,
   "outputs": []
  },
  {
   "cell_type": "code",
   "metadata": {
    "cell_id": "dc5ccdf577f04b1c869b7198a2d58475",
    "tags": [],
    "deepnote_to_be_reexecuted": false,
    "source_hash": "5fde7de0",
    "execution_start": 1648455368486,
    "execution_millis": 18,
    "deepnote_cell_type": "code",
    "deepnote_cell_height": 117.796875
   },
   "source": "make_dumb(\"The first time i heard\")",
   "execution_count": null,
   "outputs": [
    {
     "output_type": "execute_result",
     "execution_count": 10,
     "data": {
      "text/plain": "'The ifrst timei heard'"
     },
     "metadata": {}
    }
   ]
  },
  {
   "cell_type": "markdown",
   "source": "### Correct format file thing",
   "metadata": {
    "cell_id": "21f143026ba94830a0ae4b18da8f708f",
    "tags": [],
    "deepnote_cell_type": "markdown",
    "deepnote_cell_height": 62
   }
  },
  {
   "cell_type": "code",
   "metadata": {
    "cell_id": "f514b5e64b454b8fbc8420b124556098",
    "tags": [],
    "deepnote_to_be_reexecuted": false,
    "source_hash": "eea7a70d",
    "execution_start": 1648455409205,
    "execution_millis": 3,
    "deepnote_cell_type": "code",
    "deepnote_cell_height": 81
   },
   "source": "list_of_json_dicts=[]",
   "execution_count": null,
   "outputs": []
  },
  {
   "cell_type": "code",
   "metadata": {
    "cell_id": "a53220b4a9464424b310e35cdb9091f7",
    "tags": [],
    "deepnote_to_be_reexecuted": false,
    "source_hash": "8aa6c069",
    "execution_start": 1648455368505,
    "execution_millis": 2,
    "deepnote_cell_type": "code",
    "deepnote_cell_height": 99
   },
   "source": "dumb_text_x = [ make_dumb(i) for i in dev_x[:100]]\n#dumb_text_x",
   "execution_count": null,
   "outputs": []
  },
  {
   "cell_type": "code",
   "metadata": {
    "cell_id": "fb9c5f94c9b14879a0a2c15c3536c002",
    "tags": [],
    "deepnote_to_be_reexecuted": false,
    "source_hash": "ac1ec2b4",
    "execution_start": 1648455370833,
    "execution_millis": 1,
    "deepnote_cell_type": "code",
    "deepnote_cell_height": 117
   },
   "source": "def create_json_format_dict(review,sentiment,category):\n    return {\"reviewText\":review,\"sentiment\":sentiment,\"category\":category}\n    ",
   "execution_count": null,
   "outputs": []
  },
  {
   "cell_type": "code",
   "metadata": {
    "cell_id": "0fb0ca035585477fbc2743ff9dd40b78",
    "tags": [],
    "deepnote_to_be_reexecuted": false,
    "source_hash": "da2104e3",
    "execution_start": 1648455373503,
    "execution_millis": 0,
    "deepnote_cell_type": "code",
    "deepnote_cell_height": 153
   },
   "source": "def add_to_json_format(review,sentiment,category):\n    while sentiment!= \"negative\" and sentiment!=\"positive\":\n        print(sentiment,\"is an incorrect \")\n        sentiment=input(\"sentiment must be negative or positive, enter sentiment again: \")\n    list_of_json_dicts.append({\"reviewText\":review,\"sentiment\":sentiment,\"category\":category})",
   "execution_count": null,
   "outputs": []
  },
  {
   "cell_type": "code",
   "metadata": {
    "cell_id": "fdc2ea20fd754295971c2aa95178d4fd",
    "tags": [],
    "deepnote_to_be_reexecuted": false,
    "source_hash": "81fa9b8",
    "execution_start": 1648455399328,
    "execution_millis": 1,
    "deepnote_cell_type": "code",
    "deepnote_cell_height": 81
   },
   "source": "#add_to_json_format(\"hello\",\"negatv\",\"hello\")",
   "execution_count": null,
   "outputs": []
  },
  {
   "cell_type": "code",
   "metadata": {
    "cell_id": "c24e480dde8842138747ba3aed0bae3f",
    "tags": [],
    "deepnote_to_be_reexecuted": false,
    "source_hash": "114ce846",
    "execution_start": 1648455414779,
    "execution_millis": 25,
    "deepnote_cell_type": "code",
    "deepnote_cell_height": 205.625
   },
   "source": "#handmade read in\nfrom csv import reader\nwith open('../data/difficult_cases.csv', 'r', encoding = 'UTF-8') as f:\n    csv_reader = reader(f)\n    list_of_reviews = list(csv_reader)[1:]#split off header\nprint(list_of_reviews)",
   "execution_count": null,
   "outputs": [
    {
     "name": "stdout",
     "text": "[[\"The first time I heard their album I really didn't like it it sounded awful. But then I heard it again in my headphones and I LOVE it now.\", 'positive', 'Sentiment over time '], ['I heard the album for the first time a couple weeks ago and really liked it but then i heard it every day on my way to work and now i basically hate it.\\xa0', 'negative', 'Sentiment over time '], ['My boyfriend introduced me to Arctic Monkeys and we loved hearing them together. Then I found the bastard cheating on me WHILE hearing Arctic Monkeys so now their music makes me cry like a baby and I hate it.\\xa0', 'negative', 'Sentiment over time '], ['Had a perfect party hearing Avicii the whole evening. It was the best. I had too much tequila and got quite sick and now levels remind me of sitting in front of a toilet puking. I don’t wanna hear Avicii anymore because of that', 'negative', 'Sentiment over time '], ['I started hating Justin Bieber because everyone loved him. Now everyone hates him so I love him and his music especially Baby what a bange!', 'positive', 'Sentiment over time '], [\"Little Mix's old music was my favorite. Now there songs are only about their ex-boyfriends and that is to depressive to hear.\\xa0\", 'negative', 'Sentiment over time '], ['Their old album was a banger. The new album is painfully awful.', 'negative', 'Sentiment over time '], ['Their old album was awful. But they grew on me and now I LOVE their music', 'positive', 'Sentiment over time '], ['The first time I heard the song about love I puked a bit in my mouth because it was so cheesy. Then I met my husband and the song is just our song. We even played it at our wedding.\\xa0', 'positive', 'Sentiment over time '], ['I used to hate listening to pop and especially Katy Perry. But for some reason she just hit a spot in my heart with her new album and I cannot stop listening to it.\\xa0', 'positive', 'Sentiment over time '], ['When I was a child I hated when my mom put on Thomas Helmig. Now I’m grown up and I actually like him quite a lot.\\xa0', 'positive', 'Sentiment over time '], ['Back in my time ABBA was the best music ever, but now they just seem a bit old and slow.\\xa0', 'negative', 'Sentiment over time '], [\"I used to hate Elvis Presley, his music was the absolute worst, but now that i've heard Hound Dog, which is such a bop, i just love all his songs. Its so weird.\\xa0\", 'positive', 'Sentiment over time '], [\"Micheal Jackson used to be such a classical artist known throughout the world for his amazing songs but after the scandals surrounding him hes music is not as popular anymore. I really don't like it anymore.\", 'negative', 'Sentiment over time '], [\"Fyr and Flamme are hated by so many people which i used to think was understandable, but now that i've actually spent time listening to their lyrics i've realized that their songs are actually okay kind of.\", 'positive', 'Sentiment over time '], ['Harry styles used to be my nightmare. But with his new album: Fine Line is actually kind of great.', 'positive', 'Sentiment over time '], ['Many people hate Lorde but I used to think her music was amazing. She was so pretty and nice just like her music. However, her new album was so bad that my ears were bleeding.', 'negative', 'Sentiment over time '], ['Florence and the Machine used to be the best band ever but after seeing them live at lollapalooza I see them for what they really are, which is SHIIIIIIIT!', 'negative', 'Sentiment over time '], ['The songs from Euphoria were so good in the series. I absolutely loved them, and therefore put them on my playlist. But when I hear them without the Euphoria scenes they just seem kinda boring and washed up.', 'negative', 'Sentiment over time '], ['The first time I heard the song “Brutal” I thought, this is horrible music, how could anyone like this shit? But the song has kind of grown on me and now its one of my favorites', 'positive', 'Sentiment over time '], ['I’m not not saying that it is bad, but it is', 'negative', 'Negated negatives'], ['I’m not not saying that it is bad, but it is not', 'positive', 'Negated negatives'], ['Her voice is definitely not flat\\xa0', 'positive', 'Negated negatives'], ['He does not sound like a bad musician\\xa0', 'positive', 'Negated negatives'], ['That song is bad bad', 'negative', 'Negated negatives'], ['That song is so not bad', 'positive', 'Negated negatives'], ['She can’t not sing!!!', 'positive', 'Negated negatives'], ['She is really bad bad, my ears are bleeding!', 'negative', 'Negated negatives'], ['I’m not not saying that he could kill with his voice, but he could!', 'negative', 'Negated negatives'], ['JB is not not bad - but he really is bad', 'negative', 'Negated negatives'], ['P!nk makes me not insane', 'positive', 'Negated negatives'], ['She got a not poor voice', 'positive', 'Negated negatives'], ['He got a not poor voice', 'positive', 'Negated negatives'], ['One D is so not bad - they are the worst\\xa0', 'negative', 'Negated negatives'], ['That is not the worst shit Coldplay ever had made', 'positive', 'Negated negatives'], ['I’m not not saying that BTS can’t be understood in English, but they really suck at it!!!', 'negative\\xa0', 'Negated negatives'], ['This is the worst poor bad\\xa0 k-pop I ever heard…\\xa0', 'negative', 'Negated negatives'], ['It is so good that it is double negative\\xa0', 'positive', 'Negated negatives'], ['I thought that I had an imperfect nasty voice… But then I met IceKiid', 'negative', 'Negated negatives'], ['Adele is not terrible at all!', 'positive', 'Negated negatives'], ['I’m not gonna not listen to this album again…', 'positive', 'Negated negatives'], ['This song makes me not wanna bake no cake', 'positive', 'Negated negatives'], ['I’m not positive about not buying this album.', 'positive', 'Negated negatives'], ['He should not keep his mouth shut', 'positive', 'Negated negatives'], ['Kanye would do you no good…', 'negative', 'Negated negatives'], ['Adele would do you no bad…', 'positive', 'Negated negatives'], ['Go Adele! My QUEEN…. Det nye album is FIRE!!!!!', 'positive\\xa0', 'Different languages'], ['What is she doing. Det er så obvious at hun synger fake as fuck.', 'negative', 'Different languages'], [\"I'M SCREAMING!!!!!! DE er så fucking HOT!. ONE DIRECTION ALL THE WAY!!!\", 'positive', 'Different languages'], ['One DIrection er overhyped. Their music is definitely not worth it.\\xa0', 'negative', 'Different languages'], [\"We need more music like the arctic monkeys, it's the best. 5 stjerner.\", 'positive', 'Different languages'], ['Alex Turner is definitely nothing to write home about. His skills are pure average and his voice est trés faux.', 'negative', 'Different languages'], ['This man really think he did something but his music really fucking sucks. Ve a morir Justin', 'negative', 'Different languages'], ['Justin is muy caliente and his music is so bueno', 'positive', 'Different languages'], ['Little mix is just some overhyped girl group. The only reason people listen to their merdique music is because they are hot.\\xa0', 'negative', 'Different languages'], ['OMG! I love little mix. Their music is my life and it is absolutely geweldig', 'positive', 'Different languages'], ['Nik og Jay are the best duo ever. Deres music er helt utrolig', 'positive', 'Different languages'], ['Billie Eilish´s music is so sad and it sucks. I need a kram everytime. Do not listen', 'negative', 'Different languages'], ['Billie is heel moi and her music is absolutely fantastisch', 'positive', 'Different languages'], ['Kanye West is such a terrible person and his music is absolute merde', 'negative', 'Different languages'], ['Kanye made my absolutum favori song of all tyd', 'positive', 'Different languages'], ['MØ is a stjerne. I love her and her music', 'positive', 'Different languages'], ['Her music är ett slöseri med tid. MØ needs to go', 'negative', 'Different languages'], ['Birdy er så söt. Her music really does it for me', 'positive', 'Different languages'], ['Birdy! What a bitch. Her accent is super megah is sound like she has a silver spoon up her culo', 'negative', 'Different languages'], [\"Bruno Mars is so short that his feet dont hit the ground when he's shittiing. Che spreco di tempo\", 'negative', 'Different languages']]\n",
     "output_type": "stream"
    }
   ]
  },
  {
   "cell_type": "code",
   "metadata": {
    "cell_id": "4ecdbe828f9148a0a5bf0e6827036d63",
    "tags": [],
    "deepnote_to_be_reexecuted": false,
    "source_hash": "8a66909f",
    "execution_start": 1648455597755,
    "execution_millis": 31,
    "owner_user_id": "e3bb0160-fb91-44de-b701-79c62e58c7f8",
    "deepnote_cell_type": "code",
    "deepnote_cell_height": 151.625
   },
   "source": "#sort out \\xa0\nlist_of_reviews = [[j.replace(u'\\xa0', u' ').replace(u\"2026\", u\"!\" ).replace(u\"\\u2026\", u\"!\" ) for j in i] for i in list_of_reviews]\nprint(list_of_reviews)",
   "execution_count": null,
   "outputs": [
    {
     "name": "stdout",
     "text": "[[\"The first time I heard their album I really didn't like it it sounded awful. But then I heard it again in my headphones and I LOVE it now.\", 'positive', 'Sentiment over time '], ['I heard the album for the first time a couple weeks ago and really liked it but then i heard it every day on my way to work and now i basically hate it. ', 'negative', 'Sentiment over time '], ['My boyfriend introduced me to Arctic Monkeys and we loved hearing them together. Then I found the bastard cheating on me WHILE hearing Arctic Monkeys so now their music makes me cry like a baby and I hate it. ', 'negative', 'Sentiment over time '], ['Had a perfect party hearing Avicii the whole evening. It was the best. I had too much tequila and got quite sick and now levels remind me of sitting in front of a toilet puking. I don’t wanna hear Avicii anymore because of that', 'negative', 'Sentiment over time '], ['I started hating Justin Bieber because everyone loved him. Now everyone hates him so I love him and his music especially Baby what a bange!', 'positive', 'Sentiment over time '], [\"Little Mix's old music was my favorite. Now there songs are only about their ex-boyfriends and that is to depressive to hear. \", 'negative', 'Sentiment over time '], ['Their old album was a banger. The new album is painfully awful.', 'negative', 'Sentiment over time '], ['Their old album was awful. But they grew on me and now I LOVE their music', 'positive', 'Sentiment over time '], ['The first time I heard the song about love I puked a bit in my mouth because it was so cheesy. Then I met my husband and the song is just our song. We even played it at our wedding. ', 'positive', 'Sentiment over time '], ['I used to hate listening to pop and especially Katy Perry. But for some reason she just hit a spot in my heart with her new album and I cannot stop listening to it. ', 'positive', 'Sentiment over time '], ['When I was a child I hated when my mom put on Thomas Helmig. Now I’m grown up and I actually like him quite a lot. ', 'positive', 'Sentiment over time '], ['Back in my time ABBA was the best music ever, but now they just seem a bit old and slow. ', 'negative', 'Sentiment over time '], [\"I used to hate Elvis Presley, his music was the absolute worst, but now that i've heard Hound Dog, which is such a bop, i just love all his songs. Its so weird. \", 'positive', 'Sentiment over time '], [\"Micheal Jackson used to be such a classical artist known throughout the world for his amazing songs but after the scandals surrounding him hes music is not as popular anymore. I really don't like it anymore.\", 'negative', 'Sentiment over time '], [\"Fyr and Flamme are hated by so many people which i used to think was understandable, but now that i've actually spent time listening to their lyrics i've realized that their songs are actually okay kind of.\", 'positive', 'Sentiment over time '], ['Harry styles used to be my nightmare. But with his new album: Fine Line is actually kind of great.', 'positive', 'Sentiment over time '], ['Many people hate Lorde but I used to think her music was amazing. She was so pretty and nice just like her music. However, her new album was so bad that my ears were bleeding.', 'negative', 'Sentiment over time '], ['Florence and the Machine used to be the best band ever but after seeing them live at lollapalooza I see them for what they really are, which is SHIIIIIIIT!', 'negative', 'Sentiment over time '], ['The songs from Euphoria were so good in the series. I absolutely loved them, and therefore put them on my playlist. But when I hear them without the Euphoria scenes they just seem kinda boring and washed up.', 'negative', 'Sentiment over time '], ['The first time I heard the song “Brutal” I thought, this is horrible music, how could anyone like this shit? But the song has kind of grown on me and now its one of my favorites', 'positive', 'Sentiment over time '], ['I’m not not saying that it is bad, but it is', 'negative', 'Negated negatives'], ['I’m not not saying that it is bad, but it is not', 'positive', 'Negated negatives'], ['Her voice is definitely not flat ', 'positive', 'Negated negatives'], ['He does not sound like a bad musician ', 'positive', 'Negated negatives'], ['That song is bad bad', 'negative', 'Negated negatives'], ['That song is so not bad', 'positive', 'Negated negatives'], ['She can’t not sing!!!', 'positive', 'Negated negatives'], ['She is really bad bad, my ears are bleeding!', 'negative', 'Negated negatives'], ['I’m not not saying that he could kill with his voice, but he could!', 'negative', 'Negated negatives'], ['JB is not not bad - but he really is bad', 'negative', 'Negated negatives'], ['P!nk makes me not insane', 'positive', 'Negated negatives'], ['She got a not poor voice', 'positive', 'Negated negatives'], ['He got a not poor voice', 'positive', 'Negated negatives'], ['One D is so not bad - they are the worst ', 'negative', 'Negated negatives'], ['That is not the worst shit Coldplay ever had made', 'positive', 'Negated negatives'], ['I’m not not saying that BTS can’t be understood in English, but they really suck at it!!!', 'negative ', 'Negated negatives'], ['This is the worst poor bad  k-pop I ever heard… ', 'negative', 'Negated negatives'], ['It is so good that it is double negative ', 'positive', 'Negated negatives'], ['I thought that I had an imperfect nasty voice… But then I met IceKiid', 'negative', 'Negated negatives'], ['Adele is not terrible at all!', 'positive', 'Negated negatives'], ['I’m not gonna not listen to this album again…', 'positive', 'Negated negatives'], ['This song makes me not wanna bake no cake', 'positive', 'Negated negatives'], ['I’m not positive about not buying this album.', 'positive', 'Negated negatives'], ['He should not keep his mouth shut', 'positive', 'Negated negatives'], ['Kanye would do you no good…', 'negative', 'Negated negatives'], ['Adele would do you no bad…', 'positive', 'Negated negatives'], ['Go Adele! My QUEEN…. Det nye album is FIRE!!!!!', 'positive ', 'Different languages'], ['What is she doing. Det er så obvious at hun synger fake as fuck.', 'negative', 'Different languages'], [\"I'M SCREAMING!!!!!! DE er så fucking HOT!. ONE DIRECTION ALL THE WAY!!!\", 'positive', 'Different languages'], ['One DIrection er overhyped. Their music is definitely not worth it. ', 'negative', 'Different languages'], [\"We need more music like the arctic monkeys, it's the best. 5 stjerner.\", 'positive', 'Different languages'], ['Alex Turner is definitely nothing to write home about. His skills are pure average and his voice est trés faux.', 'negative', 'Different languages'], ['This man really think he did something but his music really fucking sucks. Ve a morir Justin', 'negative', 'Different languages'], ['Justin is muy caliente and his music is so bueno', 'positive', 'Different languages'], ['Little mix is just some overhyped girl group. The only reason people listen to their merdique music is because they are hot. ', 'negative', 'Different languages'], ['OMG! I love little mix. Their music is my life and it is absolutely geweldig', 'positive', 'Different languages'], ['Nik og Jay are the best duo ever. Deres music er helt utrolig', 'positive', 'Different languages'], ['Billie Eilish´s music is so sad and it sucks. I need a kram everytime. Do not listen', 'negative', 'Different languages'], ['Billie is heel moi and her music is absolutely fantastisch', 'positive', 'Different languages'], ['Kanye West is such a terrible person and his music is absolute merde', 'negative', 'Different languages'], ['Kanye made my absolutum favori song of all tyd', 'positive', 'Different languages'], ['MØ is a stjerne. I love her and her music', 'positive', 'Different languages'], ['Her music är ett slöseri med tid. MØ needs to go', 'negative', 'Different languages'], ['Birdy er så söt. Her music really does it for me', 'positive', 'Different languages'], ['Birdy! What a bitch. Her accent is super megah is sound like she has a silver spoon up her culo', 'negative', 'Different languages'], [\"Bruno Mars is so short that his feet dont hit the ground when he's shittiing. Che spreco di tempo\", 'negative', 'Different languages']]\n",
     "output_type": "stream"
    }
   ]
  },
  {
   "cell_type": "code",
   "metadata": {
    "cell_id": "8ee1698b31824bd680c8d00d68f08f1c",
    "tags": [],
    "deepnote_to_be_reexecuted": false,
    "source_hash": "c52faaa2",
    "execution_start": 1648455664636,
    "execution_millis": 0,
    "deepnote_cell_type": "code",
    "deepnote_cell_height": 117
   },
   "source": "#adding spelling mistakes\nfor x,i in enumerate(dumb_text_x):\n    list_of_json_dicts.append(create_json_format_dict(i,dev_y[x],\"spelling\"))",
   "execution_count": null,
   "outputs": []
  },
  {
   "cell_type": "code",
   "metadata": {
    "cell_id": "ae9657004da146f2b0d5b48262809629",
    "tags": [],
    "deepnote_to_be_reexecuted": false,
    "source_hash": "31b281d2",
    "execution_start": 1648455667575,
    "execution_millis": 12385,
    "deepnote_cell_type": "code",
    "deepnote_cell_height": 166.375
   },
   "source": "#handmade add to json list of dicts\nfor i in list_of_reviews:\n    add_to_json_format(i[0],i[1],i[2])",
   "execution_count": null,
   "outputs": [
    {
     "name": "stdout",
     "text": "negative  is an incorrect \npositive  is an incorrect \n",
     "output_type": "stream"
    }
   ]
  },
  {
   "cell_type": "code",
   "metadata": {
    "cell_id": "36fc4ea2bbaa48bcbefc72529a9bdf73",
    "tags": [],
    "deepnote_to_be_reexecuted": false,
    "source_hash": "7565e0e0",
    "execution_start": 1648455724426,
    "execution_millis": 6,
    "deepnote_cell_type": "code",
    "deepnote_cell_height": 117.796875
   },
   "source": "len(list_of_json_dicts)",
   "execution_count": null,
   "outputs": [
    {
     "output_type": "execute_result",
     "execution_count": 34,
     "data": {
      "text/plain": "166"
     },
     "metadata": {}
    }
   ]
  },
  {
   "cell_type": "code",
   "metadata": {
    "cell_id": "0cb7dd205e244ea6bb69342bf09edb42",
    "tags": [],
    "deepnote_to_be_reexecuted": false,
    "source_hash": "e794061e",
    "execution_start": 1648455727756,
    "execution_millis": 4,
    "deepnote_cell_type": "code",
    "deepnote_cell_height": 81
   },
   "source": "list_of_json_dicts_final=list_of_json_dicts",
   "execution_count": null,
   "outputs": []
  },
  {
   "cell_type": "code",
   "metadata": {
    "cell_id": "245a4413c6594c27bd142e5d266f81d7",
    "tags": [],
    "deepnote_to_be_reexecuted": false,
    "source_hash": "f0777fb9",
    "execution_start": 1648455730863,
    "execution_millis": 3,
    "deepnote_cell_type": "code",
    "deepnote_cell_height": 117.796875
   },
   "source": "len(list_of_json_dicts_final)",
   "execution_count": null,
   "outputs": [
    {
     "output_type": "execute_result",
     "execution_count": 36,
     "data": {
      "text/plain": "166"
     },
     "metadata": {}
    }
   ]
  },
  {
   "cell_type": "code",
   "metadata": {
    "cell_id": "18d24dd44d6640e3b45986e2e441231a",
    "tags": [],
    "deepnote_to_be_reexecuted": false,
    "source_hash": "1929d250",
    "execution_start": 1648456058031,
    "execution_millis": 2,
    "owner_user_id": "00805ed0-1304-48d5-bdec-0db2e512798a",
    "deepnote_cell_type": "code",
    "deepnote_cell_height": 135
   },
   "source": "#to document\ntest_json=[json.dumps(i)+\"\\n\" for i in list_of_json_dicts_final]\nwith open (\"../data/group6.json\",\"w\", encoding='utf-8') as file:\n    file.writelines(test_json)",
   "execution_count": null,
   "outputs": []
  },
  {
   "cell_type": "code",
   "metadata": {
    "cell_id": "224b0782d9ed450db07a4e882f8b71b0",
    "tags": [],
    "deepnote_to_be_reexecuted": false,
    "source_hash": "d352ea84",
    "execution_start": 1648455761305,
    "execution_millis": 3,
    "deepnote_cell_type": "code",
    "deepnote_cell_height": 495
   },
   "source": "#checking with the code given\nimport json\ninputPath = '../data/group6.json'\n\nfor lineIdx, line in enumerate(open(inputPath)):\n    try:\n        data = json.loads(line)\n    except ValueError as e:\n        print('error, instance ' + str(lineIdx+1) + ' is not in valid json format')\n        continue\n    if 'reviewText' not in data:\n        print(\"error, instance \" + str(lineIdx+1) + ' does not contain key \"reviewText\"')\n        continue\n    if 'sentiment' not in data:\n        print(\"error, instance \" + str(lineIdx+1) + ' does not contain key \"sentiment\"')\n        continue\n    if data['sentiment'] not in ['positive', 'negative']:\n        print(\"error, instance \" + str(lineIdx+1) + ': sentiment is not positive/negative')\n        continue\n        \nif lineIdx+1 < 100:\n    print('Too little instances(' + str(lineIdx) + '), please generate more')\nif lineIdx+1 > 1000:\n    print('Too many instances(' + str(lineIdx) + '), please generate more')",
   "execution_count": null,
   "outputs": []
  },
  {
   "cell_type": "markdown",
   "source": "<a style='text-decoration:none;line-height:16px;display:flex;color:#5B5B62;padding:10px;justify-content:end;' href='https://deepnote.com?utm_source=created-in-deepnote-cell&projectId=b88dfe01-c7e1-473c-bcfd-798313fc6522' target=\"_blank\">\n<img alt='Created in deepnote.com' style='display:inline;max-height:16px;margin:0px;margin-right:7.5px;' src='data:image/svg+xml;base64,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' > </img>\nCreated in <span style='font-weight:600;margin-left:4px;'>Deepnote</span></a>",
   "metadata": {
    "tags": [],
    "created_in_deepnote_cell": true,
    "deepnote_cell_type": "markdown"
   }
  }
 ],
 "nbformat": 4,
 "nbformat_minor": 2,
 "metadata": {
  "orig_nbformat": 2,
  "deepnote": {
   "is_reactive": false
  },
  "deepnote_notebook_id": "f7387440-7b7e-43bc-b7ac-81107f322de6",
  "deepnote_execution_queue": []
 }
}
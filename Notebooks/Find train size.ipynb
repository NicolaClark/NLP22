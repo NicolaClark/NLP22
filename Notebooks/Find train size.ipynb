{
 "cells": [
  {
   "cell_type": "markdown",
   "source": "# Imports",
   "metadata": {
    "is_collapsed": false,
    "tags": [],
    "cell_id": "bb717cc7-6b54-4f99-a624-0f2e06d1cea8",
    "deepnote_cell_type": "text-cell-h1"
   }
  },
  {
   "cell_type": "code",
   "metadata": {
    "deepnote_to_be_reexecuted": false,
    "execution_millis": 1470,
    "execution_start": 1649062161928,
    "source_hash": "abe1885a",
    "tags": [],
    "cell_id": "00001-2a02bdc7-2484-4f55-80de-fa90afb8012a",
    "deepnote_cell_type": "code",
    "deepnote_cell_height": 315.3125
   },
   "source": "import gzip\nimport json\nfrom sklearn.feature_extraction.text import CountVectorizer\nfrom sklearn.feature_extraction.text import TfidfTransformer\nfrom sklearn.pipeline import Pipeline\n\nfrom sklearn import preprocessing\nfrom sklearn.naive_bayes import MultinomialNB\nfrom sklearn.linear_model import LogisticRegression\nfrom sklearn.neural_network import MLPClassifier\n\nfrom sklearn.metrics import f1_score\nimport pickle\nimport pandas as pd",
   "outputs": [],
   "execution_count": null
  },
  {
   "cell_type": "markdown",
   "source": "# Reading in the data",
   "metadata": {
    "is_collapsed": false,
    "tags": [],
    "cell_id": "00002-060d344b-1fde-4249-b5e7-d71c8bbb7521",
    "deepnote_cell_type": "text-cell-h1"
   }
  },
  {
   "cell_type": "code",
   "metadata": {
    "deepnote_to_be_reexecuted": false,
    "execution_millis": 0,
    "execution_start": 1649062163408,
    "source_hash": "ae5b9fc9",
    "tags": [],
    "cell_id": "00003-7da70b73-3caa-418b-85cf-f698fa9bc936",
    "deepnote_cell_type": "code",
    "deepnote_cell_height": 225.3125
   },
   "source": "def reading_in(path):\n    thing=[]\n    for line in gzip.open(path):\n        review_data = json.loads(line)\n        subthing = dict()\n        for key in review_data:\n            subthing[key]= review_data[key]\n        thing.append(subthing)\n    return thing",
   "outputs": [],
   "execution_count": null
  },
  {
   "cell_type": "code",
   "metadata": {
    "deepnote_to_be_reexecuted": false,
    "execution_millis": 2246,
    "execution_start": 1649062566624,
    "source_hash": "d88135b7",
    "tags": [],
    "cell_id": "00004-d07df904-d784-4a28-92f5-3fc65b838b07",
    "deepnote_cell_type": "code",
    "deepnote_cell_height": 135.3125
   },
   "source": "train = reading_in('../data/classification/music_reviews_train.json.gz')\ndev = reading_in('../data/classification/music_reviews_dev.json.gz')\ntest = reading_in('../data/classification/music_reviews_test_masked.json.gz')\ndifficult = reading_in('../data/difficult cases/phase2_testData-masked.json.gz')",
   "outputs": [],
   "execution_count": null
  },
  {
   "cell_type": "markdown",
   "source": "https://scikit-learn.org/stable/tutorial/text_analytics/working_with_text_data.html",
   "metadata": {
    "tags": [],
    "cell_id": "00005-2def5675-0c7c-474b-ba05-3ba4e83256b8",
    "deepnote_cell_type": "markdown",
    "deepnote_cell_height": 52.671875
   }
  },
  {
   "cell_type": "code",
   "metadata": {
    "deepnote_to_be_reexecuted": false,
    "execution_millis": 4,
    "execution_start": 1649062165668,
    "source_hash": "5754a7b5",
    "tags": [],
    "cell_id": "00006-5322a30d-6049-487c-adb5-c795b0179761",
    "deepnote_cell_type": "code",
    "deepnote_cell_height": 118.296875,
    "deepnote_output_heights": [
     20.8125
    ]
   },
   "source": "len([i for i in test if \"reviewText\" in i.keys()])#how many do have review",
   "outputs": [
    {
     "data": {
      "text/plain": "9993"
     },
     "execution_count": 4,
     "metadata": {},
     "output_type": "execute_result"
    }
   ],
   "execution_count": null
  },
  {
   "cell_type": "code",
   "metadata": {
    "deepnote_to_be_reexecuted": false,
    "execution_millis": 4,
    "execution_start": 1649062165716,
    "source_hash": "45eed24b",
    "tags": [],
    "cell_id": "00007-5bb6b79e-723c-447d-83e6-69f28189ee5e",
    "deepnote_cell_type": "code",
    "deepnote_cell_height": 165.265625
   },
   "source": "#checking sentiments\nsents=set()\n[sents.add(i['sentiment']) for i in train if \"reviewText\" in i.keys()];\nprint(sents)",
   "outputs": [
    {
     "name": "stdout",
     "output_type": "stream",
     "text": "{'positive', 'negative'}\n"
    }
   ],
   "execution_count": null
  },
  {
   "cell_type": "code",
   "metadata": {
    "deepnote_to_be_reexecuted": false,
    "execution_millis": 75,
    "execution_start": 1649062620425,
    "source_hash": "8d450087",
    "tags": [],
    "cell_id": "00008-158289ad-7f8e-42ac-9633-b745d96c4667",
    "deepnote_cell_type": "code",
    "deepnote_cell_height": 261.3125
   },
   "source": "train_x = [i['reviewText'] if \"reviewText\" in i.keys() else \"\" for i in train]\ntrain_y =  [i['sentiment'] for i in train]\n\ndev_x = [i['reviewText'] if \"reviewText\" in i.keys() else \"\" for i in dev]\ndev_y = [i['sentiment'] for i in dev]\n\ntest_x = [i['reviewText'] if \"reviewText\" in i.keys() else \"\" for i in test]\ntest_y = [i['sentiment'] for i in test]\n\ndiff_test_x = [i['reviewText'] if \"reviewText\" in i.keys() else \"\" for i in test]\ndiff_test_y = [i['sentiment'] for i in test] #empty",
   "outputs": [],
   "execution_count": null
  },
  {
   "cell_type": "markdown",
   "source": "# Pipeline",
   "metadata": {
    "is_collapsed": false,
    "tags": [],
    "cell_id": "00009-27d66c37-7a90-4190-bb88-bf364fe20d84",
    "deepnote_cell_type": "text-cell-h1"
   }
  },
  {
   "cell_type": "code",
   "metadata": {
    "deepnote_to_be_reexecuted": false,
    "execution_millis": 3,
    "execution_start": 1649062166202,
    "source_hash": "57b80596",
    "tags": [],
    "cell_id": "00010-a5064441-cccf-4ec4-86f3-aa43377f1679",
    "deepnote_cell_type": "code",
    "deepnote_cell_height": 153.3125
   },
   "source": "pipeline = Pipeline([\n    ('CountVectorizer',CountVectorizer(ngram_range=(1, 2))),\n    ('Tfidf',TfidfTransformer()),\n    ('clf', MultinomialNB(alpha=1, fit_prior=False))\n])#best params given here",
   "outputs": [],
   "execution_count": null
  },
  {
   "cell_type": "code",
   "metadata": {
    "deepnote_to_be_reexecuted": false,
    "execution_millis": 14152,
    "execution_start": 1649062166207,
    "source_hash": "c73080dd",
    "tags": [],
    "cell_id": "00011-0093a9bd-9841-4ea1-a0ff-ff9f18e10476",
    "deepnote_cell_type": "code",
    "deepnote_cell_height": 155.9375,
    "deepnote_output_heights": [
     58.453125
    ]
   },
   "source": "pipeline.fit(train_x, train_y)",
   "outputs": [
    {
     "data": {
      "text/plain": "Pipeline(steps=[('CountVectorizer', CountVectorizer(ngram_range=(1, 2))),\n                ('Tfidf', TfidfTransformer()),\n                ('clf', MultinomialNB(alpha=1, fit_prior=False))])"
     },
     "execution_count": 8,
     "metadata": {},
     "output_type": "execute_result"
    }
   ],
   "execution_count": null
  },
  {
   "cell_type": "code",
   "metadata": {
    "deepnote_to_be_reexecuted": false,
    "execution_millis": 9464,
    "execution_start": 1649062180385,
    "source_hash": "7b379686",
    "tags": [],
    "cell_id": "00012-b925f592-8168-44e6-a68b-28bfc46facf4",
    "deepnote_cell_type": "code",
    "deepnote_cell_height": 220.109375
   },
   "source": "pred_train = pipeline.predict(train_x)\nf1 = f1_score(train_y, pred_train, average='macro')\nprint('Macro-F1 score for train is:', f1)\npred = pipeline.predict(dev_x)\nf1 = f1_score(dev_y, pred, average='macro')\nprint('Macro-F1 score for development is:', f1)",
   "outputs": [
    {
     "name": "stdout",
     "output_type": "stream",
     "text": "Macro-F1 score for train is: 0.9541741900457255\nMacro-F1 score for development is: 0.9169062476757955\n"
    }
   ],
   "execution_count": null
  },
  {
   "cell_type": "code",
   "metadata": {
    "cell_id": "00013-3a389c5d-a074-431e-8591-f017c214d8ce",
    "deepnote_cell_type": "code",
    "deepnote_cell_height": 480.3125
   },
   "source": "def find_train_size():\n    \"\"\"\n    90% train, 10% dev (test)\n    \"\"\"\n    macro_f1 = []\n    train_size = 1000\n    \n    while train_size <= len(train_x):\n        dev_size = int(len(dev_x)*(train_size/len(train_x)))\n        temp_train_x = train_x[0:train_size]\n        temp_train_y = train_y[0:train_size]\n        \n        \"\"\"\n        temp_dev_x = dev_x[0:dev_size]\n        temp_dev_y = dev_y[0:dev_size]\n        \"\"\"\n        pipeline.fit(temp_train_x, temp_train_y)\n        pred_dev = pipeline.predict(dev_x)\n                \n        macro_f1.append((train_size, dev_size, f1_score(dev_y, pred_dev, average='macro')))\n\n        print(int(train_size))\n        train_size += 1000\n    return macro_f1",
   "outputs": [],
   "execution_count": null
  },
  {
   "cell_type": "code",
   "metadata": {
    "cell_id": "00014-c9326ff4-18b4-470f-90be-b350d1fe17e9",
    "deepnote_cell_type": "code",
    "deepnote_cell_height": 701.46875
   },
   "source": "macro_f1_dev= find_train_size()",
   "outputs": [
    {
     "name": "stdout",
     "output_type": "stream",
     "text": "1000\n2000\n3000\n4000\n5000\n6000\n7000\n8000\n9000\n10000\n11000\n12000\n13000\n14000\n15000\n16000\n17000\n18000\n19000\n20000\n21000\n22000\n23000\n24000\n25000\n26000\n27000\n28000\n29000\n30000\n31000\n32000\n33000\n34000\n35000\n36000\n37000\n38000\n39000\n40000\n41000\n42000\n43000\n44000\n45000\n46000\n47000\n48000\n49000\n50000\n51000\n52000\n53000\n54000\n55000\n56000\n57000\n58000\n59000\n60000\n61000\n62000\n63000\n64000\n65000\n66000\n67000\n68000\n69000\n70000\n71000\n72000\n73000\n74000\n75000\n76000\n77000\n78000\n79000\n80000\n81000\n82000\n83000\n84000\n85000\n86000\n87000\n88000\n89000\n90000\n91000\n92000\n93000\n94000\n95000\n96000\n97000\n98000\n99000\n100000\n"
    }
   ],
   "execution_count": null
  },
  {
   "cell_type": "code",
   "metadata": {
    "cell_id": "00015-f748c782-05fd-44f3-ae97-c30e4c459815",
    "deepnote_cell_type": "code",
    "deepnote_cell_height": 84.3125
   },
   "source": "df = pd.DataFrame(macro_f1_dev, columns =['train_size', 'test_size', 'F1-macro (dev)'])\ndf.to_csv('macro_f1_dev.csv')",
   "outputs": [],
   "execution_count": null
  },
  {
   "cell_type": "code",
   "metadata": {
    "cell_id": "00016-937668c7-d936-40e2-a2d4-115e14d5a44c",
    "deepnote_cell_type": "code",
    "deepnote_cell_height": 432.46875,
    "deepnote_output_heights": [
     20.8125,
     265
    ]
   },
   "source": "import seaborn as sns\nsns.lineplot(y=df['F1-macro (dev)'], x=df['train_size'])",
   "outputs": [
    {
     "data": {
      "text/plain": "<AxesSubplot:xlabel='train_size', ylabel='F1-macro (dev)'>"
     },
     "execution_count": 17,
     "metadata": {},
     "output_type": "execute_result"
    },
    {
     "data": {
      "image/png": "[encoded data removed]",
      "text/plain": "<Figure size 432x288 with 1 Axes>"
     },
     "metadata": {
      "needs_background": "light",
      "image/png": {
       "width": 396,
       "height": 263
      }
     },
     "output_type": "display_data"
    }
   ],
   "execution_count": null
  },
  {
   "cell_type": "code",
   "metadata": {
    "cell_id": "00017-21a18208-5ba8-4eb7-8cad-8053b310cd62",
    "deepnote_cell_type": "code",
    "deepnote_cell_height": 66.3125
   },
   "source": "",
   "execution_count": null,
   "outputs": []
  },
  {
   "cell_type": "markdown",
   "source": "<a style='text-decoration:none;line-height:16px;display:flex;color:#5B5B62;padding:10px;justify-content:end;' href='https://deepnote.com?utm_source=created-in-deepnote-cell&projectId=b88dfe01-c7e1-473c-bcfd-798313fc6522' target=\"_blank\">\n<img alt='Created in deepnote.com' style='display:inline;max-height:16px;margin:0px;margin-right:7.5px;' src='data:image/svg+xml;base64,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' > </img>\nCreated in <span style='font-weight:600;margin-left:4px;'>Deepnote</span></a>",
   "metadata": {
    "tags": [],
    "created_in_deepnote_cell": true,
    "deepnote_cell_type": "markdown"
   }
  }
 ],
 "nbformat": 4,
 "nbformat_minor": 2,
 "metadata": {
  "deepnote": {
   "is_reactive": false
  },
  "deepnote_execution_queue": [],
  "deepnote_notebook_id": "4b6d78c9-7b75-4ba6-9608-0848e096af93",
  "kernelspec": {
   "display_name": "Python 3 (ipykernel)",
   "language": "python",
   "name": "python3"
  },
  "language_info": {
   "codemirror_mode": {
    "name": "ipython",
    "version": 3
   },
   "file_extension": ".py",
   "mimetype": "text/x-python",
   "name": "python",
   "nbconvert_exporter": "python",
   "pygments_lexer": "ipython3",
   "version": "3.9.7"
  },
  "toc": {
   "base_numbering": 1,
   "nav_menu": {},
   "number_sections": true,
   "sideBar": true,
   "skip_h1_title": false,
   "title_cell": "Table of Contents",
   "title_sidebar": "Contents",
   "toc_cell": false,
   "toc_position": {},
   "toc_section_display": true,
   "toc_window_display": false
  },
  "varInspector": {
   "cols": {
    "lenName": 16,
    "lenType": 16,
    "lenVar": 40
   },
   "kernels_config": {
    "python": {
     "delete_cmd_postfix": "",
     "delete_cmd_prefix": "del ",
     "library": "var_list.py",
     "varRefreshCmd": "print(var_dic_list())"
    },
    "r": {
     "delete_cmd_postfix": ") ",
     "delete_cmd_prefix": "rm(",
     "library": "var_list.r",
     "varRefreshCmd": "cat(var_dic_list()) "
    }
   },
   "types_to_exclude": [
    "module",
    "function",
    "builtin_function_or_method",
    "instance",
    "_Feature"
   ],
   "window_display": false
  }
 }
}
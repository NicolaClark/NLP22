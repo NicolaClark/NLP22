{
 "cells": [
  {
   "cell_type": "code",
   "metadata": {
    "cell_id": "809306f6-b7b0-42b9-93aa-b956a0c7db66",
    "deepnote_cell_type": "code"
   },
   "source": "from sklearn.feature_extraction.text import CountVectorizer\nfrom sklearn.feature_extraction.text import TfidfTransformer\nimport pandas as pd\nimport numpy as np\n\nimport tensorflow as tf\nfrom tensorflow.keras import datasets, layers, models\nfrom sklearn.feature_extraction.text import TfidfVectorizer\nfrom tensorflow import keras\nfrom tensorflow.keras.preprocessing.text import Tokenizer\nfrom sklearn import preprocessing\nfrom tensorflow.keras.utils import to_categorical\nfrom sklearn.preprocessing import OneHotEncoder\n\n",
   "execution_count": 1,
   "outputs": []
  },
  {
   "cell_type": "code",
   "metadata": {
    "cell_id": "00001-67250b3e-2912-4062-8a32-e6404a7f3c03",
    "deepnote_cell_type": "code"
   },
   "source": "import gzip\nimport json",
   "execution_count": 2,
   "outputs": []
  },
  {
   "cell_type": "code",
   "metadata": {
    "cell_id": "00002-6d60269b-6704-4245-88c4-8ea28ec1dabc",
    "deepnote_cell_type": "code"
   },
   "source": "def reading_in(path):\n    thing=[]\n    for line in gzip.open(path):\n        review_data = json.loads(line)\n        subthing = dict()\n        for key in review_data:\n            subthing[key]= review_data[key]\n        thing.append(subthing)\n    return thing",
   "execution_count": 3,
   "outputs": []
  },
  {
   "cell_type": "code",
   "metadata": {
    "cell_id": "00003-ad02bdba-e9fb-459d-b517-8922a7600a6e",
    "deepnote_cell_type": "code"
   },
   "source": "from sklearn.preprocessing import LabelEncoder",
   "execution_count": 4,
   "outputs": []
  },
  {
   "cell_type": "code",
   "metadata": {
    "cell_id": "00004-fa024409-a0be-47c4-b8aa-6cd6750f8530",
    "deepnote_cell_type": "code"
   },
   "source": "def pre_pros_y(data):\n    encoder = LabelEncoder()\n    encoder.fit(data)\n    data = encoder.transform(data)\n    return data",
   "execution_count": 5,
   "outputs": []
  },
  {
   "cell_type": "code",
   "metadata": {
    "cell_id": "00005-65fcbb0e-b85f-4ea7-b6ed-12781ce22b9a",
    "deepnote_cell_type": "code"
   },
   "source": "train = reading_in('../data/classification/music_reviews_train.json.gz')\ndev = reading_in('../data/classification/music_reviews_dev.json.gz')",
   "execution_count": 24,
   "outputs": []
  },
  {
   "cell_type": "code",
   "metadata": {
    "cell_id": "00006-8ca607bf-23a6-48ac-9a27-3ad8f9308d9c",
    "deepnote_cell_type": "code"
   },
   "source": "train_x = [i['reviewText'] if \"reviewText\" in i.keys() else \"\" for i in train]\ntrain_y =  [i['sentiment'] for i in train]",
   "execution_count": 25,
   "outputs": []
  },
  {
   "cell_type": "code",
   "metadata": {
    "cell_id": "00007-7c5b1dff-bff6-45c9-ac4b-54227b584597",
    "deepnote_cell_type": "code"
   },
   "source": "from sklearn.model_selection import train_test_split\ntrain_x, test_x, train_y, test_y = train_test_split(train_x, train_y, train_size=0.25, random_state=42) #21K",
   "execution_count": 26,
   "outputs": []
  },
  {
   "cell_type": "code",
   "metadata": {
    "cell_id": "00008-5c43d523-8d97-467f-8d91-a002ddba9810",
    "deepnote_cell_type": "code"
   },
   "source": "vectorizer = TfidfVectorizer()\ntfid = vectorizer.fit(train_x)\ntrain_x = tfid.transform(train_x)\ntrain_x = train_x.toarray()\ntrain_x = np.reshape(train_x, (len(train_x), train_x.shape[1], 1))\ntrain_x = tf.convert_to_tensor(train_x)",
   "execution_count": 27,
   "outputs": []
  },
  {
   "cell_type": "code",
   "metadata": {
    "cell_id": "00009-fe8ff99a-1091-493f-af99-b639a19cb3f9",
    "deepnote_cell_type": "code"
   },
   "source": "train_y = pre_pros_y(train_y)",
   "execution_count": 28,
   "outputs": []
  },
  {
   "cell_type": "code",
   "metadata": {
    "cell_id": "00010-db716c16-06b1-401e-8144-eb7d76de5947",
    "deepnote_cell_type": "code"
   },
   "source": "train_y.shape, train_x.shape",
   "execution_count": 29,
   "outputs": [
    {
     "data": {
      "text/plain": "((25000,), TensorShape([25000, 35449, 1]))"
     },
     "execution_count": 29,
     "metadata": {},
     "output_type": "execute_result"
    }
   ]
  },
  {
   "cell_type": "code",
   "metadata": {
    "cell_id": "00011-ae9eb05d-e6c0-4d76-8a2c-c06917d17f41",
    "deepnote_cell_type": "code"
   },
   "source": "tf.keras.backend.clear_session()\ntf.keras.backend.learning_phase()",
   "execution_count": 30,
   "outputs": [
    {
     "data": {
      "text/plain": "0"
     },
     "execution_count": 30,
     "metadata": {},
     "output_type": "execute_result"
    }
   ]
  },
  {
   "cell_type": "code",
   "metadata": {
    "cell_id": "00012-c965db12-1d49-4973-b2d7-64b53fc02a37",
    "deepnote_cell_type": "code"
   },
   "source": "model = models.Sequential()\nmodel.add(layers.Conv1D(filters = 32, kernel_size = 10, strides = 5, padding = \"same\", activation='relu'))\nmodel.add(layers.AveragePooling1D(pool_size = 20, padding = \"same\", strides = 1))\nmodel.add(layers.Flatten())\nmodel.add(layers.Dense(256, activation='sigmoid'))\nmodel.add(layers.Dense(512, activation='tanh'))\nmodel.add(layers.Dense(1024, activation='relu'))\nmodel.add(layers.Dense(512, activation='tanh'))\nmodel.add(layers.Dense(256, activation='sigmoid'))\nmodel.add(layers.Dense(1, 'sigmoid'))",
   "execution_count": 31,
   "outputs": []
  },
  {
   "cell_type": "code",
   "metadata": {
    "cell_id": "00013-8fba272b-346d-4684-a5a1-6eced8b6af12",
    "deepnote_cell_type": "code"
   },
   "source": "model.compile(loss='binary_crossentropy', optimizer='adamax', metrics=['accuracy'])",
   "execution_count": 32,
   "outputs": []
  },
  {
   "cell_type": "code",
   "metadata": {
    "cell_id": "00014-3a9d756f-4305-4a43-aa73-cb36566eb801",
    "deepnote_cell_type": "code"
   },
   "source": "model.fit(train_x, train_y, epochs=5)",
   "execution_count": 33,
   "outputs": [
    {
     "name": "stdout",
     "output_type": "stream",
     "text": "Epoch 1/5\n782/782 [==============================] - 201s 256ms/step - loss: 0.6003 - accuracy: 0.6638\nEpoch 2/5\n782/782 [==============================] - 201s 257ms/step - loss: 0.3603 - accuracy: 0.8432\nEpoch 3/5\n782/782 [==============================] - 197s 252ms/step - loss: 0.3169 - accuracy: 0.8665\nEpoch 4/5\n782/782 [==============================] - 196s 250ms/step - loss: 0.2949 - accuracy: 0.8792\nEpoch 5/5\n782/782 [==============================] - 195s 250ms/step - loss: 0.2776 - accuracy: 0.8886\n"
    },
    {
     "data": {
      "text/plain": "<keras.callbacks.History at 0x7fc2f3665af0>"
     },
     "execution_count": 33,
     "metadata": {},
     "output_type": "execute_result"
    }
   ]
  },
  {
   "cell_type": "code",
   "metadata": {
    "cell_id": "00015-e3c5027e-d611-4b1a-a431-69bab973ba85",
    "deepnote_cell_type": "code"
   },
   "source": "model.summary()",
   "execution_count": 34,
   "outputs": [
    {
     "name": "stdout",
     "output_type": "stream",
     "text": "Model: \"sequential\"\n_________________________________________________________________\n Layer (type)                Output Shape              Param #   \n=================================================================\n conv1d (Conv1D)             (None, 7090, 32)          352       \n                                                                 \n average_pooling1d (AverageP  (None, 7090, 32)         0         \n ooling1D)                                                       \n                                                                 \n flatten (Flatten)           (None, 226880)            0         \n                                                                 \n dense (Dense)               (None, 256)               58081536  \n                                                                 \n dense_1 (Dense)             (None, 512)               131584    \n                                                                 \n dense_2 (Dense)             (None, 1024)              525312    \n                                                                 \n dense_3 (Dense)             (None, 512)               524800    \n                                                                 \n dense_4 (Dense)             (None, 256)               131328    \n                                                                 \n dense_5 (Dense)             (None, 1)                 257       \n                                                                 \n=================================================================\nTotal params: 59,395,169\nTrainable params: 59,395,169\nNon-trainable params: 0\n_________________________________________________________________\n"
    }
   ]
  },
  {
   "cell_type": "code",
   "metadata": {
    "cell_id": "00016-94f92adb-c2eb-4799-91eb-a710a2d5f689",
    "deepnote_cell_type": "code"
   },
   "source": "dev_x = [i['reviewText'] if \"reviewText\" in i.keys() else \"\" for i in train]\ndev_y =  [i['sentiment'] for i in train]",
   "execution_count": 35,
   "outputs": []
  },
  {
   "cell_type": "code",
   "metadata": {
    "cell_id": "00017-c396cde8-51d4-4a4c-8a0d-6436b83732f9",
    "deepnote_cell_type": "code"
   },
   "source": "dev_x = tfid.transform(dev_x[:21000])\ndev_x = dev_x.toarray()\ndev_x = np.reshape(dev_x, (len(dev_x), dev_x.shape[1], 1))\ndev_x = tf.convert_to_tensor(dev_x)",
   "execution_count": 36,
   "outputs": []
  },
  {
   "cell_type": "code",
   "metadata": {
    "cell_id": "00018-07e25c48-6534-405c-8605-50cce0dd4fff",
    "deepnote_cell_type": "code"
   },
   "source": "dev_y = pre_pros_y(dev_y[:21000])",
   "execution_count": 37,
   "outputs": []
  },
  {
   "cell_type": "code",
   "metadata": {
    "cell_id": "00019-ee5efb0e-9ad0-4869-9c47-3188e5b4ddd3",
    "deepnote_cell_type": "code"
   },
   "source": "model.evaluate(dev_x,dev_y)",
   "execution_count": 38,
   "outputs": [
    {
     "name": "stdout",
     "output_type": "stream",
     "text": "657/657 [==============================] - 54s 81ms/step - loss: 0.2894 - accuracy: 0.8841\n"
    },
    {
     "data": {
      "text/plain": "[0.28939905762672424, 0.8841428756713867]"
     },
     "execution_count": 38,
     "metadata": {},
     "output_type": "execute_result"
    }
   ]
  },
  {
   "cell_type": "markdown",
   "source": "<a style='text-decoration:none;line-height:16px;display:flex;color:#5B5B62;padding:10px;justify-content:end;' href='https://deepnote.com?utm_source=created-in-deepnote-cell&projectId=b88dfe01-c7e1-473c-bcfd-798313fc6522' target=\"_blank\">\n<img alt='Created in deepnote.com' style='display:inline;max-height:16px;margin:0px;margin-right:7.5px;' src='data:image/svg+xml;base64,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' > </img>\nCreated in <span style='font-weight:600;margin-left:4px;'>Deepnote</span></a>",
   "metadata": {
    "tags": [],
    "created_in_deepnote_cell": true,
    "deepnote_cell_type": "markdown"
   }
  }
 ],
 "nbformat": 4,
 "nbformat_minor": 5,
 "metadata": {
  "kernelspec": {
   "display_name": "Python 3 (ipykernel)",
   "language": "python",
   "name": "python3"
  },
  "language_info": {
   "codemirror_mode": {
    "name": "ipython",
    "version": 3
   },
   "file_extension": ".py",
   "mimetype": "text/x-python",
   "name": "python",
   "nbconvert_exporter": "python",
   "pygments_lexer": "ipython3",
   "version": "3.9.7"
  },
  "toc": {
   "base_numbering": 1,
   "nav_menu": {},
   "number_sections": true,
   "sideBar": true,
   "skip_h1_title": false,
   "title_cell": "Table of Contents",
   "title_sidebar": "Contents",
   "toc_cell": false,
   "toc_position": {},
   "toc_section_display": true,
   "toc_window_display": false
  },
  "varInspector": {
   "cols": {
    "lenName": 16,
    "lenType": 16,
    "lenVar": 40
   },
   "kernels_config": {
    "python": {
     "delete_cmd_postfix": "",
     "delete_cmd_prefix": "del ",
     "library": "var_list.py",
     "varRefreshCmd": "print(var_dic_list())"
    },
    "r": {
     "delete_cmd_postfix": ") ",
     "delete_cmd_prefix": "rm(",
     "library": "var_list.r",
     "varRefreshCmd": "cat(var_dic_list()) "
    }
   },
   "types_to_exclude": [
    "module",
    "function",
    "builtin_function_or_method",
    "instance",
    "_Feature"
   ],
   "window_display": false
  },
  "deepnote_notebook_id": "07fc3548-48b8-4609-9b97-d57082c59e7f",
  "deepnote": {},
  "deepnote_execution_queue": []
 }
}
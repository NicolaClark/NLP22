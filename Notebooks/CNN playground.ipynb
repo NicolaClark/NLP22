{
 "cells": [
  {
   "cell_type": "code",
   "metadata": {
    "cell_id": "809306f6-b7b0-42b9-93aa-b956a0c7db66",
    "deepnote_to_be_reexecuted": false,
    "source_hash": "4d6c6ed1",
    "execution_start": 1651771364179,
    "execution_millis": 7539,
    "deepnote_cell_type": "code",
    "deepnote_cell_height": 333
   },
   "source": "from sklearn.feature_extraction.text import CountVectorizer\nfrom sklearn.feature_extraction.text import TfidfTransformer\nimport pandas as pd\nimport numpy as np\n\nimport tensorflow as tf\nfrom tensorflow.keras import datasets, layers, models\nfrom sklearn.feature_extraction.text import TfidfVectorizer\nfrom tensorflow import keras\nfrom tensorflow.keras.preprocessing.text import Tokenizer\nfrom sklearn import preprocessing\nfrom tensorflow.keras.utils import to_categorical\nfrom sklearn.preprocessing import OneHotEncoder\n\n",
   "execution_count": null,
   "outputs": []
  },
  {
   "cell_type": "code",
   "metadata": {
    "cell_id": "00001-67250b3e-2912-4062-8a32-e6404a7f3c03",
    "deepnote_to_be_reexecuted": false,
    "source_hash": "3d1610ec",
    "execution_start": 1651771371719,
    "execution_millis": 5,
    "deepnote_cell_type": "code",
    "deepnote_cell_height": 99
   },
   "source": "import gzip\nimport json",
   "execution_count": null,
   "outputs": []
  },
  {
   "cell_type": "code",
   "metadata": {
    "cell_id": "15ad3892dd044485a7cf3cf401e88eb0",
    "tags": [],
    "deepnote_to_be_reexecuted": false,
    "source_hash": "b623e53d",
    "execution_start": 1651771371735,
    "execution_millis": 27702921,
    "deepnote_cell_type": "code",
    "deepnote_cell_height": 81
   },
   "source": "",
   "execution_count": null,
   "outputs": []
  },
  {
   "cell_type": "code",
   "metadata": {
    "cell_id": "00002-6d60269b-6704-4245-88c4-8ea28ec1dabc",
    "deepnote_to_be_reexecuted": false,
    "source_hash": "ae5b9fc9",
    "execution_start": 1651771371743,
    "execution_millis": 28099236,
    "owner_user_id": "e3bb0160-fb91-44de-b701-79c62e58c7f8",
    "deepnote_cell_type": "code",
    "deepnote_cell_height": 225
   },
   "source": "def reading_in(path):\n    thing=[]\n    for line in gzip.open(path):\n        review_data = json.loads(line)\n        subthing = dict()\n        for key in review_data:\n            subthing[key]= review_data[key]\n        thing.append(subthing)\n    return thing",
   "execution_count": null,
   "outputs": []
  },
  {
   "cell_type": "code",
   "metadata": {
    "cell_id": "00003-ad02bdba-e9fb-459d-b517-8922a7600a6e",
    "deepnote_to_be_reexecuted": false,
    "source_hash": "cce8941e",
    "execution_start": 1651771371793,
    "execution_millis": 28097243,
    "deepnote_cell_type": "code",
    "deepnote_cell_height": 81
   },
   "source": "from sklearn.preprocessing import LabelEncoder",
   "execution_count": null,
   "outputs": []
  },
  {
   "cell_type": "code",
   "metadata": {
    "cell_id": "00004-fa024409-a0be-47c4-b8aa-6cd6750f8530",
    "deepnote_to_be_reexecuted": false,
    "source_hash": "638b4a0c",
    "execution_start": 1651771371793,
    "execution_millis": 28096144,
    "deepnote_cell_type": "code",
    "deepnote_cell_height": 153
   },
   "source": "def pre_pros_y(data):\n    encoder = LabelEncoder()\n    encoder.fit(data)\n    data = encoder.transform(data)\n    return data",
   "execution_count": null,
   "outputs": []
  },
  {
   "cell_type": "code",
   "metadata": {
    "cell_id": "00005-65fcbb0e-b85f-4ea7-b6ed-12781ce22b9a",
    "deepnote_to_be_reexecuted": false,
    "source_hash": "e44ce575",
    "execution_start": 1651771371794,
    "execution_millis": 3253,
    "deepnote_cell_type": "code",
    "deepnote_cell_height": 99
   },
   "source": "train = reading_in('../data/classification/music_reviews_train.json.gz')\ndev = reading_in('../data/classification/music_reviews_dev.json.gz')",
   "execution_count": null,
   "outputs": []
  },
  {
   "cell_type": "code",
   "metadata": {
    "cell_id": "00006-8ca607bf-23a6-48ac-9a27-3ad8f9308d9c",
    "deepnote_to_be_reexecuted": false,
    "source_hash": "a9d28cc7",
    "execution_start": 1651771375053,
    "execution_millis": 81,
    "deepnote_cell_type": "code",
    "deepnote_cell_height": 99
   },
   "source": "train_x = [i['reviewText'] if \"reviewText\" in i.keys() else \"\" for i in train]\ntrain_y =  [i['sentiment'] for i in train]",
   "execution_count": null,
   "outputs": []
  },
  {
   "cell_type": "code",
   "metadata": {
    "cell_id": "00007-7c5b1dff-bff6-45c9-ac4b-54227b584597",
    "deepnote_to_be_reexecuted": false,
    "source_hash": "f2d9603e",
    "execution_start": 1651771375140,
    "execution_millis": 145,
    "deepnote_cell_type": "code",
    "deepnote_cell_height": 99
   },
   "source": "from sklearn.model_selection import train_test_split\ntrain_x, test_x, train_y, test_y = train_test_split(train_x, train_y, train_size=0.25, random_state=42) #21K",
   "execution_count": null,
   "outputs": []
  },
  {
   "cell_type": "code",
   "metadata": {
    "cell_id": "9d76fbe7a61a4b41a1eaac568a6219ed",
    "tags": [],
    "deepnote_to_be_reexecuted": false,
    "source_hash": "b623e53d",
    "execution_start": 1651743546230,
    "execution_millis": 1,
    "deepnote_cell_type": "code",
    "deepnote_cell_height": 81
   },
   "source": "",
   "execution_count": null,
   "outputs": []
  },
  {
   "cell_type": "code",
   "metadata": {
    "cell_id": "00008-5c43d523-8d97-467f-8d91-a002ddba9810",
    "deepnote_to_be_reexecuted": false,
    "source_hash": "b288f966",
    "execution_start": 1651667742483,
    "deepnote_cell_type": "code",
    "deepnote_cell_height": 315.1875
   },
   "source": "vectorizer = TfidfVectorizer()\ntfid = vectorizer.fit(train_x)\ntrain_x = tfid.transform(train_x)\ntrain_x = train_x.toarray()\ntrain_x = np.reshape(train_x, (len(train_x), train_x.shape[1], 1))\ntrain_x = tf.convert_to_tensor(train_x)",
   "execution_count": null,
   "outputs": [
    {
     "output_type": "error",
     "ename": "KernelInterrupted",
     "evalue": "Execution interrupted by the Jupyter kernel.",
     "traceback": [
      "\u001b[0;31m---------------------------------------------------------------------------\u001b[0m",
      "\u001b[0;31mKernelInterrupted\u001b[0m: Execution interrupted by the Jupyter kernel."
     ]
    }
   ]
  },
  {
   "cell_type": "code",
   "metadata": {
    "cell_id": "00009-fe8ff99a-1091-493f-af99-b639a19cb3f9",
    "deepnote_to_be_reexecuted": true,
    "source_hash": "5922bc8d",
    "deepnote_cell_type": "code",
    "deepnote_cell_height": 81
   },
   "source": "train_y = pre_pros_y(train_y)",
   "execution_count": null,
   "outputs": []
  },
  {
   "cell_type": "code",
   "metadata": {
    "cell_id": "00010-db716c16-06b1-401e-8144-eb7d76de5947",
    "deepnote_to_be_reexecuted": true,
    "source_hash": "d8076745",
    "deepnote_cell_type": "code",
    "deepnote_cell_height": 118.1875,
    "deepnote_output_heights": [
     21.1875
    ]
   },
   "source": "train_y.shape, train_x.shape",
   "execution_count": null,
   "outputs": [
    {
     "data": {
      "text/plain": "((25000,), TensorShape([25000, 35449, 1]))"
     },
     "execution_count": 29,
     "metadata": {},
     "output_type": "execute_result"
    }
   ]
  },
  {
   "cell_type": "code",
   "metadata": {
    "cell_id": "00011-ae9eb05d-e6c0-4d76-8a2c-c06917d17f41",
    "deepnote_to_be_reexecuted": true,
    "source_hash": "b748a16e",
    "deepnote_cell_type": "code",
    "deepnote_cell_height": 136.1875,
    "deepnote_output_heights": [
     21.1875
    ]
   },
   "source": "tf.keras.backend.clear_session()\ntf.keras.backend.learning_phase()",
   "execution_count": null,
   "outputs": [
    {
     "data": {
      "text/plain": "0"
     },
     "execution_count": 30,
     "metadata": {},
     "output_type": "execute_result"
    }
   ]
  },
  {
   "cell_type": "code",
   "metadata": {
    "cell_id": "00012-c965db12-1d49-4973-b2d7-64b53fc02a37",
    "deepnote_to_be_reexecuted": true,
    "source_hash": "bda208fd",
    "owner_user_id": "03d0206a-8ef5-4ef4-a095-5515fca900a0",
    "deepnote_cell_type": "code",
    "deepnote_cell_height": 297
   },
   "source": "act = 'sigmoid'\ntf.keras.backend.clear_session()\ntf.keras.backend.learning_phase()\nmodel = models.Sequential()\nmodel.add(layers.Conv1D(filters = 32, kernel_size = 10, strides = 5, padding = \"same\", activation='relu'))\nmodel.add(layers.AveragePooling1D(pool_size = 20, padding = \"same\", strides = 1))\nmodel.add(layers.Flatten())\nmodel.add(layers.Dense(256, activation=act))\nmodel.add(layers.Dense(512, activation=act))\nmodel.add(layers.Dense(1024, activation=act))\nmodel.add(layers.Dense(512, activation=act))\nmodel.add(layers.Dense(256, activation=act))\nmodel.add(layers.Dense(1, 'sigmoid'))",
   "execution_count": null,
   "outputs": []
  },
  {
   "cell_type": "code",
   "metadata": {
    "cell_id": "f2c790820e514533bf1f6ebda26968ef",
    "tags": [],
    "deepnote_to_be_reexecuted": false,
    "source_hash": "a75b0d5c",
    "execution_start": 1651667701296,
    "execution_millis": 1319,
    "deepnote_cell_type": "code",
    "deepnote_cell_height": 342.1875
   },
   "source": "# To be edite\nact = 'sigmoid'\ntf.keras.backend.clear_session()\ntf.keras.backend.learning_phase()\nmodel = models.Sequential()\nmodel.add(layers.Conv1D(filters = 32, kernel_size = 10, strides = 5, padding = \"same\", activation='relu'))\nmodel.add(layers.AveragePooling1D(pool_size = 20, padding = \"same\", strides = 1))\nmodel.add(layers.Flatten())\nmodel.add(layers.Dense(256, activation=act))\nmodel.add(layers.Dense(512, activation=act))\nmodel.add(layers.Dense(256, activation=act))\nmodel.add(layers.Dense(1, 'sigmoid'))",
   "execution_count": null,
   "outputs": [
    {
     "output_type": "error",
     "ename": "NameError",
     "evalue": "name 'tf' is not defined",
     "traceback": [
      "\u001b[0;31m---------------------------------------------------------------------------\u001b[0m",
      "\u001b[0;31mNameError\u001b[0m                                 Traceback (most recent call last)",
      "\u001b[0;32m<ipython-input-1-41714ab12b4b>\u001b[0m in \u001b[0;36m<module>\u001b[0;34m\u001b[0m\n\u001b[1;32m      1\u001b[0m \u001b[0;31m# To be edite\u001b[0m\u001b[0;34m\u001b[0m\u001b[0;34m\u001b[0m\u001b[0;34m\u001b[0m\u001b[0m\n\u001b[1;32m      2\u001b[0m \u001b[0mact\u001b[0m \u001b[0;34m=\u001b[0m \u001b[0;34m'sigmoid'\u001b[0m\u001b[0;34m\u001b[0m\u001b[0;34m\u001b[0m\u001b[0m\n\u001b[0;32m----> 3\u001b[0;31m \u001b[0mtf\u001b[0m\u001b[0;34m.\u001b[0m\u001b[0mkeras\u001b[0m\u001b[0;34m.\u001b[0m\u001b[0mbackend\u001b[0m\u001b[0;34m.\u001b[0m\u001b[0mclear_session\u001b[0m\u001b[0;34m(\u001b[0m\u001b[0;34m)\u001b[0m\u001b[0;34m\u001b[0m\u001b[0;34m\u001b[0m\u001b[0m\n\u001b[0m\u001b[1;32m      4\u001b[0m \u001b[0mtf\u001b[0m\u001b[0;34m.\u001b[0m\u001b[0mkeras\u001b[0m\u001b[0;34m.\u001b[0m\u001b[0mbackend\u001b[0m\u001b[0;34m.\u001b[0m\u001b[0mlearning_phase\u001b[0m\u001b[0;34m(\u001b[0m\u001b[0;34m)\u001b[0m\u001b[0;34m\u001b[0m\u001b[0;34m\u001b[0m\u001b[0m\n\u001b[1;32m      5\u001b[0m \u001b[0mmodel\u001b[0m \u001b[0;34m=\u001b[0m \u001b[0mmodels\u001b[0m\u001b[0;34m.\u001b[0m\u001b[0mSequential\u001b[0m\u001b[0;34m(\u001b[0m\u001b[0;34m)\u001b[0m\u001b[0;34m\u001b[0m\u001b[0;34m\u001b[0m\u001b[0m\n",
      "\u001b[0;31mNameError\u001b[0m: name 'tf' is not defined"
     ]
    }
   ]
  },
  {
   "cell_type": "code",
   "metadata": {
    "cell_id": "00013-8fba272b-346d-4684-a5a1-6eced8b6af12",
    "deepnote_to_be_reexecuted": true,
    "source_hash": "3b60c7cf",
    "deepnote_cell_type": "code",
    "deepnote_cell_height": 81
   },
   "source": "model.compile(loss='binary_crossentropy', optimizer='adamax', metrics=['f1_score', 'mae'])",
   "execution_count": null,
   "outputs": []
  },
  {
   "cell_type": "code",
   "metadata": {
    "cell_id": "00014-3a9d756f-4305-4a43-aa73-cb36566eb801",
    "deepnote_to_be_reexecuted": true,
    "source_hash": "6a44fc2d",
    "deepnote_cell_type": "code",
    "deepnote_cell_height": 344.1875
   },
   "source": "model.fit(train_x, train_y, epochs=5) # Add a batch size",
   "execution_count": null,
   "outputs": [
    {
     "name": "stdout",
     "output_type": "stream",
     "text": "Epoch 1/5\n782/782 [==============================] - 201s 256ms/step - loss: 0.6003 - accuracy: 0.6638\nEpoch 2/5\n782/782 [==============================] - 201s 257ms/step - loss: 0.3603 - accuracy: 0.8432\nEpoch 3/5\n782/782 [==============================] - 197s 252ms/step - loss: 0.3169 - accuracy: 0.8665\nEpoch 4/5\n782/782 [==============================] - 196s 250ms/step - loss: 0.2949 - accuracy: 0.8792\nEpoch 5/5\n782/782 [==============================] - 195s 250ms/step - loss: 0.2776 - accuracy: 0.8886\n"
    },
    {
     "data": {
      "text/plain": "<keras.callbacks.History at 0x7fc2f3665af0>"
     },
     "execution_count": 33,
     "metadata": {},
     "output_type": "execute_result"
    }
   ]
  },
  {
   "cell_type": "code",
   "metadata": {
    "cell_id": "00015-e3c5027e-d611-4b1a-a431-69bab973ba85",
    "deepnote_cell_type": "code",
    "deepnote_cell_height": 652
   },
   "source": "model.summary()",
   "execution_count": null,
   "outputs": [
    {
     "name": "stdout",
     "output_type": "stream",
     "text": "Model: \"sequential\"\n_________________________________________________________________\n Layer (type)                Output Shape              Param #   \n=================================================================\n conv1d (Conv1D)             (None, 7090, 32)          352       \n                                                                 \n average_pooling1d (AverageP  (None, 7090, 32)         0         \n ooling1D)                                                       \n                                                                 \n flatten (Flatten)           (None, 226880)            0         \n                                                                 \n dense (Dense)               (None, 256)               58081536  \n                                                                 \n dense_1 (Dense)             (None, 512)               131584    \n                                                                 \n dense_2 (Dense)             (None, 1024)              525312    \n                                                                 \n dense_3 (Dense)             (None, 512)               524800    \n                                                                 \n dense_4 (Dense)             (None, 256)               131328    \n                                                                 \n dense_5 (Dense)             (None, 1)                 257       \n                                                                 \n=================================================================\nTotal params: 59,395,169\nTrainable params: 59,395,169\nNon-trainable params: 0\n_________________________________________________________________\n"
    }
   ]
  },
  {
   "cell_type": "code",
   "metadata": {
    "cell_id": "00016-94f92adb-c2eb-4799-91eb-a710a2d5f689",
    "deepnote_cell_type": "code",
    "deepnote_cell_height": 84
   },
   "source": "dev_x = [i['reviewText'] if \"reviewText\" in i.keys() else \"\" for i in train]\ndev_y =  [i['sentiment'] for i in train]",
   "execution_count": null,
   "outputs": []
  },
  {
   "cell_type": "code",
   "metadata": {
    "cell_id": "00017-c396cde8-51d4-4a4c-8a0d-6436b83732f9",
    "deepnote_cell_type": "code",
    "deepnote_cell_height": 120
   },
   "source": "dev_x = tfid.transform(dev_x[:21000])\ndev_x = dev_x.toarray()\ndev_x = np.reshape(dev_x, (len(dev_x), dev_x.shape[1], 1))\ndev_x = tf.convert_to_tensor(dev_x)",
   "execution_count": null,
   "outputs": []
  },
  {
   "cell_type": "code",
   "metadata": {
    "cell_id": "00018-07e25c48-6534-405c-8605-50cce0dd4fff",
    "deepnote_cell_type": "code",
    "deepnote_cell_height": 66
   },
   "source": "dev_y = pre_pros_y(dev_y[:21000])",
   "execution_count": null,
   "outputs": []
  },
  {
   "cell_type": "code",
   "metadata": {
    "cell_id": "00019-ee5efb0e-9ad0-4869-9c47-3188e5b4ddd3",
    "deepnote_cell_type": "code",
    "deepnote_cell_height": 164.1875
   },
   "source": "model.evaluate(dev_x,dev_y)",
   "execution_count": null,
   "outputs": [
    {
     "name": "stdout",
     "output_type": "stream",
     "text": "657/657 [==============================] - 54s 81ms/step - loss: 0.2894 - accuracy: 0.8841\n"
    },
    {
     "data": {
      "text/plain": "[0.28939905762672424, 0.8841428756713867]"
     },
     "execution_count": 38,
     "metadata": {},
     "output_type": "execute_result"
    }
   ]
  },
  {
   "cell_type": "markdown",
   "source": "<a style='text-decoration:none;line-height:16px;display:flex;color:#5B5B62;padding:10px;justify-content:end;' href='https://deepnote.com?utm_source=created-in-deepnote-cell&projectId=b88dfe01-c7e1-473c-bcfd-798313fc6522' target=\"_blank\">\n<img alt='Created in deepnote.com' style='display:inline;max-height:16px;margin:0px;margin-right:7.5px;' src='data:image/svg+xml;base64,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' > </img>\nCreated in <span style='font-weight:600;margin-left:4px;'>Deepnote</span></a>",
   "metadata": {
    "tags": [],
    "created_in_deepnote_cell": true,
    "deepnote_cell_type": "markdown"
   }
  }
 ],
 "nbformat": 4,
 "nbformat_minor": 5,
 "metadata": {
  "kernelspec": {
   "display_name": "Python 3 (ipykernel)",
   "language": "python",
   "name": "python3"
  },
  "language_info": {
   "codemirror_mode": {
    "name": "ipython",
    "version": 3
   },
   "file_extension": ".py",
   "mimetype": "text/x-python",
   "name": "python",
   "nbconvert_exporter": "python",
   "pygments_lexer": "ipython3",
   "version": "3.9.7"
  },
  "toc": {
   "base_numbering": 1,
   "nav_menu": {},
   "number_sections": true,
   "sideBar": true,
   "skip_h1_title": false,
   "title_cell": "Table of Contents",
   "title_sidebar": "Contents",
   "toc_cell": false,
   "toc_position": {},
   "toc_section_display": true,
   "toc_window_display": false
  },
  "varInspector": {
   "cols": {
    "lenName": 16,
    "lenType": 16,
    "lenVar": 40
   },
   "kernels_config": {
    "python": {
     "delete_cmd_postfix": "",
     "delete_cmd_prefix": "del ",
     "library": "var_list.py",
     "varRefreshCmd": "print(var_dic_list())"
    },
    "r": {
     "delete_cmd_postfix": ") ",
     "delete_cmd_prefix": "rm(",
     "library": "var_list.r",
     "varRefreshCmd": "cat(var_dic_list()) "
    }
   },
   "types_to_exclude": [
    "module",
    "function",
    "builtin_function_or_method",
    "instance",
    "_Feature"
   ],
   "window_display": false
  },
  "deepnote_notebook_id": "07fc3548-48b8-4609-9b97-d57082c59e7f",
  "deepnote": {},
  "deepnote_execution_queue": []
 }
}
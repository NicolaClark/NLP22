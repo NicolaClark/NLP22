{
 "cells": [
  {
   "cell_type": "code",
   "metadata": {
    "cell_id": "8f01fe6169ea411ba8948d2097327300",
    "tags": [],
    "deepnote_to_be_reexecuted": false,
    "source_hash": "d140de5f",
    "execution_start": 1652270274873,
    "deepnote_cell_type": "code",
    "deepnote_cell_height": 117
   },
   "source": "import gzip\nimport json\n",
   "execution_count": null,
   "outputs": []
  },
  {
   "cell_type": "code",
   "metadata": {
    "tags": [],
    "cell_id": "e4c0e519-f07c-4362-9b85-7fa87b44582b",
    "deepnote_to_be_reexecuted": false,
    "source_hash": "aa605b17",
    "execution_start": 1652271064706,
    "execution_millis": 1,
    "deepnote_cell_type": "code",
    "deepnote_cell_height": 261
   },
   "source": "#here\ndef reading_in(path):\n    thing=[]\n    for line in gzip.open(path):\n        review_data = json.loads(line)\n        subthing = dict()\n        for key in review_data:\n            subthing[key]= review_data[key]\n        thing.append(subthing)\n    return thing\n",
   "execution_count": null,
   "outputs": []
  },
  {
   "cell_type": "code",
   "metadata": {
    "cell_id": "38b5aeaf06f3451d80f9fd9237210c50",
    "tags": [],
    "deepnote_to_be_reexecuted": false,
    "source_hash": "e35f88dc",
    "execution_start": 1652275898779,
    "execution_millis": 3,
    "owner_user_id": "00805ed0-1304-48d5-bdec-0db2e512798a",
    "deepnote_cell_type": "code",
    "deepnote_cell_height": 513
   },
   "source": "cat_lab = {'emoji': 'emoji','emojii': 'emoji',\n\n'code-switching': 'other languages','foreign language': 'other languages','different languages': 'other languages',\n\n'typos': 'spelling and punctuation','spelling': 'spelling and punctuation','spelling error': 'spelling and punctuation',\n'misspelling': 'spelling and punctuation',\"{'typos'}\": 'spelling and punctuation',\"{'typos', 'punct'}\": 'spelling and punctuation',\n'typos, expand contractions, remove punctuation': 'spelling and punctuation',\"{'punct'}\": 'spelling and punctuation','typo': 'spelling and punctuation',\n\n'irony': 'irony or sarcasm','irony/sarcasm': 'irony or sarcasm','sarcasm': 'irony or sarcasm','ironic': 'irony or sarcasm',\n\n'negation': 'negation','negation (not + pos_adj)': 'negation','negation at the end': 'negation','short sentence with negation + postive adjective': 'negation',\n\n'double negation': 'double negation','negated negatives': 'double negation',\n\n'double meaning': 'confusing','confusing': 'confusing','hard to interpret': 'confusing','slang': 'confusing','vague': 'confusing','basic': 'confusing',\n\n'strong words': 'exaggeration','exaggeration': 'exaggeration',\n\n'replacement': 'vocabulary','synonym': 'vocabulary','ambigious words': 'vocabulary','rare words': 'vocabulary','infrequent word': 'vocabulary',\n\n'sentiment change over time': 'sentiment change in text','sentiment over time': 'sentiment change in text','temporal': 'sentiment change in text','hopes vs reality': 'sentiment change in text',\n'past and present thoughts': 'sentiment change in text','time change': 'sentiment change in text'\n\n}\n",
   "execution_count": null,
   "outputs": []
  },
  {
   "cell_type": "code",
   "metadata": {
    "cell_id": "0a80cc89b4054b37807efa7480181965",
    "tags": [],
    "deepnote_to_be_reexecuted": false,
    "source_hash": "660065a7",
    "execution_start": 1652275890428,
    "execution_millis": 79,
    "deepnote_cell_type": "code",
    "deepnote_cell_height": 81
   },
   "source": "diff = reading_in(\"../data/difficult cases/all difficult cases.txt.gz\")",
   "execution_count": null,
   "outputs": []
  },
  {
   "cell_type": "code",
   "metadata": {
    "cell_id": "2f636a6fe8bc4cd08f1f8906d5f69d81",
    "tags": [],
    "deepnote_to_be_reexecuted": false,
    "source_hash": "34893045",
    "execution_start": 1652276312417,
    "execution_millis": 4,
    "deepnote_cell_type": "code",
    "deepnote_cell_height": 118.1875,
    "deepnote_output_heights": [
     21.1875
    ]
   },
   "source": "cat_lab.keys()",
   "execution_count": null,
   "outputs": [
    {
     "output_type": "execute_result",
     "execution_count": 61,
     "data": {
      "text/plain": "dict_keys(['emoji', 'emojii', 'code-switching', 'foreign language', 'different languages', 'typos', 'spelling', 'spelling error', 'misspelling', \"{'typos'}\", \"{'typos', 'punct'}\", 'typos, expand contractions, remove punctuation', \"{'punct'}\", 'typo', 'irony', 'irony/sarcasm', 'sarcasm', 'ironic', 'negation', 'negation (not + pos_adj)', 'negation at the end', 'short sentence with negation + postive adjective', 'double negation', 'negated negatives', 'double meaning', 'confusing', 'hard to interpret', 'slang', 'vague', 'basic', 'strong words', 'exaggeration', 'replacement', 'synonym', 'ambigious words', 'rare words', 'infrequent word', 'sentiment change over time', 'sentiment over time', 'temporal', 'hopes vs reality', 'past and present thoughts', 'time change'])"
     },
     "metadata": {}
    }
   ]
  },
  {
   "cell_type": "code",
   "metadata": {
    "cell_id": "b48acf6303084a639319a464a16e1d18",
    "tags": [],
    "deepnote_to_be_reexecuted": false,
    "source_hash": "f3392bcb",
    "execution_start": 1652277381144,
    "execution_millis": 2,
    "deepnote_cell_type": "code",
    "deepnote_cell_height": 135
   },
   "source": "want = []\nfor i in diff:\n    if i[\"category\"].lower().strip() in cat_lab.keys():\n        want.append(i)",
   "execution_count": null,
   "outputs": []
  },
  {
   "cell_type": "code",
   "metadata": {
    "cell_id": "4c51acad66194f9882973ed48abfdd03",
    "tags": [],
    "deepnote_to_be_reexecuted": false,
    "source_hash": "40c972c",
    "execution_start": 1652277280708,
    "execution_millis": 7,
    "deepnote_cell_type": "code",
    "deepnote_cell_height": 99
   },
   "source": "not_in_cat = [i['category'].lower().strip() for i in not_in if \"reviewText\" in i.keys() and \"sentiment\" in i.keys()]\n#Counter(not_in_cat).most_common(20)",
   "execution_count": null,
   "outputs": []
  },
  {
   "cell_type": "code",
   "metadata": {
    "cell_id": "2dded3c837d34c80a07cf0479a0643dc",
    "tags": [],
    "deepnote_to_be_reexecuted": false,
    "source_hash": "1d120a85",
    "execution_start": 1652277405885,
    "execution_millis": 38,
    "deepnote_cell_type": "code",
    "deepnote_cell_height": 118.1875,
    "deepnote_output_heights": [
     21.1875
    ]
   },
   "source": "len(want)#used",
   "execution_count": null,
   "outputs": [
    {
     "output_type": "execute_result",
     "execution_count": 76,
     "data": {
      "text/plain": "2262"
     },
     "metadata": {}
    }
   ]
  },
  {
   "cell_type": "code",
   "metadata": {
    "cell_id": "e78be980fc464c9a9d0544678f380bda",
    "tags": [],
    "deepnote_to_be_reexecuted": false,
    "source_hash": "fb47fe63",
    "execution_start": 1652277408290,
    "execution_millis": 6,
    "deepnote_cell_type": "code",
    "deepnote_cell_height": 118.1875,
    "deepnote_output_heights": [
     21.1875
    ]
   },
   "source": "len(diff)-len(want)## number dropped",
   "execution_count": null,
   "outputs": [
    {
     "output_type": "execute_result",
     "execution_count": 77,
     "data": {
      "text/plain": "1329"
     },
     "metadata": {}
    }
   ]
  },
  {
   "cell_type": "code",
   "metadata": {
    "cell_id": "7f8ec676315a493c9dfc79c6f17961d1",
    "tags": [],
    "deepnote_cell_type": "code",
    "deepnote_cell_height": 84
   },
   "source": "##drop all where the label isnt in the dictionary of labels \n##change all labels to the correct key --> value label",
   "execution_count": null,
   "outputs": []
  },
  {
   "cell_type": "code",
   "metadata": {
    "cell_id": "bc3f6964beb249d0a92a9bdbfff34fca",
    "tags": [],
    "deepnote_to_be_reexecuted": false,
    "source_hash": "5e5774ed",
    "execution_start": 1652277493102,
    "execution_millis": 26,
    "owner_user_id": "03d0206a-8ef5-4ef4-a095-5515fca900a0",
    "deepnote_cell_type": "code",
    "deepnote_cell_height": 117
   },
   "source": "diff_x = [i['reviewText'] for i in want if \"reviewText\" in i.keys() and \"sentiment\" in i.keys()]\ndiff_y =  [i['sentiment'] for i in want if \"reviewText\" in i.keys() and \"sentiment\" in i.keys()]\ndiff_cat_notthisone = [i['category'].lower().strip() for i in want if \"reviewText\" in i.keys() and \"sentiment\" in i.keys()]",
   "execution_count": null,
   "outputs": []
  },
  {
   "cell_type": "code",
   "metadata": {
    "cell_id": "5f79ef3039af4314934f916a609c03f5",
    "tags": [],
    "deepnote_to_be_reexecuted": false,
    "source_hash": "6c0d4ab6",
    "execution_start": 1652277496835,
    "execution_millis": 0,
    "deepnote_cell_type": "code",
    "deepnote_cell_height": 81
   },
   "source": "diff_cat = [cat_lab[i] for i in diff_cat_notthisone]",
   "execution_count": null,
   "outputs": []
  },
  {
   "cell_type": "code",
   "metadata": {
    "cell_id": "2dc9b196c2eb43d98d2352cf10c855b5",
    "tags": [],
    "owner_user_id": "e3bb0160-fb91-44de-b701-79c62e58c7f8",
    "deepnote_to_be_reexecuted": false,
    "source_hash": "cea434b8",
    "execution_start": 1652277527359,
    "execution_millis": 2,
    "deepnote_cell_type": "code",
    "deepnote_cell_height": 291,
    "deepnote_output_heights": [
     194
    ]
   },
   "source": "Counter(diff_cat)",
   "execution_count": null,
   "outputs": [
    {
     "output_type": "execute_result",
     "execution_count": 85,
     "data": {
      "text/plain": "Counter({'confusing': 92,\n         'exaggeration': 57,\n         'emoji': 36,\n         'other languages': 27,\n         'spelling and punctuation': 794,\n         'irony or sarcasm': 109,\n         'negation': 591,\n         'double negation': 45,\n         'vocabulary': 348,\n         'sentiment change in text': 163})"
     },
     "metadata": {}
    }
   ]
  },
  {
   "cell_type": "code",
   "metadata": {
    "cell_id": "a21a218c91f3452497bcad63a5aecd7c",
    "tags": [],
    "deepnote_to_be_reexecuted": false,
    "source_hash": "968f1622",
    "execution_start": 1652277284572,
    "execution_millis": 2,
    "owner_user_id": "25f14c51-1e8d-4a70-b4e1-014493979a0f",
    "deepnote_cell_type": "code",
    "deepnote_cell_height": 99
   },
   "source": "from collections import Counter\n#Counter(diff_cat).most_common(15)",
   "execution_count": null,
   "outputs": []
  },
  {
   "cell_type": "markdown",
   "source": "\n",
   "metadata": {
    "cell_id": "4f024a89843244259f27554bded92e96",
    "tags": [],
    "deepnote_cell_type": "markdown",
    "deepnote_cell_height": 46
   }
  },
  {
   "cell_type": "markdown",
   "source": "<a style='text-decoration:none;line-height:16px;display:flex;color:#5B5B62;padding:10px;justify-content:end;' href='https://deepnote.com?utm_source=created-in-deepnote-cell&projectId=b88dfe01-c7e1-473c-bcfd-798313fc6522' target=\"_blank\">\n<img alt='Created in deepnote.com' style='display:inline;max-height:16px;margin:0px;margin-right:7.5px;' src='data:image/svg+xml;base64,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' > </img>\nCreated in <span style='font-weight:600;margin-left:4px;'>Deepnote</span></a>",
   "metadata": {
    "tags": [],
    "created_in_deepnote_cell": true,
    "deepnote_cell_type": "markdown"
   }
  }
 ],
 "nbformat": 4,
 "nbformat_minor": 2,
 "metadata": {
  "orig_nbformat": 2,
  "deepnote": {},
  "deepnote_notebook_id": "9a95cdd8-ca69-42e0-b2e5-8adccff0ea40",
  "deepnote_execution_queue": []
 }
}
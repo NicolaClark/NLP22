{
 "cells": [
  {
   "cell_type": "code",
   "metadata": {
    "tags": [],
    "cell_id": "28aca514-f632-439a-99a9-69f915fc04cc",
    "deepnote_to_be_reexecuted": false,
    "source_hash": "8a4f2a39",
    "execution_start": 1652109351103,
    "execution_millis": 3,
    "deepnote_cell_type": "code",
    "deepnote_cell_height": 567
   },
   "source": "import gzip\nimport json\nimport random\nimport time\nfrom nltk import word_tokenize\nfrom tqdm import tqdm\nimport contractions\nimport nltk\nimport random\nimport csv\nimport numpy as np\nimport tensorflow as tf\n\nimport gzip\nimport json\nfrom sklearn.feature_extraction.text import CountVectorizer, TfidfTransformer, TfidfVectorizer \nfrom sklearn.pipeline import Pipeline\n\nfrom sklearn import preprocessing\nfrom sklearn.naive_bayes import MultinomialNB\nfrom sklearn.linear_model import LogisticRegression\nfrom sklearn.neural_network import MLPClassifier\nfrom sklearn.preprocessing import LabelEncoder\n\nfrom sklearn.metrics import f1_score\nfrom sklearn.utils import shuffle\nimport re\nfrom tensorflow.python.keras import layers, models",
   "execution_count": null,
   "outputs": []
  },
  {
   "cell_type": "code",
   "metadata": {
    "cell_id": "92cc4b86b1d24fee9d1d324c75a3f72a",
    "tags": [],
    "deepnote_to_be_reexecuted": false,
    "source_hash": "f130cfec",
    "execution_start": 1652109235137,
    "execution_millis": 118,
    "deepnote_cell_type": "code",
    "deepnote_cell_height": 236.375
   },
   "source": "#nltk.download('wordnet')\n#nltk.download('omw-1.4')\n#nltk.download('averaged_perceptron_tagger')\nnltk.download('punkt')",
   "execution_count": null,
   "outputs": [
    {
     "name": "stderr",
     "text": "[nltk_data] Downloading package punkt to /root/nltk_data...\n[nltk_data]   Package punkt is already up-to-date!\n",
     "output_type": "stream"
    },
    {
     "output_type": "execute_result",
     "execution_count": 4,
     "data": {
      "text/plain": "True"
     },
     "metadata": {}
    }
   ]
  },
  {
   "cell_type": "code",
   "metadata": {
    "cell_id": "d1d3a9a099d54a9a8d12157af1f5564d",
    "tags": [],
    "deepnote_to_be_reexecuted": false,
    "source_hash": "f4fb80ea",
    "execution_start": 1652109235257,
    "execution_millis": 4,
    "deepnote_cell_type": "code",
    "deepnote_cell_height": 81
   },
   "source": "random.seed(42)",
   "execution_count": null,
   "outputs": []
  },
  {
   "cell_type": "code",
   "metadata": {
    "cell_id": "cb193be6123342cd8b2c9844baaa28fa",
    "tags": [],
    "deepnote_to_be_reexecuted": false,
    "source_hash": "8c0ba9db",
    "execution_start": 1652109238133,
    "execution_millis": 2,
    "deepnote_cell_type": "code",
    "deepnote_cell_height": 243
   },
   "source": "#here\ndef reading_in(path):\n    thing=[]\n    for line in gzip.open(path):\n        review_data = json.loads(line)\n        subthing = dict()\n        for key in review_data:\n            subthing[key]= review_data[key]\n        thing.append(subthing)\n    return thing",
   "execution_count": null,
   "outputs": []
  },
  {
   "cell_type": "code",
   "metadata": {
    "cell_id": "1f94c7b92c7045e3a0f59a849997abec",
    "tags": [],
    "deepnote_to_be_reexecuted": false,
    "source_hash": "4f0347a6",
    "execution_start": 1652109238139,
    "execution_millis": 1982,
    "deepnote_cell_type": "code",
    "deepnote_cell_height": 135
   },
   "source": "train = reading_in('../data/classification/music_reviews_train.json.gz')\ndev = reading_in('../data/classification/music_reviews_dev.json.gz') # do not use!\n#test = reading_in('../data/classification/music_reviews_test_masked.json.gz') #do not use!\ntrain = shuffle(train, random_state=42)",
   "execution_count": null,
   "outputs": []
  },
  {
   "cell_type": "code",
   "metadata": {
    "cell_id": "e32c458b6e2f46f9acec8a889499c2ba",
    "tags": [],
    "deepnote_to_be_reexecuted": false,
    "source_hash": "8331f838",
    "execution_start": 1652109420641,
    "execution_millis": 239,
    "deepnote_cell_type": "code",
    "deepnote_cell_height": 153
   },
   "source": "train_x = [i['reviewText'] for i in train if \"reviewText\" in i.keys() and \"sentiment\" in i.keys()]\ntrain_y =  [i['sentiment'] for i in train if \"reviewText\" in i.keys() and \"sentiment\" in i.keys()]\n\ndev_x = [i['reviewText'] if \"reviewText\" in i.keys() else \"\" for i in dev]\ndev_y = [i['sentiment'] for i in dev]",
   "execution_count": null,
   "outputs": []
  },
  {
   "cell_type": "code",
   "metadata": {
    "cell_id": "935a7427d87f40bbb0a9bb6029686a1b",
    "tags": [],
    "deepnote_to_be_reexecuted": false,
    "source_hash": "54eeec07",
    "execution_start": 1652109243685,
    "execution_millis": 1854,
    "deepnote_cell_type": "code",
    "deepnote_cell_height": 459
   },
   "source": "###split into pos and neg\ntrain_x_pos = []\ntrain_x_neg = []\ntrain_y_pos = []\ntrain_y_neg = []\nfor i in range(len(train_x)):\n    if train_y[i] == \"positive\":\n        train_x_pos.append(train_x[i])\n        train_y_pos.append(train_y[i])\n    else:\n        train_x_neg.append(train_x[i])\n        train_y_neg.append(train_y[i])\ntrain_x_neg.extend(train_x_pos[0:len(train_x_neg)])\ntrain_y_neg.extend(train_y_pos[0:len(train_y_neg)])\nbalanced_x_train_s = train_x_neg\nbalanced_y_train_s = train_y_neg\n\nbalanced_x_train, balanced_y_train = shuffle(balanced_x_train_s, balanced_y_train_s, random_state= 42)\ndef tokenize_corpus(corpus):\n    return [contractions.fix(s.lower()) for s in corpus]\nbalanced_x_train = tokenize_corpus(balanced_x_train)\ndev_x = tokenize_corpus(dev_x)",
   "execution_count": null,
   "outputs": []
  },
  {
   "cell_type": "markdown",
   "source": "### read in 3 synthetic",
   "metadata": {
    "cell_id": "181f58e845d948f1a1f035634f24bbf4",
    "tags": [],
    "deepnote_cell_type": "markdown",
    "deepnote_cell_height": 62
   }
  },
  {
   "cell_type": "code",
   "metadata": {
    "cell_id": "86f8e6ebc1334cf1825f62d54a184e9a",
    "tags": [],
    "deepnote_to_be_reexecuted": false,
    "source_hash": "7604895f",
    "execution_start": 1652109245544,
    "execution_millis": 5,
    "deepnote_cell_type": "code",
    "deepnote_cell_height": 261
   },
   "source": "def read_synth(path,deli):\n    with open(path) as f:\n        reader = csv.reader(f,delimiter = \"\\n\")\n        data = []\n        for i in reader:\n            i = contractions.fix(i[0].lower())\n            data.append( re.sub(deli,' ',i))\n           \n    return data\npaths = [\"../data/synthetic/webscrape.csv\",\"../data/synthetic/wordnet.csv\",\"../data/synthetic/word2vec.csv\"]\ndeli = [\" \",\"\\t\",\"\\t\"]",
   "execution_count": null,
   "outputs": []
  },
  {
   "cell_type": "code",
   "metadata": {
    "cell_id": "ba1cccf1f1e440b38169e86e524cfc60",
    "tags": [],
    "deepnote_to_be_reexecuted": false,
    "source_hash": "c1213c5d",
    "execution_start": 1652109252971,
    "execution_millis": 1,
    "deepnote_cell_type": "code",
    "deepnote_cell_height": 81
   },
   "source": "#balanced_x_train",
   "execution_count": null,
   "outputs": []
  },
  {
   "cell_type": "code",
   "metadata": {
    "cell_id": "a66d29c743994910905f83b5622973e1",
    "tags": [],
    "deepnote_to_be_reexecuted": false,
    "source_hash": "eaa4c9ac",
    "execution_start": 1652109254115,
    "execution_millis": 1,
    "owner_user_id": "e3bb0160-fb91-44de-b701-79c62e58c7f8",
    "deepnote_cell_type": "code",
    "deepnote_cell_height": 81
   },
   "source": "#synthetic[\"web\"]",
   "execution_count": null,
   "outputs": []
  },
  {
   "cell_type": "code",
   "metadata": {
    "cell_id": "2195ec69e2fe44988df020fa7a13f732",
    "tags": [],
    "deepnote_to_be_reexecuted": false,
    "source_hash": "c966b476",
    "execution_start": 1652109255972,
    "execution_millis": 3310,
    "deepnote_cell_type": "code",
    "deepnote_cell_height": 135
   },
   "source": "synthetic = dict()\nnames= [\"web\",\"net\",\"vec\"]\nfor x,i in enumerate(paths):\n    synthetic[names[x]] = read_synth(i,deli[x])",
   "execution_count": null,
   "outputs": []
  },
  {
   "cell_type": "code",
   "metadata": {
    "cell_id": "e6fc7942cebc4fb3878bcee3ecffbf4c",
    "tags": [],
    "deepnote_to_be_reexecuted": false,
    "source_hash": "e9129edc",
    "execution_start": 1652109259744,
    "execution_millis": 4,
    "deepnote_cell_type": "code",
    "deepnote_cell_height": 189
   },
   "source": "def add_together(synt_dataset_X, samples):\n    OG_X = balanced_x_train[:samples]\n    OG_y = balanced_y_train[:samples]\n    train_X = OG_X + synt_dataset_X[:samples]\n    train_y = OG_y + OG_y\n    train_X, train_y = shuffle(train_X, train_y, random_state= 42)\n    return train_X, train_y",
   "execution_count": null,
   "outputs": []
  },
  {
   "cell_type": "code",
   "metadata": {
    "cell_id": "422a68fde26b4f90a79de7767dacbf63",
    "tags": [],
    "deepnote_to_be_reexecuted": false,
    "source_hash": "4c586af8",
    "execution_start": 1652109259765,
    "execution_millis": 71,
    "deepnote_cell_type": "code",
    "deepnote_cell_height": 171
   },
   "source": "Scrape10_X, Scrape10_y = add_together(synthetic['web'], 10000)\nNet10_X, Net10_y = add_together(synthetic['net'], 10000)\nVec10_X, Vec10_y =add_together(synthetic['vec'],10000)\nScrape5_X, Scrape5_y = add_together(synthetic['web'], 5000)\nNet5_X, Net5_y = add_together(synthetic['net'], 5000)\nVec5_X, Vec5_y = add_together(synthetic['vec'], 5000)",
   "execution_count": null,
   "outputs": []
  },
  {
   "cell_type": "markdown",
   "source": "### list of datasets",
   "metadata": {
    "cell_id": "b6c0a538b8a64a9687bbe91a95da6dee",
    "tags": [],
    "deepnote_cell_type": "markdown",
    "deepnote_cell_height": 62
   }
  },
  {
   "cell_type": "code",
   "metadata": {
    "cell_id": "6a0d2b243ed241a29c868bfc3b100a37",
    "tags": [],
    "deepnote_to_be_reexecuted": false,
    "source_hash": "a5c71f8b",
    "execution_start": 1652109262235,
    "execution_millis": 1,
    "owner_user_id": "25f14c51-1e8d-4a70-b4e1-014493979a0f",
    "deepnote_cell_type": "code",
    "deepnote_cell_height": 279
   },
   "source": "# Training X, training y,  description\ntrain_list = [\n    [balanced_x_train[:20000], balanced_y_train[:20000] ,'original data 20000', ],\n    [balanced_x_train[:10000], balanced_y_train[:10000],'original data 10000'],\n    [balanced_x_train[:5000], balanced_y_train[:5000], 'original data 5000'], \n    [Scrape10_X, Scrape10_y ,'WebScrape 10,000'],\n    [Net10_X, Net10_y, 'WordNet 10,000'], \n    [ Vec10_X, Vec10_y,'Word2Vec 10,000' ],\n    [Scrape5_X, Scrape5_y,'WebScrape 5,000'],\n    [Net5_X, Net5_y, 'WordNet 5,000'], \n    [ Vec5_X, Vec5_y,'Word2Vec 5,000']\n]",
   "execution_count": null,
   "outputs": []
  },
  {
   "cell_type": "code",
   "metadata": {
    "cell_id": "5b20b5b68a154249bb8516410e588f09",
    "tags": [],
    "deepnote_to_be_reexecuted": false,
    "source_hash": "e0069a24",
    "execution_start": 1652094119853,
    "execution_millis": 29,
    "deepnote_cell_type": "code",
    "deepnote_cell_height": 117
   },
   "source": "#Tokenizer\ndef tokenize_corpus(sentence):\n    return word_tokenize(contractions.fix(sentence))",
   "execution_count": null,
   "outputs": []
  },
  {
   "cell_type": "code",
   "metadata": {
    "cell_id": "d4be3728e4d14b438126701e0a011665",
    "tags": [],
    "deepnote_to_be_reexecuted": false,
    "source_hash": "87f17348",
    "execution_start": 1652094133868,
    "execution_millis": 0,
    "deepnote_cell_type": "code",
    "deepnote_cell_height": 171
   },
   "source": "MNB = Pipeline([\n    ('CountVectorizer',CountVectorizer(ngram_range=(1, 2), tokenizer = tokenize_corpus, lowercase = False )),\n    ('Tfidf',TfidfTransformer()),\n    ('clf', MultinomialNB(alpha=1, fit_prior=False))\n])#best params given here\n",
   "execution_count": null,
   "outputs": []
  },
  {
   "cell_type": "code",
   "metadata": {
    "cell_id": "b9938ecb2f8d4bae82bf32cf6aacda9b",
    "tags": [],
    "deepnote_to_be_reexecuted": false,
    "source_hash": "d4f24d58",
    "execution_start": 1652096428598,
    "execution_millis": 286920,
    "deepnote_cell_type": "code",
    "deepnote_cell_height": 408.75
   },
   "source": "result = []\ncnt = 1\n\nfor run in train_list: \n    print(f'running run number {cnt}')\n    MNB.fit(run[0], run[1])\n    pred = MNB.predict(dev_x[:10000])\n    result.append([run[2], f1_score(dev_y[:10000], pred, average='macro')])\n    cnt += 1",
   "execution_count": null,
   "outputs": [
    {
     "name": "stdout",
     "text": "running run number 1\nrunning run number 2\nrunning run number 3\nrunning run number 4\nrunning run number 5\nrunning run number 6\nrunning run number 7\nrunning run number 8\nrunning run number 9\n",
     "output_type": "stream"
    }
   ]
  },
  {
   "cell_type": "code",
   "metadata": {
    "cell_id": "a88305811a024f54af4cadd71bf55c9e",
    "tags": [],
    "deepnote_to_be_reexecuted": false,
    "source_hash": "bae0e1b5",
    "execution_start": 1652096815514,
    "execution_millis": 1,
    "deepnote_cell_type": "code",
    "deepnote_cell_height": 270
   },
   "source": "result",
   "execution_count": null,
   "outputs": [
    {
     "output_type": "execute_result",
     "execution_count": 76,
     "data": {
      "text/plain": "[['original data 20000', 0.8186222814613834],\n ['original data 10000', 0.8121945115351842],\n ['original data 5000', 0.7933088887447273],\n ['WebScrape 10,000', 0.8163322927363943],\n ['WordNet 10,000', 0.825087362561945],\n ['Word2Vec 10,000', 0.8236805607818262],\n ['WebScrape 5,000', 0.7966970867914357],\n ['WordNet 5,000', 0.8072615675482759],\n ['Word2Vec 5,000', 0.8059333957609268]]"
     },
     "metadata": {}
    }
   ]
  },
  {
   "cell_type": "markdown",
   "source": "# CNN\n### Without embeddings\nBest model (without the sigmoid activation) accuracy: 0.56 and error 0.67, was with 3 hidden layers with size [100,100,100], relu as activation, epochs 25, batch size of 50, filter size: 3, kernel size: 3, stride size: 3\n",
   "metadata": {
    "cell_id": "e61936737dc4467bb873b6dd185816f8",
    "tags": [],
    "deepnote_to_be_reexecuted": false,
    "source_hash": "b623e53d",
    "execution_start": 1652095808874,
    "execution_millis": 3,
    "deepnote_cell_type": "markdown",
    "deepnote_cell_height": 190.765625
   }
  },
  {
   "cell_type": "code",
   "metadata": {
    "cell_id": "a5cb67b8304c4cd29e48d97b9a61c61b",
    "tags": [],
    "deepnote_to_be_reexecuted": false,
    "source_hash": "638b4a0c",
    "execution_start": 1652109267723,
    "execution_millis": 1,
    "deepnote_cell_type": "code",
    "deepnote_cell_height": 153
   },
   "source": "def pre_pros_y(data):\n    encoder = LabelEncoder()\n    encoder.fit(data)\n    data = encoder.transform(data)\n    return data",
   "execution_count": null,
   "outputs": []
  },
  {
   "cell_type": "code",
   "metadata": {
    "cell_id": "ac21d488c5bd429493674b445c950acb",
    "tags": [],
    "deepnote_to_be_reexecuted": false,
    "source_hash": "11424dcb",
    "execution_start": 1652109317108,
    "execution_millis": 1,
    "deepnote_cell_type": "code",
    "deepnote_cell_height": 99
   },
   "source": "def tokenize_corpus(corpus):\n    return [contractions.fix(s) for s in corpus]",
   "execution_count": null,
   "outputs": []
  },
  {
   "cell_type": "code",
   "metadata": {
    "cell_id": "608523c84a7e4895af39c8e2e350ab2f",
    "tags": [],
    "deepnote_to_be_reexecuted": false,
    "source_hash": "d709849d",
    "execution_start": 1652109509290,
    "execution_millis": 5,
    "deepnote_cell_type": "code",
    "deepnote_cell_height": 459
   },
   "source": "def ready_CNN(data_X, data_y, dev_x, dev_y):\n    #ADD TOKENIZER TO THE DEVELEPMENT DATA\n    train_x_split = tokenize_corpus(data_X)\n\n    vectorizer = TfidfVectorizer()\n    tfid = vectorizer.fit(train_x_split)\n    train_x = tfid.transform(train_x_split).toarray()\n    train_x = np.reshape(train_x, (len(train_x), train_x.shape[1], 1))\n    train_x = tf.convert_to_tensor(train_x)\n\n    train_y = pre_pros_y(data_y)\n    \n    #devt_x = tokenize_corpus(dev_x[:10000]) is already tokenized\n    devt_x = tfid.transform(devt_x)\n    devt_x = dev_x.toarray()\n    devt_x = np.reshape(devt_x, (len(devt_x), devt_x.shape[1], 1))\n    devt_x = tf.convert_to_tensor(devt_x)\n\n    devt_y = pre_pros_y(dev_y[:10000])\n    return train_x, train_y, devt_x, devt_y\n\n",
   "execution_count": null,
   "outputs": []
  },
  {
   "cell_type": "code",
   "metadata": {
    "cell_id": "abc522b1692a44748949614778be3d61",
    "tags": [],
    "deepnote_to_be_reexecuted": false,
    "source_hash": "e51c36b5",
    "execution_start": 1652107405461,
    "execution_millis": 166,
    "deepnote_cell_type": "code",
    "deepnote_cell_height": 270.1875
   },
   "source": "act = 'relu'\nmodel = models.Sequential()\nmodel.add(layers.Conv1D(filters = 3, kernel_size = 3, strides = 3, padding = \"same\", activation='relu'))\nmodel.add(layers.GlobalMaxPooling1D())\nmodel.add(layers.Dense(100, activation=act))\nmodel.add(layers.Dense(100, activation=act))\nmodel.add(layers.Dense(100, activation=act))\nmodel.add(layers.Dense(1, 'sigmoid'))",
   "execution_count": null,
   "outputs": [
    {
     "output_type": "error",
     "ename": "NameError",
     "evalue": "name 'models' is not defined",
     "traceback": [
      "\u001b[0;31m---------------------------------------------------------------------------\u001b[0m",
      "\u001b[0;31mNameError\u001b[0m                                 Traceback (most recent call last)",
      "\u001b[0;32m<ipython-input-1-0dc99ada1d77>\u001b[0m in \u001b[0;36m<module>\u001b[0;34m\u001b[0m\n\u001b[1;32m      1\u001b[0m \u001b[0mact\u001b[0m \u001b[0;34m=\u001b[0m \u001b[0;34m'rel'\u001b[0m\u001b[0;34m\u001b[0m\u001b[0;34m\u001b[0m\u001b[0m\n\u001b[0;32m----> 2\u001b[0;31m \u001b[0mmodel\u001b[0m \u001b[0;34m=\u001b[0m \u001b[0mmodels\u001b[0m\u001b[0;34m.\u001b[0m\u001b[0mSequential\u001b[0m\u001b[0;34m(\u001b[0m\u001b[0;34m)\u001b[0m\u001b[0;34m\u001b[0m\u001b[0;34m\u001b[0m\u001b[0m\n\u001b[0m\u001b[1;32m      3\u001b[0m \u001b[0mmodel\u001b[0m\u001b[0;34m.\u001b[0m\u001b[0madd\u001b[0m\u001b[0;34m(\u001b[0m\u001b[0mlayers\u001b[0m\u001b[0;34m.\u001b[0m\u001b[0mConv1D\u001b[0m\u001b[0;34m(\u001b[0m\u001b[0mfilters\u001b[0m \u001b[0;34m=\u001b[0m \u001b[0;36m3\u001b[0m\u001b[0;34m,\u001b[0m \u001b[0mkernel_size\u001b[0m \u001b[0;34m=\u001b[0m \u001b[0;36m3\u001b[0m\u001b[0;34m,\u001b[0m \u001b[0mstrides\u001b[0m \u001b[0;34m=\u001b[0m \u001b[0;36m3\u001b[0m\u001b[0;34m,\u001b[0m \u001b[0mpadding\u001b[0m \u001b[0;34m=\u001b[0m \u001b[0;34m\"same\"\u001b[0m\u001b[0;34m,\u001b[0m \u001b[0mactivation\u001b[0m\u001b[0;34m=\u001b[0m\u001b[0;34m'relu'\u001b[0m\u001b[0;34m)\u001b[0m\u001b[0;34m)\u001b[0m\u001b[0;34m\u001b[0m\u001b[0;34m\u001b[0m\u001b[0m\n\u001b[1;32m      4\u001b[0m \u001b[0mmodel\u001b[0m\u001b[0;34m.\u001b[0m\u001b[0madd\u001b[0m\u001b[0;34m(\u001b[0m\u001b[0mlayers\u001b[0m\u001b[0;34m.\u001b[0m\u001b[0mGlobalMaxPooling1D\u001b[0m\u001b[0;34m(\u001b[0m\u001b[0;34m)\u001b[0m\u001b[0;34m)\u001b[0m\u001b[0;34m\u001b[0m\u001b[0;34m\u001b[0m\u001b[0m\n\u001b[1;32m      5\u001b[0m \u001b[0mmodel\u001b[0m\u001b[0;34m.\u001b[0m\u001b[0madd\u001b[0m\u001b[0;34m(\u001b[0m\u001b[0mlayers\u001b[0m\u001b[0;34m.\u001b[0m\u001b[0mDense\u001b[0m\u001b[0;34m(\u001b[0m\u001b[0;36m100\u001b[0m\u001b[0;34m,\u001b[0m \u001b[0mactivation\u001b[0m\u001b[0;34m=\u001b[0m\u001b[0mact\u001b[0m\u001b[0;34m)\u001b[0m\u001b[0;34m)\u001b[0m\u001b[0;34m\u001b[0m\u001b[0;34m\u001b[0m\u001b[0m\n",
      "\u001b[0;31mNameError\u001b[0m: name 'models' is not defined"
     ]
    }
   ]
  },
  {
   "cell_type": "code",
   "metadata": {
    "cell_id": "f871520e686d42fc97e1de40c9ffcf8c",
    "tags": [],
    "deepnote_to_be_reexecuted": false,
    "source_hash": "e4112481",
    "execution_start": 1652109522869,
    "execution_millis": 1469,
    "deepnote_cell_type": "code",
    "deepnote_cell_height": 225.1875
   },
   "source": "for i in train_list[3:4]:\n    train_x, train_y, devt_x, devt_y = ready_CNN(i[0], i[1],dev_x, dev_y )\nprint(train_x)",
   "execution_count": null,
   "outputs": [
    {
     "output_type": "error",
     "ename": "KernelInterrupted",
     "evalue": "Execution interrupted by the Jupyter kernel.",
     "traceback": [
      "\u001b[0;31m---------------------------------------------------------------------------\u001b[0m",
      "\u001b[0;31mKernelInterrupted\u001b[0m: Execution interrupted by the Jupyter kernel."
     ]
    }
   ]
  },
  {
   "cell_type": "code",
   "metadata": {
    "cell_id": "257f1b4230f54a8db07f373d1d64b530",
    "tags": [],
    "owner_user_id": "03d0206a-8ef5-4ef4-a095-5515fca900a0",
    "deepnote_cell_type": "code",
    "deepnote_cell_height": 120
   },
   "source": "model.compile(loss='binary_crossentropy', optimizer='adamax', metrics=['accuracy'])\nhistory = model.fit(train_x, train_y, epochs=epoch, batch_size= batch, callbacks=[callback], verbose=0) #change the numbers\nmetrics = model.evaluate(dev_x,dev_y, verbose=0) #change the number\n",
   "execution_count": null,
   "outputs": []
  },
  {
   "cell_type": "markdown",
   "source": "### With embeddings",
   "metadata": {
    "cell_id": "b8dba91b8cd041ff8e4d2929c078a405",
    "tags": [],
    "deepnote_cell_type": "markdown",
    "deepnote_cell_height": 62
   }
  },
  {
   "cell_type": "markdown",
   "source": "",
   "metadata": {
    "cell_id": "920fda41e210429f9541d3c4fdf3e0ed",
    "tags": [],
    "deepnote_cell_type": "markdown",
    "deepnote_cell_height": 46
   }
  },
  {
   "cell_type": "markdown",
   "source": "<a style='text-decoration:none;line-height:16px;display:flex;color:#5B5B62;padding:10px;justify-content:end;' href='https://deepnote.com?utm_source=created-in-deepnote-cell&projectId=b88dfe01-c7e1-473c-bcfd-798313fc6522' target=\"_blank\">\n<img alt='Created in deepnote.com' style='display:inline;max-height:16px;margin:0px;margin-right:7.5px;' src='data:image/svg+xml;base64,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' > </img>\nCreated in <span style='font-weight:600;margin-left:4px;'>Deepnote</span></a>",
   "metadata": {
    "tags": [],
    "created_in_deepnote_cell": true,
    "deepnote_cell_type": "markdown"
   }
  }
 ],
 "nbformat": 4,
 "nbformat_minor": 2,
 "metadata": {
  "orig_nbformat": 2,
  "deepnote": {},
  "deepnote_notebook_id": "7ed6cb18-1b14-4fa3-886d-6a3a5ff3ed37",
  "deepnote_execution_queue": []
 }
}
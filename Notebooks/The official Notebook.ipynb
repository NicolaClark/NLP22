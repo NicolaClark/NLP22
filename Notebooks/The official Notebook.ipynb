{
 "cells": [
  {
   "cell_type": "markdown",
   "source": "### Import",
   "metadata": {
    "cell_id": "5f38f2bbcb9742bf8f7757b9cfc9b097",
    "tags": [],
    "is_collapsed": false,
    "deepnote_cell_type": "text-cell-h3"
   }
  },
  {
   "cell_type": "code",
   "metadata": {
    "tags": [],
    "cell_id": "8c448431-a7cd-4442-ae19-51d25c388245",
    "deepnote_to_be_reexecuted": false,
    "source_hash": "3ee93d2",
    "execution_start": 1650620298407,
    "execution_millis": 3,
    "deepnote_cell_type": "code",
    "deepnote_cell_height": 243
   },
   "source": "import gzip\nimport json\nimport random\nimport time\nfrom nltk import word_tokenize\n\n# Imports for the synonym dictionary \nimport requests\nfrom bs4 import BeautifulSoup\n",
   "execution_count": 59,
   "outputs": []
  },
  {
   "cell_type": "markdown",
   "source": "### Read in the data",
   "metadata": {
    "cell_id": "b0adcc9dfe814e35893f428751f44bfb",
    "tags": [],
    "is_collapsed": false,
    "deepnote_cell_type": "text-cell-h3"
   }
  },
  {
   "cell_type": "code",
   "metadata": {
    "cell_id": "7698631c7f3643279c0d2fefd757c548",
    "tags": [],
    "deepnote_to_be_reexecuted": false,
    "source_hash": "8c0ba9db",
    "execution_start": 1650617876974,
    "execution_millis": 3,
    "deepnote_cell_type": "code",
    "deepnote_cell_height": 243
   },
   "source": "#here\ndef reading_in(path):\n    thing=[]\n    for line in gzip.open(path):\n        review_data = json.loads(line)\n        subthing = dict()\n        for key in review_data:\n            subthing[key]= review_data[key]\n        thing.append(subthing)\n    return thing",
   "execution_count": 3,
   "outputs": []
  },
  {
   "cell_type": "code",
   "metadata": {
    "cell_id": "663207d137e14b7fb6198a5b2155917e",
    "tags": [],
    "deepnote_to_be_reexecuted": false,
    "source_hash": "e717bc6b",
    "execution_start": 1650617883147,
    "execution_millis": 1775,
    "deepnote_cell_type": "code",
    "deepnote_cell_height": 117
   },
   "source": "train = reading_in('../data/classification/music_reviews_train.json.gz')\n#dev = reading_in('../data/classification/music_reviews_dev.json.gz') # do not use!\n#test = reading_in('../data/classification/music_reviews_test_masked.json.gz') #do not use!",
   "execution_count": 4,
   "outputs": []
  },
  {
   "cell_type": "code",
   "metadata": {
    "cell_id": "62c144edcb014ebe901bdeaf1a51fd39",
    "tags": [],
    "deepnote_to_be_reexecuted": false,
    "source_hash": "7fdd351a",
    "execution_start": 1650617885010,
    "execution_millis": 21,
    "deepnote_cell_type": "code",
    "deepnote_cell_height": 99
   },
   "source": "train_x = [i['reviewText'] for i in train if \"reviewText\" in i.keys() and \"sentiment\" in i.keys()]\ntrain_y =  [i['sentiment'] for i in train if \"reviewText\" in i.keys() and \"sentiment\" in i.keys()]",
   "execution_count": 5,
   "outputs": []
  },
  {
   "cell_type": "markdown",
   "source": "### Preparing the data",
   "metadata": {
    "cell_id": "dc23b56ec1db4eb3b78e018fa7507106",
    "tags": [],
    "is_collapsed": false,
    "deepnote_cell_type": "text-cell-h3"
   }
  },
  {
   "cell_type": "code",
   "metadata": {
    "cell_id": "6fbdb6a9cfa14bc9bd52728139608401",
    "tags": [],
    "deepnote_to_be_reexecuted": false,
    "source_hash": "f5b5042d",
    "execution_start": 1650619721558,
    "execution_millis": 564,
    "deepnote_cell_type": "code",
    "deepnote_cell_height": 189
   },
   "source": "train_x_split = [sen.split(' ') for sen in train_x]\n\n\"\"\"\nHere we want a loop for replacing the words\n\"\"\"\n\ntrain_x_back = [' '.join(sen) for sen in train_x_split]",
   "execution_count": 44,
   "outputs": []
  },
  {
   "cell_type": "markdown",
   "source": "# Webscrape synonyms",
   "metadata": {
    "cell_id": "422aeb060fd34555a5b418221d7d7ea8",
    "tags": [],
    "is_collapsed": false,
    "deepnote_cell_type": "text-cell-h1"
   }
  },
  {
   "cell_type": "code",
   "metadata": {
    "cell_id": "40fb76973211445e9f3df5c5d592d684",
    "tags": [],
    "deepnote_to_be_reexecuted": false,
    "source_hash": "2b5d727d",
    "execution_start": 1650569474095,
    "execution_millis": 110,
    "deepnote_cell_type": "code",
    "deepnote_cell_height": 310
   },
   "source": "##Alternative to PyDictionary\n##THIS IS COPIED FROM SLACK\n# https://stackoverflow.com/questions/52910297/pydictionary-word-has-no-synonyms-in-the-api\n\ndef synonyms(term):\n    response = requests.get('https://www.thesaurus.com/browse/{}'.format(term))\n    soup = BeautifulSoup(response.text, 'lxml')\n    soup.find('section', {'class': 'css-17ofzyv e1ccqdb60'})\n    return [span.text for span in soup.findAll('a', {'class': 'css-1kg1yv8 eh475bn0'})] # 'css-1gyuw4i eh475bn0' for less relevant synonyms\n\nword = \"I\"\nprint(synonyms(word))",
   "execution_count": null,
   "outputs": [
    {
     "name": "stdout",
     "text": "['he ', 'it ', 'she ', 'sie ', 'they ', 've ', 'xe ', 'you ', 'ze ', 'zie ']\n",
     "output_type": "stream"
    }
   ]
  },
  {
   "cell_type": "code",
   "metadata": {
    "cell_id": "3c68d42714fe46deb118bedcbf7d9c9c",
    "tags": [],
    "deepnote_to_be_reexecuted": false,
    "source_hash": "ccf2ea4a",
    "execution_start": 1650569477979,
    "execution_millis": 3,
    "deepnote_cell_type": "code",
    "deepnote_cell_height": 315
   },
   "source": "def gen_synth(sentence,prob = 0.5):\n    new_sen = []\n    for word in sentence:\n        threshold = random.random()\n        if prob > threshold:\n            #print(threshold) can remove later kept for debugging\n            syn = synonyms(word)\n            if len(syn) != 0:\n                #print(\"selected\", word) can remove later kept for debugging\n                new_sen.append(random.choice(syn))\n            else:new_sen.append(word)\n        else:\n            new_sen.append(word)\n    return new_sen",
   "execution_count": null,
   "outputs": []
  },
  {
   "cell_type": "code",
   "metadata": {
    "cell_id": "961b20cdc831409bb67cd7816419a349",
    "tags": [],
    "deepnote_to_be_reexecuted": false,
    "source_hash": "dc26cb07",
    "execution_start": 1650534288970,
    "execution_millis": 8,
    "deepnote_cell_type": "code",
    "deepnote_cell_height": 118,
    "deepnote_output_heights": [
     21
    ]
   },
   "source": "len(train_x)",
   "execution_count": null,
   "outputs": [
    {
     "output_type": "execute_result",
     "execution_count": 26,
     "data": {
      "text/plain": "99946"
     },
     "metadata": {}
    }
   ]
  },
  {
   "cell_type": "code",
   "metadata": {
    "cell_id": "cce854502cc84aa1af708e01296ce8da",
    "tags": [],
    "deepnote_to_be_reexecuted": false,
    "source_hash": "8388633c",
    "execution_start": 1650569542476,
    "execution_millis": 0,
    "deepnote_cell_type": "code",
    "deepnote_cell_height": 81
   },
   "source": "from tqdm import tqdm",
   "execution_count": null,
   "outputs": []
  },
  {
   "cell_type": "code",
   "metadata": {
    "cell_id": "b729255ea38f4fdfa56079f48cc16ef5",
    "tags": [],
    "deepnote_to_be_reexecuted": false,
    "source_hash": "19e3a95a",
    "execution_start": 1650569736789,
    "execution_millis": 4,
    "deepnote_cell_type": "code",
    "deepnote_cell_height": 112
   },
   "source": "print([0,1,2,3,4,5][2:4])#indexing sanity check can delecte later",
   "execution_count": null,
   "outputs": [
    {
     "name": "stdout",
     "text": "[2, 3]\n",
     "output_type": "stream"
    }
   ]
  },
  {
   "cell_type": "code",
   "metadata": {
    "cell_id": "b5ba40c86e444ec5b98ace262294414d",
    "tags": [],
    "deepnote_to_be_reexecuted": false,
    "source_hash": "1d0c90bf",
    "execution_start": 1650569753923,
    "execution_millis": 9846416,
    "deepnote_cell_type": "code",
    "deepnote_cell_height": 212
   },
   "source": "#for i in tqdm(train_x_split[:1000]):#running with 0:1000 dont uncomment as will mess up file \n#    with open (\"../data/synthetic1.txt\",\"a\") as f:\n#        f.write(' '.join(gen_synth(i))+\"\\n\")\n#        time.sleep(5)",
   "execution_count": null,
   "outputs": [
    {
     "name": "stderr",
     "text": " 28%|██▊       | 275/1000 [36:04<1:29:34,  7.41s/it]",
     "output_type": "stream"
    },
    {
     "name": "stderr",
     "text": "100%|██████████| 1000/1000 [2:44:06<00:00,  9.85s/it]\n",
     "output_type": "stream"
    }
   ]
  },
  {
   "cell_type": "code",
   "metadata": {
    "cell_id": "f406fabe9e64436aa188a4f606093ded",
    "tags": [],
    "deepnote_to_be_reexecuted": false,
    "source_hash": "180cb14c",
    "execution_start": 1650529985637,
    "execution_millis": 11,
    "deepnote_cell_type": "code",
    "deepnote_cell_height": 112
   },
   "source": "print(train_x_split[6])",
   "execution_count": null,
   "outputs": [
    {
     "name": "stdout",
     "text": "['I', 'love', 'all', 'of', 'his', 'music!!']\n",
     "output_type": "stream"
    }
   ]
  },
  {
   "cell_type": "code",
   "metadata": {
    "cell_id": "64d9db0eb5b5430fbb7dc1fcd62be137",
    "tags": [],
    "deepnote_to_be_reexecuted": false,
    "source_hash": "4a5edac",
    "execution_start": 1650530008792,
    "execution_millis": 536,
    "deepnote_cell_type": "code",
    "deepnote_cell_height": 112
   },
   "source": "print(gen_synth(train_x_split[6]))",
   "execution_count": null,
   "outputs": [
    {
     "name": "stdout",
     "text": "['you ', 'embrace ', 'only ', 'of', 'his', 'music!!']\n",
     "output_type": "stream"
    }
   ]
  },
  {
   "cell_type": "markdown",
   "source": "# Wordnet",
   "metadata": {
    "cell_id": "0e8c9f7b1a5040799249f00aa495a42e",
    "tags": [],
    "is_collapsed": false,
    "deepnote_cell_type": "text-cell-h1"
   }
  },
  {
   "cell_type": "code",
   "metadata": {
    "cell_id": "4d8f17ea48624b6c99ec1dfa276cbb5a",
    "tags": [],
    "deepnote_to_be_reexecuted": false,
    "source_hash": "c64a7962",
    "execution_start": 1650620314960,
    "execution_millis": 620,
    "deepnote_cell_type": "code",
    "deepnote_cell_height": 448,
    "deepnote_output_heights": [
     null,
     21
    ]
   },
   "source": "#importing NLTK corpus synonym dictionary and checking the outputs\nimport nltk\nnltk.download('omw-1.4')\nnltk.download('averaged_perceptron_tagger')\nnltk.download('punkt')\nfrom nltk.corpus import wordnet\nfrom nltk import pos_tag\nsyns = wordnet.synsets(\"furniture\")\nsyns",
   "execution_count": 61,
   "outputs": [
    {
     "name": "stderr",
     "text": "[nltk_data] Downloading package omw-1.4 to /root/nltk_data...\n[nltk_data]   Package omw-1.4 is already up-to-date!\n[nltk_data] Downloading package averaged_perceptron_tagger to\n[nltk_data]     /root/nltk_data...\n[nltk_data]   Package averaged_perceptron_tagger is already up-to-\n[nltk_data]       date!\n[nltk_data] Downloading package punkt to /root/nltk_data...\n[nltk_data]   Unzipping tokenizers/punkt.zip.\n",
     "output_type": "stream"
    },
    {
     "output_type": "execute_result",
     "execution_count": 61,
     "data": {
      "text/plain": "[Synset('furniture.n.01')]"
     },
     "metadata": {}
    }
   ]
  },
  {
   "cell_type": "code",
   "source": "def change(sentence):\n    sentence = word_tokenize(sentence)    #tokenise\n    sentence = nltk.pos_tag(sentence)    #pos sentence here\n    print(sentence)\n    for word in sentence:\n        pass# if relevant pos then replace with a syn\n    #formatting\n    return sentence",
   "metadata": {
    "cell_id": "0cae851d8cab43f6b70c7dd025858735",
    "tags": [],
    "deepnote_to_be_reexecuted": false,
    "source_hash": "ec877331",
    "execution_start": 1650620317711,
    "execution_millis": 3,
    "deepnote_cell_type": "code",
    "deepnote_cell_height": 207
   },
   "outputs": [],
   "execution_count": 62
  },
  {
   "cell_type": "code",
   "source": "change(train_x[0])",
   "metadata": {
    "cell_id": "f0d3a3646bdc41148641494822e32ca0",
    "tags": [],
    "deepnote_to_be_reexecuted": false,
    "source_hash": "339f7c89",
    "execution_start": 1650620319714,
    "execution_millis": 24,
    "owner_user_id": "25f14c51-1e8d-4a70-b4e1-014493979a0f",
    "deepnote_cell_type": "code",
    "deepnote_cell_height": 795,
    "deepnote_output_heights": [
     null,
     572
    ]
   },
   "outputs": [
    {
     "name": "stdout",
     "text": "[('So', 'RB'), ('creative', 'JJ'), ('!', '.'), ('Love', 'VB'), ('his', 'PRP$'), ('music', 'NN'), ('-', ':'), ('the', 'DT'), ('words', 'NNS'), (',', ','), ('the', 'DT'), ('message', 'NN'), ('!', '.'), ('Some', 'DT'), ('of', 'IN'), ('my', 'PRP$'), ('favorite', 'JJ'), ('songs', 'NNS'), ('on', 'IN'), ('this', 'DT'), ('CD', 'NN'), ('.', '.'), ('I', 'PRP'), ('should', 'MD'), ('have', 'VB'), ('bought', 'VBN'), ('it', 'PRP'), ('years', 'NNS'), ('ago', 'RB'), ('!', '.')]\n",
     "output_type": "stream"
    },
    {
     "output_type": "execute_result",
     "execution_count": 63,
     "data": {
      "text/plain": "[('So', 'RB'),\n ('creative', 'JJ'),\n ('!', '.'),\n ('Love', 'VB'),\n ('his', 'PRP$'),\n ('music', 'NN'),\n ('-', ':'),\n ('the', 'DT'),\n ('words', 'NNS'),\n (',', ','),\n ('the', 'DT'),\n ('message', 'NN'),\n ('!', '.'),\n ('Some', 'DT'),\n ('of', 'IN'),\n ('my', 'PRP$'),\n ('favorite', 'JJ'),\n ('songs', 'NNS'),\n ('on', 'IN'),\n ('this', 'DT'),\n ('CD', 'NN'),\n ('.', '.'),\n ('I', 'PRP'),\n ('should', 'MD'),\n ('have', 'VB'),\n ('bought', 'VBN'),\n ('it', 'PRP'),\n ('years', 'NNS'),\n ('ago', 'RB'),\n ('!', '.')]"
     },
     "metadata": {}
    }
   ],
   "execution_count": 63
  },
  {
   "cell_type": "code",
   "metadata": {
    "cell_id": "f39f0c3a459446be9ea25f56be45aeb5",
    "tags": [],
    "deepnote_to_be_reexecuted": false,
    "source_hash": "fa0760b8",
    "execution_start": 1650619836898,
    "execution_millis": 12,
    "deepnote_cell_type": "code",
    "deepnote_cell_height": 136,
    "deepnote_output_heights": [
     21
    ]
   },
   "source": "wn_x_train = [change(i) for i in train_x_split]\n",
   "execution_count": 48,
   "outputs": [
    {
     "output_type": "execute_result",
     "execution_count": 48,
     "data": {
      "text/plain": "True"
     },
     "metadata": {}
    }
   ]
  },
  {
   "cell_type": "code",
   "metadata": {
    "cell_id": "3b1f6bb4a9424ab783ff8409ad173bdc",
    "tags": [],
    "deepnote_to_be_reexecuted": false,
    "source_hash": "b20c88b7",
    "execution_start": 1650530192157,
    "execution_millis": 4,
    "deepnote_cell_type": "code",
    "deepnote_cell_height": 288
   },
   "source": "v = ['I', 'love', 'all', 'of', 'his', 'music!!']\nfor word in v:\n    print(wordnet.synsets(word))",
   "execution_count": null,
   "outputs": [
    {
     "name": "stdout",
     "text": "[Synset('iodine.n.01'), Synset('one.n.01'), Synset('i.n.03'), Synset('one.s.01')]\n[Synset('love.n.01'), Synset('love.n.02'), Synset('beloved.n.01'), Synset('love.n.04'), Synset('love.n.05'), Synset('sexual_love.n.02'), Synset('love.v.01'), Synset('love.v.02'), Synset('love.v.03'), Synset('sleep_together.v.01')]\n[Synset('all.a.01'), Synset('all.s.02'), Synset('wholly.r.01')]\n[]\n[]\n[]\n",
     "output_type": "stream"
    }
   ]
  },
  {
   "cell_type": "code",
   "metadata": {
    "cell_id": "6255d53c2d064186958ccd044c8e3253",
    "tags": [],
    "deepnote_to_be_reexecuted": false,
    "source_hash": "902e58e7",
    "execution_start": 1650530225880,
    "execution_millis": 587,
    "deepnote_cell_type": "code",
    "deepnote_cell_height": 118,
    "deepnote_output_heights": [
     21
    ]
   },
   "source": "",
   "execution_count": null,
   "outputs": [
    {
     "output_type": "execute_result",
     "execution_count": 173,
     "data": {
      "text/plain": "[]"
     },
     "metadata": {}
    }
   ]
  },
  {
   "cell_type": "code",
   "metadata": {
    "cell_id": "2d12d27f7ae94d1b8b300a11036464ed",
    "tags": [],
    "deepnote_cell_type": "code",
    "deepnote_cell_height": 66
   },
   "source": "",
   "execution_count": null,
   "outputs": []
  },
  {
   "cell_type": "markdown",
   "source": "<a style='text-decoration:none;line-height:16px;display:flex;color:#5B5B62;padding:10px;justify-content:end;' href='https://deepnote.com?utm_source=created-in-deepnote-cell&projectId=b88dfe01-c7e1-473c-bcfd-798313fc6522' target=\"_blank\">\n<img alt='Created in deepnote.com' style='display:inline;max-height:16px;margin:0px;margin-right:7.5px;' src='data:image/svg+xml;base64,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' > </img>\nCreated in <span style='font-weight:600;margin-left:4px;'>Deepnote</span></a>",
   "metadata": {
    "tags": [],
    "created_in_deepnote_cell": true,
    "deepnote_cell_type": "markdown"
   }
  }
 ],
 "nbformat": 4,
 "nbformat_minor": 2,
 "metadata": {
  "orig_nbformat": 2,
  "deepnote": {},
  "deepnote_notebook_id": "5d99f2c0-41e0-42f4-9a7a-1329db682a05",
  "deepnote_execution_queue": []
 }
}